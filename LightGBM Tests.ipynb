{
 "cells": [
  {
   "cell_type": "code",
   "execution_count": 7,
   "id": "3ab825f8-e33a-4be7-93e9-1f15e4919595",
   "metadata": {},
   "outputs": [],
   "source": [
    "import lightgbm as lgb\n",
    "from factory import create_data_loader"
   ]
  },
  {
   "cell_type": "code",
   "execution_count": 46,
   "id": "5ce96afc-00c8-403d-8eae-01eb4febd74b",
   "metadata": {},
   "outputs": [],
   "source": [
    "from evaluation.generalevaluator import Evaluator\n",
    "import random"
   ]
  },
  {
   "cell_type": "code",
   "execution_count": 156,
   "id": "7b38f0cf-625e-42f5-9c53-1a3addc3340b",
   "metadata": {},
   "outputs": [],
   "source": [
    "data_loader = create_data_loader(\"iris\", test_size=0.2, normalize_features = \"mean_std\", return_extra_info = True, encode_categorical=True)\n",
    "X_train, X_val, y_train, y_val, extra_info = data_loader.load_data()"
   ]
  },
  {
   "cell_type": "code",
   "execution_count": 181,
   "id": "6c5feeef-ac15-4f21-98e2-cf2f9d8fc792",
   "metadata": {},
   "outputs": [],
   "source": [
    "param_grid = {  \n",
    "    'objective' : [\"multiclass\"],\n",
    "    'num_classes' : [3],\n",
    "    'num_leaves': [16, 31],\n",
    "    'max_depth': [2, 12,-1],\n",
    "    'max_bin': [4],\n",
    "    'learning_rate': [0.1, 0.2],\n",
    "    'n_estimators': [2,3],\n",
    "\n",
    "    'min_child_weight': [0.001, 0.01],\n",
    "    'min_child_samples': [20, 50],\n",
    "    'subsample': [0.8, 1.0],\n",
    "    'colsample_bytree': [0.8, 1.0],\n",
    "    'reg_alpha': [0.0, 5.0],\n",
    "    'reg_lambda': [0.0, 5.0]}\n",
    "\n",
    "params = {k:random.choice(v) for k,v in param_grid.items()}"
   ]
  },
  {
   "cell_type": "code",
   "execution_count": 182,
   "id": "20f2d0d2-6cd8-46a9-a8fd-644830f2abf5",
   "metadata": {},
   "outputs": [
    {
     "data": {
      "text/plain": [
       "{'objective': 'multiclass',\n",
       " 'num_classes': 3,\n",
       " 'num_leaves': 16,\n",
       " 'max_depth': 2,\n",
       " 'max_bin': 4,\n",
       " 'learning_rate': 0.2,\n",
       " 'n_estimators': 3,\n",
       " 'min_child_weight': 0.001,\n",
       " 'min_child_samples': 20,\n",
       " 'subsample': 1.0,\n",
       " 'colsample_bytree': 0.8,\n",
       " 'reg_alpha': 5.0,\n",
       " 'reg_lambda': 0.0}"
      ]
     },
     "execution_count": 182,
     "metadata": {},
     "output_type": "execute_result"
    }
   ],
   "source": [
    "params"
   ]
  },
  {
   "cell_type": "code",
   "execution_count": 183,
   "id": "10472c04-ffa1-4fef-94ef-cbf50066c487",
   "metadata": {},
   "outputs": [],
   "source": [
    "train_data = lgb.Dataset(X_train, label=y_train)\n",
    "val_data = lgb.Dataset(X_val, label=y_val, reference=train_data)"
   ]
  },
  {
   "cell_type": "code",
   "execution_count": 184,
   "id": "245137a4-90ff-4e4f-be21-91e1a44f4aec",
   "metadata": {},
   "outputs": [
    {
     "name": "stdout",
     "output_type": "stream",
     "text": [
      "[LightGBM] [Warning] Found whitespace in feature_names, replace with underlines\n",
      "[LightGBM] [Warning] Auto-choosing col-wise multi-threading, the overhead of testing was 0.000467 seconds.\n",
      "You can set `force_col_wise=true` to remove the overhead.\n",
      "[LightGBM] [Info] Total Bins 16\n",
      "[LightGBM] [Info] Number of data points in the train set: 120, number of used features: 4\n",
      "[LightGBM] [Warning] Found whitespace in feature_names, replace with underlines\n",
      "[LightGBM] [Info] Start training from score -1.098612\n",
      "[LightGBM] [Info] Start training from score -1.098612\n",
      "[LightGBM] [Info] Start training from score -1.098612\n",
      "[LightGBM] [Warning] No further splits with positive gain, best gain: -inf\n",
      "[LightGBM] [Warning] No further splits with positive gain, best gain: -inf\n",
      "[LightGBM] [Warning] No further splits with positive gain, best gain: -inf\n",
      "[LightGBM] [Warning] No further splits with positive gain, best gain: -inf\n",
      "[LightGBM] [Warning] No further splits with positive gain, best gain: -inf\n",
      "[LightGBM] [Warning] No further splits with positive gain, best gain: -inf\n",
      "[LightGBM] [Warning] No further splits with positive gain, best gain: -inf\n",
      "[LightGBM] [Warning] No further splits with positive gain, best gain: -inf\n"
     ]
    }
   ],
   "source": [
    "model = lgb.train(params, train_data, valid_sets=[val_data])\n"
   ]
  },
  {
   "cell_type": "code",
   "execution_count": 185,
   "id": "cea3ff2b-1560-437c-b020-c8de067c53b9",
   "metadata": {},
   "outputs": [
    {
     "name": "stdout",
     "output_type": "stream",
     "text": [
      "{'accuracy': 0.3333333333333333}\n"
     ]
    }
   ],
   "source": [
    "y_pred = model.predict(X_val.values)\n",
    "#y_pred = (y_pred>0.5).astype(int)\n",
    "evaluator = Evaluator(\n",
    "                y_true=y_val,\n",
    "                y_pred=y_pred,\n",
    "                run_metrics=[\"accuracy\",],\n",
    "                metric=\"mse\",\n",
    "                problem_type=\"multiclass_classification\",\n",
    "            )\n",
    "output_metrics = evaluator.evaluate_model()\n",
    "print(output_metrics)"
   ]
  },
  {
   "cell_type": "code",
   "execution_count": 186,
   "id": "b01be9f0-ed50-4c59-ad51-d715da2e24f8",
   "metadata": {},
   "outputs": [
    {
     "data": {
      "text/plain": [
       "array([[0.51045954, 0.29937546, 0.190165  ],\n",
       "       [0.20546507, 0.54263084, 0.25190409],\n",
       "       [0.51045954, 0.29937546, 0.190165  ],\n",
       "       [0.51045954, 0.29937546, 0.190165  ],\n",
       "       [0.55218679, 0.24210328, 0.20570994],\n",
       "       [0.22583811, 0.49728007, 0.27688182],\n",
       "       [0.55218679, 0.24210328, 0.20570994],\n",
       "       [0.55218679, 0.24210328, 0.20570994],\n",
       "       [0.1853079 , 0.23080857, 0.58388353],\n",
       "       [0.21250416, 0.561221  , 0.22627484],\n",
       "       [0.21796772, 0.2714877 , 0.51054458],\n",
       "       [0.18373741, 0.23732752, 0.57893507],\n",
       "       [0.1853079 , 0.23080857, 0.58388353],\n",
       "       [0.22583811, 0.49728007, 0.27688182],\n",
       "       [0.55218679, 0.24210328, 0.20570994],\n",
       "       [0.55218679, 0.24210328, 0.20570994],\n",
       "       [0.55218679, 0.24210328, 0.20570994],\n",
       "       [0.21250416, 0.561221  , 0.22627484],\n",
       "       [0.20546507, 0.54263084, 0.25190409],\n",
       "       [0.20546507, 0.54263084, 0.25190409],\n",
       "       [0.55218679, 0.24210328, 0.20570994],\n",
       "       [0.18373741, 0.23732752, 0.57893507],\n",
       "       [0.20546507, 0.54263084, 0.25190409],\n",
       "       [0.21796772, 0.2714877 , 0.51054458],\n",
       "       [0.1853079 , 0.23080857, 0.58388353],\n",
       "       [0.21796772, 0.2714877 , 0.51054458],\n",
       "       [0.20546507, 0.54263084, 0.25190409],\n",
       "       [0.55218679, 0.24210328, 0.20570994],\n",
       "       [0.21796772, 0.2714877 , 0.51054458],\n",
       "       [0.55218679, 0.24210328, 0.20570994]])"
      ]
     },
     "execution_count": 186,
     "metadata": {},
     "output_type": "execute_result"
    }
   ],
   "source": [
    "y_pred"
   ]
  },
  {
   "cell_type": "code",
   "execution_count": 180,
   "id": "1ac47141-bc83-49a3-9472-f0733f648b7c",
   "metadata": {},
   "outputs": [
    {
     "data": {
      "text/plain": [
       "array([0, 2, 0, 0, 0, 2, 0, 0, 2, 2, 2, 2, 2, 2, 0, 0, 0, 0, 1, 2, 0, 2,\n",
       "       1, 1, 2, 2, 1, 0, 2, 0])"
      ]
     },
     "execution_count": 180,
     "metadata": {},
     "output_type": "execute_result"
    }
   ],
   "source": [
    "class_predictions = np.argmax(y_pred, axis=1)\n",
    "class_predictions"
   ]
  },
  {
   "cell_type": "code",
   "execution_count": 164,
   "id": "7cb74404-12d3-4683-b7d0-7edde0786a38",
   "metadata": {},
   "outputs": [
    {
     "ename": "AxisError",
     "evalue": "axis 1 is out of bounds for array of dimension 1",
     "output_type": "error",
     "traceback": [
      "\u001b[0;31m---------------------------------------------------------------------------\u001b[0m",
      "\u001b[0;31mAxisError\u001b[0m                                 Traceback (most recent call last)",
      "Cell \u001b[0;32mIn[164], line 5\u001b[0m\n\u001b[1;32m      1\u001b[0m \u001b[38;5;28;01mimport\u001b[39;00m \u001b[38;5;21;01mnumpy\u001b[39;00m \u001b[38;5;28;01mas\u001b[39;00m \u001b[38;5;21;01mnp\u001b[39;00m\n\u001b[1;32m      3\u001b[0m \u001b[38;5;66;03m# Assuming y_pred is the array you provided\u001b[39;00m\n\u001b[1;32m      4\u001b[0m \u001b[38;5;66;03m# Convert intermediate outputs to class predictions\u001b[39;00m\n\u001b[0;32m----> 5\u001b[0m class_predictions \u001b[38;5;241m=\u001b[39m \u001b[43mnp\u001b[49m\u001b[38;5;241;43m.\u001b[39;49m\u001b[43margmax\u001b[49m\u001b[43m(\u001b[49m\u001b[43my_pred\u001b[49m\u001b[43m,\u001b[49m\u001b[43m \u001b[49m\u001b[43maxis\u001b[49m\u001b[38;5;241;43m=\u001b[39;49m\u001b[38;5;241;43m1\u001b[39;49m\u001b[43m)\u001b[49m\n\u001b[1;32m      7\u001b[0m \u001b[38;5;66;03m# Define a list of class labels (replace with your actual class labels)\u001b[39;00m\n\u001b[1;32m      8\u001b[0m class_labels \u001b[38;5;241m=\u001b[39m [\u001b[38;5;124m'\u001b[39m\u001b[38;5;124mClass 0\u001b[39m\u001b[38;5;124m'\u001b[39m, \u001b[38;5;124m'\u001b[39m\u001b[38;5;124mClass 1\u001b[39m\u001b[38;5;124m'\u001b[39m, \u001b[38;5;124m'\u001b[39m\u001b[38;5;124mClass 2\u001b[39m\u001b[38;5;124m'\u001b[39m]\n",
      "File \u001b[0;32m~/.pyenv/versions/3.10.0/envs/clean/lib/python3.10/site-packages/numpy/core/fromnumeric.py:1229\u001b[0m, in \u001b[0;36margmax\u001b[0;34m(a, axis, out, keepdims)\u001b[0m\n\u001b[1;32m   1142\u001b[0m \u001b[38;5;250m\u001b[39m\u001b[38;5;124;03m\"\"\"\u001b[39;00m\n\u001b[1;32m   1143\u001b[0m \u001b[38;5;124;03mReturns the indices of the maximum values along an axis.\u001b[39;00m\n\u001b[1;32m   1144\u001b[0m \n\u001b[0;32m   (...)\u001b[0m\n\u001b[1;32m   1226\u001b[0m \u001b[38;5;124;03m(2, 1, 4)\u001b[39;00m\n\u001b[1;32m   1227\u001b[0m \u001b[38;5;124;03m\"\"\"\u001b[39;00m\n\u001b[1;32m   1228\u001b[0m kwds \u001b[38;5;241m=\u001b[39m {\u001b[38;5;124m'\u001b[39m\u001b[38;5;124mkeepdims\u001b[39m\u001b[38;5;124m'\u001b[39m: keepdims} \u001b[38;5;28;01mif\u001b[39;00m keepdims \u001b[38;5;129;01mis\u001b[39;00m \u001b[38;5;129;01mnot\u001b[39;00m np\u001b[38;5;241m.\u001b[39m_NoValue \u001b[38;5;28;01melse\u001b[39;00m {}\n\u001b[0;32m-> 1229\u001b[0m \u001b[38;5;28;01mreturn\u001b[39;00m \u001b[43m_wrapfunc\u001b[49m\u001b[43m(\u001b[49m\u001b[43ma\u001b[49m\u001b[43m,\u001b[49m\u001b[43m \u001b[49m\u001b[38;5;124;43m'\u001b[39;49m\u001b[38;5;124;43margmax\u001b[39;49m\u001b[38;5;124;43m'\u001b[39;49m\u001b[43m,\u001b[49m\u001b[43m \u001b[49m\u001b[43maxis\u001b[49m\u001b[38;5;241;43m=\u001b[39;49m\u001b[43maxis\u001b[49m\u001b[43m,\u001b[49m\u001b[43m \u001b[49m\u001b[43mout\u001b[49m\u001b[38;5;241;43m=\u001b[39;49m\u001b[43mout\u001b[49m\u001b[43m,\u001b[49m\u001b[43m \u001b[49m\u001b[38;5;241;43m*\u001b[39;49m\u001b[38;5;241;43m*\u001b[39;49m\u001b[43mkwds\u001b[49m\u001b[43m)\u001b[49m\n",
      "File \u001b[0;32m~/.pyenv/versions/3.10.0/envs/clean/lib/python3.10/site-packages/numpy/core/fromnumeric.py:59\u001b[0m, in \u001b[0;36m_wrapfunc\u001b[0;34m(obj, method, *args, **kwds)\u001b[0m\n\u001b[1;32m     56\u001b[0m     \u001b[38;5;28;01mreturn\u001b[39;00m _wrapit(obj, method, \u001b[38;5;241m*\u001b[39margs, \u001b[38;5;241m*\u001b[39m\u001b[38;5;241m*\u001b[39mkwds)\n\u001b[1;32m     58\u001b[0m \u001b[38;5;28;01mtry\u001b[39;00m:\n\u001b[0;32m---> 59\u001b[0m     \u001b[38;5;28;01mreturn\u001b[39;00m \u001b[43mbound\u001b[49m\u001b[43m(\u001b[49m\u001b[38;5;241;43m*\u001b[39;49m\u001b[43margs\u001b[49m\u001b[43m,\u001b[49m\u001b[43m \u001b[49m\u001b[38;5;241;43m*\u001b[39;49m\u001b[38;5;241;43m*\u001b[39;49m\u001b[43mkwds\u001b[49m\u001b[43m)\u001b[49m\n\u001b[1;32m     60\u001b[0m \u001b[38;5;28;01mexcept\u001b[39;00m \u001b[38;5;167;01mTypeError\u001b[39;00m:\n\u001b[1;32m     61\u001b[0m     \u001b[38;5;66;03m# A TypeError occurs if the object does have such a method in its\u001b[39;00m\n\u001b[1;32m     62\u001b[0m     \u001b[38;5;66;03m# class, but its signature is not identical to that of NumPy's. This\u001b[39;00m\n\u001b[0;32m   (...)\u001b[0m\n\u001b[1;32m     66\u001b[0m     \u001b[38;5;66;03m# Call _wrapit from within the except clause to ensure a potential\u001b[39;00m\n\u001b[1;32m     67\u001b[0m     \u001b[38;5;66;03m# exception has a traceback chain.\u001b[39;00m\n\u001b[1;32m     68\u001b[0m     \u001b[38;5;28;01mreturn\u001b[39;00m _wrapit(obj, method, \u001b[38;5;241m*\u001b[39margs, \u001b[38;5;241m*\u001b[39m\u001b[38;5;241m*\u001b[39mkwds)\n",
      "\u001b[0;31mAxisError\u001b[0m: axis 1 is out of bounds for array of dimension 1"
     ]
    }
   ],
   "source": [
    "import numpy as np\n",
    "\n",
    "# Assuming y_pred is the array you provided\n",
    "# Convert intermediate outputs to class predictions\n",
    "\n",
    "\n",
    "# Define a list of class labels (replace with your actual class labels)\n",
    "class_labels = ['Class 0', 'Class 1', 'Class 2']\n",
    "\n",
    "# Map indices to class labels\n",
    "predicted_classes = [class_labels[prediction] for prediction in class_predictions]\n",
    "\n",
    "print(\"Predicted classes:\", predicted_classes)"
   ]
  },
  {
   "cell_type": "code",
   "execution_count": null,
   "id": "bc1b5273-c28e-431d-9c3f-d65c854c835e",
   "metadata": {},
   "outputs": [],
   "source": []
  }
 ],
 "metadata": {
  "kernelspec": {
   "display_name": "Python 3 (ipykernel)",
   "language": "python",
   "name": "python3"
  },
  "language_info": {
   "codemirror_mode": {
    "name": "ipython",
    "version": 3
   },
   "file_extension": ".py",
   "mimetype": "text/x-python",
   "name": "python",
   "nbconvert_exporter": "python",
   "pygments_lexer": "ipython3",
   "version": "3.10.0"
  }
 },
 "nbformat": 4,
 "nbformat_minor": 5
}
