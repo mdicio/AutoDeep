{
 "cells": [
  {
   "cell_type": "code",
   "execution_count": 7,
   "metadata": {},
   "outputs": [
    {
     "name": "stdout",
     "output_type": "stream",
     "text": [
      "The autoreload extension is already loaded. To reload it, use:\n",
      "  %reload_ext autoreload\n"
     ]
    }
   ],
   "source": [
    "%load_ext autoreload\n",
    "%autoreload 2"
   ]
  },
  {
   "cell_type": "code",
   "execution_count": 8,
   "metadata": {},
   "outputs": [],
   "source": [
    "# Test AutoML Functionality in a Separate Notebook\n",
    "from autodeep.automl import AutoRunner\n",
    "import pandas as pd\n",
    "from pathlib import Path\n",
    "\n",
    "import ast\n",
    "import ast\n",
    "import re\n",
    "\n",
    "pd.set_option(\"display.max_columns\", 1000)\n",
    "\n",
    "import warnings\n",
    "\n",
    "# Filter out FutureWarnings and DeprecationWarnings\n",
    "warnings.filterwarnings(\"ignore\", category=FutureWarning)\n",
    "warnings.filterwarnings(\"ignore\", category=DeprecationWarning)"
   ]
  },
  {
   "cell_type": "code",
   "execution_count": 9,
   "metadata": {},
   "outputs": [],
   "source": [
    "d = [\n",
    "    # \"XGB\",  # Extreme Gradient Boosting\n",
    "    # \"CatBoost\",\n",
    "    \"MLP\",  # Multi,Layer Perceptron\n",
    "    \"TabNet\",  # TabNet Classifier\n",
    "    \"GATE\",\n",
    "    # \"resnet\",\n",
    "    # \"S1DCNN\",\n",
    "    \"CategoryEmbedding\",\n",
    "    \"FTTransformer\",\n",
    "    \"TabTransformer\",\n",
    "    \"GANDALF\",\n",
    "    \"AutoInt\",\n",
    "    \"Node\",\n",
    "]"
   ]
  },
  {
   "cell_type": "markdown",
   "metadata": {},
   "source": [
    "#tested with 100 hyperopt iterations did not break on adult dataset:\n",
    "\n",
    "\"autoint\",\n",
    "\"node\",\n",
    "\"mlp\",\n",
    "\"tabnet\",\n",
    "\"categoryembedding\",\n",
    "\"fttransformer\",\n",
    "\"tabtransformer\",\n",
    "\"gandalf\",\n",
    "\"mlp\"\n",
    "\n",
    "\n",
    "# very slow, had to decrease parameters for memory consumption also:\n",
    "\"gate\",\n",
    "\n",
    "# Not tested hyperopt search yet:\n",
    "\n",
    "#catboost\n",
    "#xgb\n",
    "#resnet\n",
    "#s1dcnn\n",
    "\n",
    "\n"
   ]
  },
  {
   "cell_type": "code",
   "execution_count": 10,
   "metadata": {},
   "outputs": [
    {
     "data": {
      "text/plain": [
       "True"
      ]
     },
     "execution_count": 10,
     "metadata": {},
     "output_type": "execute_result"
    }
   ],
   "source": [
    "import torch\n",
    "torch.cuda.is_available()"
   ]
  },
  {
   "cell_type": "code",
   "execution_count": 11,
   "metadata": {},
   "outputs": [],
   "source": [
    "\n",
    "\n",
    "import random\n",
    "\n",
    "import os\n",
    "import numpy as np\n",
    "\n",
    "seed = 31\n",
    "\n",
    "#torch.manual_seed(seed)\n",
    "random.seed(seed)\n",
    "os.environ[\"PYTHONHASHSEED\"] = str(seed)\n",
    "np.random.seed(seed)\n",
    "# Set the seed for PyTorch\n",
    "if torch.cuda.is_available():\n",
    "    pass\n",
    "    #torch.cuda.manual_seed_all(seed)"
   ]
  },
  {
   "cell_type": "code",
   "execution_count": null,
   "metadata": {},
   "outputs": [
    {
     "name": "stdout",
     "output_type": "stream",
     "text": [
      "2025-02-13 20:53:05,236 - INFO - CommonStructure.py - TabNetTrainer - Training with hyperparameters: {'batch_norm_continuous_input': False, 'batch_size': 160, 'embedding_dropout': 0.06089480159646259, 'gamma': 1.2802855279436036, 'mask_type': 'entmax', 'n_a': 22, 'n_d': 34, 'n_independent': 2, 'n_shared': 1, 'n_steps': 4, 'optimizer_fn': {'Adam_learning_rate': 0.00017395258291312104, 'Adam_weight_decay': 2.309091722462173e-08, 'optimizer_fn': <class 'torch.optim.adam.Adam'>}, 'scheduler_fn': {'ReduceLROnPlateau_factor': 0.3387484598803251, 'ReduceLROnPlateau_patience': 8, 'scheduler_fn': <class 'torch.optim.lr_scheduler.ReduceLROnPlateau'>}, 'virtual_batch_size': 119}\n",
      "2025-02-13 20:53:05,239 - DEBUG - CommonStructure.py - TabNetTrainer - Shape of X_train: (23524, 14)\n",
      "2025-02-13 20:53:05,239 - DEBUG - CommonStructure.py - TabNetTrainer - Shape of X_val: (4152, 14)\n",
      "2025-02-13 20:53:05,240 - DEBUG - CommonStructure.py - TabNetTrainer - Shape of y_train: (23524,)\n",
      "2025-02-13 20:53:05,240 - DEBUG - CommonStructure.py - TabNetTrainer - Shape of y_val: (4152,)\n",
      "2025-02-13 20:53:05,240 - DEBUG - CommonStructure.py - TabNetTrainer - Batch Size, VBS: 160, 119\n",
      "tabular model params                                                             \n",
      "{'batch_norm_continuous_input': False, 'batch_size': 160, 'embedding_dropout': 0.06089480159646259, 'gamma': 1.2802855279436036, 'mask_type': 'entmax', 'n_a': 22, 'n_d': 34, 'n_independent': 2, 'n_shared': 1, 'n_steps': 4, 'optimizer_fn': {'Adam_learning_rate': 0.00017395258291312104, 'Adam_weight_decay': 2.309091722462173e-08, 'optimizer_fn': <class 'torch.optim.adam.Adam'>}, 'scheduler_fn': {'ReduceLROnPlateau_factor': 0.3387484598803251, 'ReduceLROnPlateau_patience': 8, 'scheduler_fn': <class 'torch.optim.lr_scheduler.ReduceLROnPlateau'>}, 'virtual_batch_size': 119}\n",
      "tabular model outer params                                                       \n",
      "{'early_stopping_rounds': 10, 'verbose': False, 'iterations': 20, 'retrain': False, 'auto_lr_find': False, 'max_epochs': 3, 'val_size': 0.15, 'early_stopping_patience': 5}\n",
      "  2%|▏         | 1/60 [00:16<15:43, 15.99s/trial, best loss: -0.8737888642131981]2025-02-13 20:53:05,247 - WARNING - CommonStructure.py - TabNetTrainer - You are passing some invalid parameters to the model {'batch_size': 160, 'optimizer_fn': {'Adam_learning_rate': 0.00017395258291312104, 'Adam_weight_decay': 2.309091722462173e-08, 'optimizer_fn': <class 'torch.optim.adam.Adam'>}, 'scheduler_fn': {'ReduceLROnPlateau_factor': 0.3387484598803251, 'ReduceLROnPlateau_patience': 8, 'scheduler_fn': <class 'torch.optim.lr_scheduler.ReduceLROnPlateau'>}}\n",
      "2025-02-13 20:53:05,247 - DEBUG - CommonStructure.py - TabNetTrainer - compatible parameters: {'batch_norm_continuous_input': False, 'embedding_dropout': 0.06089480159646259, 'gamma': 1.2802855279436036, 'mask_type': 'entmax', 'n_a': 22, 'n_d': 34, 'n_independent': 2, 'n_shared': 1, 'n_steps': 4, 'virtual_batch_size': 119}\n",
      "DataConfig(target=['target'], continuous_cols=['age', 'fnlwgt', 'education-num', 'capital-gain', 'capital-loss', 'hours-per-week'], categorical_cols=['workclass', 'education', 'marital-status', 'occupation', 'relationship', 'race', 'sex', 'native-country'], date_columns=[], encode_date_columns=True, validation_split=0.2, continuous_feature_transform=None, normalize_continuous_features=True, quantile_noise=0, num_workers=4, pin_memory=True, handle_unknown_categories=True, handle_missing_values=True, dataloader_kwargs={})\n",
      "TabNetModelConfig(task='classification', head='LinearHead', head_config={'layers': ''}, embedding_dims=None, embedding_dropout=0.06089480159646259, batch_norm_continuous_input=False, learning_rate=0.00017395258291312104, loss='CrossEntropyLoss', metrics=['accuracy'], metrics_prob_input=[False], metrics_params=[{}], target_range=None, virtual_batch_size=119, seed=42, _module_src='models.tabnet', _model_name='TabNetModel', _backbone_name='Backbone', _config_name='TabNetModelConfig', n_d=34, n_a=22, n_steps=4, gamma=1.2802855279436036, n_independent=2, n_shared=1, mask_type='entmax', grouped_features=None)\n",
      "OptimizerConfig(optimizer='Adam', optimizer_params={'weight_decay': 2.309091722462173e-08}, lr_scheduler='ReduceLROnPlateau', lr_scheduler_params={'factor': 0.3387484598803251, 'patience': 8, 'min_lr': 1e-08, 'verbose': True, 'mode': 'min'}, lr_scheduler_monitor_metric='valid_loss')\n",
      "TrainerConfig(batch_size=160, data_aware_init_batch_size=2000, fast_dev_run=False, max_epochs=3, min_epochs=1, max_time=None, accelerator='auto', devices=-1, devices_list=None, accumulate_grad_batches=1, auto_lr_find=False, auto_select_gpus=True, check_val_every_n_epoch=1, gradient_clip_val=0.0, overfit_batches=0.0, deterministic=False, profiler=None, early_stopping='valid_loss', early_stopping_min_delta=0.0, early_stopping_mode='min', early_stopping_patience=5, early_stopping_kwargs={}, checkpoints=None, checkpoints_path='saved_models', checkpoints_every_n_epochs=1, checkpoints_name=None, checkpoints_mode='min', checkpoints_save_top_k=1, checkpoints_kwargs={}, load_best=True, track_grad_norm=-1, progress_bar='simple', precision=32, seed=42, trainer_kwargs={})\n",
      "  2%|▏         | 1/60 [00:16<15:43, 15.99s/trial, best loss: -0.8737888642131981]"
     ]
    },
    {
     "data": {
      "text/html": [
       "<pre style=\"white-space:pre;overflow-x:auto;line-height:normal;font-family:Menlo,'DejaVu Sans Mono',consolas,'Courier New',monospace\"><span style=\"color: #008080; text-decoration-color: #008080; font-weight: bold\">2025</span>-<span style=\"color: #008080; text-decoration-color: #008080; font-weight: bold\">02</span>-<span style=\"color: #008080; text-decoration-color: #008080; font-weight: bold\">13</span> <span style=\"color: #00ff00; text-decoration-color: #00ff00; font-weight: bold\">20:53:05</span>,<span style=\"color: #008080; text-decoration-color: #008080; font-weight: bold\">268</span> - <span style=\"font-weight: bold\">{</span>pytorch_tabular.tabular_model:<span style=\"color: #008080; text-decoration-color: #008080; font-weight: bold\">146</span><span style=\"font-weight: bold\">}</span> - INFO - Experiment Tracking is turned off           \n",
       "</pre>\n"
      ],
      "text/plain": [
       "\u001b[1;36m2025\u001b[0m-\u001b[1;36m02\u001b[0m-\u001b[1;36m13\u001b[0m \u001b[1;92m20:53:05\u001b[0m,\u001b[1;36m268\u001b[0m - \u001b[1m{\u001b[0mpytorch_tabular.tabular_model:\u001b[1;36m146\u001b[0m\u001b[1m}\u001b[0m - INFO - Experiment Tracking is turned off           \n"
      ]
     },
     "metadata": {},
     "output_type": "display_data"
    },
    {
     "name": "stdout",
     "output_type": "stream",
     "text": [
      "2025-02-13 20:53:05,287 - DEBUG - CommonStructure.py - TabNetTrainer - GPU Memory Allocated: 0.016896 MB\n",
      "2025-02-13 20:53:05,288 - DEBUG - CommonStructure.py - TabNetTrainer - GPU Memory Reserved: 4.194304 MB\n"
     ]
    },
    {
     "name": "stderr",
     "output_type": "stream",
     "text": [
      "Seed set to 42\n"
     ]
    },
    {
     "data": {
      "text/html": [
       "<pre style=\"white-space:pre;overflow-x:auto;line-height:normal;font-family:Menlo,'DejaVu Sans Mono',consolas,'Courier New',monospace\"><span style=\"color: #008080; text-decoration-color: #008080; font-weight: bold\">2025</span>-<span style=\"color: #008080; text-decoration-color: #008080; font-weight: bold\">02</span>-<span style=\"color: #008080; text-decoration-color: #008080; font-weight: bold\">13</span> <span style=\"color: #00ff00; text-decoration-color: #00ff00; font-weight: bold\">20:53:05</span>,<span style=\"color: #008080; text-decoration-color: #008080; font-weight: bold\">289</span> - <span style=\"font-weight: bold\">{</span>pytorch_tabular.tabular_model:<span style=\"color: #008080; text-decoration-color: #008080; font-weight: bold\">548</span><span style=\"font-weight: bold\">}</span> - INFO - Preparing the DataLoaders                   \n",
       "</pre>\n"
      ],
      "text/plain": [
       "\u001b[1;36m2025\u001b[0m-\u001b[1;36m02\u001b[0m-\u001b[1;36m13\u001b[0m \u001b[1;92m20:53:05\u001b[0m,\u001b[1;36m289\u001b[0m - \u001b[1m{\u001b[0mpytorch_tabular.tabular_model:\u001b[1;36m548\u001b[0m\u001b[1m}\u001b[0m - INFO - Preparing the DataLoaders                   \n"
      ]
     },
     "metadata": {},
     "output_type": "display_data"
    },
    {
     "data": {
      "text/html": [
       "<pre style=\"white-space:pre;overflow-x:auto;line-height:normal;font-family:Menlo,'DejaVu Sans Mono',consolas,'Courier New',monospace\"><span style=\"color: #008080; text-decoration-color: #008080; font-weight: bold\">2025</span>-<span style=\"color: #008080; text-decoration-color: #008080; font-weight: bold\">02</span>-<span style=\"color: #008080; text-decoration-color: #008080; font-weight: bold\">13</span> <span style=\"color: #00ff00; text-decoration-color: #00ff00; font-weight: bold\">20:53:05</span>,<span style=\"color: #008080; text-decoration-color: #008080; font-weight: bold\">314</span> - <span style=\"font-weight: bold\">{</span>pytorch_tabular.tabular_datamodul<span style=\"color: #00ff00; text-decoration-color: #00ff00; font-weight: bold\">e:522</span><span style=\"font-weight: bold\">}</span> - INFO - Setting up the datamodule for          \n",
       "classification task                                                                                                \n",
       "</pre>\n"
      ],
      "text/plain": [
       "\u001b[1;36m2025\u001b[0m-\u001b[1;36m02\u001b[0m-\u001b[1;36m13\u001b[0m \u001b[1;92m20:53:05\u001b[0m,\u001b[1;36m314\u001b[0m - \u001b[1m{\u001b[0mpytorch_tabular.tabular_datamodul\u001b[1;92me:522\u001b[0m\u001b[1m}\u001b[0m - INFO - Setting up the datamodule for          \n",
       "classification task                                                                                                \n"
      ]
     },
     "metadata": {},
     "output_type": "display_data"
    },
    {
     "data": {
      "text/html": [
       "<pre style=\"white-space:pre;overflow-x:auto;line-height:normal;font-family:Menlo,'DejaVu Sans Mono',consolas,'Courier New',monospace\"><span style=\"color: #008080; text-decoration-color: #008080; font-weight: bold\">2025</span>-<span style=\"color: #008080; text-decoration-color: #008080; font-weight: bold\">02</span>-<span style=\"color: #008080; text-decoration-color: #008080; font-weight: bold\">13</span> <span style=\"color: #00ff00; text-decoration-color: #00ff00; font-weight: bold\">20:53:05</span>,<span style=\"color: #008080; text-decoration-color: #008080; font-weight: bold\">408</span> - <span style=\"font-weight: bold\">{</span>pytorch_tabular.tabular_model:<span style=\"color: #008080; text-decoration-color: #008080; font-weight: bold\">599</span><span style=\"font-weight: bold\">}</span> - INFO - Preparing the Model: TabNetModel            \n",
       "</pre>\n"
      ],
      "text/plain": [
       "\u001b[1;36m2025\u001b[0m-\u001b[1;36m02\u001b[0m-\u001b[1;36m13\u001b[0m \u001b[1;92m20:53:05\u001b[0m,\u001b[1;36m408\u001b[0m - \u001b[1m{\u001b[0mpytorch_tabular.tabular_model:\u001b[1;36m599\u001b[0m\u001b[1m}\u001b[0m - INFO - Preparing the Model: TabNetModel            \n"
      ]
     },
     "metadata": {},
     "output_type": "display_data"
    },
    {
     "data": {
      "text/html": [
       "<pre style=\"white-space:pre;overflow-x:auto;line-height:normal;font-family:Menlo,'DejaVu Sans Mono',consolas,'Courier New',monospace\"><span style=\"color: #008080; text-decoration-color: #008080; font-weight: bold\">2025</span>-<span style=\"color: #008080; text-decoration-color: #008080; font-weight: bold\">02</span>-<span style=\"color: #008080; text-decoration-color: #008080; font-weight: bold\">13</span> <span style=\"color: #00ff00; text-decoration-color: #00ff00; font-weight: bold\">20:53:05</span>,<span style=\"color: #008080; text-decoration-color: #008080; font-weight: bold\">466</span> - <span style=\"font-weight: bold\">{</span>pytorch_tabular.tabular_model:<span style=\"color: #008080; text-decoration-color: #008080; font-weight: bold\">342</span><span style=\"font-weight: bold\">}</span> - INFO - Preparing the Trainer                       \n",
       "</pre>\n"
      ],
      "text/plain": [
       "\u001b[1;36m2025\u001b[0m-\u001b[1;36m02\u001b[0m-\u001b[1;36m13\u001b[0m \u001b[1;92m20:53:05\u001b[0m,\u001b[1;36m466\u001b[0m - \u001b[1m{\u001b[0mpytorch_tabular.tabular_model:\u001b[1;36m342\u001b[0m\u001b[1m}\u001b[0m - INFO - Preparing the Trainer                       \n"
      ]
     },
     "metadata": {},
     "output_type": "display_data"
    },
    {
     "data": {
      "text/html": [
       "<pre style=\"white-space:pre;overflow-x:auto;line-height:normal;font-family:Menlo,'DejaVu Sans Mono',consolas,'Courier New',monospace\"><span style=\"color: #008080; text-decoration-color: #008080; font-weight: bold\">2025</span>-<span style=\"color: #008080; text-decoration-color: #008080; font-weight: bold\">02</span>-<span style=\"color: #008080; text-decoration-color: #008080; font-weight: bold\">13</span> <span style=\"color: #00ff00; text-decoration-color: #00ff00; font-weight: bold\">20:53:05</span>,<span style=\"color: #008080; text-decoration-color: #008080; font-weight: bold\">476</span> - <span style=\"font-weight: bold\">{</span>pytorch_tabular.tabular_model:<span style=\"color: #008080; text-decoration-color: #008080; font-weight: bold\">678</span><span style=\"font-weight: bold\">}</span> - INFO - Training Started                            \n",
       "</pre>\n"
      ],
      "text/plain": [
       "\u001b[1;36m2025\u001b[0m-\u001b[1;36m02\u001b[0m-\u001b[1;36m13\u001b[0m \u001b[1;92m20:53:05\u001b[0m,\u001b[1;36m476\u001b[0m - \u001b[1m{\u001b[0mpytorch_tabular.tabular_model:\u001b[1;36m678\u001b[0m\u001b[1m}\u001b[0m - INFO - Training Started                            \n"
      ]
     },
     "metadata": {},
     "output_type": "display_data"
    },
    {
     "name": "stderr",
     "output_type": "stream",
     "text": [
      "/home/boom/.pyenv/versions/thesis/lib/python3.11/site-packages/torch/optim/lr_scheduler.py:62: UserWarning: The verbose parameter is deprecated. Please use get_last_lr() to access the learning rate.\n",
      "  warnings.warn(\n",
      "\n"
     ]
    },
    {
     "data": {
      "application/vnd.jupyter.widget-view+json": {
       "model_id": "b131b80fe16c486191f8e7e1d0f5c7f6",
       "version_major": 2,
       "version_minor": 0
      },
      "text/plain": [
       "Sanity Checking: |          | 0/? [00:00<?, ?it/s]"
      ]
     },
     "metadata": {},
     "output_type": "display_data"
    },
    {
     "data": {
      "application/vnd.jupyter.widget-view+json": {
       "model_id": "a5fcd13e5acf481f967d76388878e8cc",
       "version_major": 2,
       "version_minor": 0
      },
      "text/plain": [
       "Training: |          | 0/? [00:00<?, ?it/s]"
      ]
     },
     "metadata": {},
     "output_type": "display_data"
    },
    {
     "data": {
      "application/vnd.jupyter.widget-view+json": {
       "model_id": "dc9f0ea8359a4e47988ac7e9706cb7c7",
       "version_major": 2,
       "version_minor": 0
      },
      "text/plain": [
       "Validation: |          | 0/? [00:00<?, ?it/s]"
      ]
     },
     "metadata": {},
     "output_type": "display_data"
    }
   ],
   "source": [
    "# Define paths to configuration files and data\n",
    "DATA_FOLDER = Path(\"/home/boom/Desktop/repos/AutoDeep/autodeep/examples/testautodata\")\n",
    "OUTPUT_FOLDER = Path(\"/home/boom/Desktop/repos/AutoDeep/autodeep/examples/output\")\n",
    "\n",
    "DEFAULT_MODELS = [\n",
    "    \"XGB\",  # Extreme Gradient Boosting\n",
    "    \"CatBoost\",\n",
    "    \"MLP\",  # Multi,Layer Perceptron\n",
    "    \"CategoryEmbedding\",\n",
    "    \"TabNet\",  # TabNet Classifier\n",
    "    \"GATE\",\n",
    "    \"resnet\",\n",
    "    \"S1DCNN\",\n",
    "    \"FTTransformer\",\n",
    "    \"TabTransformer\",\n",
    "    \"GANDALF\",\n",
    "    \"AutoInt\",\n",
    "    \"Node\",\n",
    "]  # Ensure all model names are lowercase\n",
    "\n",
    "DEFAULT_MODELS = [\"TabNet\"]  \n",
    "\n",
    "DATA_CONFIG = {\n",
    "    \"binary\": {\n",
    "        \"dataset_path\": DATA_FOLDER / \"adult.csv\",\n",
    "        \"target_col\": \"target\",\n",
    "        \"problem_type\": \"binary_classification\",\n",
    "        \"test_size\": 0.15,\n",
    "        \"num_targets\": 1,\n",
    "        \"metric\": \"roc_auc\",\n",
    "        \"eval_metrics\": [\"accuracy\", \"roc_auc\", \"lift5\"],\n",
    "    },\n",
    "    \"regression\": {\n",
    "        \"dataset_path\": DATA_FOLDER / \"cal_housing.csv\",\n",
    "        \"target_col\": \"target\",\n",
    "        \"problem_type\": \"regression\",\n",
    "        \"test_size\": 0.2,\n",
    "        \"num_targets\": 1,\n",
    "        \"metric\": \"rmse\",\n",
    "        \"eval_metrics\": [\"mse\", \"rmse\", \"r2_score\"],\n",
    "    },\n",
    "    \"multiclass\": {\n",
    "        \"dataset_path\": DATA_FOLDER / \"iris.csv\",\n",
    "        \"target_col\": \"target\",\n",
    "        \"problem_type\": \"multiclass_classification\",\n",
    "        \"test_size\": 0.2,\n",
    "        \"num_targets\": 3,\n",
    "        \"metric\": \"accuracy\",\n",
    "        \"eval_metrics\": [\"accuracy\"],\n",
    "    },\n",
    "}\n",
    "\n",
    "\n",
    "# Initialize AutoRunner instance with the configuration\n",
    "runner = AutoRunner(\n",
    "    data_config=DATA_CONFIG,\n",
    "    output_folder=OUTPUT_FOLDER,\n",
    "    default_models=DEFAULT_MODELS,\n",
    "    random_state=42,\n",
    "    execution_mode=\"hyperopt\",  # Adjust if needed\n",
    "    max_evals=60,\n",
    ")\n",
    "\n",
    "# Run the AutoML process\n",
    "runner.run()"
   ]
  },
  {
   "cell_type": "code",
   "execution_count": null,
   "metadata": {},
   "outputs": [
    {
     "data": {
      "text/plain": [
       "23"
      ]
     },
     "execution_count": 1,
     "metadata": {},
     "output_type": "execute_result"
    }
   ],
   "source": [
    "119%32"
   ]
  },
  {
   "cell_type": "code",
   "execution_count": null,
   "metadata": {},
   "outputs": [
    {
     "data": {
      "text/plain": [
       "55"
      ]
     },
     "execution_count": 2,
     "metadata": {},
     "output_type": "execute_result"
    }
   ],
   "source": [
    "119%64"
   ]
  },
  {
   "cell_type": "code",
   "execution_count": null,
   "metadata": {},
   "outputs": [
    {
     "data": {
      "text/plain": [
       "119"
      ]
     },
     "execution_count": 3,
     "metadata": {},
     "output_type": "execute_result"
    }
   ],
   "source": [
    "119%128"
   ]
  },
  {
   "cell_type": "code",
   "execution_count": null,
   "metadata": {},
   "outputs": [],
   "source": [
    "import os\n",
    "import sys\n",
    "\n",
    "\n",
    "\n",
    "sys"
   ]
  },
  {
   "cell_type": "code",
   "execution_count": null,
   "metadata": {},
   "outputs": [],
   "source": [
    "import inspect\n",
    "from pytorch_tabular.models import GatedAdditiveTreeEnsembleConfig\n",
    "\n",
    "help(GatedAdditiveTreeEnsembleConfig)"
   ]
  },
  {
   "cell_type": "code",
   "execution_count": null,
   "metadata": {},
   "outputs": [],
   "source": [
    "from pytorch_tabular.config import OptimizerConfig, TrainerConfig"
   ]
  },
  {
   "cell_type": "code",
   "execution_count": null,
   "metadata": {},
   "outputs": [],
   "source": [
    "help(TrainerConfig)"
   ]
  },
  {
   "cell_type": "code",
   "execution_count": null,
   "metadata": {},
   "outputs": [],
   "source": [
    "\n",
    "df = pd.read_csv(r\"output/experiments.csv\")\n",
    "\n",
    "# Function to sanitize Python class references\n",
    "def sanitize_string(s):\n",
    "    if not isinstance(s, str):\n",
    "        return s\n",
    "    # Replace <class 'module.name'> with just 'module.name'\n",
    "    return re.sub(r\"<class '([\\w\\.]+)'>\", r\"'\\1'\", s)\n",
    "# Function to safely parse dictionary-like strings\n",
    "def parse_dict_column(col, suffix):\n",
    "    parsed_dicts = df[col].apply(lambda x: ast.literal_eval(sanitize_string(x)) if isinstance(x, str) else {})\n",
    "    renamed_dicts = parsed_dicts.apply(lambda d: {f\"{k}_{suffix}\": v for k, v in d.items()})\n",
    "    return pd.json_normalize(renamed_dicts)\n",
    "\n",
    "# Parse and rename metrics columns\n",
    "train_metrics = parse_dict_column(\"train_metrics\", \"train\")\n",
    "validation_metrics = parse_dict_column(\"validation_metrics\", \"val\")\n",
    "test_metrics = parse_dict_column(\"test_metrics\", \"test\")\n",
    "\n",
    "# Combine everything into one DataFrame\n",
    "full_dataset = pd.concat([df[[\"run_id\", \"dataset\", \"model\", \"best_score\"]], train_metrics, validation_metrics, test_metrics], axis=1)"
   ]
  },
  {
   "cell_type": "code",
   "execution_count": null,
   "metadata": {},
   "outputs": [],
   "source": [
    "ok_params = [{'batch_norm_continuous_input': True, 'batch_size': 832, 'embedding_dropout': 0.030423851444886553, 'gamma': 1.196788344836559, 'mask_type': 'sparsemax', 'n_a': 56, 'n_d': 15, 'n_independent': 1, 'n_shared': 1, 'n_steps': 4, 'optimizer_fn': {'SGD_learning_rate': 0.053332044990065525, 'SGD_momentum': 0.9851634335985551, 'SGD_weight_decay': 5.3453713798712174e-08, }, 'scheduler_fn': {'ExponentialLR_gamma': 0.9558041082441185, }, 'virtual_batch_size': 87},\n",
    "{'batch_norm_continuous_input': True, 'batch_size': 672, 'embedding_dropout': 0.06509617520576794, 'gamma': 1.2089404247138367, 'mask_type': 'sparsemax', 'n_a': 51, 'n_d': 22, 'n_independent': 2, 'n_shared': 2, 'n_steps': 3, 'optimizer_fn': {'Adam_learning_rate': 0.07398947128398595, 'Adam_weight_decay': 5.979030232767242e-08, }, 'scheduler_fn': {'ReduceLROnPlateau_factor': 0.10065587591924441, 'ReduceLROnPlateau_patience': 7, }, 'virtual_batch_size': 46},\n",
    "{'batch_norm_continuous_input': False, 'batch_size': 928, 'embedding_dropout': 0.10971790292456406, 'gamma': 1.2794062357963745, 'mask_type': 'entmax', 'n_a': 42, 'n_d': 60, 'n_independent': 3, 'n_shared': 3, 'n_steps': 6, 'optimizer_fn': {'SGD_learning_rate': 0.01706448484176477, 'SGD_momentum': 0.9400658400288299, 'SGD_weight_decay': 5.8503136589228095e-08, }, 'scheduler_fn': {'ExponentialLR_gamma': 0.9549128603670476, }, 'virtual_batch_size': 34},\n",
    "{'batch_norm_continuous_input': False, 'batch_size': 704, 'embedding_dropout': 0.17443160402811428, 'gamma': 1.277020780675834, 'mask_type': 'sparsemax', 'n_a': 48, 'n_d': 44, 'n_independent': 2, 'n_shared': 2, 'n_steps': 5, 'optimizer_fn': {'Adam_learning_rate': 0.0753016030439377, 'Adam_weight_decay': 7.940687451094736e-08, }, 'scheduler_fn': {'ReduceLROnPlateau_factor': 0.20007024505730048, 'ReduceLROnPlateau_patience': 13, }, 'virtual_batch_size': 44},\n",
    "{'batch_norm_continuous_input': True, 'batch_size': 480, 'embedding_dropout': 0.15565116438223445, 'gamma': 1.3060746259692961, 'mask_type': 'sparsemax', 'n_a': 29, 'n_d': 30, 'n_independent': 3, 'n_shared': 2, 'n_steps': 4, 'optimizer_fn': {'AdamW_learning_rate': 0.007304558645917253, 'AdamW_weight_decay': 7.931632367933946e-08, }, 'scheduler_fn': {'ReduceLROnPlateau_factor': 0.47937093833817634, 'ReduceLROnPlateau_patience': 14, }, 'virtual_batch_size': 45},\n",
    "{'batch_norm_continuous_input': True, 'batch_size': 224, 'embedding_dropout': 0.08229555321007541, 'gamma': 1.1419523495678239, 'mask_type': 'sparsemax', 'n_a': 47, 'n_d': 51, 'n_independent': 1, 'n_shared': 3, 'n_steps': 5, 'optimizer_fn': {'AdamW_learning_rate': 0.027576092667253266, 'AdamW_weight_decay': 9.702107445319236e-08, }, 'scheduler_fn': {'ReduceLROnPlateau_factor': 0.3431798179607186, 'ReduceLROnPlateau_patience': 8, }, 'virtual_batch_size': 125},\n",
    "{'batch_norm_continuous_input': False, 'batch_size': 736, 'embedding_dropout': 0.01786173393154351, 'gamma': 1.135807845856333, 'mask_type': 'entmax', 'n_a': 52, 'n_d': 46, 'n_independent': 2, 'n_shared': 2, 'n_steps': 4, 'optimizer_fn': {'AdamW_learning_rate': 0.06046879765802443, 'AdamW_weight_decay': 7.156863524239522e-08, }, 'scheduler_fn': {'ExponentialLR_gamma': 0.9302533957006677, }, 'virtual_batch_size': 46},\n",
    "{'batch_norm_continuous_input': True, 'batch_size': 736, 'embedding_dropout': 0.04915125047478162, 'gamma': 1.283154459919421, 'mask_type': 'entmax', 'n_a': 22, 'n_d': 16, 'n_independent': 2, 'n_shared': 3, 'n_steps': 4, 'optimizer_fn': {'SGD_learning_rate': 0.034405525383351884, 'SGD_momentum': 0.970770262548702, 'SGD_weight_decay': 8.77303093147771e-08, }, 'scheduler_fn': {'ExponentialLR_gamma': 0.9506935674230942, }, 'virtual_batch_size': 103},\n",
    "{'batch_norm_continuous_input': False, 'batch_size': 192, 'embedding_dropout': 0.026026761214698116, 'gamma': 1.2990431800155968, 'mask_type': 'entmax', 'n_a': 46, 'n_d': 25, 'n_independent': 2, 'n_shared': 2, 'n_steps': 4, 'optimizer_fn': {'SGD_learning_rate': 0.0351379977663217, 'SGD_momentum': 0.9466283373921492, 'SGD_weight_decay': 2.937361406673231e-08, }, 'scheduler_fn': {'StepLR_gamma': 0.14301845407596653, 'StepLR_step_size': 23, }, 'virtual_batch_size': 119},\n",
    "{'batch_norm_continuous_input': True, 'batch_size': 800, 'embedding_dropout': 0.05635471229326808, 'gamma': 1.1234997686607822, 'mask_type': 'sparsemax', 'n_a': 29, 'n_d': 37, 'n_independent': 3, 'n_shared': 3, 'n_steps': 4, 'optimizer_fn': {'SGD_learning_rate': 0.08630485255915236, 'SGD_momentum': 0.9088507099536465, 'SGD_weight_decay': 8.476359765459006e-08, }, 'scheduler_fn': {'ExponentialLR_gamma': 0.946726000071055, }, 'virtual_batch_size': 88},\n",
    "{'batch_norm_continuous_input': False, 'batch_size': 576, 'embedding_dropout': 0.05465431698511969, 'gamma': 1.327920133160017, 'mask_type': 'sparsemax', 'n_a': 44, 'n_d': 15, 'n_independent': 2, 'n_shared': 2, 'n_steps': 4, 'optimizer_fn': {'Adam_learning_rate': 0.06590313511036489, 'Adam_weight_decay': 8.226736262803946e-08, }, 'scheduler_fn': {'ReduceLROnPlateau_factor': 0.3356183201770594, 'ReduceLROnPlateau_patience': 5, }, 'virtual_batch_size': 96},\n",
    "{'batch_norm_continuous_input': True, 'batch_size': 256, 'embedding_dropout': 0.09566311648545284, 'gamma': 1.114875518749232, 'mask_type': 'sparsemax', 'n_a': 28, 'n_d': 13, 'n_independent': 2, 'n_shared': 2, 'n_steps': 3, 'optimizer_fn': {'SGD_learning_rate': 0.02967180193074303, 'SGD_momentum': 0.9850561382262792, 'SGD_weight_decay': 5.058674347299941e-09, }, 'scheduler_fn': {'StepLR_gamma': 0.4143890040298589, 'StepLR_step_size': 23, }, 'virtual_batch_size': 113},\n",
    "{'batch_norm_continuous_input': True, 'batch_size': 992, 'embedding_dropout': 0.06261356402875311, 'gamma': 1.1123305733212194, 'mask_type': 'sparsemax', 'n_a': 19, 'n_d': 10, 'n_independent': 2, 'n_shared': 2, 'n_steps': 6, 'optimizer_fn': {'Adam_learning_rate': 0.08342838959985305, 'Adam_weight_decay': 6.807523749764756e-08, }, 'scheduler_fn': {'ReduceLROnPlateau_factor': 0.34450354957677654, 'ReduceLROnPlateau_patience': 6, }, 'virtual_batch_size': 84},\n",
    "{'batch_norm_continuous_input': True, 'batch_size': 128, 'embedding_dropout': 0.03884722803397381, 'gamma': 1.4357268867179334, 'mask_type': 'sparsemax', 'n_a': 9, 'n_d': 29, 'n_independent': 2, 'n_shared': 2, 'n_steps': 4, 'optimizer_fn': {'SGD_learning_rate': 0.09633089289857903, 'SGD_momentum': 0.9008940113278446, 'SGD_weight_decay': 6.006117400407114e-08, }, 'scheduler_fn': {'ExponentialLR_gamma': 0.9318452332726177, }, 'virtual_batch_size': 40},\n",
    "{'batch_norm_continuous_input': True, 'batch_size': 224, 'embedding_dropout': 0.1550711264240132, 'gamma': 1.3911024804031347, 'mask_type': 'sparsemax', 'n_a': 19, 'n_d': 56, 'n_independent': 1, 'n_shared': 2, 'n_steps': 5, 'optimizer_fn': {'AdamW_learning_rate': 0.006124389735126792, 'AdamW_weight_decay': 3.182394240358396e-08, }, 'scheduler_fn': {'ReduceLROnPlateau_factor': 0.14238363455363606, 'ReduceLROnPlateau_patience': 7, }, 'virtual_batch_size': 84},\n",
    "{'batch_norm_continuous_input': False, 'batch_size': 160, 'embedding_dropout': 0.07427202359469201, 'gamma': 1.2427611720859644, 'mask_type': 'sparsemax', 'n_a': 35, 'n_d': 54, 'n_independent': 3, 'n_shared': 3, 'n_steps': 5, 'optimizer_fn': {'SGD_learning_rate': 0.07779522274329667, 'SGD_momentum': 0.9621792336449789, 'SGD_weight_decay': 3.807443562799249e-08, }, 'scheduler_fn': {'ExponentialLR_gamma': 0.9497089301150198, }, 'virtual_batch_size': 119},\n",
    "{'batch_norm_continuous_input': True, 'batch_size': 832, 'embedding_dropout': 0.030423851444886553, 'gamma': 1.196788344836559, 'mask_type': 'sparsemax', 'n_a': 56, 'n_d': 15, 'n_independent': 1, 'n_shared': 1, 'n_steps': 4, 'optimizer_fn': {'SGD_learning_rate': 0.053332044990065525, 'SGD_momentum': 0.9851634335985551, 'SGD_weight_decay': 5.3453713798712174e-08, }, 'scheduler_fn': {'ExponentialLR_gamma': 0.9558041082441185, }, 'virtual_batch_size': 87},\n",
    "{'batch_norm_continuous_input': True, 'batch_size': 672, 'embedding_dropout': 0.06509617520576794, 'gamma': 1.2089404247138367, 'mask_type': 'sparsemax', 'n_a': 51, 'n_d': 22, 'n_independent': 2, 'n_shared': 2, 'n_steps': 3, 'optimizer_fn': {'Adam_learning_rate': 0.07398947128398595, 'Adam_weight_decay': 5.979030232767242e-08, }, 'scheduler_fn': {'ReduceLROnPlateau_factor': 0.10065587591924441, 'ReduceLROnPlateau_patience': 7, }, 'virtual_batch_size': 46},\n",
    "{'batch_norm_continuous_input': False, 'batch_size': 928, 'embedding_dropout': 0.10971790292456406, 'gamma': 1.2794062357963745, 'mask_type': 'entmax', 'n_a': 42, 'n_d': 60, 'n_independent': 3, 'n_shared': 3, 'n_steps': 6, 'optimizer_fn': {'SGD_learning_rate': 0.01706448484176477, 'SGD_momentum': 0.9400658400288299, 'SGD_weight_decay': 5.8503136589228095e-08, }, 'scheduler_fn': {'ExponentialLR_gamma': 0.9549128603670476, }, 'virtual_batch_size': 34},\n",
    "{'batch_norm_continuous_input': False, 'batch_size': 704, 'embedding_dropout': 0.17443160402811428, 'gamma': 1.277020780675834, 'mask_type': 'sparsemax', 'n_a': 48, 'n_d': 44, 'n_independent': 2, 'n_shared': 2, 'n_steps': 5, 'optimizer_fn': {'Adam_learning_rate': 0.0753016030439377, 'Adam_weight_decay': 7.940687451094736e-08, }, 'scheduler_fn': {'ReduceLROnPlateau_factor': 0.20007024505730048, 'ReduceLROnPlateau_patience': 13, }, 'virtual_batch_size': 44},\n",
    "{'batch_norm_continuous_input': True, 'batch_size': 480, 'embedding_dropout': 0.15565116438223445, 'gamma': 1.3060746259692961, 'mask_type': 'sparsemax', 'n_a': 29, 'n_d': 30, 'n_independent': 3, 'n_shared': 2, 'n_steps': 4, 'optimizer_fn': {'AdamW_learning_rate': 0.007304558645917253, 'AdamW_weight_decay': 7.931632367933946e-08, }, 'scheduler_fn': {'ReduceLROnPlateau_factor': 0.47937093833817634, 'ReduceLROnPlateau_patience': 14, }, 'virtual_batch_size': 45},\n",
    "{'batch_norm_continuous_input': True, 'batch_size': 224, 'embedding_dropout': 0.08229555321007541, 'gamma': 1.1419523495678239, 'mask_type': 'sparsemax', 'n_a': 47, 'n_d': 51, 'n_independent': 1, 'n_shared': 3, 'n_steps': 5, 'optimizer_fn': {'AdamW_learning_rate': 0.027576092667253266, 'AdamW_weight_decay': 9.702107445319236e-08, }, 'scheduler_fn': {'ReduceLROnPlateau_factor': 0.3431798179607186, 'ReduceLROnPlateau_patience': 8, }, 'virtual_batch_size': 125},\n",
    "{'batch_norm_continuous_input': False, 'batch_size': 736, 'embedding_dropout': 0.01786173393154351, 'gamma': 1.135807845856333, 'mask_type': 'entmax', 'n_a': 52, 'n_d': 46, 'n_independent': 2, 'n_shared': 2, 'n_steps': 4, 'optimizer_fn': {'AdamW_learning_rate': 0.06046879765802443, 'AdamW_weight_decay': 7.156863524239522e-08, }, 'scheduler_fn': {'ExponentialLR_gamma': 0.9302533957006677, }, 'virtual_batch_size': 46},\n",
    "{'batch_norm_continuous_input': True, 'batch_size': 736, 'embedding_dropout': 0.04915125047478162, 'gamma': 1.283154459919421, 'mask_type': 'entmax', 'n_a': 22, 'n_d': 16, 'n_independent': 2, 'n_shared': 3, 'n_steps': 4, 'optimizer_fn': {'SGD_learning_rate': 0.034405525383351884, 'SGD_momentum': 0.970770262548702, 'SGD_weight_decay': 8.77303093147771e-08, }, 'scheduler_fn': {'ExponentialLR_gamma': 0.9506935674230942, }, 'virtual_batch_size': 103},\n",
    "{'batch_norm_continuous_input': False, 'batch_size': 192, 'embedding_dropout': 0.026026761214698116, 'gamma': 1.2990431800155968, 'mask_type': 'entmax', 'n_a': 46, 'n_d': 25, 'n_independent': 2, 'n_shared': 2, 'n_steps': 4, 'optimizer_fn': {'SGD_learning_rate': 0.0351379977663217, 'SGD_momentum': 0.9466283373921492, 'SGD_weight_decay': 2.937361406673231e-08, }, 'scheduler_fn': {'StepLR_gamma': 0.14301845407596653, 'StepLR_step_size': 23, }, 'virtual_batch_size': 119},\n",
    "{'batch_norm_continuous_input': True, 'batch_size': 800, 'embedding_dropout': 0.05635471229326808, 'gamma': 1.1234997686607822, 'mask_type': 'sparsemax', 'n_a': 29, 'n_d': 37, 'n_independent': 3, 'n_shared': 3, 'n_steps': 4, 'optimizer_fn': {'SGD_learning_rate': 0.08630485255915236, 'SGD_momentum': 0.9088507099536465, 'SGD_weight_decay': 8.476359765459006e-08, }, 'scheduler_fn': {'ExponentialLR_gamma': 0.946726000071055, }, 'virtual_batch_size': 88},\n",
    "{'batch_norm_continuous_input': False, 'batch_size': 576, 'embedding_dropout': 0.05465431698511969, 'gamma': 1.327920133160017, 'mask_type': 'sparsemax', 'n_a': 44, 'n_d': 15, 'n_independent': 2, 'n_shared': 2, 'n_steps': 4, 'optimizer_fn': {'Adam_learning_rate': 0.06590313511036489, 'Adam_weight_decay': 8.226736262803946e-08, }, 'scheduler_fn': {'ReduceLROnPlateau_factor': 0.3356183201770594, 'ReduceLROnPlateau_patience': 5, }, 'virtual_batch_size': 96},\n",
    "{'batch_norm_continuous_input': True, 'batch_size': 256, 'embedding_dropout': 0.09566311648545284, 'gamma': 1.114875518749232, 'mask_type': 'sparsemax', 'n_a': 28, 'n_d': 13, 'n_independent': 2, 'n_shared': 2, 'n_steps': 3, 'optimizer_fn': {'SGD_learning_rate': 0.02967180193074303, 'SGD_momentum': 0.9850561382262792, 'SGD_weight_decay': 5.058674347299941e-09, }, 'scheduler_fn': {'StepLR_gamma': 0.4143890040298589, 'StepLR_step_size': 23, }, 'virtual_batch_size': 113},\n",
    "{'batch_norm_continuous_input': True, 'batch_size': 992, 'embedding_dropout': 0.06261356402875311, 'gamma': 1.1123305733212194, 'mask_type': 'sparsemax', 'n_a': 19, 'n_d': 10, 'n_independent': 2, 'n_shared': 2, 'n_steps': 6, 'optimizer_fn': {'Adam_learning_rate': 0.08342838959985305, 'Adam_weight_decay': 6.807523749764756e-08, }, 'scheduler_fn': {'ReduceLROnPlateau_factor': 0.34450354957677654, 'ReduceLROnPlateau_patience': 6, }, 'virtual_batch_size': 84},\n",
    "{'batch_norm_continuous_input': True, 'batch_size': 128, 'embedding_dropout': 0.03884722803397381, 'gamma': 1.4357268867179334, 'mask_type': 'sparsemax', 'n_a': 9, 'n_d': 29, 'n_independent': 2, 'n_shared': 2, 'n_steps': 4, 'optimizer_fn': {'SGD_learning_rate': 0.09633089289857903, 'SGD_momentum': 0.9008940113278446, 'SGD_weight_decay': 6.006117400407114e-08, }, 'scheduler_fn': {'ExponentialLR_gamma': 0.9318452332726177, }, 'virtual_batch_size': 40}]"
   ]
  },
  {
   "cell_type": "code",
   "execution_count": null,
   "metadata": {},
   "outputs": [],
   "source": [
    "error_params = [{'batch_norm_continuous_input': False, 'batch_size': 160, 'embedding_dropout': 0.07427202359469201, 'gamma': 1.2427611720859644, 'mask_type': 'sparsemax', 'n_a': 35, 'n_d': 54, 'n_independent': 3, 'n_shared': 3, 'n_steps': 5, 'optimizer_fn': {'SGD_learning_rate': 0.07779522274329667, 'SGD_momentum': 0.9621792336449789, 'SGD_weight_decay': 3.807443562799249e-08,}, 'scheduler_fn': {'ExponentialLR_gamma': 0.9497089301150198,}, 'virtual_batch_size': 119}]"
   ]
  },
  {
   "cell_type": "code",
   "execution_count": null,
   "metadata": {},
   "outputs": [],
   "source": [
    "for i in error_params:\n",
    "    print(i[\"batch_size\"]%i[\"virtual_batch_size\"])"
   ]
  },
  {
   "cell_type": "code",
   "execution_count": null,
   "metadata": {},
   "outputs": [],
   "source": [
    "for i in ok_params:\n",
    "    print(i[\"batch_size\"]%i[\"virtual_batch_size\"])"
   ]
  },
  {
   "cell_type": "code",
   "execution_count": null,
   "metadata": {},
   "outputs": [],
   "source": [
    "metric_name = \"roc_auc\"  # Change this to any metric name dynamically\n",
    "metric_col = f\"{metric_name}_test\"  # Append \"_test\" to match the dataset column names\n",
    "\n",
    "# Filter dataset\n",
    "filtered_data = full_dataset.loc[full_dataset[\"dataset\"] == \"binary\"]\n",
    "\n",
    "# Aggregate and sort\n",
    "result = (\n",
    "    filtered_data\n",
    "    .groupby(\"model\")[metric_col]\n",
    "    .max()\n",
    "    .reset_index()\n",
    "    .sort_values(by=metric_col, ascending=False)\n",
    ")\n",
    "result.head(10)"
   ]
  },
  {
   "cell_type": "code",
   "execution_count": null,
   "metadata": {},
   "outputs": [],
   "source": [
    "# Display sample output\n",
    "metric_name = \"accuracy\"  # Change this to any metric name dynamically\n",
    "metric_col = f\"{metric_name}_test\"  # Append \"_test\" to match the dataset column names\n",
    "\n",
    "# Filter dataset\n",
    "filtered_data = full_dataset.loc[full_dataset[\"dataset\"] == \"multiclass\"]\n",
    "\n",
    "# Aggregate and sort\n",
    "result = (\n",
    "    filtered_data\n",
    "    .groupby(\"model\")[metric_col]\n",
    "    .max()\n",
    "    .reset_index()\n",
    "    .sort_values(by=metric_col, ascending=False)\n",
    ")\n",
    "result.head(10)"
   ]
  },
  {
   "cell_type": "code",
   "execution_count": null,
   "metadata": {},
   "outputs": [],
   "source": [
    "# Display sample output\n",
    "metric_name = \"mse\"  # Change this to any metric name dynamically\n",
    "metric_col = f\"{metric_name}_test\"  # Append \"_test\" to match the dataset column names\n",
    "\n",
    "# Filter dataset\n",
    "filtered_data = full_dataset.loc[full_dataset[\"dataset\"] == \"regression\"]\n",
    "\n",
    "# Aggregate and sort\n",
    "result = (\n",
    "    filtered_data\n",
    "    .groupby(\"model\")[metric_col]\n",
    "    .max()\n",
    "    .reset_index()\n",
    "    .sort_values(by=metric_col, ascending=True)\n",
    ")\n",
    "result.head(10)"
   ]
  },
  {
   "cell_type": "code",
   "execution_count": null,
   "metadata": {},
   "outputs": [],
   "source": [
    "import os\n",
    "import subprocess\n",
    "\n",
    "# Define the path to the folder to format and lint (one level up from the current directory)\n",
    "folder_to_check = \"../../autodeep\"\n",
    "\n",
    "# Define the output folder and ensure it exists\n",
    "output_folder = \"linting_outputs\"\n",
    "os.makedirs(output_folder, exist_ok=True)\n",
    "\n",
    "# Define the output files\n",
    "output_files = {\n",
    "    \"isort\": \"isort_output.txt\",\n",
    "    \"black\": \"black_output.txt\",\n",
    "    \"pylint\": \"pylint_output.txt\",\n",
    "    \"flake8\": \"flake8_output.txt\",\n",
    "}\n",
    "\n",
    "# Run isort\n",
    "isort_output_path = os.path.join(output_folder, output_files[\"isort\"])\n",
    "with open(isort_output_path, \"w\") as f:\n",
    "    subprocess.run([\"isort\", folder_to_check], stdout=f, stderr=f)\n",
    "\n",
    "# Run black\n",
    "black_output_path = os.path.join(output_folder, output_files[\"black\"])\n",
    "with open(black_output_path, \"w\") as f:\n",
    "    subprocess.run([\"black\", folder_to_check], stdout=f, stderr=f)\n",
    "\n",
    "# Run pylint\n",
    "pylint_output_path = os.path.join(output_folder, output_files[\"pylint\"])\n",
    "with open(pylint_output_path, \"w\") as f:\n",
    "    subprocess.run([\"pylint\", folder_to_check], stdout=f, stderr=f)\n",
    "\n",
    "# Run flake8\n",
    "flake8_output_path = os.path.join(output_folder, output_files[\"flake8\"])\n",
    "with open(flake8_output_path, \"w\") as f:\n",
    "    subprocess.run([\"flake8\", folder_to_check], stdout=f, stderr=f)\n",
    "\n",
    "print(\n",
    "    f\"Linting and formatting completed. Outputs are saved in the '{output_folder}' folder.\"\n",
    ")"
   ]
  },
  {
   "cell_type": "code",
   "execution_count": null,
   "metadata": {},
   "outputs": [],
   "source": []
  }
 ],
 "metadata": {
  "kernelspec": {
   "display_name": "thesis",
   "language": "python",
   "name": "python3"
  },
  "language_info": {
   "codemirror_mode": {
    "name": "ipython",
    "version": 3
   },
   "file_extension": ".py",
   "mimetype": "text/x-python",
   "name": "python",
   "nbconvert_exporter": "python",
   "pygments_lexer": "ipython3",
   "version": "3.11.0"
  }
 },
 "nbformat": 4,
 "nbformat_minor": 2
}
