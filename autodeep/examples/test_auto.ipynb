{
 "cells": [
  {
   "cell_type": "code",
   "execution_count": 1,
   "metadata": {},
   "outputs": [],
   "source": [
    "%load_ext autoreload\n",
    "%autoreload 2"
   ]
  },
  {
   "cell_type": "code",
   "execution_count": 2,
   "metadata": {},
   "outputs": [],
   "source": [
    "# Test AutoML Functionality in a Separate Notebook\n",
    "from autodeep.automl import AutoRunner\n",
    "import pandas as pd\n",
    "from pathlib import Path\n",
    "\n",
    "import ast\n",
    "import ast\n",
    "import re\n",
    "\n",
    "pd.set_option(\"display.max_columns\", 1000)\n",
    "\n",
    "import warnings\n",
    "\n",
    "# Filter out FutureWarnings and DeprecationWarnings\n",
    "warnings.filterwarnings(\"ignore\", category=FutureWarning)\n",
    "warnings.filterwarnings(\"ignore\", category=DeprecationWarning)"
   ]
  },
  {
   "cell_type": "code",
   "execution_count": 3,
   "metadata": {},
   "outputs": [
    {
     "data": {
      "text/plain": [
       "True"
      ]
     },
     "execution_count": 3,
     "metadata": {},
     "output_type": "execute_result"
    }
   ],
   "source": [
    "import torch\n",
    "torch.cuda.is_available()"
   ]
  },
  {
   "cell_type": "code",
   "execution_count": 7,
   "metadata": {},
   "outputs": [
    {
     "name": "stdout",
     "output_type": "stream",
     "text": [
      "2025-02-28 15:46:03,779 - INFO - CommonStructure.py - NodeTrainer - Training with hyperparameters: {'additional_tree_output_dim': 3, 'batch_norm_continuous_input': False, 'batch_size': 928, 'bin_function': 'sparsemoid', 'choice_function': 'entmax15', 'depth': 5, 'embedding_dropout': 0.13732866704440735, 'initialize_response': 'uniform', 'initialize_selection_logits': 'uniform', 'input_dropout': 0.1844758881376537, 'num_layers': 2, 'num_trees': 1007, 'optimizer_fn': {'AdamW_learning_rate': 0.02015453634406944, 'AdamW_weight_decay': 7.935323737245168e-08, 'optimizer_fn': <class 'torch.optim.adamw.AdamW'>}, 'scheduler_fn': {'ReduceLROnPlateau_factor': 0.34405715718687835, 'ReduceLROnPlateau_patience': 7, 'scheduler_fn': <class 'torch.optim.lr_scheduler.ReduceLROnPlateau'>}, 'threshold_init_beta': 0.9435463424778295, 'threshold_init_cutoff': 0.5123416912784603}\n",
      "2025-02-28 15:46:03,781 - DEBUG - CommonStructure.py - NodeTrainer - Shape of X_train: (386, 30)\n",
      "2025-02-28 15:46:03,781 - DEBUG - CommonStructure.py - NodeTrainer - Shape of X_val: (69, 30)\n",
      "2025-02-28 15:46:03,782 - DEBUG - CommonStructure.py - NodeTrainer - Shape of y_train: (386,)\n",
      "2025-02-28 15:46:03,782 - DEBUG - CommonStructure.py - NodeTrainer - Shape of y_val: (69,)\n",
      "2025-02-28 15:46:03,782 - DEBUG - CommonStructure.py - NodeTrainer - Batch Size, VBS: 928\n",
      "tabular model params                                                            \n",
      "{'additional_tree_output_dim': 3, 'batch_norm_continuous_input': False, 'batch_size': 928, 'bin_function': 'sparsemoid', 'choice_function': 'entmax15', 'depth': 5, 'embedding_dropout': 0.13732866704440735, 'initialize_response': 'uniform', 'initialize_selection_logits': 'uniform', 'input_dropout': 0.1844758881376537, 'num_layers': 2, 'num_trees': 1007, 'optimizer_fn': {'AdamW_learning_rate': 0.02015453634406944, 'AdamW_weight_decay': 7.935323737245168e-08, 'optimizer_fn': <class 'torch.optim.adamw.AdamW'>}, 'scheduler_fn': {'ReduceLROnPlateau_factor': 0.34405715718687835, 'ReduceLROnPlateau_patience': 7, 'scheduler_fn': <class 'torch.optim.lr_scheduler.ReduceLROnPlateau'>}, 'threshold_init_beta': 0.9435463424778295, 'threshold_init_cutoff': 0.5123416912784603}\n",
      "tabular model outer params                                                      \n",
      "{'early_stopping_rounds': 10, 'verbose': False, 'iterations': 20, 'retrain': False, 'auto_lr_find': False, 'max_epochs': 1000, 'val_size': 0.15, 'early_stopping_patience': 5}\n",
      " 67%|██████▋   | 2/3 [02:33<01:08, 68.96s/trial, best loss: -0.9892665474060823]2025-02-28 15:46:03,788 - WARNING - CommonStructure.py - NodeTrainer - You are passing some invalid parameters to the model {'batch_size': 928, 'optimizer_fn': {'AdamW_learning_rate': 0.02015453634406944, 'AdamW_weight_decay': 7.935323737245168e-08, 'optimizer_fn': <class 'torch.optim.adamw.AdamW'>}, 'scheduler_fn': {'ReduceLROnPlateau_factor': 0.34405715718687835, 'ReduceLROnPlateau_patience': 7, 'scheduler_fn': <class 'torch.optim.lr_scheduler.ReduceLROnPlateau'>}}\n",
      "2025-02-28 15:46:03,789 - DEBUG - CommonStructure.py - NodeTrainer - compatible parameters: {'additional_tree_output_dim': 3, 'batch_norm_continuous_input': False, 'bin_function': 'sparsemoid', 'choice_function': 'entmax15', 'depth': 5, 'embedding_dropout': 0.13732866704440735, 'initialize_response': 'uniform', 'initialize_selection_logits': 'uniform', 'input_dropout': 0.1844758881376537, 'num_layers': 2, 'num_trees': 1007, 'threshold_init_beta': 0.9435463424778295, 'threshold_init_cutoff': 0.5123416912784603}\n",
      "DataConfig(target=['target'], continuous_cols=['mean radius', 'mean texture', 'mean perimeter', 'mean area', 'mean smoothness', 'mean compactness', 'mean concavity', 'mean concave points', 'mean symmetry', 'mean fractal dimension', 'radius error', 'texture error', 'perimeter error', 'area error', 'smoothness error', 'compactness error', 'concavity error', 'concave points error', 'symmetry error', 'fractal dimension error', 'worst radius', 'worst texture', 'worst perimeter', 'worst area', 'worst smoothness', 'worst compactness', 'worst concavity', 'worst concave points', 'worst symmetry', 'worst fractal dimension'], categorical_cols=[], date_columns=[], encode_date_columns=True, validation_split=0.2, continuous_feature_transform=None, normalize_continuous_features=True, quantile_noise=0, num_workers=4, pin_memory=True, handle_unknown_categories=True, handle_missing_values=True, dataloader_kwargs={})\n",
      "NodeConfig(task='classification', head='LinearHead', head_config={'layers': ''}, embedding_dims=None, embedding_dropout=0.13732866704440735, batch_norm_continuous_input=False, learning_rate=0.02015453634406944, loss='CrossEntropyLoss', metrics=['accuracy'], metrics_prob_input=[False], metrics_params=[{}], target_range=None, virtual_batch_size=None, seed=42, _module_src='models.node', _model_name='NODEModel', _backbone_name='NODEBackbone', _config_name='NodeConfig', num_layers=2, num_trees=1007, additional_tree_output_dim=3, depth=5, choice_function='entmax15', bin_function='sparsemoid', max_features=None, input_dropout=0.1844758881376537, initialize_response='uniform', initialize_selection_logits='uniform', threshold_init_beta=0.9435463424778295, threshold_init_cutoff=0.5123416912784603)\n",
      "OptimizerConfig(optimizer='AdamW', optimizer_params={'weight_decay': 7.935323737245168e-08}, lr_scheduler='ReduceLROnPlateau', lr_scheduler_params={'factor': 0.34405715718687835, 'patience': 7, 'min_lr': 1e-08, 'verbose': True, 'mode': 'min'}, lr_scheduler_monitor_metric='valid_loss')\n",
      "TrainerConfig(batch_size=928, data_aware_init_batch_size=2000, fast_dev_run=False, max_epochs=1000, min_epochs=1, max_time=None, accelerator='auto', devices=-1, devices_list=None, accumulate_grad_batches=1, auto_lr_find=False, auto_select_gpus=True, check_val_every_n_epoch=1, gradient_clip_val=0.0, overfit_batches=0.0, deterministic=False, profiler=None, early_stopping='valid_loss', early_stopping_min_delta=0.0, early_stopping_mode='min', early_stopping_patience=5, early_stopping_kwargs={}, checkpoints=None, checkpoints_path='saved_models', checkpoints_every_n_epochs=1, checkpoints_name=None, checkpoints_mode='min', checkpoints_save_top_k=1, checkpoints_kwargs={}, load_best=True, track_grad_norm=-1, progress_bar='simple', precision=32, seed=42, trainer_kwargs={})\n",
      " 67%|██████▋   | 2/3 [02:33<01:08, 68.96s/trial, best loss: -0.9892665474060823]"
     ]
    },
    {
     "data": {
      "text/html": [
       "<pre style=\"white-space:pre;overflow-x:auto;line-height:normal;font-family:Menlo,'DejaVu Sans Mono',consolas,'Courier New',monospace\"><span style=\"color: #008080; text-decoration-color: #008080; font-weight: bold\">2025</span>-<span style=\"color: #008080; text-decoration-color: #008080; font-weight: bold\">02</span>-<span style=\"color: #008080; text-decoration-color: #008080; font-weight: bold\">28</span> <span style=\"color: #00ff00; text-decoration-color: #00ff00; font-weight: bold\">15:46:03</span>,<span style=\"color: #008080; text-decoration-color: #008080; font-weight: bold\">811</span> - <span style=\"font-weight: bold\">{</span>pytorch_tabular.tabular_model:<span style=\"color: #008080; text-decoration-color: #008080; font-weight: bold\">146</span><span style=\"font-weight: bold\">}</span> - INFO - Experiment Tracking is turned off           \n",
       "</pre>\n"
      ],
      "text/plain": [
       "\u001b[1;36m2025\u001b[0m-\u001b[1;36m02\u001b[0m-\u001b[1;36m28\u001b[0m \u001b[1;92m15:46:03\u001b[0m,\u001b[1;36m811\u001b[0m - \u001b[1m{\u001b[0mpytorch_tabular.tabular_model:\u001b[1;36m146\u001b[0m\u001b[1m}\u001b[0m - INFO - Experiment Tracking is turned off           \n"
      ]
     },
     "metadata": {},
     "output_type": "display_data"
    },
    {
     "name": "stdout",
     "output_type": "stream",
     "text": [
      "2025-02-28 15:46:03,836 - DEBUG - CommonStructure.py - NodeTrainer - GPU Memory Allocated: 59.866624 MB\n",
      "2025-02-28 15:46:03,837 - DEBUG - CommonStructure.py - NodeTrainer - GPU Memory Reserved: 109.051904 MB\n"
     ]
    },
    {
     "name": "stderr",
     "output_type": "stream",
     "text": [
      "Seed set to 42\n"
     ]
    },
    {
     "data": {
      "text/html": [
       "<pre style=\"white-space:pre;overflow-x:auto;line-height:normal;font-family:Menlo,'DejaVu Sans Mono',consolas,'Courier New',monospace\"><span style=\"color: #008080; text-decoration-color: #008080; font-weight: bold\">2025</span>-<span style=\"color: #008080; text-decoration-color: #008080; font-weight: bold\">02</span>-<span style=\"color: #008080; text-decoration-color: #008080; font-weight: bold\">28</span> <span style=\"color: #00ff00; text-decoration-color: #00ff00; font-weight: bold\">15:46:03</span>,<span style=\"color: #008080; text-decoration-color: #008080; font-weight: bold\">839</span> - <span style=\"font-weight: bold\">{</span>pytorch_tabular.tabular_model:<span style=\"color: #008080; text-decoration-color: #008080; font-weight: bold\">548</span><span style=\"font-weight: bold\">}</span> - INFO - Preparing the DataLoaders                   \n",
       "</pre>\n"
      ],
      "text/plain": [
       "\u001b[1;36m2025\u001b[0m-\u001b[1;36m02\u001b[0m-\u001b[1;36m28\u001b[0m \u001b[1;92m15:46:03\u001b[0m,\u001b[1;36m839\u001b[0m - \u001b[1m{\u001b[0mpytorch_tabular.tabular_model:\u001b[1;36m548\u001b[0m\u001b[1m}\u001b[0m - INFO - Preparing the DataLoaders                   \n"
      ]
     },
     "metadata": {},
     "output_type": "display_data"
    },
    {
     "data": {
      "text/html": [
       "<pre style=\"white-space:pre;overflow-x:auto;line-height:normal;font-family:Menlo,'DejaVu Sans Mono',consolas,'Courier New',monospace\"><span style=\"color: #008080; text-decoration-color: #008080; font-weight: bold\">2025</span>-<span style=\"color: #008080; text-decoration-color: #008080; font-weight: bold\">02</span>-<span style=\"color: #008080; text-decoration-color: #008080; font-weight: bold\">28</span> <span style=\"color: #00ff00; text-decoration-color: #00ff00; font-weight: bold\">15:46:03</span>,<span style=\"color: #008080; text-decoration-color: #008080; font-weight: bold\">844</span> - <span style=\"font-weight: bold\">{</span>pytorch_tabular.tabular_datamodul<span style=\"color: #00ff00; text-decoration-color: #00ff00; font-weight: bold\">e:522</span><span style=\"font-weight: bold\">}</span> - INFO - Setting up the datamodule for          \n",
       "classification task                                                                                                \n",
       "</pre>\n"
      ],
      "text/plain": [
       "\u001b[1;36m2025\u001b[0m-\u001b[1;36m02\u001b[0m-\u001b[1;36m28\u001b[0m \u001b[1;92m15:46:03\u001b[0m,\u001b[1;36m844\u001b[0m - \u001b[1m{\u001b[0mpytorch_tabular.tabular_datamodul\u001b[1;92me:522\u001b[0m\u001b[1m}\u001b[0m - INFO - Setting up the datamodule for          \n",
       "classification task                                                                                                \n"
      ]
     },
     "metadata": {},
     "output_type": "display_data"
    },
    {
     "data": {
      "text/html": [
       "<pre style=\"white-space:pre;overflow-x:auto;line-height:normal;font-family:Menlo,'DejaVu Sans Mono',consolas,'Courier New',monospace\"><span style=\"color: #008080; text-decoration-color: #008080; font-weight: bold\">2025</span>-<span style=\"color: #008080; text-decoration-color: #008080; font-weight: bold\">02</span>-<span style=\"color: #008080; text-decoration-color: #008080; font-weight: bold\">28</span> <span style=\"color: #00ff00; text-decoration-color: #00ff00; font-weight: bold\">15:46:03</span>,<span style=\"color: #008080; text-decoration-color: #008080; font-weight: bold\">868</span> - <span style=\"font-weight: bold\">{</span>pytorch_tabular.tabular_model:<span style=\"color: #008080; text-decoration-color: #008080; font-weight: bold\">599</span><span style=\"font-weight: bold\">}</span> - INFO - Preparing the Model: NODEModel              \n",
       "</pre>\n"
      ],
      "text/plain": [
       "\u001b[1;36m2025\u001b[0m-\u001b[1;36m02\u001b[0m-\u001b[1;36m28\u001b[0m \u001b[1;92m15:46:03\u001b[0m,\u001b[1;36m868\u001b[0m - \u001b[1m{\u001b[0mpytorch_tabular.tabular_model:\u001b[1;36m599\u001b[0m\u001b[1m}\u001b[0m - INFO - Preparing the Model: NODEModel              \n"
      ]
     },
     "metadata": {},
     "output_type": "display_data"
    },
    {
     "name": "stderr",
     "output_type": "stream",
     "text": [
      "/home/boom/.pyenv/versions/thesis/lib/python3.11/site-packages/pytorch_tabular/models/node/node_model.py:111: UserWarning: Ignoring head config because NODE has a specific head which subsets the tree outputs\n",
      "  warnings.warn(\"Ignoring head config because NODE has a specific head which subsets the tree outputs\")\n",
      "\n"
     ]
    },
    {
     "data": {
      "text/html": [
       "<pre style=\"white-space:pre;overflow-x:auto;line-height:normal;font-family:Menlo,'DejaVu Sans Mono',consolas,'Courier New',monospace\"><span style=\"color: #008080; text-decoration-color: #008080; font-weight: bold\">2025</span>-<span style=\"color: #008080; text-decoration-color: #008080; font-weight: bold\">02</span>-<span style=\"color: #008080; text-decoration-color: #008080; font-weight: bold\">28</span> <span style=\"color: #00ff00; text-decoration-color: #00ff00; font-weight: bold\">15:46:04</span>,<span style=\"color: #008080; text-decoration-color: #008080; font-weight: bold\">039</span> - <span style=\"font-weight: bold\">{</span>pytorch_tabular.models.node.node_model:<span style=\"color: #008080; text-decoration-color: #008080; font-weight: bold\">74</span><span style=\"font-weight: bold\">}</span> - INFO - Data Aware Initialization of NODE   \n",
       "using a forward pass with <span style=\"color: #008080; text-decoration-color: #008080; font-weight: bold\">2000</span> batch size<span style=\"color: #808000; text-decoration-color: #808000\">...</span>.                                                                      \n",
       "</pre>\n"
      ],
      "text/plain": [
       "\u001b[1;36m2025\u001b[0m-\u001b[1;36m02\u001b[0m-\u001b[1;36m28\u001b[0m \u001b[1;92m15:46:04\u001b[0m,\u001b[1;36m039\u001b[0m - \u001b[1m{\u001b[0mpytorch_tabular.models.node.node_model:\u001b[1;36m74\u001b[0m\u001b[1m}\u001b[0m - INFO - Data Aware Initialization of NODE   \n",
       "using a forward pass with \u001b[1;36m2000\u001b[0m batch size\u001b[33m...\u001b[0m.                                                                      \n"
      ]
     },
     "metadata": {},
     "output_type": "display_data"
    },
    {
     "name": "stderr",
     "output_type": "stream",
     "text": [
      "/home/boom/.pyenv/versions/thesis/lib/python3.11/site-packages/pytorch_tabular/models/common/layers/soft_trees.py:138: UserWarning: Data-aware initialization is performed on less than 1000 data points. This may cause instability.To avoid potential problems, run this model on a data batch with at least 1000 data samples.You can do so manually before training. Use with torch.no_grad() for memory efficiency.\n",
      "  warn(\n",
      "\n"
     ]
    },
    {
     "data": {
      "text/html": [
       "<pre style=\"white-space:pre;overflow-x:auto;line-height:normal;font-family:Menlo,'DejaVu Sans Mono',consolas,'Courier New',monospace\"><span style=\"color: #008080; text-decoration-color: #008080; font-weight: bold\">2025</span>-<span style=\"color: #008080; text-decoration-color: #008080; font-weight: bold\">02</span>-<span style=\"color: #008080; text-decoration-color: #008080; font-weight: bold\">28</span> <span style=\"color: #00ff00; text-decoration-color: #00ff00; font-weight: bold\">15:46:12</span>,<span style=\"color: #008080; text-decoration-color: #008080; font-weight: bold\">193</span> - <span style=\"font-weight: bold\">{</span>pytorch_tabular.tabular_model:<span style=\"color: #008080; text-decoration-color: #008080; font-weight: bold\">342</span><span style=\"font-weight: bold\">}</span> - INFO - Preparing the Trainer                       \n",
       "</pre>\n"
      ],
      "text/plain": [
       "\u001b[1;36m2025\u001b[0m-\u001b[1;36m02\u001b[0m-\u001b[1;36m28\u001b[0m \u001b[1;92m15:46:12\u001b[0m,\u001b[1;36m193\u001b[0m - \u001b[1m{\u001b[0mpytorch_tabular.tabular_model:\u001b[1;36m342\u001b[0m\u001b[1m}\u001b[0m - INFO - Preparing the Trainer                       \n"
      ]
     },
     "metadata": {},
     "output_type": "display_data"
    },
    {
     "data": {
      "text/html": [
       "<pre style=\"white-space:pre;overflow-x:auto;line-height:normal;font-family:Menlo,'DejaVu Sans Mono',consolas,'Courier New',monospace\"><span style=\"color: #008080; text-decoration-color: #008080; font-weight: bold\">2025</span>-<span style=\"color: #008080; text-decoration-color: #008080; font-weight: bold\">02</span>-<span style=\"color: #008080; text-decoration-color: #008080; font-weight: bold\">28</span> <span style=\"color: #00ff00; text-decoration-color: #00ff00; font-weight: bold\">15:46:12</span>,<span style=\"color: #008080; text-decoration-color: #008080; font-weight: bold\">203</span> - <span style=\"font-weight: bold\">{</span>pytorch_tabular.tabular_model:<span style=\"color: #008080; text-decoration-color: #008080; font-weight: bold\">678</span><span style=\"font-weight: bold\">}</span> - INFO - Training Started                            \n",
       "</pre>\n"
      ],
      "text/plain": [
       "\u001b[1;36m2025\u001b[0m-\u001b[1;36m02\u001b[0m-\u001b[1;36m28\u001b[0m \u001b[1;92m15:46:12\u001b[0m,\u001b[1;36m203\u001b[0m - \u001b[1m{\u001b[0mpytorch_tabular.tabular_model:\u001b[1;36m678\u001b[0m\u001b[1m}\u001b[0m - INFO - Training Started                            \n"
      ]
     },
     "metadata": {},
     "output_type": "display_data"
    },
    {
     "name": "stderr",
     "output_type": "stream",
     "text": [
      "/home/boom/.pyenv/versions/thesis/lib/python3.11/site-packages/torch/optim/lr_scheduler.py:62: UserWarning: The verbose parameter is deprecated. Please use get_last_lr() to access the learning rate.\n",
      "  warnings.warn(\n",
      "\n"
     ]
    },
    {
     "data": {
      "application/vnd.jupyter.widget-view+json": {
       "model_id": "596961d631fe47bb9c8b9b72d16ecd2d",
       "version_major": 2,
       "version_minor": 0
      },
      "text/plain": [
       "Sanity Checking: |          | 0/? [00:00<?, ?it/s]"
      ]
     },
     "metadata": {},
     "output_type": "display_data"
    },
    {
     "name": "stderr",
     "output_type": "stream",
     "text": [
      "/home/boom/.pyenv/versions/thesis/lib/python3.11/site-packages/pytorch_lightning/loops/fit_loop.py:298: The number of training batches (1) is smaller than the logging interval Trainer(log_every_n_steps=50). Set a lower value for log_every_n_steps if you want to see logs for the training epoch.\n",
      "\n"
     ]
    },
    {
     "data": {
      "application/vnd.jupyter.widget-view+json": {
       "model_id": "cb6c1ede6b52475da4689d4f5eeb98a4",
       "version_major": 2,
       "version_minor": 0
      },
      "text/plain": [
       "Training: |          | 0/? [00:00<?, ?it/s]"
      ]
     },
     "metadata": {},
     "output_type": "display_data"
    },
    {
     "data": {
      "application/vnd.jupyter.widget-view+json": {
       "model_id": "7f3c77430a88448daea43c40b98d9504",
       "version_major": 2,
       "version_minor": 0
      },
      "text/plain": [
       "Validation: |          | 0/? [00:00<?, ?it/s]"
      ]
     },
     "metadata": {},
     "output_type": "display_data"
    },
    {
     "data": {
      "application/vnd.jupyter.widget-view+json": {
       "model_id": "e2f528ba774642b2b3f17b5c5f407daa",
       "version_major": 2,
       "version_minor": 0
      },
      "text/plain": [
       "Validation: |          | 0/? [00:00<?, ?it/s]"
      ]
     },
     "metadata": {},
     "output_type": "display_data"
    },
    {
     "data": {
      "application/vnd.jupyter.widget-view+json": {
       "model_id": "1e19a3a051354bd0a4ad55a500d9d254",
       "version_major": 2,
       "version_minor": 0
      },
      "text/plain": [
       "Validation: |          | 0/? [00:00<?, ?it/s]"
      ]
     },
     "metadata": {},
     "output_type": "display_data"
    },
    {
     "data": {
      "application/vnd.jupyter.widget-view+json": {
       "model_id": "7ea3d8ad2f0444e285dcb448e5527670",
       "version_major": 2,
       "version_minor": 0
      },
      "text/plain": [
       "Validation: |          | 0/? [00:00<?, ?it/s]"
      ]
     },
     "metadata": {},
     "output_type": "display_data"
    },
    {
     "data": {
      "application/vnd.jupyter.widget-view+json": {
       "model_id": "56204fd8311f4352a80c4df723f6fe4a",
       "version_major": 2,
       "version_minor": 0
      },
      "text/plain": [
       "Validation: |          | 0/? [00:00<?, ?it/s]"
      ]
     },
     "metadata": {},
     "output_type": "display_data"
    },
    {
     "data": {
      "application/vnd.jupyter.widget-view+json": {
       "model_id": "9408c0b4d56442b9842529e106e19352",
       "version_major": 2,
       "version_minor": 0
      },
      "text/plain": [
       "Validation: |          | 0/? [00:00<?, ?it/s]"
      ]
     },
     "metadata": {},
     "output_type": "display_data"
    },
    {
     "data": {
      "application/vnd.jupyter.widget-view+json": {
       "model_id": "a826897903094cf4964f2fb9b163ebac",
       "version_major": 2,
       "version_minor": 0
      },
      "text/plain": [
       "Validation: |          | 0/? [00:00<?, ?it/s]"
      ]
     },
     "metadata": {},
     "output_type": "display_data"
    },
    {
     "data": {
      "application/vnd.jupyter.widget-view+json": {
       "model_id": "7c3de3f163884140b95aaecdfb6657b0",
       "version_major": 2,
       "version_minor": 0
      },
      "text/plain": [
       "Validation: |          | 0/? [00:00<?, ?it/s]"
      ]
     },
     "metadata": {},
     "output_type": "display_data"
    },
    {
     "data": {
      "application/vnd.jupyter.widget-view+json": {
       "model_id": "c24f366064ef47939135b622f881fb2c",
       "version_major": 2,
       "version_minor": 0
      },
      "text/plain": [
       "Validation: |          | 0/? [00:00<?, ?it/s]"
      ]
     },
     "metadata": {},
     "output_type": "display_data"
    },
    {
     "data": {
      "application/vnd.jupyter.widget-view+json": {
       "model_id": "138a720b69174615ad53ea99929a48d4",
       "version_major": 2,
       "version_minor": 0
      },
      "text/plain": [
       "Validation: |          | 0/? [00:00<?, ?it/s]"
      ]
     },
     "metadata": {},
     "output_type": "display_data"
    },
    {
     "data": {
      "application/vnd.jupyter.widget-view+json": {
       "model_id": "972aec85d5364d74bde2d1ef48bdaff1",
       "version_major": 2,
       "version_minor": 0
      },
      "text/plain": [
       "Validation: |          | 0/? [00:00<?, ?it/s]"
      ]
     },
     "metadata": {},
     "output_type": "display_data"
    },
    {
     "data": {
      "application/vnd.jupyter.widget-view+json": {
       "model_id": "f6d49ec1781f4a30a84cd7fcf16777a1",
       "version_major": 2,
       "version_minor": 0
      },
      "text/plain": [
       "Validation: |          | 0/? [00:00<?, ?it/s]"
      ]
     },
     "metadata": {},
     "output_type": "display_data"
    },
    {
     "data": {
      "application/vnd.jupyter.widget-view+json": {
       "model_id": "ef430d9e48054571915e4d3c1e25a67f",
       "version_major": 2,
       "version_minor": 0
      },
      "text/plain": [
       "Validation: |          | 0/? [00:00<?, ?it/s]"
      ]
     },
     "metadata": {},
     "output_type": "display_data"
    },
    {
     "data": {
      "application/vnd.jupyter.widget-view+json": {
       "model_id": "883c3871b52545f49f941980f7cb0fd0",
       "version_major": 2,
       "version_minor": 0
      },
      "text/plain": [
       "Validation: |          | 0/? [00:00<?, ?it/s]"
      ]
     },
     "metadata": {},
     "output_type": "display_data"
    },
    {
     "data": {
      "application/vnd.jupyter.widget-view+json": {
       "model_id": "f09e1e1058664759a7d1aa2facc7a5ab",
       "version_major": 2,
       "version_minor": 0
      },
      "text/plain": [
       "Validation: |          | 0/? [00:00<?, ?it/s]"
      ]
     },
     "metadata": {},
     "output_type": "display_data"
    },
    {
     "data": {
      "application/vnd.jupyter.widget-view+json": {
       "model_id": "3fcca19ea7e64666848deb6cd01b83fa",
       "version_major": 2,
       "version_minor": 0
      },
      "text/plain": [
       "Validation: |          | 0/? [00:00<?, ?it/s]"
      ]
     },
     "metadata": {},
     "output_type": "display_data"
    },
    {
     "data": {
      "application/vnd.jupyter.widget-view+json": {
       "model_id": "6c036b39b7394907b93e98ad580486ca",
       "version_major": 2,
       "version_minor": 0
      },
      "text/plain": [
       "Validation: |          | 0/? [00:00<?, ?it/s]"
      ]
     },
     "metadata": {},
     "output_type": "display_data"
    },
    {
     "data": {
      "application/vnd.jupyter.widget-view+json": {
       "model_id": "9eec78f58e604360a4a370f6c245cab8",
       "version_major": 2,
       "version_minor": 0
      },
      "text/plain": [
       "Validation: |          | 0/? [00:00<?, ?it/s]"
      ]
     },
     "metadata": {},
     "output_type": "display_data"
    },
    {
     "data": {
      "application/vnd.jupyter.widget-view+json": {
       "model_id": "b3010fa537e44f83ba3e1cea8d96ba0a",
       "version_major": 2,
       "version_minor": 0
      },
      "text/plain": [
       "Validation: |          | 0/? [00:00<?, ?it/s]"
      ]
     },
     "metadata": {},
     "output_type": "display_data"
    },
    {
     "data": {
      "application/vnd.jupyter.widget-view+json": {
       "model_id": "592d88a823f14bf5ae964f0acc0d11dc",
       "version_major": 2,
       "version_minor": 0
      },
      "text/plain": [
       "Validation: |          | 0/? [00:00<?, ?it/s]"
      ]
     },
     "metadata": {},
     "output_type": "display_data"
    },
    {
     "data": {
      "application/vnd.jupyter.widget-view+json": {
       "model_id": "9c103f896599486ebbdce2a2f5efc83f",
       "version_major": 2,
       "version_minor": 0
      },
      "text/plain": [
       "Validation: |          | 0/? [00:00<?, ?it/s]"
      ]
     },
     "metadata": {},
     "output_type": "display_data"
    },
    {
     "data": {
      "application/vnd.jupyter.widget-view+json": {
       "model_id": "cc7f752175164cea96da94b30fdea7de",
       "version_major": 2,
       "version_minor": 0
      },
      "text/plain": [
       "Validation: |          | 0/? [00:00<?, ?it/s]"
      ]
     },
     "metadata": {},
     "output_type": "display_data"
    },
    {
     "data": {
      "application/vnd.jupyter.widget-view+json": {
       "model_id": "5960e75f9c024140a01fea27626bded4",
       "version_major": 2,
       "version_minor": 0
      },
      "text/plain": [
       "Validation: |          | 0/? [00:00<?, ?it/s]"
      ]
     },
     "metadata": {},
     "output_type": "display_data"
    },
    {
     "data": {
      "application/vnd.jupyter.widget-view+json": {
       "model_id": "4ebe805f6886482c991f510aae506364",
       "version_major": 2,
       "version_minor": 0
      },
      "text/plain": [
       "Validation: |          | 0/? [00:00<?, ?it/s]"
      ]
     },
     "metadata": {},
     "output_type": "display_data"
    },
    {
     "data": {
      "application/vnd.jupyter.widget-view+json": {
       "model_id": "6331974b64dd4834b235ac4c9bf3280d",
       "version_major": 2,
       "version_minor": 0
      },
      "text/plain": [
       "Validation: |          | 0/? [00:00<?, ?it/s]"
      ]
     },
     "metadata": {},
     "output_type": "display_data"
    },
    {
     "data": {
      "application/vnd.jupyter.widget-view+json": {
       "model_id": "e5d467d5322d4944bd8031a0ed5d01a6",
       "version_major": 2,
       "version_minor": 0
      },
      "text/plain": [
       "Validation: |          | 0/? [00:00<?, ?it/s]"
      ]
     },
     "metadata": {},
     "output_type": "display_data"
    },
    {
     "data": {
      "application/vnd.jupyter.widget-view+json": {
       "model_id": "42b1daac609143b9b97feec7bf9361ce",
       "version_major": 2,
       "version_minor": 0
      },
      "text/plain": [
       "Validation: |          | 0/? [00:00<?, ?it/s]"
      ]
     },
     "metadata": {},
     "output_type": "display_data"
    },
    {
     "data": {
      "application/vnd.jupyter.widget-view+json": {
       "model_id": "13a310ec4e344490ac2a6ec28dec649f",
       "version_major": 2,
       "version_minor": 0
      },
      "text/plain": [
       "Validation: |          | 0/? [00:00<?, ?it/s]"
      ]
     },
     "metadata": {},
     "output_type": "display_data"
    },
    {
     "data": {
      "application/vnd.jupyter.widget-view+json": {
       "model_id": "e3d9e9c46f804796b81c792076066aa3",
       "version_major": 2,
       "version_minor": 0
      },
      "text/plain": [
       "Validation: |          | 0/? [00:00<?, ?it/s]"
      ]
     },
     "metadata": {},
     "output_type": "display_data"
    },
    {
     "data": {
      "application/vnd.jupyter.widget-view+json": {
       "model_id": "5642b59297024716bfa6e5837daeffb0",
       "version_major": 2,
       "version_minor": 0
      },
      "text/plain": [
       "Validation: |          | 0/? [00:00<?, ?it/s]"
      ]
     },
     "metadata": {},
     "output_type": "display_data"
    },
    {
     "data": {
      "application/vnd.jupyter.widget-view+json": {
       "model_id": "9553aafd7bd94ba0861750560f897d63",
       "version_major": 2,
       "version_minor": 0
      },
      "text/plain": [
       "Validation: |          | 0/? [00:00<?, ?it/s]"
      ]
     },
     "metadata": {},
     "output_type": "display_data"
    },
    {
     "data": {
      "application/vnd.jupyter.widget-view+json": {
       "model_id": "c85313b1c6344dd087a94f319d963057",
       "version_major": 2,
       "version_minor": 0
      },
      "text/plain": [
       "Validation: |          | 0/? [00:00<?, ?it/s]"
      ]
     },
     "metadata": {},
     "output_type": "display_data"
    },
    {
     "data": {
      "application/vnd.jupyter.widget-view+json": {
       "model_id": "adced8648ab84d96bc681321ecc4b3d2",
       "version_major": 2,
       "version_minor": 0
      },
      "text/plain": [
       "Validation: |          | 0/? [00:00<?, ?it/s]"
      ]
     },
     "metadata": {},
     "output_type": "display_data"
    },
    {
     "data": {
      "application/vnd.jupyter.widget-view+json": {
       "model_id": "767a238a1db5464ca58910045c2c7fd7",
       "version_major": 2,
       "version_minor": 0
      },
      "text/plain": [
       "Validation: |          | 0/? [00:00<?, ?it/s]"
      ]
     },
     "metadata": {},
     "output_type": "display_data"
    },
    {
     "data": {
      "application/vnd.jupyter.widget-view+json": {
       "model_id": "58b0cc130dd84d08a5fcc4c06921928d",
       "version_major": 2,
       "version_minor": 0
      },
      "text/plain": [
       "Validation: |          | 0/? [00:00<?, ?it/s]"
      ]
     },
     "metadata": {},
     "output_type": "display_data"
    },
    {
     "data": {
      "application/vnd.jupyter.widget-view+json": {
       "model_id": "216715b4222145ec906870906f82bf12",
       "version_major": 2,
       "version_minor": 0
      },
      "text/plain": [
       "Validation: |          | 0/? [00:00<?, ?it/s]"
      ]
     },
     "metadata": {},
     "output_type": "display_data"
    },
    {
     "data": {
      "application/vnd.jupyter.widget-view+json": {
       "model_id": "b66839e42a0f4b13a56d16f709727f26",
       "version_major": 2,
       "version_minor": 0
      },
      "text/plain": [
       "Validation: |          | 0/? [00:00<?, ?it/s]"
      ]
     },
     "metadata": {},
     "output_type": "display_data"
    },
    {
     "data": {
      "application/vnd.jupyter.widget-view+json": {
       "model_id": "9c328f02114f4d2aadd9fb1847387db0",
       "version_major": 2,
       "version_minor": 0
      },
      "text/plain": [
       "Validation: |          | 0/? [00:00<?, ?it/s]"
      ]
     },
     "metadata": {},
     "output_type": "display_data"
    },
    {
     "data": {
      "application/vnd.jupyter.widget-view+json": {
       "model_id": "59a0b2ace54e4d929aa160f1488f6390",
       "version_major": 2,
       "version_minor": 0
      },
      "text/plain": [
       "Validation: |          | 0/? [00:00<?, ?it/s]"
      ]
     },
     "metadata": {},
     "output_type": "display_data"
    },
    {
     "data": {
      "application/vnd.jupyter.widget-view+json": {
       "model_id": "aa78cd7023384119a5cd12bde6e0e461",
       "version_major": 2,
       "version_minor": 0
      },
      "text/plain": [
       "Validation: |          | 0/? [00:00<?, ?it/s]"
      ]
     },
     "metadata": {},
     "output_type": "display_data"
    },
    {
     "data": {
      "application/vnd.jupyter.widget-view+json": {
       "model_id": "045d23227626416997f11370b4d9f026",
       "version_major": 2,
       "version_minor": 0
      },
      "text/plain": [
       "Validation: |          | 0/? [00:00<?, ?it/s]"
      ]
     },
     "metadata": {},
     "output_type": "display_data"
    },
    {
     "data": {
      "application/vnd.jupyter.widget-view+json": {
       "model_id": "d58886fc67ff4ff48c9162a649b71bb0",
       "version_major": 2,
       "version_minor": 0
      },
      "text/plain": [
       "Validation: |          | 0/? [00:00<?, ?it/s]"
      ]
     },
     "metadata": {},
     "output_type": "display_data"
    },
    {
     "data": {
      "application/vnd.jupyter.widget-view+json": {
       "model_id": "9774de999f2c421c89a3397911799ff6",
       "version_major": 2,
       "version_minor": 0
      },
      "text/plain": [
       "Validation: |          | 0/? [00:00<?, ?it/s]"
      ]
     },
     "metadata": {},
     "output_type": "display_data"
    },
    {
     "data": {
      "application/vnd.jupyter.widget-view+json": {
       "model_id": "78b48d7685224a05bc0d42bfa389639b",
       "version_major": 2,
       "version_minor": 0
      },
      "text/plain": [
       "Validation: |          | 0/? [00:00<?, ?it/s]"
      ]
     },
     "metadata": {},
     "output_type": "display_data"
    },
    {
     "data": {
      "application/vnd.jupyter.widget-view+json": {
       "model_id": "80f2192f23244d2da6c691595b84c766",
       "version_major": 2,
       "version_minor": 0
      },
      "text/plain": [
       "Validation: |          | 0/? [00:00<?, ?it/s]"
      ]
     },
     "metadata": {},
     "output_type": "display_data"
    },
    {
     "data": {
      "application/vnd.jupyter.widget-view+json": {
       "model_id": "35d329f1bdbb43c2b627473e15eb3705",
       "version_major": 2,
       "version_minor": 0
      },
      "text/plain": [
       "Validation: |          | 0/? [00:00<?, ?it/s]"
      ]
     },
     "metadata": {},
     "output_type": "display_data"
    },
    {
     "data": {
      "application/vnd.jupyter.widget-view+json": {
       "model_id": "48c3f2908f9a4e01afebd42b91c0468a",
       "version_major": 2,
       "version_minor": 0
      },
      "text/plain": [
       "Validation: |          | 0/? [00:00<?, ?it/s]"
      ]
     },
     "metadata": {},
     "output_type": "display_data"
    },
    {
     "data": {
      "application/vnd.jupyter.widget-view+json": {
       "model_id": "83f4c97d5d944133bb5c233be89d60db",
       "version_major": 2,
       "version_minor": 0
      },
      "text/plain": [
       "Validation: |          | 0/? [00:00<?, ?it/s]"
      ]
     },
     "metadata": {},
     "output_type": "display_data"
    },
    {
     "data": {
      "application/vnd.jupyter.widget-view+json": {
       "model_id": "dbcbf8cecde04422bb0115bdfcc8b320",
       "version_major": 2,
       "version_minor": 0
      },
      "text/plain": [
       "Validation: |          | 0/? [00:00<?, ?it/s]"
      ]
     },
     "metadata": {},
     "output_type": "display_data"
    },
    {
     "data": {
      "application/vnd.jupyter.widget-view+json": {
       "model_id": "1193f88d35d14447a7afed0a58efddaa",
       "version_major": 2,
       "version_minor": 0
      },
      "text/plain": [
       "Validation: |          | 0/? [00:00<?, ?it/s]"
      ]
     },
     "metadata": {},
     "output_type": "display_data"
    },
    {
     "data": {
      "application/vnd.jupyter.widget-view+json": {
       "model_id": "6c05c50c4ead4aaeaf98c3dc29e8a79c",
       "version_major": 2,
       "version_minor": 0
      },
      "text/plain": [
       "Validation: |          | 0/? [00:00<?, ?it/s]"
      ]
     },
     "metadata": {},
     "output_type": "display_data"
    },
    {
     "data": {
      "application/vnd.jupyter.widget-view+json": {
       "model_id": "dc3bbdb92dc840cd91f2eb1eaff6b5a6",
       "version_major": 2,
       "version_minor": 0
      },
      "text/plain": [
       "Validation: |          | 0/? [00:00<?, ?it/s]"
      ]
     },
     "metadata": {},
     "output_type": "display_data"
    },
    {
     "data": {
      "application/vnd.jupyter.widget-view+json": {
       "model_id": "a4d6a2d4cfca4341b7433f54e81190a8",
       "version_major": 2,
       "version_minor": 0
      },
      "text/plain": [
       "Validation: |          | 0/? [00:00<?, ?it/s]"
      ]
     },
     "metadata": {},
     "output_type": "display_data"
    },
    {
     "data": {
      "application/vnd.jupyter.widget-view+json": {
       "model_id": "bfe3ef45b9a84594b92779e8188bad10",
       "version_major": 2,
       "version_minor": 0
      },
      "text/plain": [
       "Validation: |          | 0/? [00:00<?, ?it/s]"
      ]
     },
     "metadata": {},
     "output_type": "display_data"
    },
    {
     "data": {
      "application/vnd.jupyter.widget-view+json": {
       "model_id": "2aa7de4514e142948fa08cc2fb3674ee",
       "version_major": 2,
       "version_minor": 0
      },
      "text/plain": [
       "Validation: |          | 0/? [00:00<?, ?it/s]"
      ]
     },
     "metadata": {},
     "output_type": "display_data"
    },
    {
     "data": {
      "application/vnd.jupyter.widget-view+json": {
       "model_id": "30a8e2ac228a43419f76c2cf19743db8",
       "version_major": 2,
       "version_minor": 0
      },
      "text/plain": [
       "Validation: |          | 0/? [00:00<?, ?it/s]"
      ]
     },
     "metadata": {},
     "output_type": "display_data"
    },
    {
     "data": {
      "application/vnd.jupyter.widget-view+json": {
       "model_id": "d72ef19a513548aa93d94f4a48cf65cf",
       "version_major": 2,
       "version_minor": 0
      },
      "text/plain": [
       "Validation: |          | 0/? [00:00<?, ?it/s]"
      ]
     },
     "metadata": {},
     "output_type": "display_data"
    },
    {
     "data": {
      "application/vnd.jupyter.widget-view+json": {
       "model_id": "2025f5241d2641b190c28b8a7689cbbb",
       "version_major": 2,
       "version_minor": 0
      },
      "text/plain": [
       "Validation: |          | 0/? [00:00<?, ?it/s]"
      ]
     },
     "metadata": {},
     "output_type": "display_data"
    },
    {
     "data": {
      "application/vnd.jupyter.widget-view+json": {
       "model_id": "bc667219fb2a4f8a80ffd564303bda88",
       "version_major": 2,
       "version_minor": 0
      },
      "text/plain": [
       "Validation: |          | 0/? [00:00<?, ?it/s]"
      ]
     },
     "metadata": {},
     "output_type": "display_data"
    },
    {
     "data": {
      "application/vnd.jupyter.widget-view+json": {
       "model_id": "4d550e5c3fe241ecb8337f62f6d08c00",
       "version_major": 2,
       "version_minor": 0
      },
      "text/plain": [
       "Validation: |          | 0/? [00:00<?, ?it/s]"
      ]
     },
     "metadata": {},
     "output_type": "display_data"
    },
    {
     "data": {
      "application/vnd.jupyter.widget-view+json": {
       "model_id": "2acf478f22204ebd8b445271c7c18b86",
       "version_major": 2,
       "version_minor": 0
      },
      "text/plain": [
       "Validation: |          | 0/? [00:00<?, ?it/s]"
      ]
     },
     "metadata": {},
     "output_type": "display_data"
    },
    {
     "data": {
      "application/vnd.jupyter.widget-view+json": {
       "model_id": "32d7f3349dcf40d8a60022ccc6735f75",
       "version_major": 2,
       "version_minor": 0
      },
      "text/plain": [
       "Validation: |          | 0/? [00:00<?, ?it/s]"
      ]
     },
     "metadata": {},
     "output_type": "display_data"
    },
    {
     "data": {
      "application/vnd.jupyter.widget-view+json": {
       "model_id": "afc48fbd4d9d4d4a9f8a7131e31d9a15",
       "version_major": 2,
       "version_minor": 0
      },
      "text/plain": [
       "Validation: |          | 0/? [00:00<?, ?it/s]"
      ]
     },
     "metadata": {},
     "output_type": "display_data"
    },
    {
     "data": {
      "application/vnd.jupyter.widget-view+json": {
       "model_id": "34e774a38c9d473ebd56a200bcc14c83",
       "version_major": 2,
       "version_minor": 0
      },
      "text/plain": [
       "Validation: |          | 0/? [00:00<?, ?it/s]"
      ]
     },
     "metadata": {},
     "output_type": "display_data"
    },
    {
     "data": {
      "application/vnd.jupyter.widget-view+json": {
       "model_id": "0125f421af244e8181d7e4a64883f340",
       "version_major": 2,
       "version_minor": 0
      },
      "text/plain": [
       "Validation: |          | 0/? [00:00<?, ?it/s]"
      ]
     },
     "metadata": {},
     "output_type": "display_data"
    },
    {
     "data": {
      "application/vnd.jupyter.widget-view+json": {
       "model_id": "45fbaef6064548db845a09d27b0cab7e",
       "version_major": 2,
       "version_minor": 0
      },
      "text/plain": [
       "Validation: |          | 0/? [00:00<?, ?it/s]"
      ]
     },
     "metadata": {},
     "output_type": "display_data"
    },
    {
     "data": {
      "application/vnd.jupyter.widget-view+json": {
       "model_id": "ea86ff17eaa64ee59f0f52f0d283c7dc",
       "version_major": 2,
       "version_minor": 0
      },
      "text/plain": [
       "Validation: |          | 0/? [00:00<?, ?it/s]"
      ]
     },
     "metadata": {},
     "output_type": "display_data"
    },
    {
     "data": {
      "application/vnd.jupyter.widget-view+json": {
       "model_id": "f07a2f8a404d4c4c82ea04664b450597",
       "version_major": 2,
       "version_minor": 0
      },
      "text/plain": [
       "Validation: |          | 0/? [00:00<?, ?it/s]"
      ]
     },
     "metadata": {},
     "output_type": "display_data"
    },
    {
     "data": {
      "application/vnd.jupyter.widget-view+json": {
       "model_id": "fed97146c5684463804dff2752f7a70f",
       "version_major": 2,
       "version_minor": 0
      },
      "text/plain": [
       "Validation: |          | 0/? [00:00<?, ?it/s]"
      ]
     },
     "metadata": {},
     "output_type": "display_data"
    },
    {
     "data": {
      "application/vnd.jupyter.widget-view+json": {
       "model_id": "8238d4f1b9ac4e3b85fbc2c03a1a1c6d",
       "version_major": 2,
       "version_minor": 0
      },
      "text/plain": [
       "Validation: |          | 0/? [00:00<?, ?it/s]"
      ]
     },
     "metadata": {},
     "output_type": "display_data"
    },
    {
     "data": {
      "application/vnd.jupyter.widget-view+json": {
       "model_id": "a2d5efc2fe114d369f34e3f452287bfd",
       "version_major": 2,
       "version_minor": 0
      },
      "text/plain": [
       "Validation: |          | 0/? [00:00<?, ?it/s]"
      ]
     },
     "metadata": {},
     "output_type": "display_data"
    },
    {
     "data": {
      "application/vnd.jupyter.widget-view+json": {
       "model_id": "a825cb941b1849839c627065a12518b6",
       "version_major": 2,
       "version_minor": 0
      },
      "text/plain": [
       "Validation: |          | 0/? [00:00<?, ?it/s]"
      ]
     },
     "metadata": {},
     "output_type": "display_data"
    },
    {
     "data": {
      "application/vnd.jupyter.widget-view+json": {
       "model_id": "40ec42e0bcbf4697aa5222fbce4f6a3b",
       "version_major": 2,
       "version_minor": 0
      },
      "text/plain": [
       "Validation: |          | 0/? [00:00<?, ?it/s]"
      ]
     },
     "metadata": {},
     "output_type": "display_data"
    },
    {
     "data": {
      "application/vnd.jupyter.widget-view+json": {
       "model_id": "e8829f25745c4d74ba1d34954710008c",
       "version_major": 2,
       "version_minor": 0
      },
      "text/plain": [
       "Validation: |          | 0/? [00:00<?, ?it/s]"
      ]
     },
     "metadata": {},
     "output_type": "display_data"
    },
    {
     "data": {
      "application/vnd.jupyter.widget-view+json": {
       "model_id": "c1e6aea17d7f4dd489c143d77b26bf10",
       "version_major": 2,
       "version_minor": 0
      },
      "text/plain": [
       "Validation: |          | 0/? [00:00<?, ?it/s]"
      ]
     },
     "metadata": {},
     "output_type": "display_data"
    },
    {
     "data": {
      "application/vnd.jupyter.widget-view+json": {
       "model_id": "e4c61ebfe5b745f5a29ae6c800f8abfb",
       "version_major": 2,
       "version_minor": 0
      },
      "text/plain": [
       "Validation: |          | 0/? [00:00<?, ?it/s]"
      ]
     },
     "metadata": {},
     "output_type": "display_data"
    },
    {
     "data": {
      "application/vnd.jupyter.widget-view+json": {
       "model_id": "228890836e064033a8f72d82c61697ab",
       "version_major": 2,
       "version_minor": 0
      },
      "text/plain": [
       "Validation: |          | 0/? [00:00<?, ?it/s]"
      ]
     },
     "metadata": {},
     "output_type": "display_data"
    },
    {
     "data": {
      "application/vnd.jupyter.widget-view+json": {
       "model_id": "30af23a0fc9342f4adde014a401d2e8c",
       "version_major": 2,
       "version_minor": 0
      },
      "text/plain": [
       "Validation: |          | 0/? [00:00<?, ?it/s]"
      ]
     },
     "metadata": {},
     "output_type": "display_data"
    },
    {
     "data": {
      "application/vnd.jupyter.widget-view+json": {
       "model_id": "05e4395e7b4446eca42b03b520933090",
       "version_major": 2,
       "version_minor": 0
      },
      "text/plain": [
       "Validation: |          | 0/? [00:00<?, ?it/s]"
      ]
     },
     "metadata": {},
     "output_type": "display_data"
    },
    {
     "data": {
      "application/vnd.jupyter.widget-view+json": {
       "model_id": "2008073705ac43b2a4e7c84bfd09214f",
       "version_major": 2,
       "version_minor": 0
      },
      "text/plain": [
       "Validation: |          | 0/? [00:00<?, ?it/s]"
      ]
     },
     "metadata": {},
     "output_type": "display_data"
    },
    {
     "data": {
      "application/vnd.jupyter.widget-view+json": {
       "model_id": "a2e3550f167b460cbf7da3d7c99812d7",
       "version_major": 2,
       "version_minor": 0
      },
      "text/plain": [
       "Validation: |          | 0/? [00:00<?, ?it/s]"
      ]
     },
     "metadata": {},
     "output_type": "display_data"
    },
    {
     "data": {
      "application/vnd.jupyter.widget-view+json": {
       "model_id": "9e3fa86b2dc447dd9d3fddf215bbfbd6",
       "version_major": 2,
       "version_minor": 0
      },
      "text/plain": [
       "Validation: |          | 0/? [00:00<?, ?it/s]"
      ]
     },
     "metadata": {},
     "output_type": "display_data"
    },
    {
     "data": {
      "application/vnd.jupyter.widget-view+json": {
       "model_id": "bd8044165c4a4055bf42a4732a952c33",
       "version_major": 2,
       "version_minor": 0
      },
      "text/plain": [
       "Validation: |          | 0/? [00:00<?, ?it/s]"
      ]
     },
     "metadata": {},
     "output_type": "display_data"
    },
    {
     "data": {
      "application/vnd.jupyter.widget-view+json": {
       "model_id": "b765fddcff19433ab1f169d7926c0417",
       "version_major": 2,
       "version_minor": 0
      },
      "text/plain": [
       "Validation: |          | 0/? [00:00<?, ?it/s]"
      ]
     },
     "metadata": {},
     "output_type": "display_data"
    },
    {
     "data": {
      "application/vnd.jupyter.widget-view+json": {
       "model_id": "08cdda0dd38647ec8ec0dbc2c0ee1aca",
       "version_major": 2,
       "version_minor": 0
      },
      "text/plain": [
       "Validation: |          | 0/? [00:00<?, ?it/s]"
      ]
     },
     "metadata": {},
     "output_type": "display_data"
    },
    {
     "data": {
      "text/html": [
       "<pre style=\"white-space:pre;overflow-x:auto;line-height:normal;font-family:Menlo,'DejaVu Sans Mono',consolas,'Courier New',monospace\"><span style=\"color: #008080; text-decoration-color: #008080; font-weight: bold\">2025</span>-<span style=\"color: #008080; text-decoration-color: #008080; font-weight: bold\">02</span>-<span style=\"color: #008080; text-decoration-color: #008080; font-weight: bold\">28</span> <span style=\"color: #00ff00; text-decoration-color: #00ff00; font-weight: bold\">15:48:05</span>,<span style=\"color: #008080; text-decoration-color: #008080; font-weight: bold\">737</span> - <span style=\"font-weight: bold\">{</span>pytorch_tabular.tabular_model:<span style=\"color: #008080; text-decoration-color: #008080; font-weight: bold\">689</span><span style=\"font-weight: bold\">}</span> - INFO - Training the model completed                \n",
       "</pre>\n"
      ],
      "text/plain": [
       "\u001b[1;36m2025\u001b[0m-\u001b[1;36m02\u001b[0m-\u001b[1;36m28\u001b[0m \u001b[1;92m15:48:05\u001b[0m,\u001b[1;36m737\u001b[0m - \u001b[1m{\u001b[0mpytorch_tabular.tabular_model:\u001b[1;36m689\u001b[0m\u001b[1m}\u001b[0m - INFO - Training the model completed                \n"
      ]
     },
     "metadata": {},
     "output_type": "display_data"
    },
    {
     "data": {
      "text/html": [
       "<pre style=\"white-space:pre;overflow-x:auto;line-height:normal;font-family:Menlo,'DejaVu Sans Mono',consolas,'Courier New',monospace\"><span style=\"color: #008080; text-decoration-color: #008080; font-weight: bold\">2025</span>-<span style=\"color: #008080; text-decoration-color: #008080; font-weight: bold\">02</span>-<span style=\"color: #008080; text-decoration-color: #008080; font-weight: bold\">28</span> <span style=\"color: #00ff00; text-decoration-color: #00ff00; font-weight: bold\">15:48:05</span>,<span style=\"color: #008080; text-decoration-color: #008080; font-weight: bold\">739</span> - <span style=\"font-weight: bold\">{</span>pytorch_tabular.tabular_model:<span style=\"color: #008080; text-decoration-color: #008080; font-weight: bold\">1539</span><span style=\"font-weight: bold\">}</span> - WARNING - No best model available to load.        \n",
       "Checkpoint Callback needs to be enabled for this to work                                                           \n",
       "</pre>\n"
      ],
      "text/plain": [
       "\u001b[1;36m2025\u001b[0m-\u001b[1;36m02\u001b[0m-\u001b[1;36m28\u001b[0m \u001b[1;92m15:48:05\u001b[0m,\u001b[1;36m739\u001b[0m - \u001b[1m{\u001b[0mpytorch_tabular.tabular_model:\u001b[1;36m1539\u001b[0m\u001b[1m}\u001b[0m - WARNING - No best model available to load.        \n",
       "Checkpoint Callback needs to be enabled for this to work                                                           \n"
      ]
     },
     "metadata": {},
     "output_type": "display_data"
    },
    {
     "name": "stdout",
     "output_type": "stream",
     "text": [
      "2025-02-28 15:48:10,196 - INFO - CommonStructure.py - NodeTrainer - Validation metrics: {'accuracy': 0.9565217391304348, 'roc_auc': 0.9883720930232558}\n",
      "100%|██████████| 3/3 [04:44<00:00, 94.88s/trial, best loss: -0.9892665474060823]\n",
      "2025-02-28 15:48:15,147 - INFO - CommonStructure.py - NodeTrainer - All trial results saved to hyperopt_results_node_binary_classification.csv\n",
      "2025-02-28 15:48:15,147 - INFO - CommonStructure.py - NodeTrainer - Final validation metrics: {'accuracy': 0.9565217391304348, 'roc_auc': 0.9892665474060823}\n",
      "2025-02-28 15:48:15,147 - INFO - CommonStructure.py - NodeTrainer - Loading model\n",
      "2025-02-28 15:48:15,148 - DEBUG - CommonStructure.py - NodeTrainer - Model loaded successfully\n",
      "2025-02-28 15:48:15,148 - INFO - CommonStructure.py - NodeTrainer - Best hyperparameters: {'additional_tree_output_dim': 2, 'batch_norm_continuous_input': True, 'batch_size': 672, 'bin_function': 'entmoid15', 'choice_function': 'entmax15', 'depth': 5, 'embedding_dropout': 0.09786911514643691, 'initialize_response': 'uniform', 'initialize_selection_logits': 'uniform', 'input_dropout': 0.049720043026671615, 'num_layers': 1, 'num_trees': 736, 'optimizer_fn': {'Adam_learning_rate': 0.08733426295564779, 'Adam_weight_decay': 7.398686997098305e-08, 'optimizer_fn': <class 'torch.optim.adam.Adam'>}, 'scheduler_fn': {'ExponentialLR_gamma': 0.9538112720949052, 'scheduler_fn': <class 'torch.optim.lr_scheduler.ExponentialLR'>}, 'threshold_init_beta': 0.6323230473569342, 'threshold_init_cutoff': 0.5835881239147931, 'default_params': {'early_stopping_rounds': 10, 'verbose': False, 'iterations': 20, 'retrain': False, 'auto_lr_find': False, 'max_epochs': 1000, 'val_size': 0.15, 'early_stopping_patience': 5}}\n",
      "2025-02-28 15:48:15,149 - INFO - CommonStructure.py - NodeTrainer - The best possible score for metric roc_auc is 1.0, we reached roc_auc = 0.9892665474060823\n",
      "2025-02-28 15:48:15,150 - INFO - CommonStructure.py - NodeTrainer - Computing predictions\n",
      "2025-02-28 15:48:15,901 - DEBUG - CommonStructure.py - NodeTrainer - [0 1 0 0 0 1 1 0 0 0]\n",
      "2025-02-28 15:48:15,902 - DEBUG - CommonStructure.py - NodeTrainer - Computed predictions successfully\n",
      "Running xgb on binary_classification_2...\n",
      "Using dynamic loader for dataset: /home/boom/Desktop/repos/AutoDeep/autodeep/examples/testautodata/adult.csv\n"
     ]
    },
    {
     "ename": "TypeError",
     "evalue": "numpy boolean subtract, the `-` operator, is not supported, use the bitwise_xor, the `^` operator, or the logical_xor function instead.",
     "output_type": "error",
     "traceback": [
      "\u001b[0;31m---------------------------------------------------------------------------\u001b[0m",
      "\u001b[0;31mTypeError\u001b[0m                                 Traceback (most recent call last)",
      "\u001b[0;32m/tmp/ipykernel_5938/1009911379.py\u001b[0m in \u001b[0;36m?\u001b[0;34m()\u001b[0m\n\u001b[1;32m    125\u001b[0m     \u001b[0mmax_evals\u001b[0m \u001b[0;34m=\u001b[0m \u001b[0;36m3\u001b[0m\u001b[0;34m,\u001b[0m\u001b[0;34m\u001b[0m\u001b[0;34m\u001b[0m\u001b[0m\n\u001b[1;32m    126\u001b[0m )\n\u001b[1;32m    127\u001b[0m \u001b[0;34m\u001b[0m\u001b[0m\n\u001b[1;32m    128\u001b[0m \u001b[0;31m# Run the AutoML process\u001b[0m\u001b[0;34m\u001b[0m\u001b[0;34m\u001b[0m\u001b[0m\n\u001b[0;32m--> 129\u001b[0;31m \u001b[0mrunner\u001b[0m\u001b[0;34m.\u001b[0m\u001b[0mrun\u001b[0m\u001b[0;34m(\u001b[0m\u001b[0;34m)\u001b[0m\u001b[0;34m\u001b[0m\u001b[0;34m\u001b[0m\u001b[0m\n\u001b[0m",
      "\u001b[0;32m~/Desktop/repos/AutoDeep/autodeep/automl.py\u001b[0m in \u001b[0;36m?\u001b[0;34m(self)\u001b[0m\n\u001b[1;32m    124\u001b[0m                     \u001b[0mrun_igtd\u001b[0m\u001b[0;34m=\u001b[0m\u001b[0mrun_igtd\u001b[0m\u001b[0;34m,\u001b[0m\u001b[0;34m\u001b[0m\u001b[0;34m\u001b[0m\u001b[0m\n\u001b[1;32m    125\u001b[0m                     \u001b[0migtd_configs\u001b[0m\u001b[0;34m=\u001b[0m\u001b[0migtd_configs\u001b[0m\u001b[0;34m,\u001b[0m\u001b[0;34m\u001b[0m\u001b[0;34m\u001b[0m\u001b[0m\n\u001b[1;32m    126\u001b[0m                     \u001b[0migtd_result_base_dir\u001b[0m\u001b[0;34m=\u001b[0m\u001b[0mself\u001b[0m\u001b[0;34m.\u001b[0m\u001b[0migtd_path\u001b[0m\u001b[0;34m,\u001b[0m\u001b[0;34m\u001b[0m\u001b[0;34m\u001b[0m\u001b[0m\n\u001b[1;32m    127\u001b[0m                 )\n\u001b[0;32m--> 128\u001b[0;31m                 \u001b[0mX_train\u001b[0m\u001b[0;34m,\u001b[0m \u001b[0mX_test\u001b[0m\u001b[0;34m,\u001b[0m \u001b[0my_train\u001b[0m\u001b[0;34m,\u001b[0m \u001b[0my_test\u001b[0m\u001b[0;34m,\u001b[0m \u001b[0mextra_info\u001b[0m \u001b[0;34m=\u001b[0m \u001b[0mdata_loader\u001b[0m\u001b[0;34m.\u001b[0m\u001b[0mload_data\u001b[0m\u001b[0;34m(\u001b[0m\u001b[0;34m)\u001b[0m\u001b[0;34m\u001b[0m\u001b[0;34m\u001b[0m\u001b[0m\n\u001b[0m\u001b[1;32m    129\u001b[0m \u001b[0;34m\u001b[0m\u001b[0m\n\u001b[1;32m    130\u001b[0m                 model = create_model(\n\u001b[1;32m    131\u001b[0m                     \u001b[0mmodel_name\u001b[0m\u001b[0;34m=\u001b[0m\u001b[0mmodel_name\u001b[0m\u001b[0;34m,\u001b[0m\u001b[0;34m\u001b[0m\u001b[0;34m\u001b[0m\u001b[0m\n",
      "\u001b[0;32m~/Desktop/repos/AutoDeep/autodeep/dataloaders/dataloader.py\u001b[0m in \u001b[0;36m?\u001b[0;34m(self)\u001b[0m\n\u001b[1;32m    451\u001b[0m \u001b[0;34m\u001b[0m\u001b[0m\n\u001b[1;32m    452\u001b[0m         \u001b[0;31m# Use ExtraInfoCreator to obtain extra info (including IGTD ordering if run)\u001b[0m\u001b[0;34m\u001b[0m\u001b[0;34m\u001b[0m\u001b[0m\n\u001b[1;32m    453\u001b[0m         \u001b[0mextra_info\u001b[0m \u001b[0;34m=\u001b[0m \u001b[0;32mNone\u001b[0m\u001b[0;34m\u001b[0m\u001b[0;34m\u001b[0m\u001b[0m\n\u001b[1;32m    454\u001b[0m         \u001b[0;32mif\u001b[0m \u001b[0mself\u001b[0m\u001b[0;34m.\u001b[0m\u001b[0mreturn_extra_info\u001b[0m\u001b[0;34m:\u001b[0m\u001b[0;34m\u001b[0m\u001b[0;34m\u001b[0m\u001b[0m\n\u001b[0;32m--> 455\u001b[0;31m             extra_info = self.extra_info_creator.create_extra_info(\n\u001b[0m\u001b[1;32m    456\u001b[0m                 \u001b[0mX_train\u001b[0m\u001b[0;34m,\u001b[0m \u001b[0mself\u001b[0m\u001b[0;34m.\u001b[0m\u001b[0mdataset_name\u001b[0m\u001b[0;34m\u001b[0m\u001b[0;34m\u001b[0m\u001b[0m\n\u001b[1;32m    457\u001b[0m             )\n\u001b[1;32m    458\u001b[0m \u001b[0;34m\u001b[0m\u001b[0m\n",
      "\u001b[0;32m~/Desktop/repos/AutoDeep/autodeep/dataloaders/dataloader.py\u001b[0m in \u001b[0;36m?\u001b[0;34m(self, df, dataset_name)\u001b[0m\n\u001b[1;32m    188\u001b[0m         \u001b[0;31m# Aggregate Statistics for Numerical Features (Ensuring Fixed Shape)\u001b[0m\u001b[0;34m\u001b[0m\u001b[0;34m\u001b[0m\u001b[0m\n\u001b[1;32m    189\u001b[0m         \u001b[0;32mif\u001b[0m \u001b[0mnum_features\u001b[0m \u001b[0;34m>\u001b[0m \u001b[0;36m0\u001b[0m\u001b[0;34m:\u001b[0m\u001b[0;34m\u001b[0m\u001b[0;34m\u001b[0m\u001b[0m\n\u001b[1;32m    190\u001b[0m             \u001b[0mextra_info\u001b[0m\u001b[0;34m[\u001b[0m\u001b[0;34m\"num_col_mean\"\u001b[0m\u001b[0;34m]\u001b[0m \u001b[0;34m=\u001b[0m \u001b[0mdf\u001b[0m\u001b[0;34m[\u001b[0m\u001b[0mnum_cols\u001b[0m\u001b[0;34m]\u001b[0m\u001b[0;34m.\u001b[0m\u001b[0mmean\u001b[0m\u001b[0;34m(\u001b[0m\u001b[0;34m)\u001b[0m\u001b[0;34m.\u001b[0m\u001b[0mmean\u001b[0m\u001b[0;34m(\u001b[0m\u001b[0;34m)\u001b[0m  \u001b[0;31m# Mean of means\u001b[0m\u001b[0;34m\u001b[0m\u001b[0;34m\u001b[0m\u001b[0m\n\u001b[1;32m    191\u001b[0m             \u001b[0mextra_info\u001b[0m\u001b[0;34m[\u001b[0m\u001b[0;34m\"num_col_std\"\u001b[0m\u001b[0;34m]\u001b[0m \u001b[0;34m=\u001b[0m \u001b[0mdf\u001b[0m\u001b[0;34m[\u001b[0m\u001b[0mnum_cols\u001b[0m\u001b[0;34m]\u001b[0m\u001b[0;34m.\u001b[0m\u001b[0mstd\u001b[0m\u001b[0;34m(\u001b[0m\u001b[0;34m)\u001b[0m\u001b[0;34m.\u001b[0m\u001b[0mmean\u001b[0m\u001b[0;34m(\u001b[0m\u001b[0;34m)\u001b[0m  \u001b[0;31m# Mean of stds\u001b[0m\u001b[0;34m\u001b[0m\u001b[0;34m\u001b[0m\u001b[0m\n\u001b[0;32m--> 192\u001b[0;31m             \u001b[0mextra_info\u001b[0m\u001b[0;34m[\u001b[0m\u001b[0;34m\"num_col_skew\"\u001b[0m\u001b[0;34m]\u001b[0m \u001b[0;34m=\u001b[0m \u001b[0mdf\u001b[0m\u001b[0;34m[\u001b[0m\u001b[0mnum_cols\u001b[0m\u001b[0;34m]\u001b[0m\u001b[0;34m.\u001b[0m\u001b[0mapply\u001b[0m\u001b[0;34m(\u001b[0m\u001b[0mskew\u001b[0m\u001b[0;34m,\u001b[0m \u001b[0mnan_policy\u001b[0m\u001b[0;34m=\u001b[0m\u001b[0;34m'omit'\u001b[0m\u001b[0;34m)\u001b[0m\u001b[0;34m.\u001b[0m\u001b[0mmean\u001b[0m\u001b[0;34m(\u001b[0m\u001b[0;34m)\u001b[0m  \u001b[0;31m# Mean skewness\u001b[0m\u001b[0;34m\u001b[0m\u001b[0;34m\u001b[0m\u001b[0m\n\u001b[0m\u001b[1;32m    193\u001b[0m             \u001b[0mextra_info\u001b[0m\u001b[0;34m[\u001b[0m\u001b[0;34m\"num_col_kurtosis\"\u001b[0m\u001b[0;34m]\u001b[0m \u001b[0;34m=\u001b[0m \u001b[0mdf\u001b[0m\u001b[0;34m[\u001b[0m\u001b[0mnum_cols\u001b[0m\u001b[0;34m]\u001b[0m\u001b[0;34m.\u001b[0m\u001b[0mapply\u001b[0m\u001b[0;34m(\u001b[0m\u001b[0mkurtosis\u001b[0m\u001b[0;34m,\u001b[0m \u001b[0mnan_policy\u001b[0m\u001b[0;34m=\u001b[0m\u001b[0;34m'omit'\u001b[0m\u001b[0;34m)\u001b[0m\u001b[0;34m.\u001b[0m\u001b[0mmean\u001b[0m\u001b[0;34m(\u001b[0m\u001b[0;34m)\u001b[0m  \u001b[0;31m# Mean kurtosis\u001b[0m\u001b[0;34m\u001b[0m\u001b[0;34m\u001b[0m\u001b[0m\n\u001b[1;32m    194\u001b[0m \u001b[0;34m\u001b[0m\u001b[0m\n\u001b[1;32m    195\u001b[0m         \u001b[0;31m# IGTD Processing (Unchanged from your original code)\u001b[0m\u001b[0;34m\u001b[0m\u001b[0;34m\u001b[0m\u001b[0m\n",
      "\u001b[0;32m~/.pyenv/versions/thesis/lib/python3.11/site-packages/pandas/core/frame.py\u001b[0m in \u001b[0;36m?\u001b[0;34m(self, func, axis, raw, result_type, args, by_row, engine, engine_kwargs, **kwargs)\u001b[0m\n\u001b[1;32m  10370\u001b[0m             \u001b[0mengine_kwargs\u001b[0m\u001b[0;34m=\u001b[0m\u001b[0mengine_kwargs\u001b[0m\u001b[0;34m,\u001b[0m\u001b[0;34m\u001b[0m\u001b[0;34m\u001b[0m\u001b[0m\n\u001b[1;32m  10371\u001b[0m             \u001b[0margs\u001b[0m\u001b[0;34m=\u001b[0m\u001b[0margs\u001b[0m\u001b[0;34m,\u001b[0m\u001b[0;34m\u001b[0m\u001b[0;34m\u001b[0m\u001b[0m\n\u001b[1;32m  10372\u001b[0m             \u001b[0mkwargs\u001b[0m\u001b[0;34m=\u001b[0m\u001b[0mkwargs\u001b[0m\u001b[0;34m,\u001b[0m\u001b[0;34m\u001b[0m\u001b[0;34m\u001b[0m\u001b[0m\n\u001b[1;32m  10373\u001b[0m         )\n\u001b[0;32m> 10374\u001b[0;31m         \u001b[0;32mreturn\u001b[0m \u001b[0mop\u001b[0m\u001b[0;34m.\u001b[0m\u001b[0mapply\u001b[0m\u001b[0;34m(\u001b[0m\u001b[0;34m)\u001b[0m\u001b[0;34m.\u001b[0m\u001b[0m__finalize__\u001b[0m\u001b[0;34m(\u001b[0m\u001b[0mself\u001b[0m\u001b[0;34m,\u001b[0m \u001b[0mmethod\u001b[0m\u001b[0;34m=\u001b[0m\u001b[0;34m\"apply\"\u001b[0m\u001b[0;34m)\u001b[0m\u001b[0;34m\u001b[0m\u001b[0;34m\u001b[0m\u001b[0m\n\u001b[0m",
      "\u001b[0;32m~/.pyenv/versions/thesis/lib/python3.11/site-packages/pandas/core/apply.py\u001b[0m in \u001b[0;36m?\u001b[0;34m(self)\u001b[0m\n\u001b[1;32m    912\u001b[0m         \u001b[0;31m# raw\u001b[0m\u001b[0;34m\u001b[0m\u001b[0;34m\u001b[0m\u001b[0m\n\u001b[1;32m    913\u001b[0m         \u001b[0;32melif\u001b[0m \u001b[0mself\u001b[0m\u001b[0;34m.\u001b[0m\u001b[0mraw\u001b[0m\u001b[0;34m:\u001b[0m\u001b[0;34m\u001b[0m\u001b[0;34m\u001b[0m\u001b[0m\n\u001b[1;32m    914\u001b[0m             \u001b[0;32mreturn\u001b[0m \u001b[0mself\u001b[0m\u001b[0;34m.\u001b[0m\u001b[0mapply_raw\u001b[0m\u001b[0;34m(\u001b[0m\u001b[0mengine\u001b[0m\u001b[0;34m=\u001b[0m\u001b[0mself\u001b[0m\u001b[0;34m.\u001b[0m\u001b[0mengine\u001b[0m\u001b[0;34m,\u001b[0m \u001b[0mengine_kwargs\u001b[0m\u001b[0;34m=\u001b[0m\u001b[0mself\u001b[0m\u001b[0;34m.\u001b[0m\u001b[0mengine_kwargs\u001b[0m\u001b[0;34m)\u001b[0m\u001b[0;34m\u001b[0m\u001b[0;34m\u001b[0m\u001b[0m\n\u001b[1;32m    915\u001b[0m \u001b[0;34m\u001b[0m\u001b[0m\n\u001b[0;32m--> 916\u001b[0;31m         \u001b[0;32mreturn\u001b[0m \u001b[0mself\u001b[0m\u001b[0;34m.\u001b[0m\u001b[0mapply_standard\u001b[0m\u001b[0;34m(\u001b[0m\u001b[0;34m)\u001b[0m\u001b[0;34m\u001b[0m\u001b[0;34m\u001b[0m\u001b[0m\n\u001b[0m",
      "\u001b[0;32m~/.pyenv/versions/thesis/lib/python3.11/site-packages/pandas/core/apply.py\u001b[0m in \u001b[0;36m?\u001b[0;34m(self)\u001b[0m\n\u001b[1;32m   1061\u001b[0m     \u001b[0;32mdef\u001b[0m \u001b[0mapply_standard\u001b[0m\u001b[0;34m(\u001b[0m\u001b[0mself\u001b[0m\u001b[0;34m)\u001b[0m\u001b[0;34m:\u001b[0m\u001b[0;34m\u001b[0m\u001b[0;34m\u001b[0m\u001b[0m\n\u001b[1;32m   1062\u001b[0m         \u001b[0;32mif\u001b[0m \u001b[0mself\u001b[0m\u001b[0;34m.\u001b[0m\u001b[0mengine\u001b[0m \u001b[0;34m==\u001b[0m \u001b[0;34m\"python\"\u001b[0m\u001b[0;34m:\u001b[0m\u001b[0;34m\u001b[0m\u001b[0;34m\u001b[0m\u001b[0m\n\u001b[0;32m-> 1063\u001b[0;31m             \u001b[0mresults\u001b[0m\u001b[0;34m,\u001b[0m \u001b[0mres_index\u001b[0m \u001b[0;34m=\u001b[0m \u001b[0mself\u001b[0m\u001b[0;34m.\u001b[0m\u001b[0mapply_series_generator\u001b[0m\u001b[0;34m(\u001b[0m\u001b[0;34m)\u001b[0m\u001b[0;34m\u001b[0m\u001b[0;34m\u001b[0m\u001b[0m\n\u001b[0m\u001b[1;32m   1064\u001b[0m         \u001b[0;32melse\u001b[0m\u001b[0;34m:\u001b[0m\u001b[0;34m\u001b[0m\u001b[0;34m\u001b[0m\u001b[0m\n\u001b[1;32m   1065\u001b[0m             \u001b[0mresults\u001b[0m\u001b[0;34m,\u001b[0m \u001b[0mres_index\u001b[0m \u001b[0;34m=\u001b[0m \u001b[0mself\u001b[0m\u001b[0;34m.\u001b[0m\u001b[0mapply_series_numba\u001b[0m\u001b[0;34m(\u001b[0m\u001b[0;34m)\u001b[0m\u001b[0;34m\u001b[0m\u001b[0;34m\u001b[0m\u001b[0m\n\u001b[1;32m   1066\u001b[0m \u001b[0;34m\u001b[0m\u001b[0m\n",
      "\u001b[0;32m~/.pyenv/versions/thesis/lib/python3.11/site-packages/pandas/core/apply.py\u001b[0m in \u001b[0;36m?\u001b[0;34m(self)\u001b[0m\n\u001b[1;32m   1077\u001b[0m \u001b[0;34m\u001b[0m\u001b[0m\n\u001b[1;32m   1078\u001b[0m         \u001b[0;32mwith\u001b[0m \u001b[0moption_context\u001b[0m\u001b[0;34m(\u001b[0m\u001b[0;34m\"mode.chained_assignment\"\u001b[0m\u001b[0;34m,\u001b[0m \u001b[0;32mNone\u001b[0m\u001b[0;34m)\u001b[0m\u001b[0;34m:\u001b[0m\u001b[0;34m\u001b[0m\u001b[0;34m\u001b[0m\u001b[0m\n\u001b[1;32m   1079\u001b[0m             \u001b[0;32mfor\u001b[0m \u001b[0mi\u001b[0m\u001b[0;34m,\u001b[0m \u001b[0mv\u001b[0m \u001b[0;32min\u001b[0m \u001b[0menumerate\u001b[0m\u001b[0;34m(\u001b[0m\u001b[0mseries_gen\u001b[0m\u001b[0;34m)\u001b[0m\u001b[0;34m:\u001b[0m\u001b[0;34m\u001b[0m\u001b[0;34m\u001b[0m\u001b[0m\n\u001b[1;32m   1080\u001b[0m                 \u001b[0;31m# ignore SettingWithCopy here in case the user mutates\u001b[0m\u001b[0;34m\u001b[0m\u001b[0;34m\u001b[0m\u001b[0m\n\u001b[0;32m-> 1081\u001b[0;31m                 \u001b[0mresults\u001b[0m\u001b[0;34m[\u001b[0m\u001b[0mi\u001b[0m\u001b[0;34m]\u001b[0m \u001b[0;34m=\u001b[0m \u001b[0mself\u001b[0m\u001b[0;34m.\u001b[0m\u001b[0mfunc\u001b[0m\u001b[0;34m(\u001b[0m\u001b[0mv\u001b[0m\u001b[0;34m,\u001b[0m \u001b[0;34m*\u001b[0m\u001b[0mself\u001b[0m\u001b[0;34m.\u001b[0m\u001b[0margs\u001b[0m\u001b[0;34m,\u001b[0m \u001b[0;34m**\u001b[0m\u001b[0mself\u001b[0m\u001b[0;34m.\u001b[0m\u001b[0mkwargs\u001b[0m\u001b[0;34m)\u001b[0m\u001b[0;34m\u001b[0m\u001b[0;34m\u001b[0m\u001b[0m\n\u001b[0m\u001b[1;32m   1082\u001b[0m                 \u001b[0;32mif\u001b[0m \u001b[0misinstance\u001b[0m\u001b[0;34m(\u001b[0m\u001b[0mresults\u001b[0m\u001b[0;34m[\u001b[0m\u001b[0mi\u001b[0m\u001b[0;34m]\u001b[0m\u001b[0;34m,\u001b[0m \u001b[0mABCSeries\u001b[0m\u001b[0;34m)\u001b[0m\u001b[0;34m:\u001b[0m\u001b[0;34m\u001b[0m\u001b[0;34m\u001b[0m\u001b[0m\n\u001b[1;32m   1083\u001b[0m                     \u001b[0;31m# If we have a view on v, we need to make a copy because\u001b[0m\u001b[0;34m\u001b[0m\u001b[0;34m\u001b[0m\u001b[0m\n\u001b[1;32m   1084\u001b[0m                     \u001b[0;31m#  series_generator will swap out the underlying data\u001b[0m\u001b[0;34m\u001b[0m\u001b[0;34m\u001b[0m\u001b[0m\n",
      "\u001b[0;32m~/.pyenv/versions/thesis/lib/python3.11/site-packages/scipy/stats/_axis_nan_policy.py\u001b[0m in \u001b[0;36m?\u001b[0;34m(***failed resolving arguments***)\u001b[0m\n\u001b[1;32m    582\u001b[0m                     \u001b[0mres\u001b[0m \u001b[0;34m=\u001b[0m \u001b[0mnp\u001b[0m\u001b[0;34m.\u001b[0m\u001b[0mfull\u001b[0m\u001b[0;34m(\u001b[0m\u001b[0mn_out\u001b[0m\u001b[0;34m,\u001b[0m \u001b[0mNaN\u001b[0m\u001b[0;34m)\u001b[0m\u001b[0;34m\u001b[0m\u001b[0;34m\u001b[0m\u001b[0m\n\u001b[1;32m    583\u001b[0m                     \u001b[0mres\u001b[0m \u001b[0;34m=\u001b[0m \u001b[0m_add_reduced_axes\u001b[0m\u001b[0;34m(\u001b[0m\u001b[0mres\u001b[0m\u001b[0;34m,\u001b[0m \u001b[0mreduced_axes\u001b[0m\u001b[0;34m,\u001b[0m \u001b[0mkeepdims\u001b[0m\u001b[0;34m)\u001b[0m\u001b[0;34m\u001b[0m\u001b[0;34m\u001b[0m\u001b[0m\n\u001b[1;32m    584\u001b[0m                     \u001b[0;32mreturn\u001b[0m \u001b[0mtuple_to_result\u001b[0m\u001b[0;34m(\u001b[0m\u001b[0;34m*\u001b[0m\u001b[0mres\u001b[0m\u001b[0;34m)\u001b[0m\u001b[0;34m\u001b[0m\u001b[0;34m\u001b[0m\u001b[0m\n\u001b[1;32m    585\u001b[0m \u001b[0;34m\u001b[0m\u001b[0m\n\u001b[0;32m--> 586\u001b[0;31m                 \u001b[0mres\u001b[0m \u001b[0;34m=\u001b[0m \u001b[0mhypotest_fun_out\u001b[0m\u001b[0;34m(\u001b[0m\u001b[0;34m*\u001b[0m\u001b[0msamples\u001b[0m\u001b[0;34m,\u001b[0m \u001b[0;34m**\u001b[0m\u001b[0mkwds\u001b[0m\u001b[0;34m)\u001b[0m\u001b[0;34m\u001b[0m\u001b[0;34m\u001b[0m\u001b[0m\n\u001b[0m\u001b[1;32m    587\u001b[0m                 \u001b[0mres\u001b[0m \u001b[0;34m=\u001b[0m \u001b[0mresult_to_tuple\u001b[0m\u001b[0;34m(\u001b[0m\u001b[0mres\u001b[0m\u001b[0;34m,\u001b[0m \u001b[0mn_out\u001b[0m\u001b[0;34m)\u001b[0m\u001b[0;34m\u001b[0m\u001b[0;34m\u001b[0m\u001b[0m\n\u001b[1;32m    588\u001b[0m                 \u001b[0mres\u001b[0m \u001b[0;34m=\u001b[0m \u001b[0m_add_reduced_axes\u001b[0m\u001b[0;34m(\u001b[0m\u001b[0mres\u001b[0m\u001b[0;34m,\u001b[0m \u001b[0mreduced_axes\u001b[0m\u001b[0;34m,\u001b[0m \u001b[0mkeepdims\u001b[0m\u001b[0;34m)\u001b[0m\u001b[0;34m\u001b[0m\u001b[0;34m\u001b[0m\u001b[0m\n\u001b[1;32m    589\u001b[0m                 \u001b[0;32mreturn\u001b[0m \u001b[0mtuple_to_result\u001b[0m\u001b[0;34m(\u001b[0m\u001b[0;34m*\u001b[0m\u001b[0mres\u001b[0m\u001b[0;34m)\u001b[0m\u001b[0;34m\u001b[0m\u001b[0;34m\u001b[0m\u001b[0m\n",
      "\u001b[0;32m~/.pyenv/versions/thesis/lib/python3.11/site-packages/scipy/stats/_stats_py.py\u001b[0m in \u001b[0;36m?\u001b[0;34m(a, axis, bias, nan_policy)\u001b[0m\n\u001b[1;32m   1298\u001b[0m     \u001b[0mn\u001b[0m \u001b[0;34m=\u001b[0m \u001b[0ma\u001b[0m\u001b[0;34m.\u001b[0m\u001b[0mshape\u001b[0m\u001b[0;34m[\u001b[0m\u001b[0maxis\u001b[0m\u001b[0;34m]\u001b[0m\u001b[0;34m\u001b[0m\u001b[0;34m\u001b[0m\u001b[0m\n\u001b[1;32m   1299\u001b[0m \u001b[0;34m\u001b[0m\u001b[0m\n\u001b[1;32m   1300\u001b[0m     \u001b[0mmean\u001b[0m \u001b[0;34m=\u001b[0m \u001b[0mxp\u001b[0m\u001b[0;34m.\u001b[0m\u001b[0mmean\u001b[0m\u001b[0;34m(\u001b[0m\u001b[0ma\u001b[0m\u001b[0;34m,\u001b[0m \u001b[0maxis\u001b[0m\u001b[0;34m=\u001b[0m\u001b[0maxis\u001b[0m\u001b[0;34m,\u001b[0m \u001b[0mkeepdims\u001b[0m\u001b[0;34m=\u001b[0m\u001b[0;32mTrue\u001b[0m\u001b[0;34m)\u001b[0m\u001b[0;34m\u001b[0m\u001b[0;34m\u001b[0m\u001b[0m\n\u001b[1;32m   1301\u001b[0m     \u001b[0mmean_reduced\u001b[0m \u001b[0;34m=\u001b[0m \u001b[0mxp\u001b[0m\u001b[0;34m.\u001b[0m\u001b[0msqueeze\u001b[0m\u001b[0;34m(\u001b[0m\u001b[0mmean\u001b[0m\u001b[0;34m,\u001b[0m \u001b[0maxis\u001b[0m\u001b[0;34m=\u001b[0m\u001b[0maxis\u001b[0m\u001b[0;34m)\u001b[0m  \u001b[0;31m# needed later\u001b[0m\u001b[0;34m\u001b[0m\u001b[0;34m\u001b[0m\u001b[0m\n\u001b[0;32m-> 1302\u001b[0;31m     \u001b[0mm2\u001b[0m \u001b[0;34m=\u001b[0m \u001b[0m_moment\u001b[0m\u001b[0;34m(\u001b[0m\u001b[0ma\u001b[0m\u001b[0;34m,\u001b[0m \u001b[0;36m2\u001b[0m\u001b[0;34m,\u001b[0m \u001b[0maxis\u001b[0m\u001b[0;34m,\u001b[0m \u001b[0mmean\u001b[0m\u001b[0;34m=\u001b[0m\u001b[0mmean\u001b[0m\u001b[0;34m,\u001b[0m \u001b[0mxp\u001b[0m\u001b[0;34m=\u001b[0m\u001b[0mxp\u001b[0m\u001b[0;34m)\u001b[0m\u001b[0;34m\u001b[0m\u001b[0;34m\u001b[0m\u001b[0m\n\u001b[0m\u001b[1;32m   1303\u001b[0m     \u001b[0mm3\u001b[0m \u001b[0;34m=\u001b[0m \u001b[0m_moment\u001b[0m\u001b[0;34m(\u001b[0m\u001b[0ma\u001b[0m\u001b[0;34m,\u001b[0m \u001b[0;36m3\u001b[0m\u001b[0;34m,\u001b[0m \u001b[0maxis\u001b[0m\u001b[0;34m,\u001b[0m \u001b[0mmean\u001b[0m\u001b[0;34m=\u001b[0m\u001b[0mmean\u001b[0m\u001b[0;34m,\u001b[0m \u001b[0mxp\u001b[0m\u001b[0;34m=\u001b[0m\u001b[0mxp\u001b[0m\u001b[0;34m)\u001b[0m\u001b[0;34m\u001b[0m\u001b[0;34m\u001b[0m\u001b[0m\n\u001b[1;32m   1304\u001b[0m     \u001b[0;32mwith\u001b[0m \u001b[0mnp\u001b[0m\u001b[0;34m.\u001b[0m\u001b[0merrstate\u001b[0m\u001b[0;34m(\u001b[0m\u001b[0mall\u001b[0m\u001b[0;34m=\u001b[0m\u001b[0;34m'ignore'\u001b[0m\u001b[0;34m)\u001b[0m\u001b[0;34m:\u001b[0m\u001b[0;34m\u001b[0m\u001b[0;34m\u001b[0m\u001b[0m\n\u001b[1;32m   1305\u001b[0m         \u001b[0meps\u001b[0m \u001b[0;34m=\u001b[0m \u001b[0mxp\u001b[0m\u001b[0;34m.\u001b[0m\u001b[0mfinfo\u001b[0m\u001b[0;34m(\u001b[0m\u001b[0mm2\u001b[0m\u001b[0;34m.\u001b[0m\u001b[0mdtype\u001b[0m\u001b[0;34m)\u001b[0m\u001b[0;34m.\u001b[0m\u001b[0meps\u001b[0m\u001b[0;34m\u001b[0m\u001b[0;34m\u001b[0m\u001b[0m\n",
      "\u001b[0;32m~/.pyenv/versions/thesis/lib/python3.11/site-packages/scipy/stats/_stats_py.py\u001b[0m in \u001b[0;36m?\u001b[0;34m(a, order, axis, mean, xp)\u001b[0m\n\u001b[1;32m   1188\u001b[0m     \u001b[0;31m# Starting point for exponentiation by squares\u001b[0m\u001b[0;34m\u001b[0m\u001b[0;34m\u001b[0m\u001b[0m\n\u001b[1;32m   1189\u001b[0m     mean = (xp.mean(a, axis=axis, keepdims=True) if mean is None\n\u001b[1;32m   1190\u001b[0m             else xp.asarray(mean, dtype=dtype))\n\u001b[1;32m   1191\u001b[0m     \u001b[0mmean\u001b[0m \u001b[0;34m=\u001b[0m \u001b[0mmean\u001b[0m\u001b[0;34m[\u001b[0m\u001b[0;34m(\u001b[0m\u001b[0;34m)\u001b[0m\u001b[0;34m]\u001b[0m \u001b[0;32mif\u001b[0m \u001b[0mmean\u001b[0m\u001b[0;34m.\u001b[0m\u001b[0mndim\u001b[0m \u001b[0;34m==\u001b[0m \u001b[0;36m0\u001b[0m \u001b[0;32melse\u001b[0m \u001b[0mmean\u001b[0m\u001b[0;34m\u001b[0m\u001b[0;34m\u001b[0m\u001b[0m\n\u001b[0;32m-> 1192\u001b[0;31m     \u001b[0ma_zero_mean\u001b[0m \u001b[0;34m=\u001b[0m \u001b[0m_demean\u001b[0m\u001b[0;34m(\u001b[0m\u001b[0ma\u001b[0m\u001b[0;34m,\u001b[0m \u001b[0mmean\u001b[0m\u001b[0;34m,\u001b[0m \u001b[0maxis\u001b[0m\u001b[0;34m,\u001b[0m \u001b[0mxp\u001b[0m\u001b[0;34m=\u001b[0m\u001b[0mxp\u001b[0m\u001b[0;34m)\u001b[0m\u001b[0;34m\u001b[0m\u001b[0;34m\u001b[0m\u001b[0m\n\u001b[0m\u001b[1;32m   1193\u001b[0m \u001b[0;34m\u001b[0m\u001b[0m\n\u001b[1;32m   1194\u001b[0m     \u001b[0;32mif\u001b[0m \u001b[0mn_list\u001b[0m\u001b[0;34m[\u001b[0m\u001b[0;34m-\u001b[0m\u001b[0;36m1\u001b[0m\u001b[0;34m]\u001b[0m \u001b[0;34m==\u001b[0m \u001b[0;36m1\u001b[0m\u001b[0;34m:\u001b[0m\u001b[0;34m\u001b[0m\u001b[0;34m\u001b[0m\u001b[0m\n\u001b[1;32m   1195\u001b[0m         \u001b[0ms\u001b[0m \u001b[0;34m=\u001b[0m \u001b[0mxp\u001b[0m\u001b[0;34m.\u001b[0m\u001b[0masarray\u001b[0m\u001b[0;34m(\u001b[0m\u001b[0ma_zero_mean\u001b[0m\u001b[0;34m,\u001b[0m \u001b[0mcopy\u001b[0m\u001b[0;34m=\u001b[0m\u001b[0;32mTrue\u001b[0m\u001b[0;34m)\u001b[0m\u001b[0;34m\u001b[0m\u001b[0;34m\u001b[0m\u001b[0m\n",
      "\u001b[0;32m~/.pyenv/versions/thesis/lib/python3.11/site-packages/scipy/stats/_stats_py.py\u001b[0m in \u001b[0;36m?\u001b[0;34m(a, mean, axis, xp, precision_warning)\u001b[0m\n\u001b[1;32m   1122\u001b[0m     \u001b[0;31m# subtracts `mean` from `a` and returns the result,\u001b[0m\u001b[0;34m\u001b[0m\u001b[0;34m\u001b[0m\u001b[0m\n\u001b[1;32m   1123\u001b[0m     \u001b[0;31m# warning if there is catastrophic cancellation. `mean`\u001b[0m\u001b[0;34m\u001b[0m\u001b[0;34m\u001b[0m\u001b[0m\n\u001b[1;32m   1124\u001b[0m     \u001b[0;31m# must be the mean of `a` along axis with `keepdims=True`.\u001b[0m\u001b[0;34m\u001b[0m\u001b[0;34m\u001b[0m\u001b[0m\n\u001b[1;32m   1125\u001b[0m     \u001b[0;31m# Used in e.g. `_moment`, `_zscore`, `_xp_var`. See gh-15905.\u001b[0m\u001b[0;34m\u001b[0m\u001b[0;34m\u001b[0m\u001b[0m\n\u001b[0;32m-> 1126\u001b[0;31m     \u001b[0ma_zero_mean\u001b[0m \u001b[0;34m=\u001b[0m \u001b[0ma\u001b[0m \u001b[0;34m-\u001b[0m \u001b[0mmean\u001b[0m\u001b[0;34m\u001b[0m\u001b[0;34m\u001b[0m\u001b[0m\n\u001b[0m\u001b[1;32m   1127\u001b[0m \u001b[0;34m\u001b[0m\u001b[0m\n\u001b[1;32m   1128\u001b[0m     \u001b[0;32mif\u001b[0m \u001b[0mxp_size\u001b[0m\u001b[0;34m(\u001b[0m\u001b[0ma_zero_mean\u001b[0m\u001b[0;34m)\u001b[0m \u001b[0;34m==\u001b[0m \u001b[0;36m0\u001b[0m\u001b[0;34m:\u001b[0m\u001b[0;34m\u001b[0m\u001b[0;34m\u001b[0m\u001b[0m\n\u001b[1;32m   1129\u001b[0m         \u001b[0;32mreturn\u001b[0m \u001b[0ma_zero_mean\u001b[0m\u001b[0;34m\u001b[0m\u001b[0;34m\u001b[0m\u001b[0m\n",
      "\u001b[0;31mTypeError\u001b[0m: numpy boolean subtract, the `-` operator, is not supported, use the bitwise_xor, the `^` operator, or the logical_xor function instead."
     ]
    }
   ],
   "source": [
    "# Define paths to configuration files and data\n",
    "DATA_FOLDER = Path(\"/home/boom/Desktop/repos/AutoDeep/autodeep/examples/testautodata\")\n",
    "OUTPUT_FOLDER = Path(\"/home/boom/Desktop/repos/AutoDeep/autodeep/examples/output\")\n",
    "\n",
    "DEFAULT_MODELS = [     \n",
    "    \"FTTransformer\",\n",
    "    \"TabTransformer\",\n",
    "    \"GANDALF\",\n",
    "    \"AutoInt\",\n",
    "    \"Node\",\n",
    "    \"GATE\",\n",
    "    \"CategoryEmbedding\",\n",
    "]  \n",
    "\n",
    "DEFAULT_MODELS = [\n",
    "    \"XGB\",  # Extreme Gradient Boosting\n",
    "    \"CatBoost\",\n",
    "    \"MLP\",  # Multi,Layer Perceptron\n",
    "    \"CategoryEmbedding\",\n",
    "    \"TabNet\",  # TabNet Classifier\n",
    "    \"GATE\",\n",
    "    \"resnet\",\n",
    "    # \"S1DCNN\",\n",
    "    \"FTTransformer\",\n",
    "    \"TabTransformer\",\n",
    "    \"GANDALF\",\n",
    "    \"AutoInt\",\n",
    "    \"Node\",\n",
    "]  # Ensure all model names are lowercase\n",
    "\n",
    "\n",
    "\n",
    "DATA_CONFIG = {\n",
    "    \"regression_3\": {\n",
    "        \"dataset_path\": DATA_FOLDER / \"cal_housing.csv\",\n",
    "        \"target_col\": \"target\",\n",
    "        \"problem_type\": \"regression\",\n",
    "        \"test_size\": 0.2,\n",
    "        \"num_targets\": 1,\n",
    "        \"metric\": \"rmse\",\n",
    "        \"eval_metrics\": [\"mse\", \"rmse\", \"r2_score\"],\n",
    "    },\n",
    "    \"multiclass_3\": {\n",
    "        \"dataset_path\": DATA_FOLDER / \"iris.csv\",\n",
    "        \"target_col\": \"target\",\n",
    "        \"problem_type\": \"multiclass_classification\",\n",
    "        \"test_size\": 0.2,\n",
    "        \"num_targets\": 3,\n",
    "        \"metric\": \"accuracy\",\n",
    "        \"eval_metrics\": [\"accuracy\"],\n",
    "    },\n",
    "    \"binary_classification_6\": {\n",
    "        \"dataset_path\": DATA_FOLDER / \"breastcancer.csv\",\n",
    "        \"target_col\": \"target\",\n",
    "        \"problem_type\": \"binary_classification\",\n",
    "        \"test_size\": 0.2,\n",
    "        \"num_targets\": 1,\n",
    "        \"metric\": \"roc_auc\",\n",
    "        \"eval_metrics\": [\"accuracy\", \"f1_score\", \"roc_auc\"],\n",
    "    },\n",
    "    \"binary_classification_2\": {\n",
    "        \"dataset_path\": DATA_FOLDER / \"adult.csv\",\n",
    "        \"target_col\": \"target\",\n",
    "        \"problem_type\": \"binary_classification\",\n",
    "        \"test_size\": 0.2,\n",
    "        \"num_targets\": 1,\n",
    "        \"metric\": \"roc_auc\",\n",
    "        \"eval_metrics\": [\"accuracy\", \"f1_score\", \"roc_auc\"],\n",
    "    },\n",
    "    \"binary_classification_3\": {\n",
    "        \"dataset_path\": DATA_FOLDER / \"titanic.csv\",\n",
    "        \"target_col\": \"target\",\n",
    "        \"problem_type\": \"binary_classification\",\n",
    "        \"test_size\": 0.2,\n",
    "        \"num_targets\": 1,\n",
    "        \"metric\": \"roc_auc\",\n",
    "        \"eval_metrics\": [\"accuracy\", \"f1_score\", \"roc_auc\"],\n",
    "    },\n",
    "    \"multiclass_2\": {\n",
    "        \"dataset_path\": DATA_FOLDER / \"covertype.csv\",\n",
    "        \"target_col\": \"target\",\n",
    "        \"problem_type\": \"multiclass_classification\",\n",
    "        \"test_size\": 0.2,\n",
    "        \"num_targets\": 7,\n",
    "        \"metric\": \"accuracy\",\n",
    "        \"eval_metrics\": [\"accuracy\", \"f1_score\"],\n",
    "    },\n",
    "    \"binary_classification_4\": {\n",
    "        \"dataset_path\": DATA_FOLDER / \"creditcard.csv\",\n",
    "        \"target_col\": \"target\",\n",
    "        \"problem_type\": \"binary_classification\",\n",
    "        \"test_size\": 0.2,\n",
    "        \"num_targets\": 1,\n",
    "        \"metric\": \"roc_auc\",\n",
    "        \"eval_metrics\": [\"accuracy\", \"f1_score\", \"roc_auc\"],\n",
    "    },\n",
    "    \"binary_classification_5\": {\n",
    "        \"dataset_path\": DATA_FOLDER / \"heloc.csv\",\n",
    "        \"target_col\": \"target\",\n",
    "        \"problem_type\": \"binary_classification\",\n",
    "        \"test_size\": 0.2,\n",
    "        \"num_targets\": 1,\n",
    "        \"metric\": \"roc_auc\",\n",
    "        \"eval_metrics\": [\"accuracy\", \"f1_score\", \"roc_auc\"],\n",
    "    },\n",
    "    \"binary_classification_7\": {\n",
    "        \"dataset_path\": DATA_FOLDER / \"diabetes.csv\",\n",
    "        \"target_col\": \"target\",\n",
    "        \"problem_type\": \"binary_classication\",\n",
    "        \"test_size\": 0.2,\n",
    "        \"num_targets\": 1,\n",
    "        \"metric\": \"roc_auc\",\n",
    "        \"eval_metrics\":  [\"accuracy\", \"f1_score\", \"roc_auc\"],\n",
    "    },\n",
    "}\n",
    "\n",
    "\n",
    "# Initialize AutoRunner instance with the configuration\n",
    "runner = AutoRunner(\n",
    "    data_config=DATA_CONFIG,\n",
    "    output_folder=OUTPUT_FOLDER,\n",
    "    default_models=DEFAULT_MODELS,\n",
    "    random_state=42,\n",
    "    execution_mode=\"hyperopt\",  # Adjust if needed\n",
    "    max_evals = 3,\n",
    ")\n",
    "\n",
    "# Run the AutoML process\n",
    "runner.run()"
   ]
  },
  {
   "cell_type": "code",
   "execution_count": null,
   "metadata": {},
   "outputs": [],
   "source": [
    "# Define paths to configuration files and data\n",
    "DATA_FOLDER = Path(\"/home/boom/Desktop/repos/AutoDeep/autodeep/examples/testautodata\")\n",
    "OUTPUT_FOLDER = Path(\"/home/boom/Desktop/repos/AutoDeep/autodeep/examples/output\")\n",
    "\n",
    "DEFAULT_MODELS = [     \n",
    "    \"FTTransformer\",\n",
    "    \"TabTransformer\",\n",
    "    \"GANDALF\",\n",
    "    \"AutoInt\",\n",
    "    \"Node\",\n",
    "    \"GATE\",\n",
    "    \"CategoryEmbedding\",\n",
    "]  \n",
    "\n",
    "DEFAULT_MODELS = [\n",
    "    \"XGB\",  # Extreme Gradient Boosting\n",
    "    \"CatBoost\",\n",
    "    \"MLP\",  # Multi,Layer Perceptron\n",
    "    \"CategoryEmbedding\",\n",
    "    \"TabNet\",  # TabNet Classifier\n",
    "    \"GATE\",\n",
    "    \"resnet\",\n",
    "    # \"S1DCNN\",\n",
    "    \"FTTransformer\",\n",
    "    \"TabTransformer\",\n",
    "    \"GANDALF\",\n",
    "    \"AutoInt\",\n",
    "    \"Node\",\n",
    "]  # Ensure all model names are lowercase\n",
    "\n",
    "\n",
    "\n",
    "DATA_CONFIG = {\n",
    "    \"regression_3\": {\n",
    "        \"dataset_path\": DATA_FOLDER / \"cal_housing.csv\",\n",
    "        \"target_col\": \"target\",\n",
    "        \"problem_type\": \"regression\",\n",
    "        \"test_size\": 0.2,\n",
    "        \"num_targets\": 1,\n",
    "        \"metric\": \"rmse\",\n",
    "        \"eval_metrics\": [\"mse\", \"rmse\", \"r2_score\"],\n",
    "    },\n",
    "    \"multiclass_3\": {\n",
    "        \"dataset_path\": DATA_FOLDER / \"iris.csv\",\n",
    "        \"target_col\": \"target\",\n",
    "        \"problem_type\": \"multiclass_classification\",\n",
    "        \"test_size\": 0.2,\n",
    "        \"num_targets\": 3,\n",
    "        \"metric\": \"accuracy\",\n",
    "        \"eval_metrics\": [\"accuracy\"],\n",
    "    },\n",
    "    \"binary_classification_6\": {\n",
    "        \"dataset_path\": DATA_FOLDER / \"breastcancer.csv\",\n",
    "        \"target_col\": \"target\",\n",
    "        \"problem_type\": \"binary_classification\",\n",
    "        \"test_size\": 0.2,\n",
    "        \"num_targets\": 1,\n",
    "        \"metric\": \"roc_auc\",\n",
    "        \"eval_metrics\": [\"accuracy\", \"f1_score\", \"roc_auc\"],\n",
    "    },\n",
    "    \"binary_classification_2\": {\n",
    "        \"dataset_path\": DATA_FOLDER / \"adult.csv\",\n",
    "        \"target_col\": \"target\",\n",
    "        \"problem_type\": \"binary_classification\",\n",
    "        \"test_size\": 0.2,\n",
    "        \"num_targets\": 1,\n",
    "        \"metric\": \"roc_auc\",\n",
    "        \"eval_metrics\": [\"accuracy\", \"f1_score\", \"roc_auc\"],\n",
    "    },\n",
    "    \"binary_classification_3\": {\n",
    "        \"dataset_path\": DATA_FOLDER / \"titanic.csv\",\n",
    "        \"target_col\": \"target\",\n",
    "        \"problem_type\": \"binary_classification\",\n",
    "        \"test_size\": 0.2,\n",
    "        \"num_targets\": 1,\n",
    "        \"metric\": \"roc_auc\",\n",
    "        \"eval_metrics\": [\"accuracy\", \"f1_score\", \"roc_auc\"],\n",
    "    },\n",
    "    \"multiclass_2\": {\n",
    "        \"dataset_path\": DATA_FOLDER / \"covertype.csv\",\n",
    "        \"target_col\": \"target\",\n",
    "        \"problem_type\": \"multiclass_classification\",\n",
    "        \"test_size\": 0.2,\n",
    "        \"num_targets\": 7,\n",
    "        \"metric\": \"accuracy\",\n",
    "        \"eval_metrics\": [\"accuracy\", \"f1_score\"],\n",
    "    },\n",
    "    \"binary_classification_4\": {\n",
    "        \"dataset_path\": DATA_FOLDER / \"creditcard.csv\",\n",
    "        \"target_col\": \"target\",\n",
    "        \"problem_type\": \"binary_classification\",\n",
    "        \"test_size\": 0.2,\n",
    "        \"num_targets\": 1,\n",
    "        \"metric\": \"roc_auc\",\n",
    "        \"eval_metrics\": [\"accuracy\", \"f1_score\", \"roc_auc\"],\n",
    "    },\n",
    "    \"binary_classification_5\": {\n",
    "        \"dataset_path\": DATA_FOLDER / \"heloc.csv\",\n",
    "        \"target_col\": \"target\",\n",
    "        \"problem_type\": \"binary_classification\",\n",
    "        \"test_size\": 0.2,\n",
    "        \"num_targets\": 1,\n",
    "        \"metric\": \"roc_auc\",\n",
    "        \"eval_metrics\": [\"accuracy\", \"f1_score\", \"roc_auc\"],\n",
    "    },\n",
    "    \"binary_classification_7\": {\n",
    "        \"dataset_path\": DATA_FOLDER / \"diabetes.csv\",\n",
    "        \"target_col\": \"target\",\n",
    "        \"problem_type\": \"binary_classication\",\n",
    "        \"test_size\": 0.2,\n",
    "        \"num_targets\": 1,\n",
    "        \"metric\": \"roc_auc\",\n",
    "        \"eval_metrics\":  [\"accuracy\", \"f1_score\", \"roc_auc\"],\n",
    "    },\n",
    "}\n",
    "\n",
    "\n",
    "# Initialize AutoRunner instance with the configuration\n",
    "runner = AutoRunner(\n",
    "    data_config=DATA_CONFIG,\n",
    "    output_folder=OUTPUT_FOLDER,\n",
    "    default_models=DEFAULT_MODELS,\n",
    "    random_state=42,\n",
    "    execution_mode=\"hyperopt\",  # Adjust if needed\n",
    "    max_evals = 60,\n",
    ")\n",
    "\n",
    "# Run the AutoML process\n",
    "runner.run()"
   ]
  },
  {
   "cell_type": "code",
   "execution_count": null,
   "metadata": {},
   "outputs": [],
   "source": [
    "119%64"
   ]
  },
  {
   "cell_type": "code",
   "execution_count": null,
   "metadata": {},
   "outputs": [],
   "source": [
    "119%128"
   ]
  },
  {
   "cell_type": "code",
   "execution_count": null,
   "metadata": {},
   "outputs": [],
   "source": [
    "import os\n",
    "import sys\n",
    "\n",
    "\n",
    "\n",
    "sys"
   ]
  },
  {
   "cell_type": "code",
   "execution_count": null,
   "metadata": {},
   "outputs": [],
   "source": [
    "import inspect\n",
    "from pytorch_tabular.models import GatedAdditiveTreeEnsembleConfig\n",
    "\n",
    "help(GatedAdditiveTreeEnsembleConfig)"
   ]
  },
  {
   "cell_type": "code",
   "execution_count": null,
   "metadata": {},
   "outputs": [],
   "source": [
    "from pytorch_tabular.config import OptimizerConfig, TrainerConfig"
   ]
  },
  {
   "cell_type": "code",
   "execution_count": null,
   "metadata": {},
   "outputs": [],
   "source": [
    "help(TrainerConfig)"
   ]
  },
  {
   "cell_type": "code",
   "execution_count": null,
   "metadata": {},
   "outputs": [],
   "source": [
    "\n",
    "df = pd.read_csv(r\"output/experiments.csv\")\n",
    "\n",
    "# Function to sanitize Python class references\n",
    "def sanitize_string(s):\n",
    "    if not isinstance(s, str):\n",
    "        return s\n",
    "    # Replace <class 'module.name'> with just 'module.name'\n",
    "    return re.sub(r\"<class '([\\w\\.]+)'>\", r\"'\\1'\", s)\n",
    "# Function to safely parse dictionary-like strings\n",
    "def parse_dict_column(col, suffix):\n",
    "    parsed_dicts = df[col].apply(lambda x: ast.literal_eval(sanitize_string(x)) if isinstance(x, str) else {})\n",
    "    renamed_dicts = parsed_dicts.apply(lambda d: {f\"{k}_{suffix}\": v for k, v in d.items()})\n",
    "    return pd.json_normalize(renamed_dicts)\n",
    "\n",
    "# Parse and rename metrics columns\n",
    "train_metrics = parse_dict_column(\"train_metrics\", \"train\")\n",
    "validation_metrics = parse_dict_column(\"validation_metrics\", \"val\")\n",
    "test_metrics = parse_dict_column(\"test_metrics\", \"test\")\n",
    "\n",
    "# Combine everything into one DataFrame\n",
    "full_dataset = pd.concat([df[[\"run_id\", \"dataset\", \"model\", \"best_score\"]], train_metrics, validation_metrics, test_metrics], axis=1)"
   ]
  },
  {
   "cell_type": "code",
   "execution_count": null,
   "metadata": {},
   "outputs": [],
   "source": [
    "ok_params = [{'batch_norm_continuous_input': True, 'batch_size': 832, 'embedding_dropout': 0.030423851444886553, 'gamma': 1.196788344836559, 'mask_type': 'sparsemax', 'n_a': 56, 'n_d': 15, 'n_independent': 1, 'n_shared': 1, 'n_steps': 4, 'optimizer_fn': {'SGD_learning_rate': 0.053332044990065525, 'SGD_momentum': 0.9851634335985551, 'SGD_weight_decay': 5.3453713798712174e-08, }, 'scheduler_fn': {'ExponentialLR_gamma': 0.9558041082441185, }, 'virtual_batch_size': 87},\n",
    "{'batch_norm_continuous_input': True, 'batch_size': 672, 'embedding_dropout': 0.06509617520576794, 'gamma': 1.2089404247138367, 'mask_type': 'sparsemax', 'n_a': 51, 'n_d': 22, 'n_independent': 2, 'n_shared': 2, 'n_steps': 3, 'optimizer_fn': {'Adam_learning_rate': 0.07398947128398595, 'Adam_weight_decay': 5.979030232767242e-08, }, 'scheduler_fn': {'ReduceLROnPlateau_factor': 0.10065587591924441, 'ReduceLROnPlateau_patience': 7, }, 'virtual_batch_size': 46},\n",
    "{'batch_norm_continuous_input': False, 'batch_size': 928, 'embedding_dropout': 0.10971790292456406, 'gamma': 1.2794062357963745, 'mask_type': 'entmax', 'n_a': 42, 'n_d': 60, 'n_independent': 3, 'n_shared': 3, 'n_steps': 6, 'optimizer_fn': {'SGD_learning_rate': 0.01706448484176477, 'SGD_momentum': 0.9400658400288299, 'SGD_weight_decay': 5.8503136589228095e-08, }, 'scheduler_fn': {'ExponentialLR_gamma': 0.9549128603670476, }, 'virtual_batch_size': 34},\n",
    "{'batch_norm_continuous_input': False, 'batch_size': 704, 'embedding_dropout': 0.17443160402811428, 'gamma': 1.277020780675834, 'mask_type': 'sparsemax', 'n_a': 48, 'n_d': 44, 'n_independent': 2, 'n_shared': 2, 'n_steps': 5, 'optimizer_fn': {'Adam_learning_rate': 0.0753016030439377, 'Adam_weight_decay': 7.940687451094736e-08, }, 'scheduler_fn': {'ReduceLROnPlateau_factor': 0.20007024505730048, 'ReduceLROnPlateau_patience': 13, }, 'virtual_batch_size': 44},\n",
    "{'batch_norm_continuous_input': True, 'batch_size': 480, 'embedding_dropout': 0.15565116438223445, 'gamma': 1.3060746259692961, 'mask_type': 'sparsemax', 'n_a': 29, 'n_d': 30, 'n_independent': 3, 'n_shared': 2, 'n_steps': 4, 'optimizer_fn': {'AdamW_learning_rate': 0.007304558645917253, 'AdamW_weight_decay': 7.931632367933946e-08, }, 'scheduler_fn': {'ReduceLROnPlateau_factor': 0.47937093833817634, 'ReduceLROnPlateau_patience': 14, }, 'virtual_batch_size': 45},\n",
    "{'batch_norm_continuous_input': True, 'batch_size': 224, 'embedding_dropout': 0.08229555321007541, 'gamma': 1.1419523495678239, 'mask_type': 'sparsemax', 'n_a': 47, 'n_d': 51, 'n_independent': 1, 'n_shared': 3, 'n_steps': 5, 'optimizer_fn': {'AdamW_learning_rate': 0.027576092667253266, 'AdamW_weight_decay': 9.702107445319236e-08, }, 'scheduler_fn': {'ReduceLROnPlateau_factor': 0.3431798179607186, 'ReduceLROnPlateau_patience': 8, }, 'virtual_batch_size': 125},\n",
    "{'batch_norm_continuous_input': False, 'batch_size': 736, 'embedding_dropout': 0.01786173393154351, 'gamma': 1.135807845856333, 'mask_type': 'entmax', 'n_a': 52, 'n_d': 46, 'n_independent': 2, 'n_shared': 2, 'n_steps': 4, 'optimizer_fn': {'AdamW_learning_rate': 0.06046879765802443, 'AdamW_weight_decay': 7.156863524239522e-08, }, 'scheduler_fn': {'ExponentialLR_gamma': 0.9302533957006677, }, 'virtual_batch_size': 46},\n",
    "{'batch_norm_continuous_input': True, 'batch_size': 736, 'embedding_dropout': 0.04915125047478162, 'gamma': 1.283154459919421, 'mask_type': 'entmax', 'n_a': 22, 'n_d': 16, 'n_independent': 2, 'n_shared': 3, 'n_steps': 4, 'optimizer_fn': {'SGD_learning_rate': 0.034405525383351884, 'SGD_momentum': 0.970770262548702, 'SGD_weight_decay': 8.77303093147771e-08, }, 'scheduler_fn': {'ExponentialLR_gamma': 0.9506935674230942, }, 'virtual_batch_size': 103},\n",
    "{'batch_norm_continuous_input': False, 'batch_size': 192, 'embedding_dropout': 0.026026761214698116, 'gamma': 1.2990431800155968, 'mask_type': 'entmax', 'n_a': 46, 'n_d': 25, 'n_independent': 2, 'n_shared': 2, 'n_steps': 4, 'optimizer_fn': {'SGD_learning_rate': 0.0351379977663217, 'SGD_momentum': 0.9466283373921492, 'SGD_weight_decay': 2.937361406673231e-08, }, 'scheduler_fn': {'StepLR_gamma': 0.14301845407596653, 'StepLR_step_size': 23, }, 'virtual_batch_size': 119},\n",
    "{'batch_norm_continuous_input': True, 'batch_size': 800, 'embedding_dropout': 0.05635471229326808, 'gamma': 1.1234997686607822, 'mask_type': 'sparsemax', 'n_a': 29, 'n_d': 37, 'n_independent': 3, 'n_shared': 3, 'n_steps': 4, 'optimizer_fn': {'SGD_learning_rate': 0.08630485255915236, 'SGD_momentum': 0.9088507099536465, 'SGD_weight_decay': 8.476359765459006e-08, }, 'scheduler_fn': {'ExponentialLR_gamma': 0.946726000071055, }, 'virtual_batch_size': 88},\n",
    "{'batch_norm_continuous_input': False, 'batch_size': 576, 'embedding_dropout': 0.05465431698511969, 'gamma': 1.327920133160017, 'mask_type': 'sparsemax', 'n_a': 44, 'n_d': 15, 'n_independent': 2, 'n_shared': 2, 'n_steps': 4, 'optimizer_fn': {'Adam_learning_rate': 0.06590313511036489, 'Adam_weight_decay': 8.226736262803946e-08, }, 'scheduler_fn': {'ReduceLROnPlateau_factor': 0.3356183201770594, 'ReduceLROnPlateau_patience': 5, }, 'virtual_batch_size': 96},\n",
    "{'batch_norm_continuous_input': True, 'batch_size': 256, 'embedding_dropout': 0.09566311648545284, 'gamma': 1.114875518749232, 'mask_type': 'sparsemax', 'n_a': 28, 'n_d': 13, 'n_independent': 2, 'n_shared': 2, 'n_steps': 3, 'optimizer_fn': {'SGD_learning_rate': 0.02967180193074303, 'SGD_momentum': 0.9850561382262792, 'SGD_weight_decay': 5.058674347299941e-09, }, 'scheduler_fn': {'StepLR_gamma': 0.4143890040298589, 'StepLR_step_size': 23, }, 'virtual_batch_size': 113},\n",
    "{'batch_norm_continuous_input': True, 'batch_size': 992, 'embedding_dropout': 0.06261356402875311, 'gamma': 1.1123305733212194, 'mask_type': 'sparsemax', 'n_a': 19, 'n_d': 10, 'n_independent': 2, 'n_shared': 2, 'n_steps': 6, 'optimizer_fn': {'Adam_learning_rate': 0.08342838959985305, 'Adam_weight_decay': 6.807523749764756e-08, }, 'scheduler_fn': {'ReduceLROnPlateau_factor': 0.34450354957677654, 'ReduceLROnPlateau_patience': 6, }, 'virtual_batch_size': 84},\n",
    "{'batch_norm_continuous_input': True, 'batch_size': 128, 'embedding_dropout': 0.03884722803397381, 'gamma': 1.4357268867179334, 'mask_type': 'sparsemax', 'n_a': 9, 'n_d': 29, 'n_independent': 2, 'n_shared': 2, 'n_steps': 4, 'optimizer_fn': {'SGD_learning_rate': 0.09633089289857903, 'SGD_momentum': 0.9008940113278446, 'SGD_weight_decay': 6.006117400407114e-08, }, 'scheduler_fn': {'ExponentialLR_gamma': 0.9318452332726177, }, 'virtual_batch_size': 40},\n",
    "{'batch_norm_continuous_input': True, 'batch_size': 224, 'embedding_dropout': 0.1550711264240132, 'gamma': 1.3911024804031347, 'mask_type': 'sparsemax', 'n_a': 19, 'n_d': 56, 'n_independent': 1, 'n_shared': 2, 'n_steps': 5, 'optimizer_fn': {'AdamW_learning_rate': 0.006124389735126792, 'AdamW_weight_decay': 3.182394240358396e-08, }, 'scheduler_fn': {'ReduceLROnPlateau_factor': 0.14238363455363606, 'ReduceLROnPlateau_patience': 7, }, 'virtual_batch_size': 84},\n",
    "{'batch_norm_continuous_input': False, 'batch_size': 160, 'embedding_dropout': 0.07427202359469201, 'gamma': 1.2427611720859644, 'mask_type': 'sparsemax', 'n_a': 35, 'n_d': 54, 'n_independent': 3, 'n_shared': 3, 'n_steps': 5, 'optimizer_fn': {'SGD_learning_rate': 0.07779522274329667, 'SGD_momentum': 0.9621792336449789, 'SGD_weight_decay': 3.807443562799249e-08, }, 'scheduler_fn': {'ExponentialLR_gamma': 0.9497089301150198, }, 'virtual_batch_size': 119},\n",
    "{'batch_norm_continuous_input': True, 'batch_size': 832, 'embedding_dropout': 0.030423851444886553, 'gamma': 1.196788344836559, 'mask_type': 'sparsemax', 'n_a': 56, 'n_d': 15, 'n_independent': 1, 'n_shared': 1, 'n_steps': 4, 'optimizer_fn': {'SGD_learning_rate': 0.053332044990065525, 'SGD_momentum': 0.9851634335985551, 'SGD_weight_decay': 5.3453713798712174e-08, }, 'scheduler_fn': {'ExponentialLR_gamma': 0.9558041082441185, }, 'virtual_batch_size': 87},\n",
    "{'batch_norm_continuous_input': True, 'batch_size': 672, 'embedding_dropout': 0.06509617520576794, 'gamma': 1.2089404247138367, 'mask_type': 'sparsemax', 'n_a': 51, 'n_d': 22, 'n_independent': 2, 'n_shared': 2, 'n_steps': 3, 'optimizer_fn': {'Adam_learning_rate': 0.07398947128398595, 'Adam_weight_decay': 5.979030232767242e-08, }, 'scheduler_fn': {'ReduceLROnPlateau_factor': 0.10065587591924441, 'ReduceLROnPlateau_patience': 7, }, 'virtual_batch_size': 46},\n",
    "{'batch_norm_continuous_input': False, 'batch_size': 928, 'embedding_dropout': 0.10971790292456406, 'gamma': 1.2794062357963745, 'mask_type': 'entmax', 'n_a': 42, 'n_d': 60, 'n_independent': 3, 'n_shared': 3, 'n_steps': 6, 'optimizer_fn': {'SGD_learning_rate': 0.01706448484176477, 'SGD_momentum': 0.9400658400288299, 'SGD_weight_decay': 5.8503136589228095e-08, }, 'scheduler_fn': {'ExponentialLR_gamma': 0.9549128603670476, }, 'virtual_batch_size': 34},\n",
    "{'batch_norm_continuous_input': False, 'batch_size': 704, 'embedding_dropout': 0.17443160402811428, 'gamma': 1.277020780675834, 'mask_type': 'sparsemax', 'n_a': 48, 'n_d': 44, 'n_independent': 2, 'n_shared': 2, 'n_steps': 5, 'optimizer_fn': {'Adam_learning_rate': 0.0753016030439377, 'Adam_weight_decay': 7.940687451094736e-08, }, 'scheduler_fn': {'ReduceLROnPlateau_factor': 0.20007024505730048, 'ReduceLROnPlateau_patience': 13, }, 'virtual_batch_size': 44},\n",
    "{'batch_norm_continuous_input': True, 'batch_size': 480, 'embedding_dropout': 0.15565116438223445, 'gamma': 1.3060746259692961, 'mask_type': 'sparsemax', 'n_a': 29, 'n_d': 30, 'n_independent': 3, 'n_shared': 2, 'n_steps': 4, 'optimizer_fn': {'AdamW_learning_rate': 0.007304558645917253, 'AdamW_weight_decay': 7.931632367933946e-08, }, 'scheduler_fn': {'ReduceLROnPlateau_factor': 0.47937093833817634, 'ReduceLROnPlateau_patience': 14, }, 'virtual_batch_size': 45},\n",
    "{'batch_norm_continuous_input': True, 'batch_size': 224, 'embedding_dropout': 0.08229555321007541, 'gamma': 1.1419523495678239, 'mask_type': 'sparsemax', 'n_a': 47, 'n_d': 51, 'n_independent': 1, 'n_shared': 3, 'n_steps': 5, 'optimizer_fn': {'AdamW_learning_rate': 0.027576092667253266, 'AdamW_weight_decay': 9.702107445319236e-08, }, 'scheduler_fn': {'ReduceLROnPlateau_factor': 0.3431798179607186, 'ReduceLROnPlateau_patience': 8, }, 'virtual_batch_size': 125},\n",
    "{'batch_norm_continuous_input': False, 'batch_size': 736, 'embedding_dropout': 0.01786173393154351, 'gamma': 1.135807845856333, 'mask_type': 'entmax', 'n_a': 52, 'n_d': 46, 'n_independent': 2, 'n_shared': 2, 'n_steps': 4, 'optimizer_fn': {'AdamW_learning_rate': 0.06046879765802443, 'AdamW_weight_decay': 7.156863524239522e-08, }, 'scheduler_fn': {'ExponentialLR_gamma': 0.9302533957006677, }, 'virtual_batch_size': 46},\n",
    "{'batch_norm_continuous_input': True, 'batch_size': 736, 'embedding_dropout': 0.04915125047478162, 'gamma': 1.283154459919421, 'mask_type': 'entmax', 'n_a': 22, 'n_d': 16, 'n_independent': 2, 'n_shared': 3, 'n_steps': 4, 'optimizer_fn': {'SGD_learning_rate': 0.034405525383351884, 'SGD_momentum': 0.970770262548702, 'SGD_weight_decay': 8.77303093147771e-08, }, 'scheduler_fn': {'ExponentialLR_gamma': 0.9506935674230942, }, 'virtual_batch_size': 103},\n",
    "{'batch_norm_continuous_input': False, 'batch_size': 192, 'embedding_dropout': 0.026026761214698116, 'gamma': 1.2990431800155968, 'mask_type': 'entmax', 'n_a': 46, 'n_d': 25, 'n_independent': 2, 'n_shared': 2, 'n_steps': 4, 'optimizer_fn': {'SGD_learning_rate': 0.0351379977663217, 'SGD_momentum': 0.9466283373921492, 'SGD_weight_decay': 2.937361406673231e-08, }, 'scheduler_fn': {'StepLR_gamma': 0.14301845407596653, 'StepLR_step_size': 23, }, 'virtual_batch_size': 119},\n",
    "{'batch_norm_continuous_input': True, 'batch_size': 800, 'embedding_dropout': 0.05635471229326808, 'gamma': 1.1234997686607822, 'mask_type': 'sparsemax', 'n_a': 29, 'n_d': 37, 'n_independent': 3, 'n_shared': 3, 'n_steps': 4, 'optimizer_fn': {'SGD_learning_rate': 0.08630485255915236, 'SGD_momentum': 0.9088507099536465, 'SGD_weight_decay': 8.476359765459006e-08, }, 'scheduler_fn': {'ExponentialLR_gamma': 0.946726000071055, }, 'virtual_batch_size': 88},\n",
    "{'batch_norm_continuous_input': False, 'batch_size': 576, 'embedding_dropout': 0.05465431698511969, 'gamma': 1.327920133160017, 'mask_type': 'sparsemax', 'n_a': 44, 'n_d': 15, 'n_independent': 2, 'n_shared': 2, 'n_steps': 4, 'optimizer_fn': {'Adam_learning_rate': 0.06590313511036489, 'Adam_weight_decay': 8.226736262803946e-08, }, 'scheduler_fn': {'ReduceLROnPlateau_factor': 0.3356183201770594, 'ReduceLROnPlateau_patience': 5, }, 'virtual_batch_size': 96},\n",
    "{'batch_norm_continuous_input': True, 'batch_size': 256, 'embedding_dropout': 0.09566311648545284, 'gamma': 1.114875518749232, 'mask_type': 'sparsemax', 'n_a': 28, 'n_d': 13, 'n_independent': 2, 'n_shared': 2, 'n_steps': 3, 'optimizer_fn': {'SGD_learning_rate': 0.02967180193074303, 'SGD_momentum': 0.9850561382262792, 'SGD_weight_decay': 5.058674347299941e-09, }, 'scheduler_fn': {'StepLR_gamma': 0.4143890040298589, 'StepLR_step_size': 23, }, 'virtual_batch_size': 113},\n",
    "{'batch_norm_continuous_input': True, 'batch_size': 992, 'embedding_dropout': 0.06261356402875311, 'gamma': 1.1123305733212194, 'mask_type': 'sparsemax', 'n_a': 19, 'n_d': 10, 'n_independent': 2, 'n_shared': 2, 'n_steps': 6, 'optimizer_fn': {'Adam_learning_rate': 0.08342838959985305, 'Adam_weight_decay': 6.807523749764756e-08, }, 'scheduler_fn': {'ReduceLROnPlateau_factor': 0.34450354957677654, 'ReduceLROnPlateau_patience': 6, }, 'virtual_batch_size': 84},\n",
    "{'batch_norm_continuous_input': True, 'batch_size': 128, 'embedding_dropout': 0.03884722803397381, 'gamma': 1.4357268867179334, 'mask_type': 'sparsemax', 'n_a': 9, 'n_d': 29, 'n_independent': 2, 'n_shared': 2, 'n_steps': 4, 'optimizer_fn': {'SGD_learning_rate': 0.09633089289857903, 'SGD_momentum': 0.9008940113278446, 'SGD_weight_decay': 6.006117400407114e-08, }, 'scheduler_fn': {'ExponentialLR_gamma': 0.9318452332726177, }, 'virtual_batch_size': 40}]"
   ]
  },
  {
   "cell_type": "code",
   "execution_count": null,
   "metadata": {},
   "outputs": [],
   "source": [
    "error_params = [{'batch_norm_continuous_input': False, 'batch_size': 160, 'embedding_dropout': 0.07427202359469201, 'gamma': 1.2427611720859644, 'mask_type': 'sparsemax', 'n_a': 35, 'n_d': 54, 'n_independent': 3, 'n_shared': 3, 'n_steps': 5, 'optimizer_fn': {'SGD_learning_rate': 0.07779522274329667, 'SGD_momentum': 0.9621792336449789, 'SGD_weight_decay': 3.807443562799249e-08,}, 'scheduler_fn': {'ExponentialLR_gamma': 0.9497089301150198,}, 'virtual_batch_size': 119}]"
   ]
  },
  {
   "cell_type": "code",
   "execution_count": null,
   "metadata": {},
   "outputs": [],
   "source": [
    "for i in error_params:\n",
    "    print(i[\"batch_size\"]%i[\"virtual_batch_size\"])"
   ]
  },
  {
   "cell_type": "code",
   "execution_count": null,
   "metadata": {},
   "outputs": [],
   "source": [
    "for i in ok_params:\n",
    "    print(i[\"batch_size\"]%i[\"virtual_batch_size\"])"
   ]
  },
  {
   "cell_type": "code",
   "execution_count": null,
   "metadata": {},
   "outputs": [],
   "source": [
    "metric_name = \"roc_auc\"  # Change this to any metric name dynamically\n",
    "metric_col = f\"{metric_name}_test\"  # Append \"_test\" to match the dataset column names\n",
    "\n",
    "# Filter dataset\n",
    "filtered_data = full_dataset.loc[full_dataset[\"dataset\"] == \"binary\"]\n",
    "\n",
    "# Aggregate and sort\n",
    "result = (\n",
    "    filtered_data\n",
    "    .groupby(\"model\")[metric_col]\n",
    "    .max()\n",
    "    .reset_index()\n",
    "    .sort_values(by=metric_col, ascending=False)\n",
    ")\n",
    "result.head(10)"
   ]
  },
  {
   "cell_type": "code",
   "execution_count": null,
   "metadata": {},
   "outputs": [],
   "source": [
    "# Display sample output\n",
    "metric_name = \"accuracy\"  # Change this to any metric name dynamically\n",
    "metric_col = f\"{metric_name}_test\"  # Append \"_test\" to match the dataset column names\n",
    "\n",
    "# Filter dataset\n",
    "filtered_data = full_dataset.loc[full_dataset[\"dataset\"] == \"multiclass\"]\n",
    "\n",
    "# Aggregate and sort\n",
    "result = (\n",
    "    filtered_data\n",
    "    .groupby(\"model\")[metric_col]\n",
    "    .max()\n",
    "    .reset_index()\n",
    "    .sort_values(by=metric_col, ascending=False)\n",
    ")\n",
    "result.head(10)"
   ]
  },
  {
   "cell_type": "code",
   "execution_count": null,
   "metadata": {},
   "outputs": [],
   "source": [
    "# Display sample output\n",
    "metric_name = \"mse\"  # Change this to any metric name dynamically\n",
    "metric_col = f\"{metric_name}_test\"  # Append \"_test\" to match the dataset column names\n",
    "\n",
    "# Filter dataset\n",
    "filtered_data = full_dataset.loc[full_dataset[\"dataset\"] == \"regression\"]\n",
    "\n",
    "# Aggregate and sort\n",
    "result = (\n",
    "    filtered_data\n",
    "    .groupby(\"model\")[metric_col]\n",
    "    .max()\n",
    "    .reset_index()\n",
    "    .sort_values(by=metric_col, ascending=True)\n",
    ")\n",
    "result.head(10)"
   ]
  },
  {
   "cell_type": "code",
   "execution_count": null,
   "metadata": {},
   "outputs": [],
   "source": [
    "import os\n",
    "import subprocess\n",
    "\n",
    "# Define the path to the folder to format and lint (one level up from the current directory)\n",
    "folder_to_check = \"../../autodeep\"\n",
    "\n",
    "# Define the output folder and ensure it exists\n",
    "output_folder = \"linting_outputs\"\n",
    "os.makedirs(output_folder, exist_ok=True)\n",
    "\n",
    "# Define the output files\n",
    "output_files = {\n",
    "    \"isort\": \"isort_output.txt\",\n",
    "    \"black\": \"black_output.txt\",\n",
    "    \"pylint\": \"pylint_output.txt\",\n",
    "    \"flake8\": \"flake8_output.txt\",\n",
    "}\n",
    "\n",
    "# Run isort\n",
    "isort_output_path = os.path.join(output_folder, output_files[\"isort\"])\n",
    "with open(isort_output_path, \"w\") as f:\n",
    "    subprocess.run([\"isort\", folder_to_check], stdout=f, stderr=f)\n",
    "\n",
    "# Run black\n",
    "black_output_path = os.path.join(output_folder, output_files[\"black\"])\n",
    "with open(black_output_path, \"w\") as f:\n",
    "    subprocess.run([\"black\", folder_to_check], stdout=f, stderr=f)\n",
    "\n",
    "# Run pylint\n",
    "pylint_output_path = os.path.join(output_folder, output_files[\"pylint\"])\n",
    "with open(pylint_output_path, \"w\") as f:\n",
    "    subprocess.run([\"pylint\", folder_to_check], stdout=f, stderr=f)\n",
    "\n",
    "# Run flake8\n",
    "flake8_output_path = os.path.join(output_folder, output_files[\"flake8\"])\n",
    "with open(flake8_output_path, \"w\") as f:\n",
    "    subprocess.run([\"flake8\", folder_to_check], stdout=f, stderr=f)\n",
    "\n",
    "print(\n",
    "    f\"Linting and formatting completed. Outputs are saved in the '{output_folder}' folder.\"\n",
    ")"
   ]
  },
  {
   "cell_type": "code",
   "execution_count": null,
   "metadata": {},
   "outputs": [],
   "source": []
  }
 ],
 "metadata": {
  "kernelspec": {
   "display_name": "thesis",
   "language": "python",
   "name": "python3"
  },
  "language_info": {
   "codemirror_mode": {
    "name": "ipython",
    "version": 3
   },
   "file_extension": ".py",
   "mimetype": "text/x-python",
   "name": "python",
   "nbconvert_exporter": "python",
   "pygments_lexer": "ipython3",
   "version": "3.11.0"
  }
 },
 "nbformat": 4,
 "nbformat_minor": 2
}
