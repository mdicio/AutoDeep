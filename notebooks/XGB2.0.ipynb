{
 "cells": [
  {
   "cell_type": "code",
   "execution_count": 1,
   "id": "60c4722f-74ac-4144-892a-67a4711283f7",
   "metadata": {},
   "outputs": [],
   "source": [
    "import numpy as np\n",
    "import pandas as pd\n",
    "import xgboost as xgb\n",
    "from evaluation.generalevaluator import Evaluator\n",
    "import random\n",
    "from factory import create_full_data_loader"
   ]
  },
  {
   "cell_type": "code",
   "execution_count": 4,
   "id": "f36b433d-018f-4faa-bc87-4b4cd4d7450e",
   "metadata": {},
   "outputs": [],
   "source": [
    "data_loader = create_full_data_loader(\"iris\", test_size=0.2, normalize_features = \"mean_std\", return_extra_info = True, encode_categorical=True)\n",
    "X,y,  extra_info = data_loader.load_data()"
   ]
  },
  {
   "cell_type": "code",
   "execution_count": null,
   "id": "6bc0be7b-7964-4acc-b25a-1a9ae040c44b",
   "metadata": {},
   "outputs": [],
   "source": [
    "model = xgb.XGBClassifier(**params)\n",
    "            # Fit the model on the training data\n",
    "\n"
   ]
  },
  {
   "cell_type": "code",
   "execution_count": null,
   "id": "fb46264c-bf90-408c-a5c3-8598c302f151",
   "metadata": {},
   "outputs": [],
   "source": [
    "model.fit(\n",
    "X,\n",
    "y,\n",
    "early_stopping_rounds=50,\n",
    "verbose=False,\n",
    "\n",
    "\n",
    "# Predict the labels of the validation data\n",
    "y_pred = model.predict(X_val)"
   ]
  }
 ],
 "metadata": {
  "kernelspec": {
   "display_name": "Python 3 (ipykernel)",
   "language": "python",
   "name": "python3"
  },
  "language_info": {
   "codemirror_mode": {
    "name": "ipython",
    "version": 3
   },
   "file_extension": ".py",
   "mimetype": "text/x-python",
   "name": "python",
   "nbconvert_exporter": "python",
   "pygments_lexer": "ipython3",
   "version": "3.10.0"
  }
 },
 "nbformat": 4,
 "nbformat_minor": 5
}
