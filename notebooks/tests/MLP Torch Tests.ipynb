{
 "cells": [
  {
   "cell_type": "code",
   "execution_count": null,
   "id": "05c55eca-ac2b-401f-923b-66a43ad18d86",
   "metadata": {},
   "outputs": [],
   "source": [
    "from factory import create_data_loader\n",
    "import pandas as pd\n",
    "import numpy as np"
   ]
  },
  {
   "cell_type": "code",
   "execution_count": null,
   "id": "c890c87e-983c-4f82-b636-3503a06158a7",
   "metadata": {},
   "outputs": [],
   "source": [
    "data_loader = create_data_loader('housing', test_size=0.2, normalize_features = \"mean_std\", return_extra_info = True)\n",
    "X_train, X_val, y_train, y_val, extra_info = data_loader.load_data()"
   ]
  },
  {
   "cell_type": "code",
   "execution_count": null,
   "id": "a55618e6-7bc6-47e5-9a61-c482ee235c66",
   "metadata": {},
   "outputs": [],
   "source": [
    "class MLPRegressorWrapper(nn.Module):\n",
    "    def __init__(self, input_size, hidden_sizes, output_size=1):\n",
    "        super(MLPRegressorWrapper, self).__init__()\n",
    "        self.hidden_layers = nn.ModuleList()\n",
    "        prev_size = input_size\n",
    "        for size in hidden_sizes:\n",
    "            self.hidden_layers.append(nn.Linear(prev_size, size))\n",
    "            self.hidden_layers.append(nn.ReLU())\n",
    "            prev_size = size\n",
    "        self.output_layer = nn.Linear(prev_size, output_size)\n",
    "\n",
    "    def forward(self, x):\n",
    "        for layer in self.hidden_layers:\n",
    "            x = layer(x)\n",
    "        x = self.output_layer(x)\n",
    "        return x\n",
    "\n",
    "\n",
    "class MLPClassifierWrapper(nn.Module):\n",
    "    def __init__(self, input_size, hidden_sizes, output_size):\n",
    "        super(MLPClassifierWrapper, self).__init__()\n",
    "        self.hidden_layers = nn.ModuleList()\n",
    "        prev_size = input_size\n",
    "        for size in hidden_sizes:\n",
    "            self.hidden_layers.append(nn.Linear(prev_size, size))\n",
    "            self.hidden_layers.append(nn.ReLU())\n",
    "            prev_size = size\n",
    "        self.output_layer = nn.Linear(prev_size, output_size)\n",
    "\n",
    "    def forward(self, x):\n",
    "        for layer in self.hidden_layers:\n",
    "            x = layer(x)\n",
    "        x = self.output_layer(x)\n",
    "        return x"
   ]
  },
  {
   "cell_type": "code",
   "execution_count": null,
   "id": "2185f67a-53fb-4312-8e4c-72c8d3eb968d",
   "metadata": {},
   "outputs": [],
   "source": []
  }
 ],
 "metadata": {
  "kernelspec": {
   "display_name": "Python 3 (ipykernel)",
   "language": "python",
   "name": "python3"
  },
  "language_info": {
   "codemirror_mode": {
    "name": "ipython",
    "version": 3
   },
   "file_extension": ".py",
   "mimetype": "text/x-python",
   "name": "python",
   "nbconvert_exporter": "python",
   "pygments_lexer": "ipython3",
   "version": "3.10.0"
  }
 },
 "nbformat": 4,
 "nbformat_minor": 5
}
