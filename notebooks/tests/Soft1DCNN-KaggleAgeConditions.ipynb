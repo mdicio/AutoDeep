{
 "cells": [
  {
   "cell_type": "code",
   "execution_count": 1,
   "id": "385dfcae",
   "metadata": {},
   "outputs": [],
   "source": [
    "#pip install seaborn\n",
    "import warnings\n",
    "warnings.filterwarnings('ignore')\n",
    "\n",
    "from pytorch_tabular import TabularModel\n",
    "from pytorch_tabular.models import GatedAdditiveTreeEnsembleConfig\n",
    "from pytorch_tabular.config import (\n",
    "    DataConfig,\n",
    "    OptimizerConfig,\n",
    "    TrainerConfig,\n",
    "    #ExperimentConfig,\n",
    ")\n",
    "from pytorch_tabular.utils import get_class_weighted_cross_entropy\n",
    "#pip install pytorch_tabular[extra]\n",
    "from evaluation.generalevaluator import *\n",
    "import xgboost as xgb\n",
    "from sklearn.model_selection import train_test_split\n",
    "from sklearn.datasets import load_iris, fetch_california_housing, load_breast_cancer\n",
    "from factory import create_data_loader\n",
    "import pandas as pd\n",
    "from torch.optim.lr_scheduler import ReduceLROnPlateau, StepLR\n",
    "from tqdm import tqdm\n",
    "\n",
    "from torch.utils.data import Dataset, DataLoader\n",
    "import pandas as pd\n",
    "import numpy as np\n",
    "import torchvision.transforms as transforms\n",
    "import torch.nn.functional as F\n",
    "import torch\n",
    "import torch.nn as nn\n",
    "import torch.optim as optim\n",
    "import numpy as np\n",
    "import pandas as pd\n",
    "from torch.utils.data import TensorDataset, DataLoader, random_split\n",
    "from sklearn.utils.class_weight import compute_class_weight"
   ]
  },
  {
   "cell_type": "code",
   "execution_count": 17,
   "id": "a5b2a575",
   "metadata": {},
   "outputs": [
    {
     "name": "stdout",
     "output_type": "stream",
     "text": [
      "X_df:\n",
      "      feat1     feat2     feat3\n",
      "0  0.513595 -1.130417  1.612106\n",
      "1 -0.034274 -0.939915 -0.185951\n",
      "2  0.014506  1.940269  0.603850\n",
      "3 -0.592831 -0.333628  0.700059\n",
      "4 -0.525065  0.809829  0.521985\n",
      "y_df:\n",
      "   0\n",
      "0  0\n",
      "1  0\n",
      "2  0\n",
      "3  1\n",
      "4  0\n"
     ]
    }
   ],
   "source": [
    "import pandas as pd\n",
    "import torch\n",
    "from torch.utils.data import Dataset, DataLoader\n",
    "\n",
    "# Define a dummy dataset\n",
    "class DummyDataset(Dataset):\n",
    "    def __init__(self):\n",
    "        self.X = torch.randn((100, 3))\n",
    "        self.y = torch.randint(0, 2, (100, 1))\n",
    "\n",
    "    def __len__(self):\n",
    "        return len(self.X)\n",
    "\n",
    "    def __getitem__(self, idx):\n",
    "        return (self.X[idx], self.y[idx])\n",
    "\n",
    "# Create a dummy dataloader\n",
    "dataset = DummyDataset()\n",
    "dataloader = DataLoader(dataset, batch_size=10)\n",
    "\n",
    "# Convert dataloader to pandas DataFrames\n",
    "X_df, y_df = pd.DataFrame(), pd.DataFrame()\n",
    "for X_batch, y_batch in dataloader:\n",
    "    X_df = pd.concat([X_df, pd.DataFrame(X_batch.numpy())])\n",
    "    y_df = pd.concat([y_df, pd.DataFrame(y_batch.numpy())])\n",
    "\n",
    "# Optionally, you can label the columns of X_df according to the input features\n",
    "X_df.columns = [\"feat1\", \"feat2\", \"feat3\"]\n",
    "\n",
    "# Print the first few rows of each DataFrame\n",
    "print(\"X_df:\")\n",
    "print(X_df.head())\n",
    "print(\"y_df:\")\n",
    "print(y_df.head())"
   ]
  },
  {
   "cell_type": "code",
   "execution_count": 6,
   "id": "82d5ff52",
   "metadata": {},
   "outputs": [],
   "source": [
    "data_loader = create_data_loader('breastcancer', test_size=0.2, normalize_features = \"mean_std\", return_extra_info = True)\n",
    "X_train, X_test, y_train, y_test, extra_info = data_loader.load_data()"
   ]
  },
  {
   "cell_type": "code",
   "execution_count": 9,
   "id": "cd7c39e6",
   "metadata": {},
   "outputs": [
    {
     "data": {
      "text/plain": [
       "((455, 30), (114, 30))"
      ]
     },
     "execution_count": 9,
     "metadata": {},
     "output_type": "execute_result"
    }
   ],
   "source": [
    "X_train.shape, X_test.shape"
   ]
  },
  {
   "cell_type": "code",
   "execution_count": 10,
   "id": "f8f778bb",
   "metadata": {},
   "outputs": [
    {
     "data": {
      "text/plain": [
       "60"
      ]
     },
     "execution_count": 10,
     "metadata": {},
     "output_type": "execute_result"
    }
   ],
   "source": [
    "364+256+9- (455+114)"
   ]
  },
  {
   "cell_type": "code",
   "execution_count": 5,
   "id": "2ae9fb42",
   "metadata": {},
   "outputs": [
    {
     "data": {
      "text/plain": [
       "{'cat_col_names': [],\n",
       " 'cat_col_idx': [],\n",
       " 'cat_col_unique_vals': [],\n",
       " 'num_col_names': ['MedInc',\n",
       "  'HouseAge',\n",
       "  'AveRooms',\n",
       "  'AveBedrms',\n",
       "  'Population',\n",
       "  'AveOccup',\n",
       "  'Latitude',\n",
       "  'Longitude',\n",
       "  'pop_density'],\n",
       " 'num_col_idx': [0, 1, 2, 3, 4, 5, 6, 7, 8],\n",
       " 'column_ordering': [4, 0, 1, 7, 3, 2, 6, 5, 8],\n",
       " 'img_rows': 3,\n",
       " 'img_columns': 3,\n",
       " 'num_features': 9}"
      ]
     },
     "execution_count": 5,
     "metadata": {},
     "output_type": "execute_result"
    }
   ],
   "source": [
    "extra_info"
   ]
  },
  {
   "cell_type": "code",
   "execution_count": 5,
   "id": "6d3704da",
   "metadata": {},
   "outputs": [
    {
     "ename": "IndexError",
     "evalue": "index 16 is out of bounds for axis 0 with size 9",
     "output_type": "error",
     "traceback": [
      "\u001b[0;31m---------------------------------------------------------------------------\u001b[0m",
      "\u001b[0;31mIndexError\u001b[0m                                Traceback (most recent call last)",
      "Cell \u001b[0;32mIn[5], line 13\u001b[0m\n\u001b[1;32m     10\u001b[0m original_columns \u001b[38;5;241m=\u001b[39m X_train\u001b[38;5;241m.\u001b[39mcolumns\n\u001b[1;32m     11\u001b[0m numbers_list \u001b[38;5;241m=\u001b[39m [\u001b[38;5;241m16\u001b[39m, \u001b[38;5;241m31\u001b[39m, \u001b[38;5;241m48\u001b[39m, \u001b[38;5;241m36\u001b[39m, \u001b[38;5;241m11\u001b[39m, \u001b[38;5;241m19\u001b[39m, \u001b[38;5;241m46\u001b[39m, \u001b[38;5;241m44\u001b[39m, \u001b[38;5;241m14\u001b[39m, \u001b[38;5;241m12\u001b[39m, \u001b[38;5;241m29\u001b[39m, \u001b[38;5;241m7\u001b[39m, \u001b[38;5;241m33\u001b[39m, \u001b[38;5;241m5\u001b[39m, \u001b[38;5;241m49\u001b[39m, \u001b[38;5;241m1\u001b[39m, \u001b[38;5;241m3\u001b[39m, \u001b[38;5;241m42\u001b[39m, \u001b[38;5;241m24\u001b[39m, \u001b[38;5;241m13\u001b[39m, \u001b[38;5;241m15\u001b[39m, \u001b[38;5;241m40\u001b[39m, \u001b[38;5;241m51\u001b[39m, \u001b[38;5;241m10\u001b[39m, \u001b[38;5;241m9\u001b[39m, \u001b[38;5;241m34\u001b[39m, \u001b[38;5;241m35\u001b[39m, \u001b[38;5;241m6\u001b[39m, \u001b[38;5;241m47\u001b[39m, \u001b[38;5;241m17\u001b[39m, \u001b[38;5;241m38\u001b[39m, \u001b[38;5;241m52\u001b[39m, \u001b[38;5;241m0\u001b[39m, \u001b[38;5;241m41\u001b[39m, \u001b[38;5;241m2\u001b[39m, \u001b[38;5;241m30\u001b[39m, \u001b[38;5;241m23\u001b[39m, \u001b[38;5;241m50\u001b[39m, \u001b[38;5;241m53\u001b[39m, \u001b[38;5;241m54\u001b[39m, \u001b[38;5;241m4\u001b[39m, \u001b[38;5;241m25\u001b[39m, \u001b[38;5;241m8\u001b[39m, \u001b[38;5;241m26\u001b[39m, \u001b[38;5;241m18\u001b[39m, \u001b[38;5;241m43\u001b[39m, \u001b[38;5;241m27\u001b[39m, \u001b[38;5;241m20\u001b[39m, \u001b[38;5;241m32\u001b[39m, \u001b[38;5;241m22\u001b[39m, \u001b[38;5;241m55\u001b[39m, \u001b[38;5;241m37\u001b[39m, \u001b[38;5;241m39\u001b[39m, \u001b[38;5;241m21\u001b[39m, \u001b[38;5;241m45\u001b[39m, \u001b[38;5;241m28\u001b[39m]\n\u001b[0;32m---> 13\u001b[0m new_column_ordering \u001b[38;5;241m=\u001b[39m [original_columns[i] \u001b[38;5;28;01mfor\u001b[39;00m i \u001b[38;5;129;01min\u001b[39;00m numbers_list]\n\u001b[1;32m     14\u001b[0m X_train \u001b[38;5;241m=\u001b[39m X_train\u001b[38;5;241m.\u001b[39mreindex(columns\u001b[38;5;241m=\u001b[39mnew_column_ordering)\n\u001b[1;32m     15\u001b[0m X_test \u001b[38;5;241m=\u001b[39m X_test\u001b[38;5;241m.\u001b[39mreindex(columns\u001b[38;5;241m=\u001b[39mnew_column_ordering)\n",
      "Cell \u001b[0;32mIn[5], line 13\u001b[0m, in \u001b[0;36m<listcomp>\u001b[0;34m(.0)\u001b[0m\n\u001b[1;32m     10\u001b[0m original_columns \u001b[38;5;241m=\u001b[39m X_train\u001b[38;5;241m.\u001b[39mcolumns\n\u001b[1;32m     11\u001b[0m numbers_list \u001b[38;5;241m=\u001b[39m [\u001b[38;5;241m16\u001b[39m, \u001b[38;5;241m31\u001b[39m, \u001b[38;5;241m48\u001b[39m, \u001b[38;5;241m36\u001b[39m, \u001b[38;5;241m11\u001b[39m, \u001b[38;5;241m19\u001b[39m, \u001b[38;5;241m46\u001b[39m, \u001b[38;5;241m44\u001b[39m, \u001b[38;5;241m14\u001b[39m, \u001b[38;5;241m12\u001b[39m, \u001b[38;5;241m29\u001b[39m, \u001b[38;5;241m7\u001b[39m, \u001b[38;5;241m33\u001b[39m, \u001b[38;5;241m5\u001b[39m, \u001b[38;5;241m49\u001b[39m, \u001b[38;5;241m1\u001b[39m, \u001b[38;5;241m3\u001b[39m, \u001b[38;5;241m42\u001b[39m, \u001b[38;5;241m24\u001b[39m, \u001b[38;5;241m13\u001b[39m, \u001b[38;5;241m15\u001b[39m, \u001b[38;5;241m40\u001b[39m, \u001b[38;5;241m51\u001b[39m, \u001b[38;5;241m10\u001b[39m, \u001b[38;5;241m9\u001b[39m, \u001b[38;5;241m34\u001b[39m, \u001b[38;5;241m35\u001b[39m, \u001b[38;5;241m6\u001b[39m, \u001b[38;5;241m47\u001b[39m, \u001b[38;5;241m17\u001b[39m, \u001b[38;5;241m38\u001b[39m, \u001b[38;5;241m52\u001b[39m, \u001b[38;5;241m0\u001b[39m, \u001b[38;5;241m41\u001b[39m, \u001b[38;5;241m2\u001b[39m, \u001b[38;5;241m30\u001b[39m, \u001b[38;5;241m23\u001b[39m, \u001b[38;5;241m50\u001b[39m, \u001b[38;5;241m53\u001b[39m, \u001b[38;5;241m54\u001b[39m, \u001b[38;5;241m4\u001b[39m, \u001b[38;5;241m25\u001b[39m, \u001b[38;5;241m8\u001b[39m, \u001b[38;5;241m26\u001b[39m, \u001b[38;5;241m18\u001b[39m, \u001b[38;5;241m43\u001b[39m, \u001b[38;5;241m27\u001b[39m, \u001b[38;5;241m20\u001b[39m, \u001b[38;5;241m32\u001b[39m, \u001b[38;5;241m22\u001b[39m, \u001b[38;5;241m55\u001b[39m, \u001b[38;5;241m37\u001b[39m, \u001b[38;5;241m39\u001b[39m, \u001b[38;5;241m21\u001b[39m, \u001b[38;5;241m45\u001b[39m, \u001b[38;5;241m28\u001b[39m]\n\u001b[0;32m---> 13\u001b[0m new_column_ordering \u001b[38;5;241m=\u001b[39m [\u001b[43moriginal_columns\u001b[49m\u001b[43m[\u001b[49m\u001b[43mi\u001b[49m\u001b[43m]\u001b[49m \u001b[38;5;28;01mfor\u001b[39;00m i \u001b[38;5;129;01min\u001b[39;00m numbers_list]\n\u001b[1;32m     14\u001b[0m X_train \u001b[38;5;241m=\u001b[39m X_train\u001b[38;5;241m.\u001b[39mreindex(columns\u001b[38;5;241m=\u001b[39mnew_column_ordering)\n\u001b[1;32m     15\u001b[0m X_test \u001b[38;5;241m=\u001b[39m X_test\u001b[38;5;241m.\u001b[39mreindex(columns\u001b[38;5;241m=\u001b[39mnew_column_ordering)\n",
      "File \u001b[0;32m~/.pyenv/versions/3.10.0/envs/WTab/lib/python3.10/site-packages/pandas/core/indexes/base.py:5175\u001b[0m, in \u001b[0;36mIndex.__getitem__\u001b[0;34m(self, key)\u001b[0m\n\u001b[1;32m   5172\u001b[0m \u001b[38;5;28;01mif\u001b[39;00m is_integer(key) \u001b[38;5;129;01mor\u001b[39;00m is_float(key):\n\u001b[1;32m   5173\u001b[0m     \u001b[38;5;66;03m# GH#44051 exclude bool, which would return a 2d ndarray\u001b[39;00m\n\u001b[1;32m   5174\u001b[0m     key \u001b[38;5;241m=\u001b[39m com\u001b[38;5;241m.\u001b[39mcast_scalar_indexer(key)\n\u001b[0;32m-> 5175\u001b[0m     \u001b[38;5;28;01mreturn\u001b[39;00m \u001b[43mgetitem\u001b[49m\u001b[43m(\u001b[49m\u001b[43mkey\u001b[49m\u001b[43m)\u001b[49m\n\u001b[1;32m   5177\u001b[0m \u001b[38;5;28;01mif\u001b[39;00m \u001b[38;5;28misinstance\u001b[39m(key, \u001b[38;5;28mslice\u001b[39m):\n\u001b[1;32m   5178\u001b[0m     \u001b[38;5;66;03m# This case is separated from the conditional above to avoid\u001b[39;00m\n\u001b[1;32m   5179\u001b[0m     \u001b[38;5;66;03m# pessimization com.is_bool_indexer and ndim checks.\u001b[39;00m\n\u001b[1;32m   5180\u001b[0m     result \u001b[38;5;241m=\u001b[39m getitem(key)\n",
      "\u001b[0;31mIndexError\u001b[0m: index 16 is out of bounds for axis 0 with size 9"
     ]
    }
   ],
   "source": [
    "data_loader = create_data_loader('housing', test_size=0.2, normalize_features = \"mean_std\", return_extra_info = True)\n",
    "X_train, X_test, y_train, y_test, extra_info = data_loader.load_data()\n",
    "\n",
    "# Assume that X_train is a pandas DataFrame containing your features\n",
    "numeric_features = X_train.select_dtypes(include=['int64', 'float64']).columns.tolist()\n",
    "# Select only numeric features from X_train and X_val\n",
    "X_train = X_train[numeric_features]\n",
    "X_test = X_test[numeric_features]\n",
    "\n",
    "original_columns = X_train.columns\n",
    "numbers_list = [16, 31, 48, 36, 11, 19, 46, 44, 14, 12, 29, 7, 33, 5, 49, 1, 3, 42, 24, 13, 15, 40, 51, 10, 9, 34, 35, 6, 47, 17, 38, 52, 0, 41, 2, 30, 23, 50, 53, 54, 4, 25, 8, 26, 18, 43, 27, 20, 32, 22, 55, 37, 39, 21, 45, 28]\n",
    "\n",
    "new_column_ordering = [original_columns[i] for i in numbers_list]\n",
    "X_train = X_train.reindex(columns=new_column_ordering)\n",
    "X_test = X_test.reindex(columns=new_column_ordering)"
   ]
  },
  {
   "cell_type": "code",
   "execution_count": 3,
   "id": "6288a9ee",
   "metadata": {},
   "outputs": [
    {
     "data": {
      "text/plain": [
       "(493, 56)"
      ]
     },
     "execution_count": 3,
     "metadata": {},
     "output_type": "execute_result"
    }
   ],
   "source": [
    "X_train.shape"
   ]
  },
  {
   "cell_type": "code",
   "execution_count": 12,
   "id": "651f2d8a",
   "metadata": {},
   "outputs": [],
   "source": [
    "\n",
    "\n",
    "class SoftOrdering1DCNN:\n",
    "    def __init__(\n",
    "        self,\n",
    "        num_features,\n",
    "        num_targets,\n",
    "        hidden_size,\n",
    "        problem_type=\"binary_classification\",\n",
    "        **params,\n",
    "    ):\n",
    "        self.num_features = num_features\n",
    "        self.hidden_size = hidden_size\n",
    "        self.problem_type = problem_type\n",
    "        self.num_targets = num_targets\n",
    "        self.batch_size = 512\n",
    "        self.save_path = None\n",
    "        self.device = params.get(\n",
    "            \"device\", torch.device(\"cuda\" if torch.cuda.is_available() else \"cpu\")\n",
    "        )\n",
    "        self.model = self.build_model()\n",
    "        self.transformation = None\n",
    "\n",
    "    def build_model(self):\n",
    "        model = Model(self.num_features, self.num_targets, self.hidden_size)\n",
    "        return model\n",
    "\n",
    "    def train(self, X_train, y_train, params={}, extra_info=None):\n",
    "        validation_fraction = params.get(\"validation_fraction\", 0.2)\n",
    "        num_epochs = params.get(\"num_epochs\", 3)\n",
    "        batch_size = params.get(\"batch_size\", 32)\n",
    "        shuffle = params.get(\"shuffle\", True)\n",
    "        validation_split = params.get(\"validation_split\", 0.2)\n",
    "        early_stopping = params.get(\"early_stopping\", False)\n",
    "        patience = params.get(\"early_stopping_patience\", 5)\n",
    "        lr = params.get(\"learning_rate\", 0.001)\n",
    "        \n",
    "        self.optimizer = optim.Adam(self.model.parameters(), lr=lr)\n",
    "        #self.optimizer = optim.SGD(self.model.parameters(), lr=lr)\n",
    "        \n",
    "        self.scheduler = ReduceLROnPlateau(\n",
    "            self.optimizer, mode=\"min\", factor=0.1, patience=10, verbose=True\n",
    "        )\n",
    "        #self.scheduler = StepLR(self.optimizer, step_size=10, gamma=0.1)\n",
    "\n",
    "        self.device = torch.device(\"cuda\" if torch.cuda.is_available() else \"cpu\")\n",
    "\n",
    "        if self.problem_type == \"binary_classification\":\n",
    "            num_positives = y_train.sum()\n",
    "            num_negatives = len(y_train) - num_positives\n",
    "            pos_weight  = torch.tensor(num_negatives / num_positives)\n",
    "            self.loss_fn = nn.BCEWithLogitsLoss(pos_weight = pos_weight)\n",
    "        elif self.problem_type == \"multiclass_classification\":\n",
    "            # Convert y_train to a tensor and calculate class weights for multiclass classification\n",
    "            y_train_tensor = torch.tensor(y_train.values, dtype=torch.long).flatten()\n",
    "            classes = torch.unique(y_train_tensor)  # Get the unique class labels\n",
    "            class_weights = compute_class_weight(\n",
    "                \"balanced\", classes=np.array(classes), y=y_train.values\n",
    "            )\n",
    "            class_weights = torch.tensor(class_weights, dtype=torch.float32).to(\n",
    "                self.device\n",
    "            )\n",
    "            self.loss_fn = nn.CrossEntropyLoss(weight=class_weights, reduction=\"mean\")\n",
    "        elif self.problem_type == \"regression\":\n",
    "            self.loss_fn = params.get(\"loss_fn\", nn.MSELoss())\n",
    "        else:\n",
    "            raise ValueError(\n",
    "                \"Invalid problem_type. Supported values are 'binary', 'multiclass', and 'regression'.\"\n",
    "            )\n",
    "\n",
    "        X_train_tensor = torch.tensor(X_train.values, dtype=torch.float)\n",
    "        y_train_tensor = torch.tensor(\n",
    "            y_train.values,\n",
    "            dtype=torch.float if self.problem_type == \"regression\" else torch.long,\n",
    "        )\n",
    "        dataset = TensorDataset(X_train_tensor, y_train_tensor)\n",
    "\n",
    "        dataloader = DataLoader(dataset, batch_size=batch_size, shuffle=shuffle)\n",
    "\n",
    "        num_samples = len(dataset)\n",
    "        num_train_samples = int((1 - validation_split) * num_samples)\n",
    "        num_val_samples = num_samples - num_train_samples\n",
    "\n",
    "        train_dataset, val_dataset = random_split(\n",
    "            dataset, [num_train_samples, num_val_samples]\n",
    "        )\n",
    "\n",
    "        train_loader = DataLoader(train_dataset, batch_size=batch_size, shuffle=shuffle)\n",
    "        val_loader = DataLoader(val_dataset, batch_size=batch_size, shuffle=False)\n",
    "\n",
    "        best_val_loss = float(\"inf\")\n",
    "        best_epoch = 0\n",
    "        current_patience = 0\n",
    "\n",
    "        self.model.to(self.device)\n",
    "        self.model.train()\n",
    "\n",
    "        with tqdm(total=num_epochs, desc=\"Training\", unit=\"epoch\", ncols=80) as pbar:\n",
    "            for epoch in range(num_epochs):\n",
    "                running_loss = 0.0\n",
    "                for i, (inputs, labels) in enumerate(train_loader):\n",
    "                    inputs, labels = inputs.to(self.device), labels.to(self.device)\n",
    "\n",
    "                    if (self.problem_type == \"binary_classification\"):\n",
    "                        outputs = torch.sigmoid(self.model(inputs)).reshape(-1)\n",
    "                        labels = labels.float()\n",
    "                    elif self.problem_type == \"regression\":\n",
    "                        outputs = self.model(inputs).reshape(-1)\n",
    "                        labels = labels.float()\n",
    "                    elif self.problem_type == \"multiclass_classification\":\n",
    "                        labels = (\n",
    "                            labels.long()\n",
    "                        )  # For multiclass classification, convert to long\n",
    "                        outputs = self.model(inputs)\n",
    "                    else:\n",
    "                        raise ValueError(\n",
    "                            \"Invalid problem_type. Supported options: binary_classification, multiclass_classification\"\n",
    "                        )\n",
    "\n",
    "                    self.optimizer.zero_grad()\n",
    "\n",
    "                    loss = self.loss_fn(outputs, labels)\n",
    "\n",
    "                    loss.backward()\n",
    "                    self.optimizer.step()\n",
    "\n",
    "                    running_loss += loss.item()\n",
    "\n",
    "                epoch_loss = running_loss / len(train_loader)\n",
    "\n",
    "                if early_stopping and validation_fraction > 0:\n",
    "                    self.model.eval()\n",
    "\n",
    "                    val_loss = 0.0\n",
    "                    with torch.no_grad():\n",
    "                        for inputs, labels in val_loader:\n",
    "                            inputs, labels = inputs.to(self.device), labels.to(\n",
    "                                self.device\n",
    "                            )\n",
    "\n",
    "                            if (self.problem_type == \"binary_classification\"):\n",
    "                                outputs = torch.sigmoid(self.model(inputs)).reshape(-1)\n",
    "                                labels = labels.float()\n",
    "                            elif self.problem_type == \"regression\":\n",
    "                                outputs = self.model(inputs).reshape(-1)\n",
    "                                labels = labels.float()\n",
    "                            elif self.problem_type == \"multiclass_classification\":\n",
    "                                labels = (\n",
    "                                    labels.long()\n",
    "                                )  # For multiclass classification, convert to long\n",
    "                                outputs = self.model(inputs)\n",
    "                            else:\n",
    "                                raise ValueError(\n",
    "                                    \"Invalid problem_type. Supported options: binary_classification, multiclass_classification\"\n",
    "                                )\n",
    "\n",
    "                            loss = self.loss_fn(outputs, labels)\n",
    "                            val_loss += loss.item() * inputs.size(0)\n",
    "\n",
    "                    val_loss /= len(val_dataset)\n",
    "\n",
    "                    self.scheduler.step(val_loss)\n",
    "\n",
    "                    if val_loss < best_val_loss:\n",
    "                        best_val_loss = val_loss\n",
    "                        best_epoch = epoch\n",
    "                        current_patience = 0\n",
    "\n",
    "                        if self.save_path is not None:\n",
    "                            torch.save(\n",
    "                                self.model.state_dict(), self.save_path + \"_checkpt\"\n",
    "                            )\n",
    "                    else:\n",
    "                        current_patience += 1\n",
    "\n",
    "                    print(\n",
    "                        f\"Epoch [{epoch+1}/{num_epochs}], Train Loss: {epoch_loss:.4f}, Val Loss: {val_loss:.4f}\"\n",
    "                    )\n",
    "\n",
    "                    if current_patience >= patience:\n",
    "                        print(f\"Early stopping triggered at epoch {epoch+1}\")\n",
    "                        break\n",
    "\n",
    "            if self.save_path is not None:\n",
    "                print(f\"Best model weights saved at epoch {best_epoch+1}\")\n",
    "                self.model.load_state_dict(torch.load(self.save_path + \"_checkpt\"))\n",
    "\n",
    "    def predict(self, X_test, batch_size=4096):\n",
    "        self.model.to(self.device)\n",
    "        self.model.eval()\n",
    "\n",
    "        test_dataset = CustomDataset(\n",
    "            data=X_test,\n",
    "            transform=None,\n",
    "        )\n",
    "\n",
    "        test_loader = DataLoader(test_dataset, batch_size=batch_size, shuffle=False)\n",
    "\n",
    "        predictions = []\n",
    "        probabilities = []\n",
    "        with torch.no_grad():\n",
    "            for inputs in test_loader:\n",
    "                inputs = inputs.to(self.device)\n",
    "                outputs = self.model(inputs)\n",
    "\n",
    "                if self.problem_type == \"binary_classification\":\n",
    "                    probs = torch.sigmoid(outputs).cpu().numpy().reshape(-1)\n",
    "                    preds = (probs >= 0.5).astype(int)\n",
    "                    \n",
    "        \n",
    "                elif self.problem_type == \"multiclass_classification\":\n",
    "                    _, preds = torch.max(outputs, 1)\n",
    "                    preds = preds.numpy()\n",
    "                elif self.problem_type == \"regression\":\n",
    "                    preds = outputs.to(\"cpu\").tolist()\n",
    "                else:\n",
    "                    raise ValueError(\n",
    "                        \"Invalid problem_type. Supported options: binary_classification, multiclass_classification, regression.\"\n",
    "                    )\n",
    "\n",
    "                predictions.extend(preds)\n",
    "                probabilities.extend(probs)\n",
    "\n",
    "        return np.array(predictions), np.array(probabilities)\n",
    "\n",
    "\n",
    "class Model(nn.Module):\n",
    "    def __init__(self, num_features, num_targets, hidden_size=4196):\n",
    "        super(Model, self).__init__()\n",
    "        cha_1 = 256\n",
    "        cha_2 = 512\n",
    "        cha_3 = 512\n",
    "        self.num_targets = num_targets\n",
    "        cha_1_reshape = int(hidden_size / cha_1)\n",
    "        cha_po_1 = int(hidden_size / cha_1 / 2)\n",
    "        cha_po_2 = int(hidden_size / cha_1 / 2 / 2) * cha_3\n",
    "\n",
    "        self.cha_1 = cha_1\n",
    "        self.cha_2 = cha_2\n",
    "        self.cha_3 = cha_3\n",
    "        self.cha_1_reshape = cha_1_reshape\n",
    "        self.cha_po_1 = cha_po_1\n",
    "        self.cha_po_2 = cha_po_2\n",
    "\n",
    "        self.batch_norm1 = nn.BatchNorm1d(num_features)\n",
    "        self.dropout1 = nn.Dropout(0.1)\n",
    "        self.dense1 = nn.utils.weight_norm(nn.Linear(num_features, hidden_size))\n",
    "\n",
    "        self.batch_norm_c1 = nn.BatchNorm1d(cha_1)\n",
    "        self.dropout_c1 = nn.Dropout(0.1)\n",
    "        self.conv1 = nn.utils.weight_norm(\n",
    "            nn.Conv1d(cha_1, cha_2, kernel_size=5, stride=1, padding=2, bias=False),\n",
    "            dim=None,\n",
    "        )\n",
    "\n",
    "        self.ave_po_c1 = nn.AdaptiveAvgPool1d(output_size=cha_po_1)\n",
    "\n",
    "        self.batch_norm_c2 = nn.BatchNorm1d(cha_2)\n",
    "        self.dropout_c2 = nn.Dropout(0.1)\n",
    "        self.conv2 = nn.utils.weight_norm(\n",
    "            nn.Conv1d(cha_2, cha_2, kernel_size=3, stride=1, padding=1, bias=True),\n",
    "            dim=None,\n",
    "        )\n",
    "\n",
    "        self.batch_norm_c2_1 = nn.BatchNorm1d(cha_2)\n",
    "        self.dropout_c2_1 = nn.Dropout(0.3)\n",
    "        self.conv2_1 = nn.utils.weight_norm(\n",
    "            nn.Conv1d(cha_2, cha_2, kernel_size=3, stride=1, padding=1, bias=True),\n",
    "            dim=None,\n",
    "        )\n",
    "\n",
    "        self.batch_norm_c2_2 = nn.BatchNorm1d(cha_2)\n",
    "        self.dropout_c2_2 = nn.Dropout(0.2)\n",
    "        self.conv2_2 = nn.utils.weight_norm(\n",
    "            nn.Conv1d(cha_2, cha_3, kernel_size=5, stride=1, padding=2, bias=True),\n",
    "            dim=None,\n",
    "        )\n",
    "\n",
    "        self.max_po_c2 = nn.MaxPool1d(kernel_size=4, stride=2, padding=1)\n",
    "\n",
    "        self.flt = nn.Flatten()\n",
    "\n",
    "        self.batch_norm3 = nn.BatchNorm1d(cha_po_2)\n",
    "        self.dropout3 = nn.Dropout(0.2)\n",
    "        self.dense3 = nn.utils.weight_norm(nn.Linear(cha_po_2, num_targets))\n",
    "\n",
    "    def forward(self, x):\n",
    "        x = self.batch_norm1(x)\n",
    "        x = self.dropout1(x)\n",
    "        x = F.celu(self.dense1(x), alpha=0.06)\n",
    "\n",
    "        x = x.reshape(x.shape[0], self.cha_1, self.cha_1_reshape)\n",
    "\n",
    "        x = self.batch_norm_c1(x)\n",
    "        x = self.dropout_c1(x)\n",
    "        x = F.relu(self.conv1(x))\n",
    "\n",
    "        x = self.ave_po_c1(x)\n",
    "\n",
    "        x = self.batch_norm_c2(x)\n",
    "        x = self.dropout_c2(x)\n",
    "        x = F.relu(self.conv2(x))\n",
    "        x_s = x\n",
    "\n",
    "        x = self.batch_norm_c2_1(x)\n",
    "        x = self.dropout_c2_1(x)\n",
    "        x = F.relu(self.conv2_1(x))\n",
    "\n",
    "        x = self.batch_norm_c2_2(x)\n",
    "        x = self.dropout_c2_2(x)\n",
    "        x = F.relu(self.conv2_2(x))\n",
    "        x = x * x_s\n",
    "\n",
    "        x = self.max_po_c2(x)\n",
    "\n",
    "        x = self.flt(x)\n",
    "\n",
    "        x = self.batch_norm3(x)\n",
    "        x = self.dropout3(x)\n",
    "        x = self.dense3(x)\n",
    "\n",
    "        return x\n",
    "\n",
    "\n",
    "class CustomDataset(Dataset):\n",
    "    def __init__(self, data, transform=None):\n",
    "        self.data = data\n",
    "        self.transform = transform\n",
    "\n",
    "    def __len__(self):\n",
    "        return len(self.data)\n",
    "\n",
    "    def __getitem__(self, index):\n",
    "        x = self.data.iloc[index].values.astype(np.float32)  # Convert to float32\n",
    "        if self.transform:\n",
    "            x = self.transform(x)\n",
    "        return x"
   ]
  },
  {
   "cell_type": "code",
   "execution_count": 13,
   "id": "1d0a665c",
   "metadata": {},
   "outputs": [
    {
     "data": {
      "text/plain": [
       "array([1, 0])"
      ]
     },
     "execution_count": 13,
     "metadata": {},
     "output_type": "execute_result"
    }
   ],
   "source": [
    "y_train.unique()"
   ]
  },
  {
   "cell_type": "code",
   "execution_count": 14,
   "id": "e507ade5",
   "metadata": {},
   "outputs": [],
   "source": [
    "problem_type = \"binary_classification\"\n",
    "socnn = SoftOrdering1DCNN(num_features = len(X_train.columns), num_targets = 1 ,hidden_size= 2538, problem_type = problem_type)"
   ]
  },
  {
   "cell_type": "code",
   "execution_count": 15,
   "id": "f1646dc3",
   "metadata": {},
   "outputs": [],
   "source": [
    "best_params = {\n",
    "    'num_epochs': 10,\n",
    "    'batch_size': 512,\n",
    "    'shuffle': True,\n",
    "    'validation_fraction': 0.15,\n",
    "    'early_stopping': True,\n",
    "    'early_stopping_patience': 30,\n",
    "    'learning_rate': 0.001\n",
    "}"
   ]
  },
  {
   "cell_type": "code",
   "execution_count": 16,
   "id": "ae1c53bb",
   "metadata": {},
   "outputs": [
    {
     "name": "stderr",
     "output_type": "stream",
     "text": [
      "Training:   0%|                                       | 0/10 [00:00<?, ?epoch/s]\n"
     ]
    },
    {
     "ename": "RuntimeError",
     "evalue": "shape '[364, 256, 9]' is invalid for input of size 923832",
     "output_type": "error",
     "traceback": [
      "\u001b[0;31m---------------------------------------------------------------------------\u001b[0m",
      "\u001b[0;31mRuntimeError\u001b[0m                              Traceback (most recent call last)",
      "Cell \u001b[0;32mIn[16], line 1\u001b[0m\n\u001b[0;32m----> 1\u001b[0m \u001b[43msocnn\u001b[49m\u001b[38;5;241;43m.\u001b[39;49m\u001b[43mtrain\u001b[49m\u001b[43m(\u001b[49m\u001b[43mX_train\u001b[49m\u001b[43m,\u001b[49m\u001b[43m \u001b[49m\u001b[43my_train\u001b[49m\u001b[43m,\u001b[49m\u001b[43m \u001b[49m\u001b[43mparams\u001b[49m\u001b[43m \u001b[49m\u001b[38;5;241;43m=\u001b[39;49m\u001b[43m \u001b[49m\u001b[43mbest_params\u001b[49m\u001b[43m)\u001b[49m\n",
      "Cell \u001b[0;32mIn[12], line 103\u001b[0m, in \u001b[0;36mSoftOrdering1DCNN.train\u001b[0;34m(self, X_train, y_train, params, extra_info)\u001b[0m\n\u001b[1;32m    100\u001b[0m inputs, labels \u001b[38;5;241m=\u001b[39m inputs\u001b[38;5;241m.\u001b[39mto(\u001b[38;5;28mself\u001b[39m\u001b[38;5;241m.\u001b[39mdevice), labels\u001b[38;5;241m.\u001b[39mto(\u001b[38;5;28mself\u001b[39m\u001b[38;5;241m.\u001b[39mdevice)\n\u001b[1;32m    102\u001b[0m \u001b[38;5;28;01mif\u001b[39;00m (\u001b[38;5;28mself\u001b[39m\u001b[38;5;241m.\u001b[39mproblem_type \u001b[38;5;241m==\u001b[39m \u001b[38;5;124m\"\u001b[39m\u001b[38;5;124mbinary_classification\u001b[39m\u001b[38;5;124m\"\u001b[39m):\n\u001b[0;32m--> 103\u001b[0m     outputs \u001b[38;5;241m=\u001b[39m torch\u001b[38;5;241m.\u001b[39msigmoid(\u001b[38;5;28;43mself\u001b[39;49m\u001b[38;5;241;43m.\u001b[39;49m\u001b[43mmodel\u001b[49m\u001b[43m(\u001b[49m\u001b[43minputs\u001b[49m\u001b[43m)\u001b[49m)\u001b[38;5;241m.\u001b[39mreshape(\u001b[38;5;241m-\u001b[39m\u001b[38;5;241m1\u001b[39m)\n\u001b[1;32m    104\u001b[0m     labels \u001b[38;5;241m=\u001b[39m labels\u001b[38;5;241m.\u001b[39mfloat()\n\u001b[1;32m    105\u001b[0m \u001b[38;5;28;01melif\u001b[39;00m \u001b[38;5;28mself\u001b[39m\u001b[38;5;241m.\u001b[39mproblem_type \u001b[38;5;241m==\u001b[39m \u001b[38;5;124m\"\u001b[39m\u001b[38;5;124mregression\u001b[39m\u001b[38;5;124m\"\u001b[39m:\n",
      "File \u001b[0;32m~/.pyenv/versions/3.10.0/envs/WTab/lib/python3.10/site-packages/torch/nn/modules/module.py:1194\u001b[0m, in \u001b[0;36mModule._call_impl\u001b[0;34m(self, *input, **kwargs)\u001b[0m\n\u001b[1;32m   1190\u001b[0m \u001b[38;5;66;03m# If we don't have any hooks, we want to skip the rest of the logic in\u001b[39;00m\n\u001b[1;32m   1191\u001b[0m \u001b[38;5;66;03m# this function, and just call forward.\u001b[39;00m\n\u001b[1;32m   1192\u001b[0m \u001b[38;5;28;01mif\u001b[39;00m \u001b[38;5;129;01mnot\u001b[39;00m (\u001b[38;5;28mself\u001b[39m\u001b[38;5;241m.\u001b[39m_backward_hooks \u001b[38;5;129;01mor\u001b[39;00m \u001b[38;5;28mself\u001b[39m\u001b[38;5;241m.\u001b[39m_forward_hooks \u001b[38;5;129;01mor\u001b[39;00m \u001b[38;5;28mself\u001b[39m\u001b[38;5;241m.\u001b[39m_forward_pre_hooks \u001b[38;5;129;01mor\u001b[39;00m _global_backward_hooks\n\u001b[1;32m   1193\u001b[0m         \u001b[38;5;129;01mor\u001b[39;00m _global_forward_hooks \u001b[38;5;129;01mor\u001b[39;00m _global_forward_pre_hooks):\n\u001b[0;32m-> 1194\u001b[0m     \u001b[38;5;28;01mreturn\u001b[39;00m \u001b[43mforward_call\u001b[49m\u001b[43m(\u001b[49m\u001b[38;5;241;43m*\u001b[39;49m\u001b[38;5;28;43minput\u001b[39;49m\u001b[43m,\u001b[49m\u001b[43m \u001b[49m\u001b[38;5;241;43m*\u001b[39;49m\u001b[38;5;241;43m*\u001b[39;49m\u001b[43mkwargs\u001b[49m\u001b[43m)\u001b[49m\n\u001b[1;32m   1195\u001b[0m \u001b[38;5;66;03m# Do not call functions when jit is used\u001b[39;00m\n\u001b[1;32m   1196\u001b[0m full_backward_hooks, non_full_backward_hooks \u001b[38;5;241m=\u001b[39m [], []\n",
      "Cell \u001b[0;32mIn[12], line 290\u001b[0m, in \u001b[0;36mModel.forward\u001b[0;34m(self, x)\u001b[0m\n\u001b[1;32m    287\u001b[0m x \u001b[38;5;241m=\u001b[39m \u001b[38;5;28mself\u001b[39m\u001b[38;5;241m.\u001b[39mdropout1(x)\n\u001b[1;32m    288\u001b[0m x \u001b[38;5;241m=\u001b[39m F\u001b[38;5;241m.\u001b[39mcelu(\u001b[38;5;28mself\u001b[39m\u001b[38;5;241m.\u001b[39mdense1(x), alpha\u001b[38;5;241m=\u001b[39m\u001b[38;5;241m0.06\u001b[39m)\n\u001b[0;32m--> 290\u001b[0m x \u001b[38;5;241m=\u001b[39m \u001b[43mx\u001b[49m\u001b[38;5;241;43m.\u001b[39;49m\u001b[43mreshape\u001b[49m\u001b[43m(\u001b[49m\u001b[43mx\u001b[49m\u001b[38;5;241;43m.\u001b[39;49m\u001b[43mshape\u001b[49m\u001b[43m[\u001b[49m\u001b[38;5;241;43m0\u001b[39;49m\u001b[43m]\u001b[49m\u001b[43m,\u001b[49m\u001b[43m \u001b[49m\u001b[38;5;28;43mself\u001b[39;49m\u001b[38;5;241;43m.\u001b[39;49m\u001b[43mcha_1\u001b[49m\u001b[43m,\u001b[49m\u001b[43m \u001b[49m\u001b[38;5;28;43mself\u001b[39;49m\u001b[38;5;241;43m.\u001b[39;49m\u001b[43mcha_1_reshape\u001b[49m\u001b[43m)\u001b[49m\n\u001b[1;32m    292\u001b[0m x \u001b[38;5;241m=\u001b[39m \u001b[38;5;28mself\u001b[39m\u001b[38;5;241m.\u001b[39mbatch_norm_c1(x)\n\u001b[1;32m    293\u001b[0m x \u001b[38;5;241m=\u001b[39m \u001b[38;5;28mself\u001b[39m\u001b[38;5;241m.\u001b[39mdropout_c1(x)\n",
      "\u001b[0;31mRuntimeError\u001b[0m: shape '[364, 256, 9]' is invalid for input of size 923832"
     ]
    }
   ],
   "source": [
    "socnn.train(X_train, y_train, params = best_params)"
   ]
  },
  {
   "cell_type": "code",
   "execution_count": 175,
   "id": "097061c3",
   "metadata": {},
   "outputs": [
    {
     "name": "stdout",
     "output_type": "stream",
     "text": [
      "[1 1 1 1 1 1 1 1 1 1 1 1 1 1 1 1 1 1 1 1 1 1 1 1 1 1 1 1 1 1 1 1 1 1 1 1 1\n",
      " 1 1 1 1 1 1 1 1 1 1 1 1 0 1 1 1 1 1 1 1 1 1 1 1 1 1 1 1 1 1 1 1 1 1 1 1 1\n",
      " 1 1 1 1 1 1 1 1 1 1 1 1 1 1 1 1 1 1 1 1 1 1 1 1 1 1 1 1 1 1 1 1 1 1 1 1 1\n",
      " 1 1 1 1 1 1 1 1 1 1 1 1 1]\n",
      "[0.502207   0.5021919  0.50224733 0.50222707 0.5022724  0.5022734\n",
      " 0.50225407 0.5021931  0.50223786 0.50221735 0.5021982  0.50226986\n",
      " 0.50199884 0.50293005 0.50224966 0.502193   0.50227964 0.502275\n",
      " 0.50226754 0.5022299  0.5020732  0.5021633  0.50221413 0.50223774\n",
      " 0.5022417  0.50222313 0.5022052  0.5012899  0.5022073  0.5022323\n",
      " 0.5022657  0.5022755  0.5024727  0.50221765 0.5023059  0.50241566\n",
      " 0.5021885  0.50231725 0.5021963  0.50222886 0.5021593  0.50224274\n",
      " 0.5022479  0.50229937 0.5022711  0.5021754  0.5021557  0.50234175\n",
      " 0.5023185  0.48626894 0.50229293 0.5021674  0.5022649  0.5023246\n",
      " 0.50223106 0.50225395 0.5021346  0.5022304  0.5022082  0.5021818\n",
      " 0.50229293 0.5021956  0.5021376  0.5021858  0.5022331  0.5086306\n",
      " 0.50219244 0.5020882  0.50223464 0.5021912  0.50221056 0.50215983\n",
      " 0.50225985 0.5022016  0.5022276  0.50221974 0.50227344 0.5023635\n",
      " 0.5022353  0.5021893  0.50228816 0.5022042  0.5021913  0.502206\n",
      " 0.50224334 0.5022445  0.50224715 0.50230426 0.5021914  0.5023101\n",
      " 0.5022107  0.50225663 0.5023198  0.5021981  0.5022202  0.50223434\n",
      " 0.5021196  0.5619315  0.50234675 0.50218844 0.50228137 0.5021771\n",
      " 0.502209   0.50374234 0.5022714  0.5022834  0.50236124 0.50224125\n",
      " 0.50221    0.5022362  0.5023412  0.50219274 0.50244415 0.5022906\n",
      " 0.50232375 0.502244   0.50215435 0.5022864  0.50224847 0.5022022\n",
      " 0.5021822  0.50232905 0.5022175  0.50223935]\n"
     ]
    }
   ],
   "source": [
    "print(socnn.predict(X_test)[0])\n",
    "print(socnn.predict(X_test)[1])"
   ]
  },
  {
   "cell_type": "code",
   "execution_count": 176,
   "id": "59a70496",
   "metadata": {},
   "outputs": [
    {
     "data": {
      "text/plain": [
       "(array([1, 1, 1]),\n",
       " 49     1\n",
       " 581    0\n",
       " 82     0\n",
       " Name: target, dtype: int64)"
      ]
     },
     "execution_count": 176,
     "metadata": {},
     "output_type": "execute_result"
    }
   ],
   "source": [
    "y_pred = socnn.predict(X_test)[0].reshape(-1)\n",
    "y_true = y_test.values\n",
    "y_pred[:3], y_test[:3]"
   ]
  },
  {
   "cell_type": "code",
   "execution_count": 177,
   "id": "531d793f",
   "metadata": {},
   "outputs": [
    {
     "name": "stdout",
     "output_type": "stream",
     "text": [
      "Accuracy: 0.1774193548387097\n",
      "Precision: 0.17886178861788618\n",
      "Recall: 0.9565217391304348\n",
      "F1 score: 0.3013698630136986\n",
      "ROC AUC score: 0.4782608695652174\n"
     ]
    },
    {
     "data": {
      "text/plain": [
       "array([0.        , 0.95652174])"
      ]
     },
     "execution_count": 177,
     "metadata": {},
     "output_type": "execute_result"
    }
   ],
   "source": [
    "# Calculate accuracy\n",
    "accuracy = accuracy_score(y_true, y_pred)\n",
    "print(\"Accuracy:\", accuracy)\n",
    "\n",
    "# Calculate precision\n",
    "precision = precision_score(y_true, y_pred)\n",
    "print(\"Precision:\", precision)\n",
    "\n",
    "# Calculate recall\n",
    "recall = recall_score(y_true, y_pred)\n",
    "print(\"Recall:\", recall)\n",
    "\n",
    "# Calculate F1 score\n",
    "f1 = f1_score(y_true, y_pred)\n",
    "print(\"F1 score:\", f1)\n",
    "\n",
    "# Calculate ROC AUC score\n",
    "roc_auc = roc_auc_score(y_true, y_pred)\n",
    "print(\"ROC AUC score:\", roc_auc)\n",
    "\n",
    "from sklearn.metrics import confusion_matrix\n",
    "matrix = confusion_matrix(y_true, y_pred)\n",
    "matrix.diagonal()/matrix.sum(axis=1)"
   ]
  },
  {
   "cell_type": "code",
   "execution_count": null,
   "id": "5dedbea6",
   "metadata": {},
   "outputs": [],
   "source": [
    "X_test"
   ]
  },
  {
   "cell_type": "code",
   "execution_count": null,
   "id": "3f6e355f",
   "metadata": {},
   "outputs": [],
   "source": []
  },
  {
   "cell_type": "code",
   "execution_count": null,
   "id": "8c779629",
   "metadata": {},
   "outputs": [],
   "source": []
  },
  {
   "cell_type": "code",
   "execution_count": null,
   "id": "d0cead9c",
   "metadata": {},
   "outputs": [],
   "source": []
  },
  {
   "cell_type": "code",
   "execution_count": null,
   "id": "8325e098",
   "metadata": {},
   "outputs": [],
   "source": []
  },
  {
   "cell_type": "code",
   "execution_count": null,
   "id": "da03c81f",
   "metadata": {},
   "outputs": [],
   "source": []
  },
  {
   "cell_type": "markdown",
   "id": "2e72a140",
   "metadata": {},
   "source": [
    "# GATE Tests"
   ]
  },
  {
   "cell_type": "code",
   "execution_count": null,
   "id": "de94b527",
   "metadata": {},
   "outputs": [],
   "source": [
    "total_count = 891\n",
    "class_count = [549, 342]\n",
    "class_weights = [total_count / count for count in class_count]\n",
    "class_weights"
   ]
  },
  {
   "cell_type": "code",
   "execution_count": null,
   "id": "e70556b2",
   "metadata": {},
   "outputs": [],
   "source": [
    "mu = class_weights[0] / class_weights[1] # 0.620\n",
    "weighted_loss = get_class_weighted_cross_entropy(y_train.values.ravel(), mu=mu)\n",
    "print(f\"mu = {mu}\")"
   ]
  },
  {
   "cell_type": "code",
   "execution_count": null,
   "id": "dbfec264",
   "metadata": {},
   "outputs": [],
   "source": [
    "# Define the data configuration\n",
    "data_config = DataConfig(\n",
    "    target=['target'],\n",
    "    continuous_cols= [i for i in extra_info[\"num_col_names\"] if i != \"target\"],\n",
    "    categorical_cols=extra_info[\"cat_col_names\"],\n",
    ")\n",
    "trainer_config = TrainerConfig(\n",
    "    auto_lr_find = True,  # Runs the LRFinder to automatically derive a learning rate\n",
    "    batch_size   = 32,\n",
    "    max_epochs   = 1000,\n",
    ")\n",
    "\n",
    "optimizer_config = OptimizerConfig()\n",
    "\n",
    "model_config = GatedAdditiveTreeEnsembleConfig(\n",
    "    task=\"classification\",\n",
    "    tree_depth  =  6,\n",
    "    num_trees   = 16,\n",
    "    chain_trees = True, # akin to bagging, True is akin to boosting\n",
    "    gflu_stages =  2,\n",
    "    metrics=['accuracy'],\n",
    "    metrics_params=[dict(task=\"multiclass\", num_classes=2)]\n",
    ")\n",
    "\n",
    "tabular_model = TabularModel(\n",
    "    data_config=data_config,\n",
    "    model_config=model_config,\n",
    "    optimizer_config=optimizer_config,\n",
    "    trainer_config=trainer_config,\n",
    ")"
   ]
  },
  {
   "cell_type": "code",
   "execution_count": null,
   "id": "3a6caefa",
   "metadata": {},
   "outputs": [],
   "source": [
    "help(TrainerConfig)"
   ]
  },
  {
   "cell_type": "code",
   "execution_count": null,
   "id": "661b2152",
   "metadata": {},
   "outputs": [],
   "source": [
    "help(GatedAdditiveTreeEnsembleConfig)"
   ]
  },
  {
   "cell_type": "code",
   "execution_count": null,
   "id": "9e3c352a",
   "metadata": {},
   "outputs": [],
   "source": [
    "assert X_train.isnull().sum().sum() == 0"
   ]
  },
  {
   "cell_type": "code",
   "execution_count": null,
   "id": "7488c259",
   "metadata": {},
   "outputs": [],
   "source": [
    "tabular_model = TabularModel(\n",
    "    data_config=data_config,\n",
    "    model_config=model_config,\n",
    "    optimizer_config=optimizer_config,\n",
    "    trainer_config=trainer_config,\n",
    ")\n",
    "\n",
    "# Merge X_train and y_train  \n",
    "train = pd.concat([X_train, y_train], axis=1)\n",
    "\n",
    "# Merge X_val and y_val\n",
    "validation = pd.concat([X_val, y_val], axis=1)\n",
    "\n",
    "tabular_model.fit(\n",
    "    train=train, \n",
    "    validation=validation,\n",
    "    loss=weighted_loss\n",
    ")"
   ]
  },
  {
   "cell_type": "code",
   "execution_count": null,
   "id": "6a43950e",
   "metadata": {},
   "outputs": [],
   "source": [
    "df_val.head()"
   ]
  },
  {
   "cell_type": "code",
   "execution_count": null,
   "id": "a1a98fec",
   "metadata": {},
   "outputs": [],
   "source": [
    "result  = tabular_model.evaluate(df_val)\n",
    "result"
   ]
  },
  {
   "cell_type": "code",
   "execution_count": null,
   "id": "5e477bf1",
   "metadata": {},
   "outputs": [],
   "source": []
  },
  {
   "cell_type": "code",
   "execution_count": null,
   "id": "acfdb679",
   "metadata": {},
   "outputs": [],
   "source": [
    "pred_df = tabular_model.predict(df_val)\n",
    "pred_df.head()\n",
    "# Add PassengerId information to the predictions\n",
    "pred_df_with_ids = pd.concat([df_val_id.reset_index(drop=True), pred_df.reset_index(drop=True)], axis=1)\n",
    "\n",
    "pred_df_with_ids = pred_df_with_ids.rename(columns={'prediction': 'Survived'})\n",
    "# Display the predictions with PassengerId information\n",
    "pred_df_with_ids[[\"PassengerId\", \"Survived\"]].head()"
   ]
  },
  {
   "cell_type": "code",
   "execution_count": null,
   "id": "7ee916b3",
   "metadata": {},
   "outputs": [],
   "source": [
    "pred_df_with_ids[\"Survived\"].value_counts()"
   ]
  },
  {
   "cell_type": "code",
   "execution_count": null,
   "id": "43b38fd4",
   "metadata": {},
   "outputs": [],
   "source": [
    "pred_df_with_ids[[\"PassengerId\", \"Survived\"]].to_csv(\"/Users/mdicio/Desktop/doidownloads/kaggle_datasets/test_submission_boom.csv\", index = False)"
   ]
  },
  {
   "cell_type": "markdown",
   "id": "3f46e051",
   "metadata": {},
   "source": [
    "# TabTransformer Tests"
   ]
  },
  {
   "cell_type": "code",
   "execution_count": null,
   "id": "549c0914",
   "metadata": {},
   "outputs": [],
   "source": [
    "#pip install tab-transformer-pytorch\n",
    "import torch\n",
    "from tab_transformer_pytorch import FTTransformer"
   ]
  },
  {
   "cell_type": "code",
   "execution_count": null,
   "id": "6db3e44c",
   "metadata": {},
   "outputs": [],
   "source": [
    "\n",
    "model = FTTransformer(\n",
    "    categories = (5, 5, 5, 5, 5),      # tuple containing the number of unique values within each category\n",
    "    num_continuous = 10,                # number of continuous values\n",
    "    dim = 32,                           # dimension, paper set at 32\n",
    "    dim_out = 1,                        # binary prediction, but could be anything\n",
    "    depth = 6,                          # depth, paper recommended 6\n",
    "    heads = 8,                          # heads, paper recommends 8\n",
    "    attn_dropout = 0.1,                 # post-attention dropout\n",
    "    ff_dropout = 0.1                    # feed forward dropout\n",
    ")\n",
    "\n",
    "x_categ = torch.randint(0, 5, (1, 5))     # category values, from 0 - max number of categories, in the order as passed into the constructor above\n",
    "x_numer = torch.randn(1, 10)              # numerical value\n",
    "\n",
    "pred = model(x_categ, x_numer) # (1, 1)"
   ]
  },
  {
   "cell_type": "code",
   "execution_count": null,
   "id": "24ac956f",
   "metadata": {},
   "outputs": [],
   "source": [
    "x_categ.shape, x_numer.shape"
   ]
  },
  {
   "cell_type": "code",
   "execution_count": null,
   "id": "b34999a6",
   "metadata": {},
   "outputs": [],
   "source": [
    "x_categ = torch.randint(0, 5, (1, 5))  \n",
    "x_categ, x_numer"
   ]
  },
  {
   "cell_type": "code",
   "execution_count": null,
   "id": "8064d1d6",
   "metadata": {},
   "outputs": [],
   "source": [
    "pred"
   ]
  },
  {
   "cell_type": "code",
   "execution_count": null,
   "id": "d23d426e",
   "metadata": {},
   "outputs": [],
   "source": [
    "x"
   ]
  },
  {
   "cell_type": "markdown",
   "id": "eebdc7be",
   "metadata": {},
   "source": [
    "# Tabnet Tests"
   ]
  },
  {
   "cell_type": "code",
   "execution_count": null,
   "id": "fb30a010",
   "metadata": {},
   "outputs": [],
   "source": [
    "# Split the train data into training and validation sets\n",
    "from pytorch_tabnet.tab_model import TabNetClassifier\n",
    "from pytorch_tabnet.callbacks import EarlyStopping"
   ]
  },
  {
   "cell_type": "code",
   "execution_count": null,
   "id": "7f096715",
   "metadata": {},
   "outputs": [],
   "source": [
    "help(TabNetClassifier)"
   ]
  },
  {
   "cell_type": "code",
   "execution_count": null,
   "id": "99175122",
   "metadata": {},
   "outputs": [],
   "source": []
  },
  {
   "cell_type": "code",
   "execution_count": null,
   "id": "f6a09b30",
   "metadata": {},
   "outputs": [],
   "source": [
    "# Define the early stopping callback\n",
    "early_stopping = EarlyStopping(early_stopping_metric = 'val_loss',\n",
    "is_maximize = False,\n",
    "patience = 32\n",
    ")\n",
    "\n",
    "model = TabNetClassifier()\n",
    "\n",
    "# Train the model with early stopping\n",
    "model.fit(\n",
    "    X_train, y_train,\n",
    "    eval_set=[(X_val, y_val)],\n",
    "    eval_name=['valid'],\n",
    "    eval_metric=['logloss'],\n",
    "    max_epochs=2,\n",
    "    batch_size = 16,\n",
    "    callbacks=[early_stopping],\n",
    "patience = 32)            "
   ]
  },
  {
   "cell_type": "code",
   "execution_count": null,
   "id": "ea7f7a30",
   "metadata": {},
   "outputs": [],
   "source": [
    "X_train.shape, X_val.shape, y_train.shape, y_val.shape"
   ]
  },
  {
   "cell_type": "code",
   "execution_count": null,
   "id": "d2e23bb7",
   "metadata": {},
   "outputs": [],
   "source": [
    "# Predict the labels of the validation data\n",
    "y_pred = model.predict(X_test)\n",
    "# Calculate the score using the specified metric\n",
    "evaluator = Evaluator(problem_type = \"multiclass_classification\")\n",
    "evaluator.y_true = y_val\n",
    "evaluator.y_pred = y_pred\n",
    "score = evaluator.evaluate_metric(metric_name = \"f1\")"
   ]
  }
 ],
 "metadata": {
  "kernelspec": {
   "display_name": "Python 3 (ipykernel)",
   "language": "python",
   "name": "python3"
  },
  "language_info": {
   "codemirror_mode": {
    "name": "ipython",
    "version": 3
   },
   "file_extension": ".py",
   "mimetype": "text/x-python",
   "name": "python",
   "nbconvert_exporter": "python",
   "pygments_lexer": "ipython3",
   "version": "3.10.0"
  }
 },
 "nbformat": 4,
 "nbformat_minor": 5
}
