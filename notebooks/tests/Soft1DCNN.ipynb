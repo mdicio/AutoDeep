{
    "cells": [
        {
            "cell_type": "code",
            "execution_count": 749,
            "id": "4b4ffcfb",
            "metadata": {},
            "outputs": [
                {
                    "name": "stdout",
                    "output_type": "stream",
                    "text": [
                        "tensor([[ 0.6470,  0.2776],\n",
                        "        [ 0.6830,  0.1548],\n",
                        "        [-1.1104, -0.4495],\n",
                        "        [-0.3796, -0.0168],\n",
                        "        [ 0.8218,  0.3574],\n",
                        "        [ 0.0988, -0.5517]])\n"
                    ]
                }
            ],
            "source": [
                "import torch\n",
                "\n",
                "data_list = [\n",
                "    [0.6470, 0.2776],\n",
                "    [0.6830, 0.1548],\n",
                "    [-1.1104, -0.4495],\n",
                "    [-0.3796, -0.0168],\n",
                "    [0.8218, 0.3574],\n",
                "    [0.0988, -0.5517]\n",
                "]\n",
                "\n",
                "# Convert the list of lists to a PyTorch tensor\n",
                "data_tensor = torch.tensor(data_list)\n",
                "\n",
                "print(data_tensor)"
            ]
        },
        {
            "cell_type": "code",
            "execution_count": 753,
            "id": "9cc7ce88",
            "metadata": {},
            "outputs": [
                {
                    "data": {
                        "text/plain": [
                            "tensor([ 0.6470,  0.2776,  0.6830,  0.1548, -1.1104, -0.4495, -0.3796, -0.0168,\n",
                            "         0.8218,  0.3574,  0.0988, -0.5517])"
                        ]
                    },
                    "execution_count": 753,
                    "metadata": {},
                    "output_type": "execute_result"
                }
            ],
            "source": [
                "data_tensor.reshape(-1)"
            ]
        },
        {
            "cell_type": "code",
            "execution_count": 92,
            "id": "385dfcae",
            "metadata": {},
            "outputs": [],
            "source": [
                "#pip install seaborn\n",
                "import warnings\n",
                "warnings.filterwarnings('ignore')\n",
                "\n",
                "from pytorch_tabular import TabularModel\n",
                "from pytorch_tabular.models import GatedAdditiveTreeEnsembleConfig\n",
                "from pytorch_tabular.config import (\n",
                "    DataConfig,\n",
                "    OptimizerConfig,\n",
                "    TrainerConfig,\n",
                "    #ExperimentConfig,\n",
                ")\n",
                "from pytorch_tabular.utils import get_class_weighted_cross_entropy\n",
                "#pip install pytorch_tabular[extra]\n",
                "from evaluation.generalevaluator import *\n",
                "import xgboost as xgb\n",
                "from sklearn.model_selection import train_test_split\n",
                "from sklearn.datasets import load_iris, fetch_california_housing, load_breast_cancer\n",
                "from factory import create_data_loader\n",
                "import pandas as pd\n",
                "from torch.optim.lr_scheduler import ReduceLROnPlateau\n",
                "from tqdm import tqdm\n",
                "\n",
                "from torch.utils.data import Dataset, DataLoader\n",
                "import pandas as pd\n",
                "import numpy as np\n",
                "import torchvision.transforms as transforms"
            ]
        },
        {
            "cell_type": "code",
            "execution_count": 883,
            "id": "6d3704da",
            "metadata": {},
            "outputs": [],
            "source": [
                "data_loader = create_data_loader('ageconditions', test_size=0.2, normalize_features = \"mean_std\", return_extra_info = True)\n",
                "X_train, X_test, y_train, y_test, extra_info = data_loader.load_data()\n",
                "\n",
                "# Assume that X_train is a pandas DataFrame containing your features\n",
                "numeric_features = X_train.select_dtypes(include=['int64', 'float64']).columns.tolist()\n",
                "# Select only numeric features from X_train and X_val\n",
                "X_train = X_train[numeric_features]\n",
                "X_test = X_test[numeric_features]"
            ]
        },
        {
            "cell_type": "code",
            "execution_count": 884,
            "id": "6288a9ee",
            "metadata": {},
            "outputs": [
                {
                    "data": {
                        "text/plain": [
                            "(493, 56)"
                        ]
                    },
                    "execution_count": 884,
                    "metadata": {},
                    "output_type": "execute_result"
                }
            ],
            "source": [
                "X_train.shape"
            ]
        },
        {
            "cell_type": "code",
            "execution_count": 847,
            "id": "651f2d8a",
            "metadata": {},
            "outputs": [],
            "source": [
                "import torch\n",
                "import torch.nn as nn\n",
                "import torch.optim as optim\n",
                "import numpy as np\n",
                "import pandas as pd\n",
                "from torch.utils.data import TensorDataset, DataLoader, random_split\n",
                "from sklearn.utils.class_weight import compute_class_weight\n",
                "\n",
                "\n",
                "class SoftOrdering1DCNN:\n",
                "    def __init__(\n",
                "        self,\n",
                "        num_features,\n",
                "        num_targets,\n",
                "        hidden_size,\n",
                "        problem_type=\"binary_classification\",\n",
                "        **params,\n",
                "    ):\n",
                "        self.num_features = num_features\n",
                "        self.hidden_size = hidden_size\n",
                "        self.problem_type = problem_type\n",
                "        self.num_targets = num_targets\n",
                "        self.learning_rate = 0.001\n",
                "        self.batch_size = 512\n",
                "        self.save_path = None\n",
                "        self.device = params.get(\n",
                "            \"device\", torch.device(\"cuda\" if torch.cuda.is_available() else \"cpu\")\n",
                "        )\n",
                "        self.model = self.build_model()\n",
                "        self.transformation = None\n",
                "\n",
                "    def build_model(self):\n",
                "        model = Model(self.num_features, self.num_targets, self.hidden_size)\n",
                "        return model\n",
                "\n",
                "    def train(self, X_train, y_train, params={}, extra_info=None):\n",
                "        validation_fraction = params.get(\"validation_fraction\", 0.2)\n",
                "        num_epochs = params.get(\"num_epochs\", 3)\n",
                "        batch_size = params.get(\"batch_size\", 32)\n",
                "        shuffle = params.get(\"shuffle\", True)\n",
                "        validation_split = params.get(\"validation_split\", 0.2)\n",
                "        early_stopping = params.get(\"early_stopping\", False)\n",
                "        patience = params.get(\"early_stopping_patience\", 5)\n",
                "\n",
                "        self.optimizer = optim.Adam(self.model.parameters(), lr=self.learning_rate)\n",
                "        self.scheduler = ReduceLROnPlateau(\n",
                "            self.optimizer, mode=\"min\", factor=0.1, patience=7, verbose=True\n",
                "        )\n",
                "\n",
                "        self.device = torch.device(\"cuda\" if torch.cuda.is_available() else \"cpu\")\n",
                "\n",
                "        if self.problem_type == \"binary_classification\":\n",
                "            num_positives = y_train.sum()\n",
                "            num_negatives = len(y_train) - num_positives\n",
                "            pos_weight  = torch.tensor(num_negatives / num_positives)\n",
                "            self.loss_fn = nn.BCEWithLogitsLoss(pos_weight = pos_weight)\n",
                "        elif self.problem_type == \"multiclass_classification\":\n",
                "            # Convert y_train to a tensor and calculate class weights for multiclass classification\n",
                "            y_train_tensor = torch.tensor(y_train.values, dtype=torch.long).flatten()\n",
                "            classes = torch.unique(y_train_tensor)  # Get the unique class labels\n",
                "            class_weights = compute_class_weight(\n",
                "                \"balanced\", classes=np.array(classes), y=y_train.values\n",
                "            )\n",
                "            class_weights = torch.tensor(class_weights, dtype=torch.float32).to(\n",
                "                self.device\n",
                "            )\n",
                "            self.loss_fn = nn.CrossEntropyLoss(weight=class_weights, reduction=\"mean\")\n",
                "        elif self.problem_type == \"regression\":\n",
                "            self.loss_fn = params.get(\"loss_fn\", nn.MSELoss())\n",
                "        else:\n",
                "            raise ValueError(\n",
                "                \"Invalid problem_type. Supported values are 'binary', 'multiclass', and 'regression'.\"\n",
                "            )\n",
                "\n",
                "        X_train_tensor = torch.tensor(X_train.values, dtype=torch.float)\n",
                "        y_train_tensor = torch.tensor(\n",
                "            y_train.values,\n",
                "            dtype=torch.float if self.problem_type == \"regression\" else torch.long,\n",
                "        )\n",
                "        dataset = TensorDataset(X_train_tensor, y_train_tensor)\n",
                "\n",
                "        dataloader = DataLoader(dataset, batch_size=batch_size, shuffle=shuffle)\n",
                "\n",
                "        num_samples = len(dataset)\n",
                "        num_train_samples = int((1 - validation_split) * num_samples)\n",
                "        num_val_samples = num_samples - num_train_samples\n",
                "\n",
                "        train_dataset, val_dataset = random_split(\n",
                "            dataset, [num_train_samples, num_val_samples]\n",
                "        )\n",
                "\n",
                "        train_loader = DataLoader(train_dataset, batch_size=batch_size, shuffle=shuffle)\n",
                "        val_loader = DataLoader(val_dataset, batch_size=batch_size, shuffle=False)\n",
                "\n",
                "        best_val_loss = float(\"inf\")\n",
                "        best_epoch = 0\n",
                "        current_patience = 0\n",
                "\n",
                "        self.model.to(self.device)\n",
                "        self.model.train()\n",
                "\n",
                "        with tqdm(total=num_epochs, desc=\"Training\", unit=\"epoch\", ncols=80) as pbar:\n",
                "            for epoch in range(num_epochs):\n",
                "                running_loss = 0.0\n",
                "                for i, (inputs, labels) in enumerate(train_loader):\n",
                "                    inputs, labels = inputs.to(self.device), labels.to(self.device)\n",
                "\n",
                "                    if (self.problem_type == \"binary_classification\"):\n",
                "                        outputs = torch.sigmoid(self.model(inputs)).reshape(-1)\n",
                "                        labels = labels.float()\n",
                "                    elif self.problem_type == \"regression\":\n",
                "                        outputs = self.model(inputs).reshape(-1)\n",
                "                        labels = labels.float()\n",
                "                    elif self.problem_type == \"multiclass_classification\":\n",
                "                        labels = (\n",
                "                            labels.long()\n",
                "                        )  # For multiclass classification, convert to long\n",
                "                        outputs = self.model(inputs)\n",
                "                    else:\n",
                "                        raise ValueError(\n",
                "                            \"Invalid problem_type. Supported options: binary_classification, multiclass_classification\"\n",
                "                        )\n",
                "\n",
                "                    self.optimizer.zero_grad()\n",
                "\n",
                "                    loss = self.loss_fn(outputs, labels)\n",
                "\n",
                "                    loss.backward()\n",
                "                    self.optimizer.step()\n",
                "\n",
                "                    running_loss += loss.item()\n",
                "\n",
                "                epoch_loss = running_loss / len(train_loader)\n",
                "\n",
                "                if early_stopping and validation_fraction > 0:\n",
                "                    self.model.eval()\n",
                "\n",
                "                    val_loss = 0.0\n",
                "                    with torch.no_grad():\n",
                "                        for inputs, labels in val_loader:\n",
                "                            inputs, labels = inputs.to(self.device), labels.to(\n",
                "                                self.device\n",
                "                            )\n",
                "\n",
                "                            if (self.problem_type == \"binary_classification\"):\n",
                "                                outputs = torch.sigmoid(self.model(inputs)).reshape(-1)\n",
                "                                labels = labels.float()\n",
                "                            elif self.problem_type == \"regression\":\n",
                "                                outputs = self.model(inputs).reshape(-1)\n",
                "                                labels = labels.float()\n",
                "                            elif self.problem_type == \"multiclass_classification\":\n",
                "                                labels = (\n",
                "                                    labels.long()\n",
                "                                )  # For multiclass classification, convert to long\n",
                "                                outputs = self.model(inputs)\n",
                "                            else:\n",
                "                                raise ValueError(\n",
                "                                    \"Invalid problem_type. Supported options: binary_classification, multiclass_classification\"\n",
                "                                )\n",
                "\n",
                "                            loss = self.loss_fn(outputs, labels)\n",
                "                            val_loss += loss.item() * inputs.size(0)\n",
                "\n",
                "                    val_loss /= len(val_dataset)\n",
                "\n",
                "                    self.scheduler.step(val_loss)\n",
                "\n",
    "                    if val_loss < best_val_loss + self.outer_params.get("tol",
                0.0:\n","                        best_val_loss = val_loss\n",
                "                        best_epoch = epoch\n",
                "                        current_patience = 0\n",
                "\n",
                "                        if self.save_path is not None:\n",
                "                            torch.save(\n",
                "                                self.model.state_dict(), self.save_path + \"_checkpt\"\n",
                "                            )\n",
                "                    else:\n",
                "                        current_patience += 1\n",
                "\n",
                "                    print(\n",
                "                        f\"Epoch [{epoch+1}/{num_epochs}], Train Loss: {epoch_loss:.4f}, Val Loss: {val_loss:.4f}\"\n",
                "                    )\n",
                "\n",
                "                    if current_patience >= patience:\n",
                "                        print(f\"Early stopping triggered at epoch {epoch+1}\")\n",
                "                        break\n",
                "\n",
                "            if self.save_path is not None:\n",
                "                print(f\"Best model weights saved at epoch {best_epoch+1}\")\n",
                "                self.model.load_state_dict(torch.load(self.save_path + \"_checkpt\"))\n",
                "\n",
                "    def predict(self, X_test, batch_size=4096):\n",
                "        self.model.to(self.device)\n",
                "        self.model.eval()\n",
                "\n",
                "        test_dataset = CustomDataset(\n",
                "            data=X_test,\n",
                "            transform=None,\n",
                "        )\n",
                "\n",
                "        test_loader = DataLoader(test_dataset, batch_size=batch_size, shuffle=False)\n",
                "\n",
                "        predictions = []\n",
                "\n",
                "        with torch.no_grad():\n",
                "            for inputs in test_loader:\n",
                "                inputs = inputs.to(self.device)\n",
                "                outputs = self.model(inputs)\n",
                "\n",
                "                if self.problem_type == \"binary_classification\":\n",
                "                    preds = (\n",
                "                        (torch.sigmoid(outputs) >= 0.5)\n",
                "                        .squeeze()\n",
                "                        .int()\n",
                "                        .to(\"cpu\")\n",
                "                        .numpy()\n",
                "                    )\n",
                "                elif self.problem_type == \"multiclass_classification\":\n",
                "                    _, preds = torch.max(outputs, 1)\n",
                "                    preds = preds.numpy()\n",
                "                elif self.problem_type == \"regression\":\n",
                "                    preds = outputs.to(\"cpu\").tolist()\n",
                "                else:\n",
                "                    raise ValueError(\n",
                "                        \"Invalid problem_type. Supported options: binary_classification, multiclass_classification, regression.\"\n",
                "                    )\n",
                "\n",
                "                predictions.extend(preds)\n",
                "\n",
                "        return np.array(predictions)\n",
                "\n",
                "\n",
                "class Model(nn.Module):\n",
                "    def __init__(self, num_features, num_targets, hidden_size=4196):\n",
                "        super(Model, self).__init__()\n",
                "        cha_1 = 256\n",
                "        cha_2 = 512\n",
                "        cha_3 = 512\n",
                "        self.num_targets = num_targets\n",
                "        cha_1_reshape = int(hidden_size / cha_1)\n",
                "        cha_po_1 = int(hidden_size / cha_1 / 2)\n",
                "        cha_po_2 = int(hidden_size / cha_1 / 2 / 2) * cha_3\n",
                "\n",
                "        self.cha_1 = cha_1\n",
                "        self.cha_2 = cha_2\n",
                "        self.cha_3 = cha_3\n",
                "        self.cha_1_reshape = cha_1_reshape\n",
                "        self.cha_po_1 = cha_po_1\n",
                "        self.cha_po_2 = cha_po_2\n",
                "\n",
                "        self.batch_norm1 = nn.BatchNorm1d(num_features)\n",
                "        self.dropout1 = nn.Dropout(0.1)\n",
                "        self.dense1 = nn.utils.weight_norm(nn.Linear(num_features, hidden_size))\n",
                "\n",
                "        self.batch_norm_c1 = nn.BatchNorm1d(cha_1)\n",
                "        self.dropout_c1 = nn.Dropout(0.1)\n",
                "        self.conv1 = nn.utils.weight_norm(\n",
                "            nn.Conv1d(cha_1, cha_2, kernel_size=5, stride=1, padding=2, bias=False),\n",
                "            dim=None,\n",
                "        )\n",
                "\n",
                "        self.ave_po_c1 = nn.AdaptiveAvgPool1d(output_size=cha_po_1)\n",
                "\n",
                "        self.batch_norm_c2 = nn.BatchNorm1d(cha_2)\n",
                "        self.dropout_c2 = nn.Dropout(0.1)\n",
                "        self.conv2 = nn.utils.weight_norm(\n",
                "            nn.Conv1d(cha_2, cha_2, kernel_size=3, stride=1, padding=1, bias=True),\n",
                "            dim=None,\n",
                "        )\n",
                "\n",
                "        self.batch_norm_c2_1 = nn.BatchNorm1d(cha_2)\n",
                "        self.dropout_c2_1 = nn.Dropout(0.3)\n",
                "        self.conv2_1 = nn.utils.weight_norm(\n",
                "            nn.Conv1d(cha_2, cha_2, kernel_size=3, stride=1, padding=1, bias=True),\n",
                "            dim=None,\n",
                "        )\n",
                "\n",
                "        self.batch_norm_c2_2 = nn.BatchNorm1d(cha_2)\n",
                "        self.dropout_c2_2 = nn.Dropout(0.2)\n",
                "        self.conv2_2 = nn.utils.weight_norm(\n",
                "            nn.Conv1d(cha_2, cha_3, kernel_size=5, stride=1, padding=2, bias=True),\n",
                "            dim=None,\n",
                "        )\n",
                "\n",
                "        self.max_po_c2 = nn.MaxPool1d(kernel_size=4, stride=2, padding=1)\n",
                "\n",
                "        self.flt = nn.Flatten()\n",
                "\n",
                "        self.batch_norm3 = nn.BatchNorm1d(cha_po_2)\n",
                "        self.dropout3 = nn.Dropout(0.2)\n",
                "        self.dense3 = nn.utils.weight_norm(nn.Linear(cha_po_2, num_targets))\n",
                "\n",
                "    def forward(self, x):\n",
                "        x = self.batch_norm1(x)\n",
                "        x = self.dropout1(x)\n",
                "        x = F.celu(self.dense1(x), alpha=0.06)\n",
                "\n",
                "        x = x.reshape(x.shape[0], self.cha_1, self.cha_1_reshape)\n",
                "\n",
                "        x = self.batch_norm_c1(x)\n",
                "        x = self.dropout_c1(x)\n",
                "        x = F.relu(self.conv1(x))\n",
                "\n",
                "        x = self.ave_po_c1(x)\n",
                "\n",
                "        x = self.batch_norm_c2(x)\n",
                "        x = self.dropout_c2(x)\n",
                "        x = F.relu(self.conv2(x))\n",
                "        x_s = x\n",
                "\n",
                "        x = self.batch_norm_c2_1(x)\n",
                "        x = self.dropout_c2_1(x)\n",
                "        x = F.relu(self.conv2_1(x))\n",
                "\n",
                "        x = self.batch_norm_c2_2(x)\n",
                "        x = self.dropout_c2_2(x)\n",
                "        x = F.relu(self.conv2_2(x))\n",
                "        x = x * x_s\n",
                "\n",
                "        x = self.max_po_c2(x)\n",
                "\n",
                "        x = self.flt(x)\n",
                "\n",
                "        x = self.batch_norm3(x)\n",
                "        x = self.dropout3(x)\n",
                "        x = self.dense3(x)\n",
                "\n",
                "        return x\n",
                "\n",
                "\n",
                "class CustomDataset(Dataset):\n",
                "    def __init__(self, data, transform=None):\n",
                "        self.data = data\n",
                "        self.transform = transform\n",
                "\n",
                "    def __len__(self):\n",
                "        return len(self.data)\n",
                "\n",
                "    def __getitem__(self, index):\n",
                "        x = self.data.iloc[index].values.astype(np.float32)  # Convert to float32\n",
                "        if self.transform:\n",
                "            x = self.transform(x)\n",
                "        return x"
            ]
        },
        {
            "cell_type": "code",
            "execution_count": 848,
            "id": "04a22212",
            "metadata": {},
            "outputs": [
                {
                    "data": {
                        "text/plain": [
                            "array([0, 1, 2])"
                        ]
                    },
                    "execution_count": 848,
                    "metadata": {},
                    "output_type": "execute_result"
                }
            ],
            "source": [
                "y_train.unique()"
            ]
        },
        {
            "cell_type": "code",
            "execution_count": 854,
            "id": "e507ade5",
            "metadata": {},
            "outputs": [],
            "source": [
                "problem_type = \"binary_classification\"\n",
                "socnn = SoftOrdering1DCNN(num_features = len(X_train.columns), num_targets = 1 ,hidden_size= 1024, problem_type = problem_type)"
            ]
        },
        {
            "cell_type": "code",
            "execution_count": 876,
            "id": "f1646dc3",
            "metadata": {},
            "outputs": [],
            "source": [
                "best_params = {\n",
                "    'num_epochs': 100,\n",
                "    'batch_size': 32,\n",
                "    'shuffle': True,\n",
                "    'validation_fraction': 0.2,\n",
                "    'early_stopping': True,\n",
                "    'early_stopping_patience': 15,\n",
                "    'learning_rate': 0.01\n",
                "}"
            ]
        },
        {
            "cell_type": "code",
            "execution_count": 877,
            "id": "ae1c53bb",
            "metadata": {},
            "outputs": [
                {
                    "name": "stderr",
                    "output_type": "stream",
                    "text": [
                        "\r",
                        "Training:   0%|                                      | 0/100 [00:00<?, ?epoch/s]"
                    ]
                },
                {
                    "name": "stdout",
                    "output_type": "stream",
                    "text": [
                        "Epoch [1/100], Train Loss: 0.3546, Val Loss: 0.0610\n",
                        "Epoch [2/100], Train Loss: 0.0682, Val Loss: 0.1048\n",
                        "Epoch [3/100], Train Loss: 0.0735, Val Loss: 0.0492\n",
                        "Epoch [4/100], Train Loss: 0.0648, Val Loss: 0.0711\n",
                        "Epoch [5/100], Train Loss: 0.0641, Val Loss: 0.0682\n",
                        "Epoch [6/100], Train Loss: 0.0530, Val Loss: 0.0748\n",
                        "Epoch [7/100], Train Loss: 0.0540, Val Loss: 0.0968\n",
                        "Epoch [8/100], Train Loss: 0.0580, Val Loss: 0.0757\n",
                        "Epoch [9/100], Train Loss: 0.0904, Val Loss: 0.1109\n",
                        "Epoch [10/100], Train Loss: 0.0584, Val Loss: 0.0353\n",
                        "Epoch [11/100], Train Loss: 0.0797, Val Loss: 0.0414\n",
                        "Epoch [12/100], Train Loss: 0.0581, Val Loss: 0.0554\n",
                        "Epoch [13/100], Train Loss: 0.0639, Val Loss: 0.0677\n",
                        "Epoch [14/100], Train Loss: 0.0585, Val Loss: 0.0414\n",
                        "Epoch [15/100], Train Loss: 0.0484, Val Loss: 0.0467\n",
                        "Epoch [16/100], Train Loss: 0.0428, Val Loss: 0.0755\n",
                        "Epoch [17/100], Train Loss: 0.0395, Val Loss: 0.0932\n",
                        "Epoch 00018: reducing learning rate of group 0 to 1.0000e-04.\n",
                        "Epoch [18/100], Train Loss: 0.0486, Val Loss: 0.0643\n",
                        "Epoch [19/100], Train Loss: 0.0338, Val Loss: 0.0693\n",
                        "Epoch [20/100], Train Loss: 0.0327, Val Loss: 0.0801\n",
                        "Epoch [21/100], Train Loss: 0.0303, Val Loss: 0.0907\n",
                        "Epoch [22/100], Train Loss: 0.0296, Val Loss: 0.1014\n",
                        "Epoch [23/100], Train Loss: 0.0297, Val Loss: 0.1119\n",
                        "Epoch [24/100], Train Loss: 0.0289, Val Loss: 0.1155\n"
                    ]
                },
                {
                    "name": "stderr",
                    "output_type": "stream",
                    "text": [
                        "\r",
                        "Training:   0%|                                      | 0/100 [00:06<?, ?epoch/s]"
                    ]
                },
                {
                    "name": "stdout",
                    "output_type": "stream",
                    "text": [
                        "Epoch [25/100], Train Loss: 0.0282, Val Loss: 0.1149\n",
                        "Early stopping triggered at epoch 25\n"
                    ]
                },
                {
                    "name": "stderr",
                    "output_type": "stream",
                    "text": [
                        "\n"
                    ]
                }
            ],
            "source": [
                "socnn.train(X_train, y_train, params = best_params)"
            ]
        },
        {
            "cell_type": "code",
            "execution_count": 878,
            "id": "9de7a734",
            "metadata": {},
            "outputs": [],
            "source": [
                "y_pred = socnn.predict(X_test)"
            ]
        },
        {
            "cell_type": "code",
            "execution_count": 879,
            "id": "59a70496",
            "metadata": {},
            "outputs": [],
            "source": [
                "y_pred = socnn.predict(X_test).reshape(-1)"
            ]
        },
        {
            "cell_type": "code",
            "execution_count": 880,
            "id": "2b4d89aa",
            "metadata": {},
            "outputs": [],
            "source": [
                "y_true = y_test.values"
            ]
        },
        {
            "cell_type": "code",
            "execution_count": 881,
            "id": "691efb58",
            "metadata": {},
            "outputs": [
                {
                    "data": {
                        "text/plain": [
                            "(array([1, 0, 2]),\n",
                            " 73     1\n",
                            " 18     0\n",
                            " 118    2\n",
                            " Name: target, dtype: int64)"
                        ]
                    },
                    "execution_count": 881,
                    "metadata": {},
                    "output_type": "execute_result"
                }
            ],
            "source": [
                "y_pred[:3], y_test[:3]"
            ]
        },
        {
            "cell_type": "code",
            "execution_count": 882,
            "id": "95e8a9d9",
            "metadata": {},
            "outputs": [
                {
                    "name": "stdout",
                    "output_type": "stream",
                    "text": [
                        "Accuracy: 1.0\n",
                        "Precision: 1.0\n",
                        "Recall: 1.0\n",
                        "F1 score: 1.0\n"
                    ]
                },
                {
                    "data": {
                        "text/plain": [
                            "array([1., 1., 1.])"
                        ]
                    },
                    "execution_count": 882,
                    "metadata": {},
                    "output_type": "execute_result"
                }
            ],
            "source": [
                "import numpy as np\n",
                "from sklearn.metrics import accuracy_score, precision_score, recall_score, f1_score, roc_auc_score\n",
                "\n",
                "# Assuming y_true and y_pred are the true labels and predicted labels respectively\n",
                "# For multiclass classification, y_true and y_pred should be arrays with integer labels\n",
                "\n",
                "# Calculate accuracy\n",
                "accuracy = accuracy_score(y_true, y_pred)\n",
                "print(\"Accuracy:\", accuracy)\n",
                "\n",
                "# Calculate precision (macro-averaged precision for multiclass)\n",
                "precision = precision_score(y_true, y_pred, average='macro')\n",
                "print(\"Precision:\", precision)\n",
                "\n",
                "# Calculate recall (macro-averaged recall for multiclass)\n",
                "recall = recall_score(y_true, y_pred, average='macro')\n",
                "print(\"Recall:\", recall)\n",
                "\n",
                "# Calculate F1 score (macro-averaged F1 score for multiclass)\n",
                "f1 = f1_score(y_true, y_pred, average='macro')\n",
                "print(\"F1 score:\", f1)\n",
                "\n",
                "from sklearn.metrics import confusion_matrix\n",
                "matrix = confusion_matrix(y_true, y_pred)\n",
                "matrix.diagonal()/matrix.sum(axis=1)"
            ]
        },
        {
            "cell_type": "code",
            "execution_count": 842,
            "id": "4990e4a3",
            "metadata": {},
            "outputs": [
                {
                    "name": "stdout",
                    "output_type": "stream",
                    "text": [
                        "Mean Squared Error: 0.375488275527397\n",
                        "Mean Absolute Error: 0.4208410378792489\n",
                        "R-squared Score: 0.7134571864491843\n"
                    ]
                }
            ],
            "source": [
                "from sklearn.metrics import mean_squared_error, mean_absolute_error, r2_score\n",
                "# Calculate mean squared error\n",
                "mse = mean_squared_error(y_true, y_pred)\n",
                "print(\"Mean Squared Error:\", mse)\n",
                "\n",
                "# Calculate mean absolute error\n",
                "mae = mean_absolute_error(y_true, y_pred)\n",
                "print(\"Mean Absolute Error:\", mae)\n",
                "\n",
                "# Calculate R-squared score\n",
                "r2 = r2_score(y_true, y_pred)\n",
                "print(\"R-squared Score:\", r2)"
            ]
        },
        {
            "cell_type": "code",
            "execution_count": 188,
            "id": "531d793f",
            "metadata": {},
            "outputs": [
                {
                    "name": "stdout",
                    "output_type": "stream",
                    "text": [
                        "Accuracy: 0.3333333333333333\n"
                    ]
                },
                {
                    "ename": "ValueError",
                    "evalue": "Target is multiclass but average='binary'. Please choose another average setting, one of [None, 'micro', 'macro', 'weighted'].",
                    "output_type": "error",
                    "traceback": [
                        "\u001b[0;31m---------------------------------------------------------------------------\u001b[0m",
                        "\u001b[0;31mValueError\u001b[0m                                Traceback (most recent call last)",
                        "Cell \u001b[0;32mIn[188], line 6\u001b[0m\n\u001b[1;32m      3\u001b[0m \u001b[38;5;28mprint\u001b[39m(\u001b[38;5;124m\"\u001b[39m\u001b[38;5;124mAccuracy:\u001b[39m\u001b[38;5;124m\"\u001b[39m, accuracy)\n\u001b[1;32m      5\u001b[0m \u001b[38;5;66;03m# Calculate precision\u001b[39;00m\n\u001b[0;32m----> 6\u001b[0m precision \u001b[38;5;241m=\u001b[39m \u001b[43mprecision_score\u001b[49m\u001b[43m(\u001b[49m\u001b[43my_true\u001b[49m\u001b[43m,\u001b[49m\u001b[43m \u001b[49m\u001b[43my_pred\u001b[49m\u001b[43m)\u001b[49m\n\u001b[1;32m      7\u001b[0m \u001b[38;5;28mprint\u001b[39m(\u001b[38;5;124m\"\u001b[39m\u001b[38;5;124mPrecision:\u001b[39m\u001b[38;5;124m\"\u001b[39m, precision)\n\u001b[1;32m      9\u001b[0m \u001b[38;5;66;03m# Calculate recall\u001b[39;00m\n",
                        "File \u001b[0;32m~/.pyenv/versions/3.10.0/envs/WTab/lib/python3.10/site-packages/sklearn/utils/_param_validation.py:211\u001b[0m, in \u001b[0;36mvalidate_params.<locals>.decorator.<locals>.wrapper\u001b[0;34m(*args, **kwargs)\u001b[0m\n\u001b[1;32m    205\u001b[0m \u001b[38;5;28;01mtry\u001b[39;00m:\n\u001b[1;32m    206\u001b[0m     \u001b[38;5;28;01mwith\u001b[39;00m config_context(\n\u001b[1;32m    207\u001b[0m         skip_parameter_validation\u001b[38;5;241m=\u001b[39m(\n\u001b[1;32m    208\u001b[0m             prefer_skip_nested_validation \u001b[38;5;129;01mor\u001b[39;00m global_skip_validation\n\u001b[1;32m    209\u001b[0m         )\n\u001b[1;32m    210\u001b[0m     ):\n\u001b[0;32m--> 211\u001b[0m         \u001b[38;5;28;01mreturn\u001b[39;00m \u001b[43mfunc\u001b[49m\u001b[43m(\u001b[49m\u001b[38;5;241;43m*\u001b[39;49m\u001b[43margs\u001b[49m\u001b[43m,\u001b[49m\u001b[43m \u001b[49m\u001b[38;5;241;43m*\u001b[39;49m\u001b[38;5;241;43m*\u001b[39;49m\u001b[43mkwargs\u001b[49m\u001b[43m)\u001b[49m\n\u001b[1;32m    212\u001b[0m \u001b[38;5;28;01mexcept\u001b[39;00m InvalidParameterError \u001b[38;5;28;01mas\u001b[39;00m e:\n\u001b[1;32m    213\u001b[0m     \u001b[38;5;66;03m# When the function is just a wrapper around an estimator, we allow\u001b[39;00m\n\u001b[1;32m    214\u001b[0m     \u001b[38;5;66;03m# the function to delegate validation to the estimator, but we replace\u001b[39;00m\n\u001b[1;32m    215\u001b[0m     \u001b[38;5;66;03m# the name of the estimator by the name of the function in the error\u001b[39;00m\n\u001b[1;32m    216\u001b[0m     \u001b[38;5;66;03m# message to avoid confusion.\u001b[39;00m\n\u001b[1;32m    217\u001b[0m     msg \u001b[38;5;241m=\u001b[39m re\u001b[38;5;241m.\u001b[39msub(\n\u001b[1;32m    218\u001b[0m         \u001b[38;5;124mr\u001b[39m\u001b[38;5;124m\"\u001b[39m\u001b[38;5;124mparameter of \u001b[39m\u001b[38;5;124m\\\u001b[39m\u001b[38;5;124mw+ must be\u001b[39m\u001b[38;5;124m\"\u001b[39m,\n\u001b[1;32m    219\u001b[0m         \u001b[38;5;124mf\u001b[39m\u001b[38;5;124m\"\u001b[39m\u001b[38;5;124mparameter of \u001b[39m\u001b[38;5;132;01m{\u001b[39;00mfunc\u001b[38;5;241m.\u001b[39m\u001b[38;5;18m__qualname__\u001b[39m\u001b[38;5;132;01m}\u001b[39;00m\u001b[38;5;124m must be\u001b[39m\u001b[38;5;124m\"\u001b[39m,\n\u001b[1;32m    220\u001b[0m         \u001b[38;5;28mstr\u001b[39m(e),\n\u001b[1;32m    221\u001b[0m     )\n",
                        "File \u001b[0;32m~/.pyenv/versions/3.10.0/envs/WTab/lib/python3.10/site-packages/sklearn/metrics/_classification.py:2127\u001b[0m, in \u001b[0;36mprecision_score\u001b[0;34m(y_true, y_pred, labels, pos_label, average, sample_weight, zero_division)\u001b[0m\n\u001b[1;32m   1970\u001b[0m \u001b[38;5;129m@validate_params\u001b[39m(\n\u001b[1;32m   1971\u001b[0m     {\n\u001b[1;32m   1972\u001b[0m         \u001b[38;5;124m\"\u001b[39m\u001b[38;5;124my_true\u001b[39m\u001b[38;5;124m\"\u001b[39m: [\u001b[38;5;124m\"\u001b[39m\u001b[38;5;124marray-like\u001b[39m\u001b[38;5;124m\"\u001b[39m, \u001b[38;5;124m\"\u001b[39m\u001b[38;5;124msparse matrix\u001b[39m\u001b[38;5;124m\"\u001b[39m],\n\u001b[0;32m   (...)\u001b[0m\n\u001b[1;32m   1996\u001b[0m     zero_division\u001b[38;5;241m=\u001b[39m\u001b[38;5;124m\"\u001b[39m\u001b[38;5;124mwarn\u001b[39m\u001b[38;5;124m\"\u001b[39m,\n\u001b[1;32m   1997\u001b[0m ):\n\u001b[1;32m   1998\u001b[0m \u001b[38;5;250m    \u001b[39m\u001b[38;5;124;03m\"\"\"Compute the precision.\u001b[39;00m\n\u001b[1;32m   1999\u001b[0m \n\u001b[1;32m   2000\u001b[0m \u001b[38;5;124;03m    The precision is the ratio ``tp / (tp + fp)`` where ``tp`` is the number of\u001b[39;00m\n\u001b[0;32m   (...)\u001b[0m\n\u001b[1;32m   2125\u001b[0m \u001b[38;5;124;03m    array([0.5, 1. , 1. ])\u001b[39;00m\n\u001b[1;32m   2126\u001b[0m \u001b[38;5;124;03m    \"\"\"\u001b[39;00m\n\u001b[0;32m-> 2127\u001b[0m     p, _, _, _ \u001b[38;5;241m=\u001b[39m \u001b[43mprecision_recall_fscore_support\u001b[49m\u001b[43m(\u001b[49m\n\u001b[1;32m   2128\u001b[0m \u001b[43m        \u001b[49m\u001b[43my_true\u001b[49m\u001b[43m,\u001b[49m\n\u001b[1;32m   2129\u001b[0m \u001b[43m        \u001b[49m\u001b[43my_pred\u001b[49m\u001b[43m,\u001b[49m\n\u001b[1;32m   2130\u001b[0m \u001b[43m        \u001b[49m\u001b[43mlabels\u001b[49m\u001b[38;5;241;43m=\u001b[39;49m\u001b[43mlabels\u001b[49m\u001b[43m,\u001b[49m\n\u001b[1;32m   2131\u001b[0m \u001b[43m        \u001b[49m\u001b[43mpos_label\u001b[49m\u001b[38;5;241;43m=\u001b[39;49m\u001b[43mpos_label\u001b[49m\u001b[43m,\u001b[49m\n\u001b[1;32m   2132\u001b[0m \u001b[43m        \u001b[49m\u001b[43maverage\u001b[49m\u001b[38;5;241;43m=\u001b[39;49m\u001b[43maverage\u001b[49m\u001b[43m,\u001b[49m\n\u001b[1;32m   2133\u001b[0m \u001b[43m        \u001b[49m\u001b[43mwarn_for\u001b[49m\u001b[38;5;241;43m=\u001b[39;49m\u001b[43m(\u001b[49m\u001b[38;5;124;43m\"\u001b[39;49m\u001b[38;5;124;43mprecision\u001b[39;49m\u001b[38;5;124;43m\"\u001b[39;49m\u001b[43m,\u001b[49m\u001b[43m)\u001b[49m\u001b[43m,\u001b[49m\n\u001b[1;32m   2134\u001b[0m \u001b[43m        \u001b[49m\u001b[43msample_weight\u001b[49m\u001b[38;5;241;43m=\u001b[39;49m\u001b[43msample_weight\u001b[49m\u001b[43m,\u001b[49m\n\u001b[1;32m   2135\u001b[0m \u001b[43m        \u001b[49m\u001b[43mzero_division\u001b[49m\u001b[38;5;241;43m=\u001b[39;49m\u001b[43mzero_division\u001b[49m\u001b[43m,\u001b[49m\n\u001b[1;32m   2136\u001b[0m \u001b[43m    \u001b[49m\u001b[43m)\u001b[49m\n\u001b[1;32m   2137\u001b[0m     \u001b[38;5;28;01mreturn\u001b[39;00m p\n",
                        "File \u001b[0;32m~/.pyenv/versions/3.10.0/envs/WTab/lib/python3.10/site-packages/sklearn/utils/_param_validation.py:184\u001b[0m, in \u001b[0;36mvalidate_params.<locals>.decorator.<locals>.wrapper\u001b[0;34m(*args, **kwargs)\u001b[0m\n\u001b[1;32m    182\u001b[0m global_skip_validation \u001b[38;5;241m=\u001b[39m get_config()[\u001b[38;5;124m\"\u001b[39m\u001b[38;5;124mskip_parameter_validation\u001b[39m\u001b[38;5;124m\"\u001b[39m]\n\u001b[1;32m    183\u001b[0m \u001b[38;5;28;01mif\u001b[39;00m global_skip_validation:\n\u001b[0;32m--> 184\u001b[0m     \u001b[38;5;28;01mreturn\u001b[39;00m \u001b[43mfunc\u001b[49m\u001b[43m(\u001b[49m\u001b[38;5;241;43m*\u001b[39;49m\u001b[43margs\u001b[49m\u001b[43m,\u001b[49m\u001b[43m \u001b[49m\u001b[38;5;241;43m*\u001b[39;49m\u001b[38;5;241;43m*\u001b[39;49m\u001b[43mkwargs\u001b[49m\u001b[43m)\u001b[49m\n\u001b[1;32m    186\u001b[0m func_sig \u001b[38;5;241m=\u001b[39m signature(func)\n\u001b[1;32m    188\u001b[0m \u001b[38;5;66;03m# Map *args/**kwargs to the function signature\u001b[39;00m\n",
                        "File \u001b[0;32m~/.pyenv/versions/3.10.0/envs/WTab/lib/python3.10/site-packages/sklearn/metrics/_classification.py:1721\u001b[0m, in \u001b[0;36mprecision_recall_fscore_support\u001b[0;34m(y_true, y_pred, beta, labels, pos_label, average, warn_for, sample_weight, zero_division)\u001b[0m\n\u001b[1;32m   1563\u001b[0m \u001b[38;5;250m\u001b[39m\u001b[38;5;124;03m\"\"\"Compute precision, recall, F-measure and support for each class.\u001b[39;00m\n\u001b[1;32m   1564\u001b[0m \n\u001b[1;32m   1565\u001b[0m \u001b[38;5;124;03mThe precision is the ratio ``tp / (tp + fp)`` where ``tp`` is the number of\u001b[39;00m\n\u001b[0;32m   (...)\u001b[0m\n\u001b[1;32m   1718\u001b[0m \u001b[38;5;124;03m array([2, 2, 2]))\u001b[39;00m\n\u001b[1;32m   1719\u001b[0m \u001b[38;5;124;03m\"\"\"\u001b[39;00m\n\u001b[1;32m   1720\u001b[0m zero_division_value \u001b[38;5;241m=\u001b[39m _check_zero_division(zero_division)\n\u001b[0;32m-> 1721\u001b[0m labels \u001b[38;5;241m=\u001b[39m \u001b[43m_check_set_wise_labels\u001b[49m\u001b[43m(\u001b[49m\u001b[43my_true\u001b[49m\u001b[43m,\u001b[49m\u001b[43m \u001b[49m\u001b[43my_pred\u001b[49m\u001b[43m,\u001b[49m\u001b[43m \u001b[49m\u001b[43maverage\u001b[49m\u001b[43m,\u001b[49m\u001b[43m \u001b[49m\u001b[43mlabels\u001b[49m\u001b[43m,\u001b[49m\u001b[43m \u001b[49m\u001b[43mpos_label\u001b[49m\u001b[43m)\u001b[49m\n\u001b[1;32m   1723\u001b[0m \u001b[38;5;66;03m# Calculate tp_sum, pred_sum, true_sum ###\u001b[39;00m\n\u001b[1;32m   1724\u001b[0m samplewise \u001b[38;5;241m=\u001b[39m average \u001b[38;5;241m==\u001b[39m \u001b[38;5;124m\"\u001b[39m\u001b[38;5;124msamples\u001b[39m\u001b[38;5;124m\"\u001b[39m\n",
                        "File \u001b[0;32m~/.pyenv/versions/3.10.0/envs/WTab/lib/python3.10/site-packages/sklearn/metrics/_classification.py:1516\u001b[0m, in \u001b[0;36m_check_set_wise_labels\u001b[0;34m(y_true, y_pred, average, labels, pos_label)\u001b[0m\n\u001b[1;32m   1514\u001b[0m         \u001b[38;5;28;01mif\u001b[39;00m y_type \u001b[38;5;241m==\u001b[39m \u001b[38;5;124m\"\u001b[39m\u001b[38;5;124mmulticlass\u001b[39m\u001b[38;5;124m\"\u001b[39m:\n\u001b[1;32m   1515\u001b[0m             average_options\u001b[38;5;241m.\u001b[39mremove(\u001b[38;5;124m\"\u001b[39m\u001b[38;5;124msamples\u001b[39m\u001b[38;5;124m\"\u001b[39m)\n\u001b[0;32m-> 1516\u001b[0m         \u001b[38;5;28;01mraise\u001b[39;00m \u001b[38;5;167;01mValueError\u001b[39;00m(\n\u001b[1;32m   1517\u001b[0m             \u001b[38;5;124m\"\u001b[39m\u001b[38;5;124mTarget is \u001b[39m\u001b[38;5;132;01m%s\u001b[39;00m\u001b[38;5;124m but average=\u001b[39m\u001b[38;5;124m'\u001b[39m\u001b[38;5;124mbinary\u001b[39m\u001b[38;5;124m'\u001b[39m\u001b[38;5;124m. Please \u001b[39m\u001b[38;5;124m\"\u001b[39m\n\u001b[1;32m   1518\u001b[0m             \u001b[38;5;124m\"\u001b[39m\u001b[38;5;124mchoose another average setting, one of \u001b[39m\u001b[38;5;132;01m%r\u001b[39;00m\u001b[38;5;124m.\u001b[39m\u001b[38;5;124m\"\u001b[39m \u001b[38;5;241m%\u001b[39m (y_type, average_options)\n\u001b[1;32m   1519\u001b[0m         )\n\u001b[1;32m   1520\u001b[0m \u001b[38;5;28;01melif\u001b[39;00m pos_label \u001b[38;5;129;01mnot\u001b[39;00m \u001b[38;5;129;01min\u001b[39;00m (\u001b[38;5;28;01mNone\u001b[39;00m, \u001b[38;5;241m1\u001b[39m):\n\u001b[1;32m   1521\u001b[0m     warnings\u001b[38;5;241m.\u001b[39mwarn(\n\u001b[1;32m   1522\u001b[0m         \u001b[38;5;124m\"\u001b[39m\u001b[38;5;124mNote that pos_label (set to \u001b[39m\u001b[38;5;132;01m%r\u001b[39;00m\u001b[38;5;124m) is ignored when \u001b[39m\u001b[38;5;124m\"\u001b[39m\n\u001b[1;32m   1523\u001b[0m         \u001b[38;5;124m\"\u001b[39m\u001b[38;5;124maverage != \u001b[39m\u001b[38;5;124m'\u001b[39m\u001b[38;5;124mbinary\u001b[39m\u001b[38;5;124m'\u001b[39m\u001b[38;5;124m (got \u001b[39m\u001b[38;5;132;01m%r\u001b[39;00m\u001b[38;5;124m). You may use \u001b[39m\u001b[38;5;124m\"\u001b[39m\n\u001b[0;32m   (...)\u001b[0m\n\u001b[1;32m   1526\u001b[0m         \u001b[38;5;167;01mUserWarning\u001b[39;00m,\n\u001b[1;32m   1527\u001b[0m     )\n",
                        "\u001b[0;31mValueError\u001b[0m: Target is multiclass but average='binary'. Please choose another average setting, one of [None, 'micro', 'macro', 'weighted']."
                    ]
                }
            ],
            "source": [
                "# Calculate accuracy\n",
                "accuracy = accuracy_score(y_true, y_pred)\n",
                "print(\"Accuracy:\", accuracy)\n",
                "\n",
                "# Calculate precision\n",
                "precision = precision_score(y_true, y_pred)\n",
                "print(\"Precision:\", precision)\n",
                "\n",
                "# Calculate recall\n",
                "recall = recall_score(y_true, y_pred)\n",
                "print(\"Recall:\", recall)\n",
                "\n",
                "# Calculate F1 score\n",
                "f1 = f1_score(y_true, y_pred)\n",
                "print(\"F1 score:\", f1)\n",
                "\n",
                "# Calculate ROC AUC score\n",
                "roc_auc = roc_auc_score(y_true, y_pred)\n",
                "print(\"ROC AUC score:\", roc_auc)"
            ]
        },
        {
            "cell_type": "code",
            "execution_count": null,
            "id": "5dedbea6",
            "metadata": {},
            "outputs": [],
            "source": [
                "X_test"
            ]
        },
        {
            "cell_type": "code",
            "execution_count": null,
            "id": "3f6e355f",
            "metadata": {},
            "outputs": [],
            "source": []
        },
        {
            "cell_type": "code",
            "execution_count": null,
            "id": "8c779629",
            "metadata": {},
            "outputs": [],
            "source": []
        },
        {
            "cell_type": "code",
            "execution_count": null,
            "id": "d0cead9c",
            "metadata": {},
            "outputs": [],
            "source": []
        },
        {
            "cell_type": "code",
            "execution_count": null,
            "id": "8325e098",
            "metadata": {},
            "outputs": [],
            "source": []
        },
        {
            "cell_type": "code",
            "execution_count": null,
            "id": "da03c81f",
            "metadata": {},
            "outputs": [],
            "source": []
        },
        {
            "cell_type": "markdown",
            "id": "2e72a140",
            "metadata": {},
            "source": [
                "# GATE Tests"
            ]
        },
        {
            "cell_type": "code",
            "execution_count": null,
            "id": "de94b527",
            "metadata": {},
            "outputs": [],
            "source": [
                "total_count = 891\n",
                "class_count = [549, 342]\n",
                "class_weights = [total_count / count for count in class_count]\n",
                "class_weights"
            ]
        },
        {
            "cell_type": "code",
            "execution_count": null,
            "id": "e70556b2",
            "metadata": {},
            "outputs": [],
            "source": [
                "mu = class_weights[0] / class_weights[1] # 0.620\n",
                "weighted_loss = get_class_weighted_cross_entropy(y_train.values.ravel(), mu=mu)\n",
                "print(f\"mu = {mu}\")"
            ]
        },
        {
            "cell_type": "code",
            "execution_count": null,
            "id": "dbfec264",
            "metadata": {},
            "outputs": [],
            "source": [
                "# Define the data configuration\n",
                "data_config = DataConfig(\n",
                "    target=['target'],\n",
                "    continuous_cols= [i for i in extra_info[\"num_col_names\"] if i != \"target\"],\n",
                "    categorical_cols=extra_info[\"cat_col_names\"],\n",
                ")\n",
                "trainer_config = TrainerConfig(\n",
                "    auto_lr_find = True,  # Runs the LRFinder to automatically derive a learning rate\n",
                "    batch_size   = 32,\n",
                "    max_epochs   = 1000,\n",
                ")\n",
                "\n",
                "optimizer_config = OptimizerConfig()\n",
                "\n",
                "model_config = GatedAdditiveTreeEnsembleConfig(\n",
                "    task=\"classification\",\n",
                "    tree_depth  =  6,\n",
                "    num_trees   = 16,\n",
                "    chain_trees = True, # akin to bagging, True is akin to boosting\n",
                "    gflu_stages =  2,\n",
                "    metrics=['accuracy'],\n",
                "    metrics_params=[dict(task=\"multiclass\", num_classes=2)]\n",
                ")\n",
                "\n",
                "tabular_model = TabularModel(\n",
                "    data_config=data_config,\n",
                "    model_config=model_config,\n",
                "    optimizer_config=optimizer_config,\n",
                "    trainer_config=trainer_config,\n",
                ")"
            ]
        },
        {
            "cell_type": "code",
            "execution_count": null,
            "id": "3a6caefa",
            "metadata": {},
            "outputs": [],
            "source": [
                "help(TrainerConfig)"
            ]
        },
        {
            "cell_type": "code",
            "execution_count": null,
            "id": "661b2152",
            "metadata": {},
            "outputs": [],
            "source": [
                "help(GatedAdditiveTreeEnsembleConfig)"
            ]
        },
        {
            "cell_type": "code",
            "execution_count": null,
            "id": "9e3c352a",
            "metadata": {},
            "outputs": [],
            "source": [
                "assert X_train.isnull().sum().sum() == 0"
            ]
        },
        {
            "cell_type": "code",
            "execution_count": null,
            "id": "7488c259",
            "metadata": {},
            "outputs": [],
            "source": [
                "tabular_model = TabularModel(\n",
                "    data_config=data_config,\n",
                "    model_config=model_config,\n",
                "    optimizer_config=optimizer_config,\n",
                "    trainer_config=trainer_config,\n",
                ")\n",
                "\n",
                "# Merge X_train and y_train  \n",
                "train = pd.concat([X_train, y_train], axis=1)\n",
                "\n",
                "# Merge X_val and y_val\n",
                "validation = pd.concat([X_val, y_val], axis=1)\n",
                "\n",
                "tabular_model.fit(\n",
                "    train=train, \n",
                "    validation=validation,\n",
                "    loss=weighted_loss\n",
                ")"
            ]
        },
        {
            "cell_type": "code",
            "execution_count": null,
            "id": "6a43950e",
            "metadata": {},
            "outputs": [],
            "source": [
                "df_val.head()"
            ]
        },
        {
            "cell_type": "code",
            "execution_count": null,
            "id": "a1a98fec",
            "metadata": {},
            "outputs": [],
            "source": [
                "result  = tabular_model.evaluate(df_val)\n",
                "result"
            ]
        },
        {
            "cell_type": "code",
            "execution_count": null,
            "id": "5e477bf1",
            "metadata": {},
            "outputs": [],
            "source": []
        },
        {
            "cell_type": "code",
            "execution_count": null,
            "id": "acfdb679",
            "metadata": {},
            "outputs": [],
            "source": [
                "pred_df = tabular_model.predict(df_val)\n",
                "pred_df.head()\n",
                "# Add PassengerId information to the predictions\n",
                "pred_df_with_ids = pd.concat([df_val_id.reset_index(drop=True), pred_df.reset_index(drop=True)], axis=1)\n",
                "\n",
                "pred_df_with_ids = pred_df_with_ids.rename(columns={'prediction': 'Survived'})\n",
                "# Display the predictions with PassengerId information\n",
                "pred_df_with_ids[[\"PassengerId\", \"Survived\"]].head()"
            ]
        },
        {
            "cell_type": "code",
            "execution_count": null,
            "id": "7ee916b3",
            "metadata": {},
            "outputs": [],
            "source": [
                "pred_df_with_ids[\"Survived\"].value_counts()"
            ]
        },
        {
            "cell_type": "code",
            "execution_count": null,
            "id": "43b38fd4",
            "metadata": {},
            "outputs": [],
            "source": [
                "pred_df_with_ids[[\"PassengerId\", \"Survived\"]].to_csv(\"/Users/mdicio/Desktop/doidownloads/kaggle_datasets/test_submission_boom.csv\", index = False)"
            ]
        },
        {
            "cell_type": "markdown",
            "id": "3f46e051",
            "metadata": {},
            "source": [
                "# TabTransformer Tests"
            ]
        },
        {
            "cell_type": "code",
            "execution_count": null,
            "id": "549c0914",
            "metadata": {},
            "outputs": [],
            "source": [
                "#pip install tab-transformer-pytorch\n",
                "import torch\n",
                "from tab_transformer_pytorch import FTTransformer"
            ]
        },
        {
            "cell_type": "code",
            "execution_count": null,
            "id": "6db3e44c",
            "metadata": {},
            "outputs": [],
            "source": [
                "\n",
                "model = FTTransformer(\n",
                "    categories = (5, 5, 5, 5, 5),      # tuple containing the number of unique values within each category\n",
                "    num_continuous = 10,                # number of continuous values\n",
                "    dim = 32,                           # dimension, paper set at 32\n",
                "    dim_out = 1,                        # binary prediction, but could be anything\n",
                "    depth = 6,                          # depth, paper recommended 6\n",
                "    heads = 8,                          # heads, paper recommends 8\n",
                "    attn_dropout = 0.1,                 # post-attention dropout\n",
                "    ff_dropout = 0.1                    # feed forward dropout\n",
                ")\n",
                "\n",
                "x_categ = torch.randint(0, 5, (1, 5))     # category values, from 0 - max number of categories, in the order as passed into the constructor above\n",
                "x_numer = torch.randn(1, 10)              # numerical value\n",
                "\n",
                "pred = model(x_categ, x_numer) # (1, 1)"
            ]
        },
        {
            "cell_type": "code",
            "execution_count": null,
            "id": "24ac956f",
            "metadata": {},
            "outputs": [],
            "source": [
                "x_categ.shape, x_numer.shape"
            ]
        },
        {
            "cell_type": "code",
            "execution_count": null,
            "id": "b34999a6",
            "metadata": {},
            "outputs": [],
            "source": [
                "x_categ = torch.randint(0, 5, (1, 5))  \n",
                "x_categ, x_numer"
            ]
        },
        {
            "cell_type": "code",
            "execution_count": null,
            "id": "8064d1d6",
            "metadata": {},
            "outputs": [],
            "source": [
                "pred"
            ]
        },
        {
            "cell_type": "code",
            "execution_count": null,
            "id": "d23d426e",
            "metadata": {},
            "outputs": [],
            "source": [
                "x"
            ]
        },
        {
            "cell_type": "markdown",
            "id": "eebdc7be",
            "metadata": {},
            "source": [
                "# Tabnet Tests"
            ]
        },
        {
            "cell_type": "code",
            "execution_count": null,
            "id": "fb30a010",
            "metadata": {},
            "outputs": [],
            "source": [
                "# Split the train data into training and validation sets\n",
                "from pytorch_tabnet.tab_model import TabNetClassifier\n",
                "from pytorch_tabnet.callbacks import EarlyStopping"
            ]
        },
        {
            "cell_type": "code",
            "execution_count": null,
            "id": "7f096715",
            "metadata": {},
            "outputs": [],
            "source": [
                "help(TabNetClassifier)"
            ]
        },
        {
            "cell_type": "code",
            "execution_count": null,
            "id": "99175122",
            "metadata": {},
            "outputs": [],
            "source": []
        },
        {
            "cell_type": "code",
            "execution_count": null,
            "id": "f6a09b30",
            "metadata": {},
            "outputs": [],
            "source": [
                "# Define the early stopping callback\n",
                "early_stopping = EarlyStopping(early_stopping_metric = 'val_loss',\n",
                "is_maximize = False,\n",
                "patience = 32\n",
                ")\n",
                "\n",
                "model = TabNetClassifier()\n",
                "\n",
                "# Train the model with early stopping\n",
                "model.fit(\n",
                "    X_train, y_train,\n",
                "    eval_set=[(X_val, y_val)],\n",
                "    eval_name=['valid'],\n",
                "    eval_metric=['logloss'],\n",
                "    max_epochs=2,\n",
                "    batch_size = 16,\n",
                "    callbacks=[early_stopping],\n",
                "patience = 32)            "
            ]
        },
        {
            "cell_type": "code",
            "execution_count": null,
            "id": "ea7f7a30",
            "metadata": {},
            "outputs": [],
            "source": [
                "X_train.shape, X_val.shape, y_train.shape, y_val.shape"
            ]
        },
        {
            "cell_type": "code",
            "execution_count": null,
            "id": "d2e23bb7",
            "metadata": {},
            "outputs": [],
            "source": [
                "# Predict the labels of the validation data\n",
                "y_pred = model.predict(X_test)\n",
                "# Calculate the score using the specified metric\n",
                "evaluator = Evaluator(problem_type = \"multiclass_classification\")\n",
                "evaluator.y_true = y_val\n",
                "evaluator.y_pred = y_pred\n",
                "score = evaluator.evaluate_metric(metric_name = \"f1\")"
            ]
        }
    ],
    "metadata": {
        "kernelspec": {
            "display_name": "Python 3 (ipykernel)",
            "language": "python",
            "name": "python3"
        },
        "language_info": {
            "codemirror_mode": {
                "name": "ipython",
                "version": 3
            },
            "file_extension": ".py",
            "mimetype": "text/x-python",
            "name": "python",
            "nbconvert_exporter": "python",
            "pygments_lexer": "ipython3",
            "version": "3.10.0"
        }
    },
    "nbformat": 4,
    "nbformat_minor": 5
}