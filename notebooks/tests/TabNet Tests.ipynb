{
 "cells": [
  {
   "cell_type": "code",
   "execution_count": 1,
   "id": "385dfcae",
   "metadata": {},
   "outputs": [],
   "source": [
    "import logging\n",
    "import numpy as np\n",
    "import torch\n",
    "import inspect\n",
    "from hyperopt import STATUS_OK, Trials, fmin, space_eval, tpe\n",
    "from hyperopt.pyll import scope\n",
    "from evaluation.generalevaluator import Evaluator\n",
    "from modelsdefinition.CommonStructure import BaseModel\n",
    "from pytorch_tabnet.callbacks import EarlyStopping\n",
    "from pytorch_tabnet.tab_model import TabNetClassifier, TabNetRegressor\n",
    "from sklearn.model_selection import train_test_split\n",
    "from evaluation.generalevaluator import *\n",
    "from factory import create_data_loader\n",
    "import pandas as pd"
   ]
  },
  {
   "cell_type": "code",
   "execution_count": null,
   "id": "d348b827",
   "metadata": {},
   "outputs": [],
   "source": []
  },
  {
   "cell_type": "code",
   "execution_count": 9,
   "id": "22eff7d1",
   "metadata": {},
   "outputs": [],
   "source": [
    "data_loader = create_data_loader('adult', test_size=0.2, normalize_features = \"mean_std\", return_extra_info = True, encode_categorical = True)\n",
    "X_train, X_val, y_train, y_val, extra_info = data_loader.load_data()"
   ]
  },
  {
   "cell_type": "code",
   "execution_count": 11,
   "id": "35e3032e",
   "metadata": {},
   "outputs": [
    {
     "data": {
      "text/plain": [
       "108"
      ]
     },
     "execution_count": 11,
     "metadata": {},
     "output_type": "execute_result"
    }
   ],
   "source": [
    "len(X_train.columns)"
   ]
  },
  {
   "cell_type": "code",
   "execution_count": 8,
   "id": "f67eaee6",
   "metadata": {},
   "outputs": [
    {
     "data": {
      "text/plain": [
       "12.0"
      ]
     },
     "execution_count": 8,
     "metadata": {},
     "output_type": "execute_result"
    }
   ],
   "source": [
    "108/9"
   ]
  },
  {
   "cell_type": "code",
   "execution_count": 5,
   "id": "da189e25",
   "metadata": {},
   "outputs": [
    {
     "data": {
      "text/plain": [
       "6270"
      ]
     },
     "execution_count": 5,
     "metadata": {},
     "output_type": "execute_result"
    }
   ],
   "source": [
    "y_train.sum()"
   ]
  },
  {
   "cell_type": "code",
   "execution_count": 12,
   "id": "8c9af057",
   "metadata": {},
   "outputs": [
    {
     "ename": "FileNotFoundError",
     "evalue": "[Errno 2] No such file or directory: './output/modelsaves/iris/tabnet/202307-2521-5722-406557e4-d047-4453-87f6-34f0abb6de32/tabnet_best'",
     "output_type": "error",
     "traceback": [
      "\u001b[0;31m---------------------------------------------------------------------------\u001b[0m",
      "\u001b[0;31mFileNotFoundError\u001b[0m                         Traceback (most recent call last)",
      "Cell \u001b[0;32mIn[12], line 3\u001b[0m\n\u001b[1;32m      1\u001b[0m \u001b[38;5;66;03m# define new model with basic parameters and load state dict weights\u001b[39;00m\n\u001b[1;32m      2\u001b[0m loaded_clf \u001b[38;5;241m=\u001b[39m TabNetClassifier()\n\u001b[0;32m----> 3\u001b[0m \u001b[43mloaded_clf\u001b[49m\u001b[38;5;241;43m.\u001b[39;49m\u001b[43mload_model\u001b[49m\u001b[43m(\u001b[49m\u001b[43mfilepath\u001b[49m\u001b[43m \u001b[49m\u001b[38;5;241;43m=\u001b[39;49m\u001b[38;5;124;43m\"\u001b[39;49m\u001b[38;5;124;43m./output/modelsaves/iris/tabnet/202307-2521-5722-406557e4-d047-4453-87f6-34f0abb6de32/tabnet_best\u001b[39;49m\u001b[38;5;124;43m\"\u001b[39;49m\u001b[43m)\u001b[49m\n\u001b[1;32m      5\u001b[0m \u001b[38;5;28mtype\u001b[39m(loaded_clf)\n",
      "File \u001b[0;32m~/.pyenv/versions/3.10.0/envs/WTab/lib/python3.10/site-packages/pytorch_tabnet/abstract_model.py:416\u001b[0m, in \u001b[0;36mTabModel.load_model\u001b[0;34m(self, filepath)\u001b[0m\n\u001b[1;32m    408\u001b[0m \u001b[38;5;250m\u001b[39m\u001b[38;5;124;03m\"\"\"Load TabNet model.\u001b[39;00m\n\u001b[1;32m    409\u001b[0m \n\u001b[1;32m    410\u001b[0m \u001b[38;5;124;03mParameters\u001b[39;00m\n\u001b[0;32m   (...)\u001b[0m\n\u001b[1;32m    413\u001b[0m \u001b[38;5;124;03m    Path of the model.\u001b[39;00m\n\u001b[1;32m    414\u001b[0m \u001b[38;5;124;03m\"\"\"\u001b[39;00m\n\u001b[1;32m    415\u001b[0m \u001b[38;5;28;01mtry\u001b[39;00m:\n\u001b[0;32m--> 416\u001b[0m     \u001b[38;5;28;01mwith\u001b[39;00m \u001b[43mzipfile\u001b[49m\u001b[38;5;241;43m.\u001b[39;49m\u001b[43mZipFile\u001b[49m\u001b[43m(\u001b[49m\u001b[43mfilepath\u001b[49m\u001b[43m)\u001b[49m \u001b[38;5;28;01mas\u001b[39;00m z:\n\u001b[1;32m    417\u001b[0m         \u001b[38;5;28;01mwith\u001b[39;00m z\u001b[38;5;241m.\u001b[39mopen(\u001b[38;5;124m\"\u001b[39m\u001b[38;5;124mmodel_params.json\u001b[39m\u001b[38;5;124m\"\u001b[39m) \u001b[38;5;28;01mas\u001b[39;00m f:\n\u001b[1;32m    418\u001b[0m             loaded_params \u001b[38;5;241m=\u001b[39m json\u001b[38;5;241m.\u001b[39mload(f)\n",
      "File \u001b[0;32m~/.pyenv/versions/3.10.0/lib/python3.10/zipfile.py:1240\u001b[0m, in \u001b[0;36mZipFile.__init__\u001b[0;34m(self, file, mode, compression, allowZip64, compresslevel, strict_timestamps)\u001b[0m\n\u001b[1;32m   1238\u001b[0m \u001b[38;5;28;01mwhile\u001b[39;00m \u001b[38;5;28;01mTrue\u001b[39;00m:\n\u001b[1;32m   1239\u001b[0m     \u001b[38;5;28;01mtry\u001b[39;00m:\n\u001b[0;32m-> 1240\u001b[0m         \u001b[38;5;28mself\u001b[39m\u001b[38;5;241m.\u001b[39mfp \u001b[38;5;241m=\u001b[39m \u001b[43mio\u001b[49m\u001b[38;5;241;43m.\u001b[39;49m\u001b[43mopen\u001b[49m\u001b[43m(\u001b[49m\u001b[43mfile\u001b[49m\u001b[43m,\u001b[49m\u001b[43m \u001b[49m\u001b[43mfilemode\u001b[49m\u001b[43m)\u001b[49m\n\u001b[1;32m   1241\u001b[0m     \u001b[38;5;28;01mexcept\u001b[39;00m \u001b[38;5;167;01mOSError\u001b[39;00m:\n\u001b[1;32m   1242\u001b[0m         \u001b[38;5;28;01mif\u001b[39;00m filemode \u001b[38;5;129;01min\u001b[39;00m modeDict:\n",
      "\u001b[0;31mFileNotFoundError\u001b[0m: [Errno 2] No such file or directory: './output/modelsaves/iris/tabnet/202307-2521-5722-406557e4-d047-4453-87f6-34f0abb6de32/tabnet_best'"
     ]
    }
   ],
   "source": [
    "# define new model with basic parameters and load state dict weights\n",
    "loaded_clf = TabNetClassifier()\n",
    "loaded_clf.load_model(filepath =\"./output/modelsaves/iris/tabnet/202307-2521-5722-406557e4-d047-4453-87f6-34f0abb6de32/tabnet_best\")\n",
    "\n",
    "type(loaded_clf)"
   ]
  },
  {
   "cell_type": "code",
   "execution_count": 11,
   "id": "f8a43843",
   "metadata": {},
   "outputs": [
    {
     "data": {
      "text/plain": [
       "array([2, 2, 2, 0, 2, 2, 2, 2, 0, 2, 0, 0, 0, 2, 2, 2, 2, 0, 0, 2, 2, 0,\n",
       "       0, 0, 0, 0, 2, 2, 0, 2])"
      ]
     },
     "execution_count": 11,
     "metadata": {},
     "output_type": "execute_result"
    }
   ],
   "source": [
    "loaded_clf.predict(X_val.values)"
   ]
  },
  {
   "cell_type": "code",
   "execution_count": null,
   "id": "4386fbd9",
   "metadata": {},
   "outputs": [],
   "source": []
  },
  {
   "cell_type": "code",
   "execution_count": null,
   "id": "ea7f7a30",
   "metadata": {},
   "outputs": [],
   "source": [
    "X_train.shape, X_val.shape, y_train.shape, y_val.shape"
   ]
  },
  {
   "cell_type": "code",
   "execution_count": null,
   "id": "d2e23bb7",
   "metadata": {},
   "outputs": [],
   "source": [
    "# Predict the labels of the validation data\n",
    "y_pred = model.predict(X_test)\n",
    "# Calculate the score using the specified metric\n",
    "evaluator = Evaluator(problem_type = \"multiclass_classification\")\n",
    "evaluator.y_true = y_val\n",
    "evaluator.y_pred = y_pred\n",
    "score = evaluator.evaluate_metric(metric_name = \"f1\")"
   ]
  }
 ],
 "metadata": {
  "kernelspec": {
   "display_name": "Python 3 (ipykernel)",
   "language": "python",
   "name": "python3"
  },
  "language_info": {
   "codemirror_mode": {
    "name": "ipython",
    "version": 3
   },
   "file_extension": ".py",
   "mimetype": "text/x-python",
   "name": "python",
   "nbconvert_exporter": "python",
   "pygments_lexer": "ipython3",
   "version": "3.10.0"
  }
 },
 "nbformat": 4,
 "nbformat_minor": 5
}
