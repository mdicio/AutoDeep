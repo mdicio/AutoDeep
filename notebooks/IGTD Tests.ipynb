{
 "cells": [
  {
   "cell_type": "code",
   "execution_count": null,
   "id": "92d734a8",
   "metadata": {},
   "outputs": [],
   "source": [
    "import pandas as pd"
   ]
  },
  {
   "cell_type": "code",
   "execution_count": null,
   "id": "abdaaaea",
   "metadata": {},
   "outputs": [],
   "source": [
    "CHUNK_SIZE = 100000\n",
    "csv_file_list = [\"/Users/mdicio/Documents/GitHub/RealWTab/data/cofix/part-00191-4aeb6488-762c-44a6-9583-f3cb6132844d.c000.csv\", \n",
    "                 \"/Users/mdicio/Documents/GitHub/RealWTab/data/cofix/part-00043-4aeb6488-762c-44a6-9583-f3cb6132844d.c000.csv\"]\n",
    "\n",
    "output_file = \"/Users/mdicio/Documents/GitHub/RealWTab/data/cofix/cofix.csv\"\n",
    "\n",
    "first_one = True\n",
    "for csv_file_name in csv_file_list:\n",
    "\n",
    "    if not first_one: # if it is not the first csv file then skip the header row (row 0) of that file\n",
    "        skip_row = [0]\n",
    "    else:\n",
    "        skip_row = []\n",
    "\n",
    "    chunk_container = pd.read_csv(csv_file_name, chunksize=CHUNK_SIZE, skiprows = skip_row)\n",
    "    for chunk in chunk_container:\n",
    "        chunk.to_csv(output_file, mode=\"a\", index=False)\n",
    "    first_one = False"
   ]
  },
  {
   "cell_type": "code",
   "execution_count": null,
   "id": "a37aa984",
   "metadata": {},
   "outputs": [],
   "source": [
    "# Get the categorical and numerical columns\n",
    "cat_cols = df.select_dtypes(include=[\"object\", \"category\"]).columns\n",
    "num_cols = df.select_dtypes(exclude=[\"object\", \"category\"]).columns"
   ]
  },
  {
   "cell_type": "code",
   "execution_count": null,
   "id": "193396d8",
   "metadata": {},
   "outputs": [],
   "source": [
    "cat_cols"
   ]
  },
  {
   "cell_type": "code",
   "execution_count": null,
   "id": "8e8dcddd",
   "metadata": {},
   "outputs": [],
   "source": [
    "df = pd.read_csv(\"/Users/mdicio/Documents/GitHub/RealWTab/data/buf/sortedbulk_data-1.csv\")\n",
    "df_train = df.loc[df[\"partition_date\"] < \"2022-04-30\"]\n",
    "df_test = df.loc[df[\"partition_date\"] >= \"2022-04-30\"]"
   ]
  },
  {
   "cell_type": "code",
   "execution_count": null,
   "id": "d733a964",
   "metadata": {},
   "outputs": [],
   "source": [
    "df.columns"
   ]
  },
  {
   "cell_type": "code",
   "execution_count": null,
   "id": "ee58deec",
   "metadata": {},
   "outputs": [],
   "source": [
    "sorted(df[\"partition_date\"].unique().tolist())"
   ]
  },
  {
   "cell_type": "code",
   "execution_count": null,
   "id": "fe908d98",
   "metadata": {},
   "outputs": [],
   "source": [
    "output_file = \"/Users/mdicio/Documents/GitHub/RealWTab/data/cofix/cofix.csv\"\n",
    "df = pd.read_csv(output_file)"
   ]
  },
  {
   "cell_type": "code",
   "execution_count": null,
   "id": "1aa06f6f",
   "metadata": {},
   "outputs": [],
   "source": [
    "df[\"partition_date\"].value_counts()"
   ]
  },
  {
   "cell_type": "code",
   "execution_count": null,
   "id": "126f3c4c",
   "metadata": {},
   "outputs": [],
   "source": [
    "chunk"
   ]
  },
  {
   "cell_type": "code",
   "execution_count": null,
   "id": "9f544f4b",
   "metadata": {},
   "outputs": [],
   "source": [
    "CHUNK_SIZE = 100000\n",
    "csv_file_list = [\"/Users/mdicio/Documents/GitHub/RealWTab/data/comob/data/comob/part-00043-b23ec155-a219-454f-b929-49e92ddfdc11.c000.csv\", \n",
    "                 \"/Users/mdicio/Documents/GitHub/RealWTab/data/comob/data/comob/part-00043-b23ec155-a219-454f-b929-49e92ddfdc11.c000.csv\"]\n",
    "\n",
    "output_file = \"/Users/mdicio/Documents/GitHub/RealWTab/data/comob/comob.csv\"\n",
    "\n",
    "first_one = True\n",
    "for csv_file_name in csv_file_list:\n",
    "\n",
    "    if not first_one: # if it is not the first csv file then skip the header row (row 0) of that file\n",
    "        skip_row = [0]\n",
    "    else:\n",
    "        skip_row = []\n",
    "\n",
    "    chunk_container = pd.read_csv(csv_file_name, chunksize=CHUNK_SIZE, skiprows = skip_row)\n",
    "    for chunk in chunk_container:\n",
    "        chunk.to_csv(output_file, mode=\"a\", index=False)\n",
    "    first_one = False"
   ]
  },
  {
   "cell_type": "code",
   "execution_count": null,
   "id": "a9faf627",
   "metadata": {},
   "outputs": [],
   "source": [
    "data.to_csv(\"/Users/mdicio/Documents/GitHub/RealWTab/data/cofix/cofix.csv\")\n"
   ]
  },
  {
   "cell_type": "code",
   "execution_count": null,
   "id": "58463a8d",
   "metadata": {},
   "outputs": [],
   "source": [
    "data = pd.read_csv(r'/Users/mdicio/Documents/GitHub/RealWTab/data/comob/part-00043-b23ec155-a219-454f-b929-49e92ddfdc11.c000.csv', low_memory=False, sep=',', engine='c',header=0)\n",
    "data.head()\n",
    "data2 = pd.read_csv(r\"/Users/mdicio/Documents/GitHub/RealWTab/data/comob/part-00191-b23ec155-a219-454f-b929-49e92ddfdc11.c000.csv\",low_memory=False, sep=',', engine='c',header=0)\n",
    "data = pd.concat([data, data2], axis=0)"
   ]
  }
 ],
 "metadata": {
  "kernelspec": {
   "display_name": "Python 3 (ipykernel)",
   "language": "python",
   "name": "python3"
  },
  "language_info": {
   "codemirror_mode": {
    "name": "ipython",
    "version": 3
   },
   "file_extension": ".py",
   "mimetype": "text/x-python",
   "name": "python",
   "nbconvert_exporter": "python",
   "pygments_lexer": "ipython3",
   "version": "3.10.0"
  }
 },
 "nbformat": 4,
 "nbformat_minor": 5
}
