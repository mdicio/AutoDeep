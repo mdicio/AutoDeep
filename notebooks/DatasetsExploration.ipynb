{
 "cells": [
  {
   "cell_type": "code",
   "execution_count": 1,
   "id": "61d7a5af",
   "metadata": {},
   "outputs": [],
   "source": [
    "import pandas as pd\n",
    "#from datasets import load_dataset\n",
    "from factory import create_data_loader\n",
    "from sklearn.preprocessing import LabelEncoder\n",
    "from sklearn.metrics import mean_squared_error"
   ]
  },
  {
   "cell_type": "code",
   "execution_count": 4,
   "id": "aa1afc1d",
   "metadata": {},
   "outputs": [
    {
     "name": "stdout",
     "output_type": "stream",
     "text": [
      "titanic df len: 891\n",
      "survived\n",
      "0    549\n",
      "1    342\n",
      "Name: count, dtype: int64\n"
     ]
    },
    {
     "ename": "FileNotFoundError",
     "evalue": "[Errno 2] No such file or directory: './modelsdefinition/IGTD/results/titanic_igtd_Euclidean_Euclidean/abs/_index.txt'",
     "output_type": "error",
     "traceback": [
      "\u001b[0;31m---------------------------------------------------------------------------\u001b[0m",
      "\u001b[0;31mFileNotFoundError\u001b[0m                         Traceback (most recent call last)",
      "Cell \u001b[0;32mIn[4], line 2\u001b[0m\n\u001b[1;32m      1\u001b[0m data_loader \u001b[38;5;241m=\u001b[39m create_data_loader(\u001b[38;5;124m'\u001b[39m\u001b[38;5;124mtitanic\u001b[39m\u001b[38;5;124m'\u001b[39m, test_size\u001b[38;5;241m=\u001b[39m\u001b[38;5;241m0.2\u001b[39m, normalize_features \u001b[38;5;241m=\u001b[39m \u001b[38;5;124m\"\u001b[39m\u001b[38;5;124mmean_std\u001b[39m\u001b[38;5;124m\"\u001b[39m, return_extra_info \u001b[38;5;241m=\u001b[39m \u001b[38;5;28;01mTrue\u001b[39;00m, encode_categorical\u001b[38;5;241m=\u001b[39m\u001b[38;5;28;01mFalse\u001b[39;00m)\n\u001b[0;32m----> 2\u001b[0m X_train, X_test, y_train, y_test, extra_info \u001b[38;5;241m=\u001b[39m \u001b[43mdata_loader\u001b[49m\u001b[38;5;241;43m.\u001b[39;49m\u001b[43mload_data\u001b[49m\u001b[43m(\u001b[49m\u001b[43m)\u001b[49m\n",
      "File \u001b[0;32m~/Documents/GitHub/WTabRun/dataloaders/dataloader.py:379\u001b[0m, in \u001b[0;36mTitanicDataLoader.load_data\u001b[0;34m(self)\u001b[0m\n\u001b[1;32m    377\u001b[0m extra_info \u001b[38;5;241m=\u001b[39m \u001b[38;5;28;01mNone\u001b[39;00m\n\u001b[1;32m    378\u001b[0m \u001b[38;5;28;01mif\u001b[39;00m \u001b[38;5;28mself\u001b[39m\u001b[38;5;241m.\u001b[39mreturn_extra_info:\n\u001b[0;32m--> 379\u001b[0m     extra_info \u001b[38;5;241m=\u001b[39m \u001b[38;5;28;43mself\u001b[39;49m\u001b[38;5;241;43m.\u001b[39;49m\u001b[43mcreate_extra_info\u001b[49m\u001b[43m(\u001b[49m\n\u001b[1;32m    380\u001b[0m \u001b[43m        \u001b[49m\u001b[43mX_train\u001b[49m\u001b[43m,\u001b[49m\n\u001b[1;32m    381\u001b[0m \u001b[43m        \u001b[49m\u001b[43mimg_rows\u001b[49m\u001b[38;5;241;43m=\u001b[39;49m\u001b[38;5;241;43m4\u001b[39;49m\u001b[43m,\u001b[49m\n\u001b[1;32m    382\u001b[0m \u001b[43m        \u001b[49m\u001b[43mimg_columns\u001b[49m\u001b[38;5;241;43m=\u001b[39;49m\u001b[38;5;241;43m7\u001b[39;49m\u001b[43m,\u001b[49m\n\u001b[1;32m    383\u001b[0m \u001b[43m        \u001b[49m\u001b[43migtd_path\u001b[49m\u001b[38;5;241;43m=\u001b[39;49m\u001b[38;5;124;43m\"\u001b[39;49m\u001b[38;5;124;43m./modelsdefinition/IGTD/results/titanic_igtd_Euclidean_Euclidean/abs/_index.txt\u001b[39;49m\u001b[38;5;124;43m\"\u001b[39;49m\u001b[43m,\u001b[49m\n\u001b[1;32m    384\u001b[0m \u001b[43m    \u001b[49m\u001b[43m)\u001b[49m\n\u001b[1;32m    385\u001b[0m \u001b[38;5;28;01mreturn\u001b[39;00m X_train, X_test, y_train, y_test, extra_info\n",
      "File \u001b[0;32m~/Documents/GitHub/WTabRun/dataloaders/dataloader.py:59\u001b[0m, in \u001b[0;36mDataLoader.create_extra_info\u001b[0;34m(self, df, igtd_path, img_rows, img_columns)\u001b[0m\n\u001b[1;32m     50\u001b[0m column_info \u001b[38;5;241m=\u001b[39m {\n\u001b[1;32m     51\u001b[0m     \u001b[38;5;124m\"\u001b[39m\u001b[38;5;124mcat_col_names\u001b[39m\u001b[38;5;124m\"\u001b[39m: \u001b[38;5;28mlist\u001b[39m(cat_cols),\n\u001b[1;32m     52\u001b[0m     \u001b[38;5;124m\"\u001b[39m\u001b[38;5;124mcat_col_idx\u001b[39m\u001b[38;5;124m\"\u001b[39m: \u001b[38;5;28mlist\u001b[39m(df\u001b[38;5;241m.\u001b[39mcolumns\u001b[38;5;241m.\u001b[39mget_indexer(cat_cols)),\n\u001b[0;32m   (...)\u001b[0m\n\u001b[1;32m     55\u001b[0m     \u001b[38;5;124m\"\u001b[39m\u001b[38;5;124mnum_col_idx\u001b[39m\u001b[38;5;124m\"\u001b[39m: \u001b[38;5;28mlist\u001b[39m(df\u001b[38;5;241m.\u001b[39mcolumns\u001b[38;5;241m.\u001b[39mget_indexer(num_cols)),\n\u001b[1;32m     56\u001b[0m }\n\u001b[1;32m     57\u001b[0m extra_info \u001b[38;5;241m=\u001b[39m column_info\n\u001b[0;32m---> 59\u001b[0m \u001b[38;5;28;01mwith\u001b[39;00m \u001b[38;5;28;43mopen\u001b[39;49m\u001b[43m(\u001b[49m\u001b[43migtd_path\u001b[49m\u001b[43m)\u001b[49m \u001b[38;5;28;01mas\u001b[39;00m f:\n\u001b[1;32m     60\u001b[0m     extra_info[\u001b[38;5;124m\"\u001b[39m\u001b[38;5;124mcolumn_ordering\u001b[39m\u001b[38;5;124m\"\u001b[39m] \u001b[38;5;241m=\u001b[39m \u001b[38;5;28mlist\u001b[39m(\n\u001b[1;32m     61\u001b[0m         \u001b[38;5;28mmap\u001b[39m(\u001b[38;5;28mint\u001b[39m, f\u001b[38;5;241m.\u001b[39mreadlines()[\u001b[38;5;241m-\u001b[39m\u001b[38;5;241m1\u001b[39m]\u001b[38;5;241m.\u001b[39mstrip()\u001b[38;5;241m.\u001b[39msplit())\n\u001b[1;32m     62\u001b[0m     )\n\u001b[1;32m     63\u001b[0m extra_info[\u001b[38;5;124m\"\u001b[39m\u001b[38;5;124mimg_rows\u001b[39m\u001b[38;5;124m\"\u001b[39m] \u001b[38;5;241m=\u001b[39m img_rows\n",
      "\u001b[0;31mFileNotFoundError\u001b[0m: [Errno 2] No such file or directory: './modelsdefinition/IGTD/results/titanic_igtd_Euclidean_Euclidean/abs/_index.txt'"
     ]
    }
   ],
   "source": [
    "data_loader = create_data_loader('titanic', test_size=0.2, normalize_features = \"mean_std\", return_extra_info = True, encode_categorical=False)\n",
    "X_train, X_test, y_train, y_test, extra_info = data_loader.load_data()"
   ]
  },
  {
   "cell_type": "code",
   "execution_count": 3,
   "id": "9c5b681c",
   "metadata": {},
   "outputs": [
    {
     "data": {
      "text/plain": [
       "(26048, 14)"
      ]
     },
     "execution_count": 3,
     "metadata": {},
     "output_type": "execute_result"
    }
   ],
   "source": [
    "X_train.shape"
   ]
  },
  {
   "cell_type": "code",
   "execution_count": 110,
   "id": "0b8772bc",
   "metadata": {},
   "outputs": [
    {
     "data": {
      "text/plain": [
       "array([-2.05103158, -1.93553863, -1.82004567, -1.70455272, -1.58905977,\n",
       "       -1.47356682, -1.35807387, -1.24258091, -1.12708796, -1.01159501,\n",
       "       -0.89610206, -0.7806091 , -0.66511615, -0.5496232 , -0.43413025,\n",
       "       -0.3186373 , -0.20314434, -0.08765139,  0.02784156,  0.14333451,\n",
       "        0.25882747,  0.37432042,  0.48981337,  0.60530632,  0.72079927,\n",
       "        0.83629223,  0.95178518,  1.06727813,  1.18277108,  1.29826404,\n",
       "        1.41375699,  1.52924994,  1.64474289,  1.76023584,  1.8757288 ,\n",
       "        1.99122175,  2.1067147 ,  2.22220765,  2.33770061,  2.45319356,\n",
       "        2.56868651,  2.68417946,  2.79967241,  2.91516537,  3.03065832,\n",
       "        3.14615127,  3.26164422,  3.37713718])"
      ]
     },
     "execution_count": 110,
     "metadata": {},
     "output_type": "execute_result"
    }
   ],
   "source": [
    "# Compute the bins based on the training set\n",
    "bins = np.histogram(X_train[\"PercentInstallTrades\"], bins=\"auto\")[1]\n",
    "bins"
   ]
  },
  {
   "cell_type": "code",
   "execution_count": 81,
   "id": "21b6dacd",
   "metadata": {},
   "outputs": [
    {
     "name": "stdout",
     "output_type": "stream",
     "text": [
      "ExternalRiskEstimate 40\n"
     ]
    }
   ],
   "source": [
    "categorical_columns = []\n",
    "categorical_dims = {}\n",
    "for col in X_train.columns[X_train.dtypes == object]:\n",
    "    print(col, X_train[col].nunique())\n",
    "    l_enc = LabelEncoder()\n",
    "    X_train[col] = X_train[col].fillna(\"Missing\")\n",
    "    X_test[col] = X_test[col].fillna(\"Missing\")\n",
    "    X_train[col] = l_enc.fit_transform(X_train[col].values)\n",
    "    X_test[col] = l_enc.transform(X_test[col].values)\n",
    "    categorical_columns.append(col)\n",
    "    categorical_dims[col] = len(l_enc.classes_)"
   ]
  },
  {
   "cell_type": "code",
   "execution_count": 82,
   "id": "9806783a",
   "metadata": {},
   "outputs": [
    {
     "data": {
      "text/plain": [
       "{-1.5032347317912744,\n",
       " 2.430942622258645,\n",
       " 2.779540615655473,\n",
       " 2.9289397556826855,\n",
       " 3.0285391823674934,\n",
       " 3.078338895709898}"
      ]
     },
     "execution_count": 82,
     "metadata": {},
     "output_type": "execute_result"
    }
   ],
   "source": [
    "set(X_train[\"PercentInstallTrades\"].unique())-set(X_test[\"PercentInstallTrades\"].unique())"
   ]
  },
  {
   "cell_type": "code",
   "execution_count": 83,
   "id": "10d6ef50",
   "metadata": {},
   "outputs": [
    {
     "data": {
      "text/plain": [
       "{2.5803417622858573, 2.9787394690250895}"
      ]
     },
     "execution_count": 83,
     "metadata": {},
     "output_type": "execute_result"
    }
   ],
   "source": [
    "set(X_test[\"PercentInstallTrades\"].unique())-set(X_train[\"PercentInstallTrades\"].unique())"
   ]
  },
  {
   "cell_type": "code",
   "execution_count": 106,
   "id": "c4254bbd",
   "metadata": {},
   "outputs": [
    {
     "data": {
      "text/html": [
       "<style>#sk-container-id-4 {color: black;}#sk-container-id-4 pre{padding: 0;}#sk-container-id-4 div.sk-toggleable {background-color: white;}#sk-container-id-4 label.sk-toggleable__label {cursor: pointer;display: block;width: 100%;margin-bottom: 0;padding: 0.3em;box-sizing: border-box;text-align: center;}#sk-container-id-4 label.sk-toggleable__label-arrow:before {content: \"▸\";float: left;margin-right: 0.25em;color: #696969;}#sk-container-id-4 label.sk-toggleable__label-arrow:hover:before {color: black;}#sk-container-id-4 div.sk-estimator:hover label.sk-toggleable__label-arrow:before {color: black;}#sk-container-id-4 div.sk-toggleable__content {max-height: 0;max-width: 0;overflow: hidden;text-align: left;background-color: #f0f8ff;}#sk-container-id-4 div.sk-toggleable__content pre {margin: 0.2em;color: black;border-radius: 0.25em;background-color: #f0f8ff;}#sk-container-id-4 input.sk-toggleable__control:checked~div.sk-toggleable__content {max-height: 200px;max-width: 100%;overflow: auto;}#sk-container-id-4 input.sk-toggleable__control:checked~label.sk-toggleable__label-arrow:before {content: \"▾\";}#sk-container-id-4 div.sk-estimator input.sk-toggleable__control:checked~label.sk-toggleable__label {background-color: #d4ebff;}#sk-container-id-4 div.sk-label input.sk-toggleable__control:checked~label.sk-toggleable__label {background-color: #d4ebff;}#sk-container-id-4 input.sk-hidden--visually {border: 0;clip: rect(1px 1px 1px 1px);clip: rect(1px, 1px, 1px, 1px);height: 1px;margin: -1px;overflow: hidden;padding: 0;position: absolute;width: 1px;}#sk-container-id-4 div.sk-estimator {font-family: monospace;background-color: #f0f8ff;border: 1px dotted black;border-radius: 0.25em;box-sizing: border-box;margin-bottom: 0.5em;}#sk-container-id-4 div.sk-estimator:hover {background-color: #d4ebff;}#sk-container-id-4 div.sk-parallel-item::after {content: \"\";width: 100%;border-bottom: 1px solid gray;flex-grow: 1;}#sk-container-id-4 div.sk-label:hover label.sk-toggleable__label {background-color: #d4ebff;}#sk-container-id-4 div.sk-serial::before {content: \"\";position: absolute;border-left: 1px solid gray;box-sizing: border-box;top: 0;bottom: 0;left: 50%;z-index: 0;}#sk-container-id-4 div.sk-serial {display: flex;flex-direction: column;align-items: center;background-color: white;padding-right: 0.2em;padding-left: 0.2em;position: relative;}#sk-container-id-4 div.sk-item {position: relative;z-index: 1;}#sk-container-id-4 div.sk-parallel {display: flex;align-items: stretch;justify-content: center;background-color: white;position: relative;}#sk-container-id-4 div.sk-item::before, #sk-container-id-4 div.sk-parallel-item::before {content: \"\";position: absolute;border-left: 1px solid gray;box-sizing: border-box;top: 0;bottom: 0;left: 50%;z-index: -1;}#sk-container-id-4 div.sk-parallel-item {display: flex;flex-direction: column;z-index: 1;position: relative;background-color: white;}#sk-container-id-4 div.sk-parallel-item:first-child::after {align-self: flex-end;width: 50%;}#sk-container-id-4 div.sk-parallel-item:last-child::after {align-self: flex-start;width: 50%;}#sk-container-id-4 div.sk-parallel-item:only-child::after {width: 0;}#sk-container-id-4 div.sk-dashed-wrapped {border: 1px dashed gray;margin: 0 0.4em 0.5em 0.4em;box-sizing: border-box;padding-bottom: 0.4em;background-color: white;}#sk-container-id-4 div.sk-label label {font-family: monospace;font-weight: bold;display: inline-block;line-height: 1.2em;}#sk-container-id-4 div.sk-label-container {text-align: center;}#sk-container-id-4 div.sk-container {/* jupyter's `normalize.less` sets `[hidden] { display: none; }` but bootstrap.min.css set `[hidden] { display: none !important; }` so we also need the `!important` here to be able to override the default hidden behavior on the sphinx rendered scikit-learn.org. See: https://github.com/scikit-learn/scikit-learn/issues/21755 */display: inline-block !important;position: relative;}#sk-container-id-4 div.sk-text-repr-fallback {display: none;}</style><div id=\"sk-container-id-4\" class=\"sk-top-container\"><div class=\"sk-text-repr-fallback\"><pre>LabelEncoder()</pre><b>In a Jupyter environment, please rerun this cell to show the HTML representation or trust the notebook. <br />On GitHub, the HTML representation is unable to render, please try loading this page with nbviewer.org.</b></div><div class=\"sk-container\" hidden><div class=\"sk-item\"><div class=\"sk-estimator sk-toggleable\"><input class=\"sk-toggleable__control sk-hidden--visually\" id=\"sk-estimator-id-4\" type=\"checkbox\" checked><label for=\"sk-estimator-id-4\" class=\"sk-toggleable__label sk-toggleable__label-arrow\">LabelEncoder</label><div class=\"sk-toggleable__content\"><pre>LabelEncoder()</pre></div></div></div></div></div>"
      ],
      "text/plain": [
       "LabelEncoder()"
      ]
     },
     "execution_count": 106,
     "metadata": {},
     "output_type": "execute_result"
    }
   ],
   "source": [
    "le = LabelEncoder()\n",
    "le.fit(X_train[\"MSinceMostRecentDelq\"])"
   ]
  },
  {
   "cell_type": "code",
   "execution_count": 108,
   "id": "84d3f511",
   "metadata": {},
   "outputs": [
    {
     "data": {
      "text/plain": [
       "array(['0.0', '10.0', '11.0', '12.0', '13.0', '14.0', '15.0', '16.0',\n",
       "       '17.0', '18.0', '19.0', '20.0', '21.0', '22.0', '23.0', '24.0',\n",
       "       '25.0', '26.0', '27.0', '28.0', '29.0', '30.0', '31.0', '32.0',\n",
       "       '33.0', '34.0', '35.0', '36.0', '37.0', '38.0', '39.0', '4.0',\n",
       "       '40.0', '41.0', '42.0', '43.0', '44.0', '45.0', '5.0', '6.0',\n",
       "       '7.0', '8.0', '9.0', 'nan'], dtype=object)"
      ]
     },
     "execution_count": 108,
     "metadata": {},
     "output_type": "execute_result"
    }
   ],
   "source": [
    "le.classes_"
   ]
  },
  {
   "cell_type": "code",
   "execution_count": 107,
   "id": "3c5c060c",
   "metadata": {},
   "outputs": [
    {
     "data": {
      "text/plain": [
       "44"
      ]
     },
     "execution_count": 107,
     "metadata": {},
     "output_type": "execute_result"
    }
   ],
   "source": [
    "len(le.classes_)"
   ]
  },
  {
   "cell_type": "code",
   "execution_count": 98,
   "id": "c9760dd8",
   "metadata": {},
   "outputs": [
    {
     "data": {
      "text/plain": [
       "'<Unknown>'"
      ]
     },
     "execution_count": 98,
     "metadata": {},
     "output_type": "execute_result"
    }
   ],
   "source": [
    "le_dict = dict(zip(le.classes_, le.transform(le.classes_)))\n",
    "#Retrieve label for a single new item, if item is missing then set value as unknown\n",
    "le_dict.get(\"heyaa\", '<Unknown>')"
   ]
  },
  {
   "cell_type": "code",
   "execution_count": 99,
   "id": "f98bd82b",
   "metadata": {},
   "outputs": [
    {
     "data": {
      "text/plain": [
       "{'0.0': 0,\n",
       " '10.0': 1,\n",
       " '11.0': 2,\n",
       " '12.0': 3,\n",
       " '13.0': 4,\n",
       " '14.0': 5,\n",
       " '15.0': 6,\n",
       " '16.0': 7,\n",
       " '17.0': 8,\n",
       " '18.0': 9,\n",
       " '19.0': 10,\n",
       " '20.0': 11,\n",
       " '21.0': 12,\n",
       " '22.0': 13,\n",
       " '23.0': 14,\n",
       " '24.0': 15,\n",
       " '25.0': 16,\n",
       " '26.0': 17,\n",
       " '27.0': 18,\n",
       " '28.0': 19,\n",
       " '29.0': 20,\n",
       " '30.0': 21,\n",
       " '31.0': 22,\n",
       " '32.0': 23,\n",
       " '33.0': 24,\n",
       " '34.0': 25,\n",
       " '35.0': 26,\n",
       " '36.0': 27,\n",
       " '37.0': 28,\n",
       " '38.0': 29,\n",
       " '39.0': 30,\n",
       " '4.0': 31,\n",
       " '40.0': 32,\n",
       " '41.0': 33,\n",
       " '42.0': 34,\n",
       " '43.0': 35,\n",
       " '44.0': 36,\n",
       " '45.0': 37,\n",
       " '5.0': 38,\n",
       " '6.0': 39,\n",
       " '7.0': 40,\n",
       " '8.0': 41,\n",
       " '9.0': 42,\n",
       " 'nan': 43}"
      ]
     },
     "execution_count": 99,
     "metadata": {},
     "output_type": "execute_result"
    }
   ],
   "source": [
    "le_dict"
   ]
  },
  {
   "cell_type": "code",
   "execution_count": 104,
   "id": "f7d83f07",
   "metadata": {},
   "outputs": [],
   "source": [
    "le.classes_ = np.append(le.classes_,[\"yo\"])"
   ]
  },
  {
   "cell_type": "code",
   "execution_count": 105,
   "id": "d3bd7197",
   "metadata": {},
   "outputs": [
    {
     "data": {
      "text/plain": [
       "array(['0.0', '10.0', '11.0', '12.0', '13.0', '14.0', '15.0', '16.0',\n",
       "       '17.0', '18.0', '19.0', '20.0', '21.0', '22.0', '23.0', '24.0',\n",
       "       '25.0', '26.0', '27.0', '28.0', '29.0', '30.0', '31.0', '32.0',\n",
       "       '33.0', '34.0', '35.0', '36.0', '37.0', '38.0', '39.0', '4.0',\n",
       "       '40.0', '41.0', '42.0', '43.0', '44.0', '45.0', '5.0', '6.0',\n",
       "       '7.0', '8.0', '9.0', 'nan', 'yo'], dtype=object)"
      ]
     },
     "execution_count": 105,
     "metadata": {},
     "output_type": "execute_result"
    }
   ],
   "source": [
    "le.classes_"
   ]
  },
  {
   "cell_type": "code",
   "execution_count": null,
   "id": "ccd0384f",
   "metadata": {},
   "outputs": [],
   "source": [
    "\n",
    "#Retrieve labels for a Dataframe column:\n",
    "\n",
    "df[your_col] = df[your_col].apply(lambda x: le_dict.get(x, <unknown_value>))"
   ]
  },
  {
   "cell_type": "code",
   "execution_count": 72,
   "id": "68c78e2a",
   "metadata": {},
   "outputs": [
    {
     "data": {
      "text/plain": [
       "33"
      ]
     },
     "execution_count": 72,
     "metadata": {},
     "output_type": "execute_result"
    }
   ],
   "source": [
    "sum([5, 4, 3, 6, 2, 2, 1, 10])"
   ]
  },
  {
   "cell_type": "code",
   "execution_count": 66,
   "id": "f19f8fb5",
   "metadata": {},
   "outputs": [
    {
     "name": "stdout",
     "output_type": "stream",
     "text": [
      "[44]\n",
      "[5, 4, 3, 6, 2, 2, 1, 10]\n",
      "[13]\n"
     ]
    }
   ],
   "source": [
    "features = [ col for col in X_train.columns if col not in [\"target\"]] \n",
    "cat_idxs = [ i for i, f in enumerate(features) if f in categorical_columns]\n",
    "cat_dims = [ categorical_dims[f] for i, f in enumerate(features) if f in categorical_columns]\n",
    "print(cat_dims)\n",
    "print(cat_emb_dim)\n",
    "print(cat_idxs)"
   ]
  },
  {
   "cell_type": "code",
   "execution_count": 67,
   "id": "bee21c73",
   "metadata": {},
   "outputs": [
    {
     "data": {
      "text/plain": [
       "{'cat_col_names': ['PercentInstallTrades'],\n",
       " 'cat_col_idx': [13],\n",
       " 'cat_col_unique_vals': [44],\n",
       " 'num_col_names': ['ExternalRiskEstimate',\n",
       "  'MSinceOldestTradeOpen',\n",
       "  'MSinceMostRecentTradeOpen',\n",
       "  'AverageMInFile',\n",
       "  'NumSatisfactoryTrades',\n",
       "  'NumTrades60Ever2DerogPubRec',\n",
       "  'NumTrades90Ever2DerogPubRec',\n",
       "  'PercentTradesNeverDelq',\n",
       "  'MSinceMostRecentDelq',\n",
       "  'MaxDelq2PublicRecLast12M',\n",
       "  'MaxDelqEver',\n",
       "  'NumTotalTrades',\n",
       "  'NumTradesOpeninLast12M',\n",
       "  'MSinceMostRecentInqexcl7days',\n",
       "  'NumInqLast6M',\n",
       "  'NumInqLast6Mexcl7days',\n",
       "  'NetFractionRevolvingBurden',\n",
       "  'NetFractionInstallBurden',\n",
       "  'NumRevolvingTradesWBalance',\n",
       "  'NumInstallTradesWBalance',\n",
       "  'NumBank2NatlTradesWHighUtilization',\n",
       "  'PercentTradesWBalance'],\n",
       " 'num_col_idx': [0,\n",
       "  1,\n",
       "  2,\n",
       "  3,\n",
       "  4,\n",
       "  5,\n",
       "  6,\n",
       "  7,\n",
       "  8,\n",
       "  9,\n",
       "  10,\n",
       "  11,\n",
       "  12,\n",
       "  14,\n",
       "  15,\n",
       "  16,\n",
       "  17,\n",
       "  18,\n",
       "  19,\n",
       "  20,\n",
       "  21,\n",
       "  22],\n",
       " 'column_ordering': [84,\n",
       "  29,\n",
       "  39,\n",
       "  74,\n",
       "  22,\n",
       "  63,\n",
       "  80,\n",
       "  46,\n",
       "  12,\n",
       "  0,\n",
       "  97,\n",
       "  107,\n",
       "  26,\n",
       "  18,\n",
       "  9,\n",
       "  106,\n",
       "  10,\n",
       "  64,\n",
       "  6,\n",
       "  73,\n",
       "  44,\n",
       "  59,\n",
       "  7,\n",
       "  89,\n",
       "  55,\n",
       "  43,\n",
       "  103,\n",
       "  1,\n",
       "  4,\n",
       "  17,\n",
       "  101,\n",
       "  100,\n",
       "  30,\n",
       "  88,\n",
       "  20,\n",
       "  94,\n",
       "  56,\n",
       "  19,\n",
       "  34,\n",
       "  15,\n",
       "  91,\n",
       "  54,\n",
       "  51,\n",
       "  75,\n",
       "  8,\n",
       "  50,\n",
       "  77,\n",
       "  25,\n",
       "  40,\n",
       "  27,\n",
       "  60,\n",
       "  92,\n",
       "  42,\n",
       "  53,\n",
       "  5,\n",
       "  13,\n",
       "  52,\n",
       "  45,\n",
       "  48,\n",
       "  90,\n",
       "  78,\n",
       "  57,\n",
       "  37,\n",
       "  38,\n",
       "  99,\n",
       "  70,\n",
       "  67,\n",
       "  33,\n",
       "  65,\n",
       "  71,\n",
       "  11,\n",
       "  61,\n",
       "  21,\n",
       "  49,\n",
       "  76,\n",
       "  2,\n",
       "  28,\n",
       "  105,\n",
       "  98,\n",
       "  85,\n",
       "  69,\n",
       "  104,\n",
       "  47,\n",
       "  68,\n",
       "  93,\n",
       "  3,\n",
       "  58,\n",
       "  36,\n",
       "  16,\n",
       "  35,\n",
       "  41,\n",
       "  81,\n",
       "  83,\n",
       "  87,\n",
       "  31,\n",
       "  79,\n",
       "  32,\n",
       "  86,\n",
       "  24,\n",
       "  14,\n",
       "  102,\n",
       "  66,\n",
       "  95,\n",
       "  72,\n",
       "  96,\n",
       "  82,\n",
       "  23,\n",
       "  62],\n",
       " 'img_rows': 3,\n",
       " 'img_columns': 3,\n",
       " 'num_features': 23}"
      ]
     },
     "execution_count": 67,
     "metadata": {},
     "output_type": "execute_result"
    }
   ],
   "source": [
    "extra_info"
   ]
  },
  {
   "cell_type": "code",
   "execution_count": 34,
   "id": "6ec52882",
   "metadata": {},
   "outputs": [
    {
     "name": "stdout",
     "output_type": "stream",
     "text": [
      "[-3.65341747 -3.57963013 -3.50584278 -3.43205544 -3.35826809 -3.28448074\n",
      " -3.2106934  -3.13690605 -3.06311871 -2.98933136 -2.91554402 -2.84175667\n",
      " -2.76796933 -2.69418198 -2.62039464 -2.54660729 -2.47281995 -2.3990326\n",
      " -2.32524525 -2.25145791 -2.17767056 -2.10388322 -2.03009587 -1.95630853\n",
      " -1.88252118 -1.80873384 -1.73494649 -1.66115915 -1.5873718  -1.51358446\n",
      " -1.43979711 -1.36600977 -1.29222242 -1.21843507 -1.14464773 -1.07086038\n",
      " -0.99707304 -0.92328569 -0.84949835 -0.775711   -0.70192366 -0.62813631\n",
      " -0.55434897 -0.48056162 -0.40677428 -0.33298693 -0.25919959 -0.18541224\n",
      " -0.11162489 -0.03783755  0.0359498   0.10973714  0.18352449  0.25731183\n",
      "  0.33109918  0.40488652  0.47867387  0.55246121  0.62624856]\n"
     ]
    }
   ],
   "source": [
    "df_train, df_test = bin_numerical_column(X_train, X_test, [\"target\"])"
   ]
  },
  {
   "cell_type": "code",
   "execution_count": 39,
   "id": "744131b0",
   "metadata": {},
   "outputs": [
    {
     "data": {
      "text/plain": [
       "0"
      ]
     },
     "execution_count": 39,
     "metadata": {},
     "output_type": "execute_result"
    }
   ],
   "source": [
    "(df_test[\"NumTrades60Ever2DerogPubRec\"]==\"nan\").sum()"
   ]
  },
  {
   "cell_type": "code",
   "execution_count": 31,
   "id": "b5e1eb28",
   "metadata": {},
   "outputs": [
    {
     "data": {
      "text/plain": [
       "ExternalRiskEstimate                  float64\n",
       "MSinceOldestTradeOpen                 float64\n",
       "MSinceMostRecentTradeOpen             float64\n",
       "AverageMInFile                        float64\n",
       "NumSatisfactoryTrades                 float64\n",
       "NumTrades60Ever2DerogPubRec             int64\n",
       "NumTrades90Ever2DerogPubRec           float64\n",
       "PercentTradesNeverDelq                float64\n",
       "MSinceMostRecentDelq                  float64\n",
       "MaxDelq2PublicRecLast12M              float64\n",
       "MaxDelqEver                           float64\n",
       "NumTotalTrades                        float64\n",
       "NumTradesOpeninLast12M                 object\n",
       "PercentInstallTrades                  float64\n",
       "MSinceMostRecentInqexcl7days          float64\n",
       "NumInqLast6M                          float64\n",
       "NumInqLast6Mexcl7days                 float64\n",
       "NetFractionRevolvingBurden            float64\n",
       "NetFractionInstallBurden              float64\n",
       "NumRevolvingTradesWBalance            float64\n",
       "NumInstallTradesWBalance              float64\n",
       "NumBank2NatlTradesWHighUtilization    float64\n",
       "PercentTradesWBalance                 float64\n",
       "dtype: object"
      ]
     },
     "execution_count": 31,
     "metadata": {},
     "output_type": "execute_result"
    }
   ],
   "source": [
    "df_train.dtypes"
   ]
  },
  {
   "cell_type": "code",
   "execution_count": 20,
   "id": "82ec25f3",
   "metadata": {},
   "outputs": [
    {
     "data": {
      "text/plain": [
       "array([-0.27268892, -0.04743586, -0.49794197,  0.62832329,  0.40307024,\n",
       "        0.17781719,  1.75458855, -2.52521943,  0.85357634, -2.75047248,\n",
       "        1.30408244, -0.72319502,  1.5293355 ,  1.9798416 ,  1.07882939,\n",
       "        4.00711906,  2.4303477 ,  2.65560075,  3.10610685,  2.20509465,\n",
       "        2.8808538 ,  3.55661296,  5.35863737,  3.33135991,  5.80914347,\n",
       "        4.68287821,  4.90813127,  3.78186601,  6.48490263,  4.45762516,\n",
       "        5.13338432])"
      ]
     },
     "execution_count": 20,
     "metadata": {},
     "output_type": "execute_result"
    }
   ],
   "source": [
    "df_train[\"NumRevolvingTradesWBalance\"].unique()"
   ]
  },
  {
   "cell_type": "code",
   "execution_count": 21,
   "id": "89d5c9be",
   "metadata": {},
   "outputs": [
    {
     "data": {
      "text/plain": [
       "array([-0.44267365,  0.36108255,  0.59748143,  0.07740389,  0.17196345,\n",
       "       -0.15899499,  0.31380278,  0.97571964,  0.69204099,  0.88116009,\n",
       "       -0.34811409,  0.78660054, -0.20627476, -0.25355454, -0.39539387,\n",
       "       -0.01715566, -0.58451298,  0.4556421 ,  0.50292188, -3.61041866,\n",
       "        0.03012412,  0.64476121, -0.11171521, -0.48995342,  0.12468367,\n",
       "        0.266523  , -0.06443544,  1.0702792 ,  0.21924322,  0.92843987,\n",
       "        0.40836233, -0.30083432,  0.83388031,  0.73932076,  0.55020166,\n",
       "       -0.5372332 , -1.19915007,  1.11755897, -0.63179275,  1.16483875,\n",
       "        1.02299942,  1.21211853, -1.10459051, -1.48282873, -0.96275119,\n",
       "       -1.29370962, -1.05731074, -0.82091186, -0.7263523 , -0.67907253,\n",
       "       -0.91547141, -0.77363208, -1.43554895, -1.01003096, -1.15187029,\n",
       "       -1.3409894 , -1.24642984, -1.62466805, -0.86819163, -1.57738828])"
      ]
     },
     "execution_count": 21,
     "metadata": {},
     "output_type": "execute_result"
    }
   ],
   "source": [
    "X_train[\"ExternalRiskEstimate\"].unique()"
   ]
  },
  {
   "cell_type": "code",
   "execution_count": 8,
   "id": "7de21291",
   "metadata": {},
   "outputs": [
    {
     "data": {
      "text/plain": [
       "{'cat_col_names': ['MSinceMostRecentInqexcl7days'],\n",
       " 'cat_col_idx': [14],\n",
       " 'cat_col_unique_vals': [28],\n",
       " 'num_col_names': ['ExternalRiskEstimate',\n",
       "  'MSinceOldestTradeOpen',\n",
       "  'MSinceMostRecentTradeOpen',\n",
       "  'AverageMInFile',\n",
       "  'NumSatisfactoryTrades',\n",
       "  'NumTrades60Ever2DerogPubRec',\n",
       "  'NumTrades90Ever2DerogPubRec',\n",
       "  'PercentTradesNeverDelq',\n",
       "  'MSinceMostRecentDelq',\n",
       "  'MaxDelq2PublicRecLast12M',\n",
       "  'MaxDelqEver',\n",
       "  'NumTotalTrades',\n",
       "  'NumTradesOpeninLast12M',\n",
       "  'PercentInstallTrades',\n",
       "  'NumInqLast6M',\n",
       "  'NumInqLast6Mexcl7days',\n",
       "  'NetFractionRevolvingBurden',\n",
       "  'NetFractionInstallBurden',\n",
       "  'NumRevolvingTradesWBalance',\n",
       "  'NumInstallTradesWBalance',\n",
       "  'NumBank2NatlTradesWHighUtilization',\n",
       "  'PercentTradesWBalance'],\n",
       " 'num_col_idx': [0,\n",
       "  1,\n",
       "  2,\n",
       "  3,\n",
       "  4,\n",
       "  5,\n",
       "  6,\n",
       "  7,\n",
       "  8,\n",
       "  9,\n",
       "  10,\n",
       "  11,\n",
       "  12,\n",
       "  13,\n",
       "  15,\n",
       "  16,\n",
       "  17,\n",
       "  18,\n",
       "  19,\n",
       "  20,\n",
       "  21,\n",
       "  22],\n",
       " 'column_ordering': [84,\n",
       "  29,\n",
       "  39,\n",
       "  74,\n",
       "  22,\n",
       "  63,\n",
       "  80,\n",
       "  46,\n",
       "  12,\n",
       "  0,\n",
       "  97,\n",
       "  107,\n",
       "  26,\n",
       "  18,\n",
       "  9,\n",
       "  106,\n",
       "  10,\n",
       "  64,\n",
       "  6,\n",
       "  73,\n",
       "  44,\n",
       "  59,\n",
       "  7,\n",
       "  89,\n",
       "  55,\n",
       "  43,\n",
       "  103,\n",
       "  1,\n",
       "  4,\n",
       "  17,\n",
       "  101,\n",
       "  100,\n",
       "  30,\n",
       "  88,\n",
       "  20,\n",
       "  94,\n",
       "  56,\n",
       "  19,\n",
       "  34,\n",
       "  15,\n",
       "  91,\n",
       "  54,\n",
       "  51,\n",
       "  75,\n",
       "  8,\n",
       "  50,\n",
       "  77,\n",
       "  25,\n",
       "  40,\n",
       "  27,\n",
       "  60,\n",
       "  92,\n",
       "  42,\n",
       "  53,\n",
       "  5,\n",
       "  13,\n",
       "  52,\n",
       "  45,\n",
       "  48,\n",
       "  90,\n",
       "  78,\n",
       "  57,\n",
       "  37,\n",
       "  38,\n",
       "  99,\n",
       "  70,\n",
       "  67,\n",
       "  33,\n",
       "  65,\n",
       "  71,\n",
       "  11,\n",
       "  61,\n",
       "  21,\n",
       "  49,\n",
       "  76,\n",
       "  2,\n",
       "  28,\n",
       "  105,\n",
       "  98,\n",
       "  85,\n",
       "  69,\n",
       "  104,\n",
       "  47,\n",
       "  68,\n",
       "  93,\n",
       "  3,\n",
       "  58,\n",
       "  36,\n",
       "  16,\n",
       "  35,\n",
       "  41,\n",
       "  81,\n",
       "  83,\n",
       "  87,\n",
       "  31,\n",
       "  79,\n",
       "  32,\n",
       "  86,\n",
       "  24,\n",
       "  14,\n",
       "  102,\n",
       "  66,\n",
       "  95,\n",
       "  72,\n",
       "  96,\n",
       "  82,\n",
       "  23,\n",
       "  62],\n",
       " 'img_rows': 3,\n",
       " 'img_columns': 3,\n",
       " 'num_features': 23}"
      ]
     },
     "execution_count": 8,
     "metadata": {},
     "output_type": "execute_result"
    }
   ],
   "source": [
    "extra_info"
   ]
  },
  {
   "cell_type": "code",
   "execution_count": 13,
   "id": "21701004",
   "metadata": {},
   "outputs": [
    {
     "data": {
      "text/plain": [
       "1"
      ]
     },
     "execution_count": 13,
     "metadata": {},
     "output_type": "execute_result"
    }
   ],
   "source": [
    "8367%2"
   ]
  },
  {
   "cell_type": "code",
   "execution_count": 5,
   "id": "da929ad1",
   "metadata": {},
   "outputs": [
    {
     "data": {
      "text/plain": [
       "'./notebooks'"
      ]
     },
     "execution_count": 5,
     "metadata": {},
     "output_type": "execute_result"
    }
   ],
   "source": [
    "import os\n",
    "os.getcwd()"
   ]
  },
  {
   "cell_type": "code",
   "execution_count": 6,
   "id": "341aa1bd",
   "metadata": {},
   "outputs": [],
   "source": [
    "# write X_train to CSV file\n",
    "X_train.to_csv('X_train.csv', index=False)\n",
    "# write X_val to CSV file\n",
    "X_val.to_csv('X_val.csv', index=False)\n",
    "# write y_train to CSV file\n",
    "y_train.to_csv('y_train.csv', index=False)\n",
    "# write y_val to CSV file\n",
    "y_val.to_csv('y_val.csv', index=False)"
   ]
  },
  {
   "cell_type": "code",
   "execution_count": null,
   "id": "2fe9d2a9",
   "metadata": {},
   "outputs": [],
   "source": []
  },
  {
   "cell_type": "code",
   "execution_count": null,
   "id": "8d0c543d",
   "metadata": {},
   "outputs": [],
   "source": []
  },
  {
   "cell_type": "code",
   "execution_count": 3,
   "id": "51d87aae",
   "metadata": {},
   "outputs": [
    {
     "data": {
      "text/plain": [
       "581011"
      ]
     },
     "execution_count": 3,
     "metadata": {},
     "output_type": "execute_result"
    }
   ],
   "source": [
    "df = pd.read_csv(\"./data/covertype/covtype.data.gz\")\n",
    "len(df)"
   ]
  },
  {
   "cell_type": "code",
   "execution_count": 4,
   "id": "57163097",
   "metadata": {},
   "outputs": [
    {
     "data": {
      "text/plain": [
       "10459"
      ]
     },
     "execution_count": 4,
     "metadata": {},
     "output_type": "execute_result"
    }
   ],
   "source": [
    "df = pd.read_csv(\n",
    "            \"./data/heloc/heloc_dataset_v1.csv\"\n",
    "        )\n",
    "len(df)"
   ]
  },
  {
   "cell_type": "code",
   "execution_count": 10,
   "id": "23e5882e",
   "metadata": {},
   "outputs": [
    {
     "data": {
      "text/plain": [
       "Index(['RiskPerformance'], dtype='object')"
      ]
     },
     "execution_count": 10,
     "metadata": {},
     "output_type": "execute_result"
    }
   ],
   "source": [
    "cat_cols = df.select_dtypes(include=[\"object\", \"category\"]).columns\n",
    "cat_cols"
   ]
  },
  {
   "cell_type": "code",
   "execution_count": 9,
   "id": "841fb80b",
   "metadata": {},
   "outputs": [
    {
     "data": {
      "text/plain": [
       "Index(['RiskPerformance', 'ExternalRiskEstimate', 'MSinceOldestTradeOpen',\n",
       "       'MSinceMostRecentTradeOpen', 'AverageMInFile', 'NumSatisfactoryTrades',\n",
       "       'NumTrades60Ever2DerogPubRec', 'NumTrades90Ever2DerogPubRec',\n",
       "       'PercentTradesNeverDelq', 'MSinceMostRecentDelq',\n",
       "       'MaxDelq2PublicRecLast12M', 'MaxDelqEver', 'NumTotalTrades',\n",
       "       'NumTradesOpeninLast12M', 'PercentInstallTrades',\n",
       "       'MSinceMostRecentInqexcl7days', 'NumInqLast6M', 'NumInqLast6Mexcl7days',\n",
       "       'NetFractionRevolvingBurden', 'NetFractionInstallBurden',\n",
       "       'NumRevolvingTradesWBalance', 'NumInstallTradesWBalance',\n",
       "       'NumBank2NatlTradesWHighUtilization', 'PercentTradesWBalance'],\n",
       "      dtype='object')"
      ]
     },
     "execution_count": 9,
     "metadata": {},
     "output_type": "execute_result"
    }
   ],
   "source": [
    "df.columns"
   ]
  },
  {
   "cell_type": "code",
   "execution_count": 5,
   "id": "76495338",
   "metadata": {},
   "outputs": [
    {
     "data": {
      "text/plain": [
       "array([5, 2, 1, 7, 3, 6, 4])"
      ]
     },
     "execution_count": 5,
     "metadata": {},
     "output_type": "execute_result"
    }
   ],
   "source": [
    "df[\"5\"].unique()"
   ]
  },
  {
   "cell_type": "code",
   "execution_count": 6,
   "id": "1814e98a",
   "metadata": {},
   "outputs": [
    {
     "data": {
      "text/plain": [
       "Index([], dtype='object')"
      ]
     },
     "execution_count": 6,
     "metadata": {},
     "output_type": "execute_result"
    }
   ],
   "source": [
    "cat_cols = df.select_dtypes(include=[\"object\", \"category\"]).columns\n",
    "cat_cols"
   ]
  },
  {
   "cell_type": "code",
   "execution_count": null,
   "id": "c2bb8b2b",
   "metadata": {},
   "outputs": [],
   "source": []
  }
 ],
 "metadata": {
  "kernelspec": {
   "display_name": "Python 3 (ipykernel)",
   "language": "python",
   "name": "python3"
  },
  "language_info": {
   "codemirror_mode": {
    "name": "ipython",
    "version": 3
   },
   "file_extension": ".py",
   "mimetype": "text/x-python",
   "name": "python",
   "nbconvert_exporter": "python",
   "pygments_lexer": "ipython3",
   "version": "3.10.0"
  }
 },
 "nbformat": 4,
 "nbformat_minor": 5
}
