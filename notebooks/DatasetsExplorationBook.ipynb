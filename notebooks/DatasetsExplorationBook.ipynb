{
 "cells": [
  {
   "cell_type": "code",
   "execution_count": 41,
   "id": "61d7a5af",
   "metadata": {},
   "outputs": [],
   "source": [
    "import pandas as pd\n",
    "#from datasets import load_dataset\n",
    "from factory import create_full_data_loader\n",
    "from sklearn.preprocessing import LabelEncoder\n",
    "from sklearn.metrics import mean_squared_error\n",
    "import numpy as np"
   ]
  },
  {
   "cell_type": "code",
   "execution_count": 42,
   "id": "ac538c6a-000f-4654-8ef6-4db8f48a6e13",
   "metadata": {},
   "outputs": [],
   "source": [
    "from sklearn.datasets import load_iris, fetch_california_housing, load_breast_cancer\n",
    "from sklearn.model_selection import KFold, StratifiedKFold, train_test_split"
   ]
  },
  {
   "cell_type": "code",
   "execution_count": 43,
   "id": "88915d03-4f42-47a9-8b8b-c3a188862277",
   "metadata": {},
   "outputs": [],
   "source": [
    "data_loader = create_full_data_loader(\"heloc\", test_size=0.2, normalize_features=\"mean_std\", return_extra_info=True, encode_categorical=False)\n",
    "X, y,  extra_info = data_loader.load_data()"
   ]
  },
  {
   "cell_type": "code",
   "execution_count": 44,
   "id": "5d541d69-7d99-4338-a118-2037cd9a8449",
   "metadata": {},
   "outputs": [],
   "source": [
    " # Merge X_train and y_train\n",
    "train = pd.concat([X, y], axis=1)"
   ]
  },
  {
   "cell_type": "code",
   "execution_count": 45,
   "id": "7c438e85-f75e-42c1-ad73-76dba2b3e5b7",
   "metadata": {},
   "outputs": [
    {
     "name": "stdout",
     "output_type": "stream",
     "text": [
      "(8367,)\n",
      "(2092,)\n",
      "(8367,)\n",
      "(2092,)\n",
      "(8367,)\n",
      "(2092,)\n",
      "(8367,)\n",
      "(2092,)\n",
      "(8368,)\n",
      "(2091,)\n"
     ]
    }
   ],
   "source": [
    "k_value = 5\n",
    "kf = StratifiedKFold(n_splits=k_value, shuffle=True, random_state=42)\n",
    "for fold, (train_idx, val_idx) in enumerate(\n",
    "kf.split(X,y)):\n",
    "    train_fold = train.iloc[train_idx]\n",
    "    val_fold = train.iloc[val_idx]\n",
    "    print(train_fold[\"target\"].shape)\n",
    "    print(val_fold[\"target\"].shape)"
   ]
  },
  {
   "cell_type": "code",
   "execution_count": 73,
   "id": "23ce1303-a41e-4840-bd0b-d9a43d5d56f4",
   "metadata": {},
   "outputs": [
    {
     "data": {
      "text/plain": [
       "[8367, 8367, 8367, 8367, 8368]"
      ]
     },
     "execution_count": 73,
     "metadata": {},
     "output_type": "execute_result"
    }
   ],
   "source": [
    "ds = [i for i in enumerate(kf.split(X,y))]\n",
    "fold_sizes = [i[1][0].shape[0] for i in ds]\n",
    "fold_sizes"
   ]
  },
  {
   "cell_type": "code",
   "execution_count": 69,
   "id": "807ebec4-f2a6-428c-bf9e-e113f15fb333",
   "metadata": {},
   "outputs": [
    {
     "data": {
      "text/plain": [
       "[(0,\n",
       "  (array([    0,     1,     2, ..., 10455, 10456, 10457]),\n",
       "   array([    6,    14,    29, ..., 10448, 10454, 10458]))),\n",
       " (1,\n",
       "  (array([    0,     1,     2, ..., 10456, 10457, 10458]),\n",
       "   array([    4,    17,    20, ..., 10438, 10447, 10452]))),\n",
       " (2,\n",
       "  (array([    2,     3,     4, ..., 10456, 10457, 10458]),\n",
       "   array([    0,     1,     5, ..., 10444, 10446, 10450]))),\n",
       " (3,\n",
       "  (array([    0,     1,     2, ..., 10456, 10457, 10458]),\n",
       "   array([    3,     9,    12, ..., 10440, 10449, 10453]))),\n",
       " (4,\n",
       "  (array([    0,     1,     3, ..., 10453, 10454, 10458]),\n",
       "   array([    2,     7,     8, ..., 10455, 10456, 10457])))]"
      ]
     },
     "execution_count": 69,
     "metadata": {},
     "output_type": "execute_result"
    }
   ],
   "source": [
    "ds"
   ]
  },
  {
   "cell_type": "code",
   "execution_count": 68,
   "id": "44539ee2-2c9d-468b-9384-074263579257",
   "metadata": {},
   "outputs": [
    {
     "data": {
      "text/plain": [
       "8367"
      ]
     },
     "execution_count": 68,
     "metadata": {},
     "output_type": "execute_result"
    }
   ],
   "source": [
    "ds[0][1][0].shape[0]"
   ]
  },
  {
   "cell_type": "code",
   "execution_count": 71,
   "id": "ed921359-b043-49b9-84b2-2117af99b004",
   "metadata": {},
   "outputs": [
    {
     "data": {
      "text/plain": [
       "8367"
      ]
     },
     "execution_count": 71,
     "metadata": {},
     "output_type": "execute_result"
    }
   ],
   "source": [
    "ds[1][1][0].shape[0]"
   ]
  },
  {
   "cell_type": "code",
   "execution_count": 53,
   "id": "74b59276-f0db-4fbb-93ad-014d5a990142",
   "metadata": {},
   "outputs": [
    {
     "data": {
      "text/plain": [
       "[2, 2, 2, 2, 2]"
      ]
     },
     "execution_count": 53,
     "metadata": {},
     "output_type": "execute_result"
    }
   ],
   "source": [
    "[len(i[1]) for i in enumerate(kf.split(X,y))]"
   ]
  },
  {
   "cell_type": "code",
   "execution_count": 28,
   "id": "33e7b899-9bf2-4cff-bf66-3d423dfe547f",
   "metadata": {},
   "outputs": [
    {
     "data": {
      "text/plain": [
       "array([    0,     1,     3, ..., 10453, 10454, 10458])"
      ]
     },
     "execution_count": 28,
     "metadata": {},
     "output_type": "execute_result"
    }
   ],
   "source": [
    "train_idx"
   ]
  },
  {
   "cell_type": "code",
   "execution_count": null,
   "id": "735b1ba3-c226-42bc-ba84-1620e1d31839",
   "metadata": {},
   "outputs": [],
   "source": [
    "# Loop through each element in the list\n",
    "for fold_length in self.possible_fold_sizes:\n",
    "    if fold_length % params[\"batch_size\"] == 1:\n",
    "        self.logger.debug(\n",
    "            \"Fold size and virtual batch size would cause a problem, so removing one observation\"\n",
    "        )\n",
    "        # Get a random index from the DataFrame\n",
    "        random_index = train.sample().index\n",
    "        # Remove the row with the random index\n",
    "        train.drop(random_index, inplace=True)\n",
    "        train.reset_index(drop=True, inplace=True)\n",
    "        break"
   ]
  },
  {
   "cell_type": "code",
   "execution_count": 30,
   "id": "40da370c-9dd1-434e-99a4-2875fe247955",
   "metadata": {},
   "outputs": [],
   "source": [
    "def calculate_possible_fold_sizes(n_samples, k):\n",
    "    base_fold_size = n_samples // k\n",
    "    extra_samples = n_samples % k\n",
    "\n",
    "    fold_sizes = [base_fold_size] * k\n",
    "\n",
    "    for i in range(extra_samples):\n",
    "        fold_sizes[i] += 1\n",
    "\n",
    "    possible_train_sizes = set([n_samples - f for f in fold_sizes])\n",
    "    return list(possible_train_sizes)"
   ]
  },
  {
   "cell_type": "code",
   "execution_count": 40,
   "id": "2acbd1b7-d925-461e-b134-259f1622aae1",
   "metadata": {},
   "outputs": [
    {
     "ename": "AttributeError",
     "evalue": "'int' object has no attribute 'deepcopy'",
     "output_type": "error",
     "traceback": [
      "\u001b[0;31m---------------------------------------------------------------------------\u001b[0m",
      "\u001b[0;31mAttributeError\u001b[0m                            Traceback (most recent call last)",
      "Cell \u001b[0;32mIn[40], line 2\u001b[0m\n\u001b[1;32m      1\u001b[0m X \u001b[38;5;241m=\u001b[39m \u001b[38;5;241m101\u001b[39m\n\u001b[0;32m----> 2\u001b[0m \u001b[38;5;28;01mfor\u001b[39;00m i \u001b[38;5;129;01min\u001b[39;00m calculate_possible_fold_sizes(\u001b[43mX\u001b[49m\u001b[38;5;241;43m.\u001b[39;49m\u001b[43mdeepcopy\u001b[49m(), \u001b[38;5;241m5\u001b[39m):\n\u001b[1;32m      3\u001b[0m     X_temp \u001b[38;5;241m=\u001b[39m X  \u001b[38;5;66;03m# Create a separate variable to track X decrements\u001b[39;00m\n\u001b[1;32m      4\u001b[0m     \u001b[38;5;28;01mwhile\u001b[39;00m i \u001b[38;5;241m%\u001b[39m \u001b[38;5;241m10\u001b[39m \u001b[38;5;241m!=\u001b[39m \u001b[38;5;241m1\u001b[39m:\n",
      "\u001b[0;31mAttributeError\u001b[0m: 'int' object has no attribute 'deepcopy'"
     ]
    }
   ],
   "source": [
    "X = 101\n",
    "for i in calculate_possible_fold_sizes(X, 5):\n",
    "    while i % 10 != 1:\n",
    "        X -= 1"
   ]
  },
  {
   "cell_type": "code",
   "execution_count": 76,
   "id": "a56a7d0b-2045-43df-96b3-548df8c75e93",
   "metadata": {},
   "outputs": [
    {
     "data": {
      "text/plain": [
       "[100179718, 100179719]"
      ]
     },
     "execution_count": 76,
     "metadata": {},
     "output_type": "execute_result"
    }
   ],
   "source": [
    "calculate_possible_fold_sizes(125224648, 5)"
   ]
  },
  {
   "cell_type": "code",
   "execution_count": 9,
   "id": "25bf5773-8ca8-42f5-aae7-6ce37ae55915",
   "metadata": {},
   "outputs": [
    {
     "data": {
      "text/html": [
       "<div>\n",
       "<style scoped>\n",
       "    .dataframe tbody tr th:only-of-type {\n",
       "        vertical-align: middle;\n",
       "    }\n",
       "\n",
       "    .dataframe tbody tr th {\n",
       "        vertical-align: top;\n",
       "    }\n",
       "\n",
       "    .dataframe thead th {\n",
       "        text-align: right;\n",
       "    }\n",
       "</style>\n",
       "<table border=\"1\" class=\"dataframe\">\n",
       "  <thead>\n",
       "    <tr style=\"text-align: right;\">\n",
       "      <th></th>\n",
       "      <th>Unnamed: 0</th>\n",
       "      <th>age</th>\n",
       "      <th>workclass</th>\n",
       "      <th>fnlwgt</th>\n",
       "      <th>education</th>\n",
       "      <th>education-num</th>\n",
       "      <th>marital-status</th>\n",
       "      <th>occupation</th>\n",
       "      <th>relationship</th>\n",
       "      <th>race</th>\n",
       "      <th>sex</th>\n",
       "      <th>capital-gain</th>\n",
       "      <th>capital-loss</th>\n",
       "      <th>hours-per-week</th>\n",
       "      <th>native-country</th>\n",
       "      <th>target</th>\n",
       "    </tr>\n",
       "  </thead>\n",
       "  <tbody>\n",
       "    <tr>\n",
       "      <th>0</th>\n",
       "      <td>-1.731998</td>\n",
       "      <td>0.030671</td>\n",
       "      <td>State-gov</td>\n",
       "      <td>-1.063611</td>\n",
       "      <td>Bachelors</td>\n",
       "      <td>1.134739</td>\n",
       "      <td>Never-married</td>\n",
       "      <td>Adm-clerical</td>\n",
       "      <td>Not-in-family</td>\n",
       "      <td>White</td>\n",
       "      <td>Male</td>\n",
       "      <td>0.148453</td>\n",
       "      <td>-0.21666</td>\n",
       "      <td>-0.035429</td>\n",
       "      <td>United-States</td>\n",
       "      <td>0</td>\n",
       "    </tr>\n",
       "    <tr>\n",
       "      <th>1</th>\n",
       "      <td>-1.731891</td>\n",
       "      <td>0.837109</td>\n",
       "      <td>Self-emp-not-inc</td>\n",
       "      <td>-1.008707</td>\n",
       "      <td>Bachelors</td>\n",
       "      <td>1.134739</td>\n",
       "      <td>Married-civ-spouse</td>\n",
       "      <td>Exec-managerial</td>\n",
       "      <td>Husband</td>\n",
       "      <td>White</td>\n",
       "      <td>Male</td>\n",
       "      <td>-0.145920</td>\n",
       "      <td>-0.21666</td>\n",
       "      <td>-2.222153</td>\n",
       "      <td>United-States</td>\n",
       "      <td>0</td>\n",
       "    </tr>\n",
       "    <tr>\n",
       "      <th>2</th>\n",
       "      <td>-1.731785</td>\n",
       "      <td>-0.042642</td>\n",
       "      <td>Private</td>\n",
       "      <td>0.245079</td>\n",
       "      <td>HS-grad</td>\n",
       "      <td>-0.420060</td>\n",
       "      <td>Divorced</td>\n",
       "      <td>Handlers-cleaners</td>\n",
       "      <td>Not-in-family</td>\n",
       "      <td>White</td>\n",
       "      <td>Male</td>\n",
       "      <td>-0.145920</td>\n",
       "      <td>-0.21666</td>\n",
       "      <td>-0.035429</td>\n",
       "      <td>United-States</td>\n",
       "      <td>0</td>\n",
       "    </tr>\n",
       "    <tr>\n",
       "      <th>3</th>\n",
       "      <td>-1.731678</td>\n",
       "      <td>1.057047</td>\n",
       "      <td>Private</td>\n",
       "      <td>0.425801</td>\n",
       "      <td>11th</td>\n",
       "      <td>-1.197459</td>\n",
       "      <td>Married-civ-spouse</td>\n",
       "      <td>Handlers-cleaners</td>\n",
       "      <td>Husband</td>\n",
       "      <td>Black</td>\n",
       "      <td>Male</td>\n",
       "      <td>-0.145920</td>\n",
       "      <td>-0.21666</td>\n",
       "      <td>-0.035429</td>\n",
       "      <td>United-States</td>\n",
       "      <td>0</td>\n",
       "    </tr>\n",
       "    <tr>\n",
       "      <th>4</th>\n",
       "      <td>-1.731572</td>\n",
       "      <td>-0.775768</td>\n",
       "      <td>Private</td>\n",
       "      <td>1.408176</td>\n",
       "      <td>Bachelors</td>\n",
       "      <td>1.134739</td>\n",
       "      <td>Married-civ-spouse</td>\n",
       "      <td>Prof-specialty</td>\n",
       "      <td>Wife</td>\n",
       "      <td>Black</td>\n",
       "      <td>Female</td>\n",
       "      <td>-0.145920</td>\n",
       "      <td>-0.21666</td>\n",
       "      <td>-0.035429</td>\n",
       "      <td>Cuba</td>\n",
       "      <td>0</td>\n",
       "    </tr>\n",
       "    <tr>\n",
       "      <th>...</th>\n",
       "      <td>...</td>\n",
       "      <td>...</td>\n",
       "      <td>...</td>\n",
       "      <td>...</td>\n",
       "      <td>...</td>\n",
       "      <td>...</td>\n",
       "      <td>...</td>\n",
       "      <td>...</td>\n",
       "      <td>...</td>\n",
       "      <td>...</td>\n",
       "      <td>...</td>\n",
       "      <td>...</td>\n",
       "      <td>...</td>\n",
       "      <td>...</td>\n",
       "      <td>...</td>\n",
       "      <td>...</td>\n",
       "    </tr>\n",
       "    <tr>\n",
       "      <th>32556</th>\n",
       "      <td>1.731572</td>\n",
       "      <td>-0.849080</td>\n",
       "      <td>Private</td>\n",
       "      <td>0.639741</td>\n",
       "      <td>Assoc-acdm</td>\n",
       "      <td>0.746039</td>\n",
       "      <td>Married-civ-spouse</td>\n",
       "      <td>Tech-support</td>\n",
       "      <td>Wife</td>\n",
       "      <td>White</td>\n",
       "      <td>Female</td>\n",
       "      <td>-0.145920</td>\n",
       "      <td>-0.21666</td>\n",
       "      <td>-0.197409</td>\n",
       "      <td>United-States</td>\n",
       "      <td>0</td>\n",
       "    </tr>\n",
       "    <tr>\n",
       "      <th>32557</th>\n",
       "      <td>1.731678</td>\n",
       "      <td>0.103983</td>\n",
       "      <td>Private</td>\n",
       "      <td>-0.335433</td>\n",
       "      <td>HS-grad</td>\n",
       "      <td>-0.420060</td>\n",
       "      <td>Married-civ-spouse</td>\n",
       "      <td>Machine-op-inspct</td>\n",
       "      <td>Husband</td>\n",
       "      <td>White</td>\n",
       "      <td>Male</td>\n",
       "      <td>-0.145920</td>\n",
       "      <td>-0.21666</td>\n",
       "      <td>-0.035429</td>\n",
       "      <td>United-States</td>\n",
       "      <td>1</td>\n",
       "    </tr>\n",
       "    <tr>\n",
       "      <th>32558</th>\n",
       "      <td>1.731785</td>\n",
       "      <td>1.423610</td>\n",
       "      <td>Private</td>\n",
       "      <td>-0.358777</td>\n",
       "      <td>HS-grad</td>\n",
       "      <td>-0.420060</td>\n",
       "      <td>Widowed</td>\n",
       "      <td>Adm-clerical</td>\n",
       "      <td>Unmarried</td>\n",
       "      <td>White</td>\n",
       "      <td>Female</td>\n",
       "      <td>-0.145920</td>\n",
       "      <td>-0.21666</td>\n",
       "      <td>-0.035429</td>\n",
       "      <td>United-States</td>\n",
       "      <td>0</td>\n",
       "    </tr>\n",
       "    <tr>\n",
       "      <th>32559</th>\n",
       "      <td>1.731891</td>\n",
       "      <td>-1.215643</td>\n",
       "      <td>Private</td>\n",
       "      <td>0.110960</td>\n",
       "      <td>HS-grad</td>\n",
       "      <td>-0.420060</td>\n",
       "      <td>Never-married</td>\n",
       "      <td>Adm-clerical</td>\n",
       "      <td>Own-child</td>\n",
       "      <td>White</td>\n",
       "      <td>Male</td>\n",
       "      <td>-0.145920</td>\n",
       "      <td>-0.21666</td>\n",
       "      <td>-1.655225</td>\n",
       "      <td>United-States</td>\n",
       "      <td>0</td>\n",
       "    </tr>\n",
       "    <tr>\n",
       "      <th>32560</th>\n",
       "      <td>1.731998</td>\n",
       "      <td>0.983734</td>\n",
       "      <td>Self-emp-inc</td>\n",
       "      <td>0.929893</td>\n",
       "      <td>HS-grad</td>\n",
       "      <td>-0.420060</td>\n",
       "      <td>Married-civ-spouse</td>\n",
       "      <td>Exec-managerial</td>\n",
       "      <td>Wife</td>\n",
       "      <td>White</td>\n",
       "      <td>Female</td>\n",
       "      <td>1.888424</td>\n",
       "      <td>-0.21666</td>\n",
       "      <td>-0.035429</td>\n",
       "      <td>United-States</td>\n",
       "      <td>1</td>\n",
       "    </tr>\n",
       "  </tbody>\n",
       "</table>\n",
       "<p>32561 rows × 16 columns</p>\n",
       "</div>"
      ],
      "text/plain": [
       "       Unnamed: 0       age          workclass    fnlwgt    education  \\\n",
       "0       -1.731998  0.030671          State-gov -1.063611    Bachelors   \n",
       "1       -1.731891  0.837109   Self-emp-not-inc -1.008707    Bachelors   \n",
       "2       -1.731785 -0.042642            Private  0.245079      HS-grad   \n",
       "3       -1.731678  1.057047            Private  0.425801         11th   \n",
       "4       -1.731572 -0.775768            Private  1.408176    Bachelors   \n",
       "...           ...       ...                ...       ...          ...   \n",
       "32556    1.731572 -0.849080            Private  0.639741   Assoc-acdm   \n",
       "32557    1.731678  0.103983            Private -0.335433      HS-grad   \n",
       "32558    1.731785  1.423610            Private -0.358777      HS-grad   \n",
       "32559    1.731891 -1.215643            Private  0.110960      HS-grad   \n",
       "32560    1.731998  0.983734       Self-emp-inc  0.929893      HS-grad   \n",
       "\n",
       "       education-num       marital-status          occupation    relationship  \\\n",
       "0           1.134739        Never-married        Adm-clerical   Not-in-family   \n",
       "1           1.134739   Married-civ-spouse     Exec-managerial         Husband   \n",
       "2          -0.420060             Divorced   Handlers-cleaners   Not-in-family   \n",
       "3          -1.197459   Married-civ-spouse   Handlers-cleaners         Husband   \n",
       "4           1.134739   Married-civ-spouse      Prof-specialty            Wife   \n",
       "...              ...                  ...                 ...             ...   \n",
       "32556       0.746039   Married-civ-spouse        Tech-support            Wife   \n",
       "32557      -0.420060   Married-civ-spouse   Machine-op-inspct         Husband   \n",
       "32558      -0.420060              Widowed        Adm-clerical       Unmarried   \n",
       "32559      -0.420060        Never-married        Adm-clerical       Own-child   \n",
       "32560      -0.420060   Married-civ-spouse     Exec-managerial            Wife   \n",
       "\n",
       "         race      sex  capital-gain  capital-loss  hours-per-week  \\\n",
       "0       White     Male      0.148453      -0.21666       -0.035429   \n",
       "1       White     Male     -0.145920      -0.21666       -2.222153   \n",
       "2       White     Male     -0.145920      -0.21666       -0.035429   \n",
       "3       Black     Male     -0.145920      -0.21666       -0.035429   \n",
       "4       Black   Female     -0.145920      -0.21666       -0.035429   \n",
       "...       ...      ...           ...           ...             ...   \n",
       "32556   White   Female     -0.145920      -0.21666       -0.197409   \n",
       "32557   White     Male     -0.145920      -0.21666       -0.035429   \n",
       "32558   White   Female     -0.145920      -0.21666       -0.035429   \n",
       "32559   White     Male     -0.145920      -0.21666       -1.655225   \n",
       "32560   White   Female      1.888424      -0.21666       -0.035429   \n",
       "\n",
       "       native-country  target  \n",
       "0       United-States       0  \n",
       "1       United-States       0  \n",
       "2       United-States       0  \n",
       "3       United-States       0  \n",
       "4                Cuba       0  \n",
       "...               ...     ...  \n",
       "32556   United-States       0  \n",
       "32557   United-States       1  \n",
       "32558   United-States       0  \n",
       "32559   United-States       0  \n",
       "32560   United-States       1  \n",
       "\n",
       "[32561 rows x 16 columns]"
      ]
     },
     "execution_count": 9,
     "metadata": {},
     "output_type": "execute_result"
    }
   ],
   "source": [
    "train"
   ]
  },
  {
   "cell_type": "code",
   "execution_count": 29,
   "id": "edf7567c-f248-4151-8add-d5f25e4996d9",
   "metadata": {},
   "outputs": [
    {
     "name": "stdout",
     "output_type": "stream",
     "text": [
      "SUCCESS creditcard\n",
      "SUCCESS housing\n",
      "SUCCESS adult\n",
      "0 Index([], dtype='object')\n",
      "SUCCESS heloc\n",
      "SUCCESS covertype\n",
      "\n",
      "Aggregated Dataset Summary:\n",
      "      Dataset Total Samples Total Features     Target Type Num Classes  \\\n",
      "0  creditcard         59720             30  Classification           2   \n",
      "1     housing         20640              9      Regression        None   \n",
      "2       adult         32561             14  Classification           2   \n",
      "3       heloc         10459             24  Classification           2   \n",
      "4   covertype        581011             54  Classification           7   \n",
      "\n",
      "  Num Categorical Num Numerical  \n",
      "0               0            30  \n",
      "1               0             9  \n",
      "2               8             6  \n",
      "3               0            24  \n",
      "4               0            54  \n"
     ]
    }
   ],
   "source": [
    "# Create an empty DataFrame to store dataset summaries\n",
    "summary_data = pd.DataFrame(columns=['Dataset', 'Total Samples', 'Total Features', \n",
    "                                     'Target Type', 'Num Classes', 'Num Categorical', 'Num Numerical'])\n",
    "\n",
    "# Your data loader loop\n",
    "loaders = [\n",
    "    \"creditcard\",\n",
    "    \"housing\",\n",
    "    \"adult\",\n",
    "    \"heloc\",\n",
    "    \"covertype\"\n",
    "]\n",
    "\n",
    "for dataset_name in loaders:\n",
    "    try:\n",
    "        data_loader = create_data_loader(dataset_name, test_size=0.2, normalize_features=\"mean_std\", return_extra_info=True, encode_categorical=False)\n",
    "        X_train, X_test, y_train, y_test, extra_info = data_loader.load_data()\n",
    "\n",
    "        # Calculate additional statistics\n",
    "        total_samples = X_train.shape[0] + X_test.shape[0]\n",
    "        total_features = X_train.shape[1]\n",
    "        \n",
    "        target_type = 'Classification' if isinstance(y_train.iloc[0], np.int64) else 'Regression'\n",
    "        num_classes = y_train.nunique() if target_type == 'Classification' else None\n",
    "        num_categorical = X_train.select_dtypes(include=['object']).shape[1]\n",
    "        num_numerical = X_train.select_dtypes(include=['number']).shape[1]\n",
    "\n",
    "        # Append summary to DataFrame\n",
    "        # Inside the loop, replace the append line with this line:\n",
    "        summary_data = pd.concat([summary_data, pd.DataFrame([[dataset_name, total_samples, total_features,\n",
    "                                                       target_type, num_classes, num_categorical, num_numerical]],\n",
    "                                                     columns=summary_data.columns)], ignore_index=True)\n",
    "\n",
    "        print(\"SUCCESS\", dataset_name)\n",
    "    except Exception as e:\n",
    "        print(\"FAIL\", dataset_name)\n",
    "        print(repr(e))\n",
    "\n",
    "# Print aggregated summary\n",
    "print(\"\\nAggregated Dataset Summary:\")\n",
    "print(summary_data)\n"
   ]
  },
  {
   "cell_type": "code",
   "execution_count": 31,
   "id": "3277002d-4581-4a3b-aecb-1cc8c812ecd2",
   "metadata": {},
   "outputs": [],
   "source": [
    "summary_data.to_csv(\"summary_data.csv\", index = False)"
   ]
  },
  {
   "cell_type": "code",
   "execution_count": 32,
   "id": "a57ba80c-d51d-49b6-a047-510e8e73e6b5",
   "metadata": {},
   "outputs": [
    {
     "name": "stdout",
     "output_type": "stream",
     "text": [
      "╒════╤════════════╤═════════════════╤══════════════════╤════════════════╤═══════════════╤═══════════════════╤═════════════════╕\n",
      "│    │ Dataset    │   Total Samples │   Total Features │ Target Type    │   Num Classes │   Num Categorical │   Num Numerical │\n",
      "╞════╪════════════╪═════════════════╪══════════════════╪════════════════╪═══════════════╪═══════════════════╪═════════════════╡\n",
      "│  0 │ creditcard │           59720 │               30 │ Classification │             2 │                 0 │              30 │\n",
      "├────┼────────────┼─────────────────┼──────────────────┼────────────────┼───────────────┼───────────────────┼─────────────────┤\n",
      "│  1 │ housing    │           20640 │                9 │ Regression     │               │                 0 │               9 │\n",
      "├────┼────────────┼─────────────────┼──────────────────┼────────────────┼───────────────┼───────────────────┼─────────────────┤\n",
      "│  2 │ adult      │           32561 │               14 │ Classification │             2 │                 8 │               6 │\n",
      "├────┼────────────┼─────────────────┼──────────────────┼────────────────┼───────────────┼───────────────────┼─────────────────┤\n",
      "│  3 │ heloc      │           10459 │               24 │ Classification │             2 │                 0 │              24 │\n",
      "├────┼────────────┼─────────────────┼──────────────────┼────────────────┼───────────────┼───────────────────┼─────────────────┤\n",
      "│  4 │ covertype  │          581011 │               54 │ Classification │             7 │                 0 │              54 │\n",
      "╘════╧════════════╧═════════════════╧══════════════════╧════════════════╧═══════════════╧═══════════════════╧═════════════════╛\n"
     ]
    }
   ],
   "source": [
    "# Convert DataFrame to ASCII table\n",
    "ascii_table = tabulate(summary_data, headers='keys', tablefmt='fancy_grid')\n",
    "\n",
    "# Print the ASCII table (for preview)\n",
    "print(ascii_table)\n"
   ]
  },
  {
   "cell_type": "code",
   "execution_count": 35,
   "id": "3d215d6e-a4df-42f4-bf5e-527ff3ba5c7a",
   "metadata": {},
   "outputs": [
    {
     "ename": "AttributeError",
     "evalue": "'ImageFont' object has no attribute 'getsize'",
     "output_type": "error",
     "traceback": [
      "\u001b[0;31m---------------------------------------------------------------------------\u001b[0m",
      "\u001b[0;31mAttributeError\u001b[0m                            Traceback (most recent call last)",
      "Cell \u001b[0;32mIn[35], line 14\u001b[0m\n\u001b[1;32m     12\u001b[0m lines \u001b[38;5;241m=\u001b[39m ascii_table\u001b[38;5;241m.\u001b[39msplit(\u001b[38;5;124m'\u001b[39m\u001b[38;5;130;01m\\n\u001b[39;00m\u001b[38;5;124m'\u001b[39m)\n\u001b[1;32m     13\u001b[0m lines[\u001b[38;5;241m0\u001b[39m] \u001b[38;5;241m=\u001b[39m \u001b[38;5;124mf\u001b[39m\u001b[38;5;124m\"\u001b[39m\u001b[38;5;130;01m\\033\u001b[39;00m\u001b[38;5;124m[1m\u001b[39m\u001b[38;5;132;01m{\u001b[39;00mlines[\u001b[38;5;241m0\u001b[39m]\u001b[38;5;132;01m}\u001b[39;00m\u001b[38;5;130;01m\\033\u001b[39;00m\u001b[38;5;124m[0m\u001b[39m\u001b[38;5;124m\"\u001b[39m  \u001b[38;5;66;03m# Make headers bold\u001b[39;00m\n\u001b[0;32m---> 14\u001b[0m line_height \u001b[38;5;241m=\u001b[39m \u001b[43mfont\u001b[49m\u001b[38;5;241;43m.\u001b[39;49m\u001b[43mgetsize\u001b[49m(lines[\u001b[38;5;241m0\u001b[39m])[\u001b[38;5;241m1\u001b[39m]  \u001b[38;5;66;03m# Use getsize from PIL directly\u001b[39;00m\n\u001b[1;32m     15\u001b[0m table_width \u001b[38;5;241m=\u001b[39m \u001b[38;5;28mmax\u001b[39m(font\u001b[38;5;241m.\u001b[39mgetsize(line)[\u001b[38;5;241m0\u001b[39m] \u001b[38;5;28;01mfor\u001b[39;00m line \u001b[38;5;129;01min\u001b[39;00m lines)\n\u001b[1;32m     16\u001b[0m table_height \u001b[38;5;241m=\u001b[39m \u001b[38;5;28mlen\u001b[39m(lines) \u001b[38;5;241m*\u001b[39m line_height\n",
      "\u001b[0;31mAttributeError\u001b[0m: 'ImageFont' object has no attribute 'getsize'"
     ]
    }
   ],
   "source": [
    "import pandas as pd\n",
    "from tabulate import tabulate\n",
    "from PIL import Image, ImageDraw, ImageFont\n",
    "\n",
    "\n",
    "# Convert DataFrame to ASCII table\n",
    "ascii_table = tabulate(summary_data, headers='keys', tablefmt='pretty')\n",
    "\n",
    "\n",
    "# Create an image with the ASCII table content\n",
    "font = ImageFont.load_default()\n",
    "lines = ascii_table.split('\\n')\n",
    "lines[0] = f\"\\033[1m{lines[0]}\\033[0m\"  # Make headers bold\n",
    "line_height = font.getsize(lines[0])[1]  # Use getsize from PIL directly\n",
    "table_width = max(font.getsize(line)[0] for line in lines)\n",
    "table_height = len(lines) * line_height\n",
    "image = Image.new('RGB', (table_width, table_height), color='white')\n",
    "draw = ImageDraw.Draw(image)\n",
    "\n",
    "# Draw the ASCII table content onto the image\n",
    "y_position = 0\n",
    "for line in lines:\n",
    "    draw.text((0, y_position), line, font=font, fill='black')\n",
    "    y_position += line_height\n",
    "\n",
    "# Save the image as a PNG file\n",
    "image.save('table.png')"
   ]
  },
  {
   "cell_type": "code",
   "execution_count": 2,
   "id": "55c7c7b5-eea1-490e-97db-e83042b0bc44",
   "metadata": {},
   "outputs": [],
   "source": [
    "loaders = [\n",
    "    \"creditcard\",\n",
    "    \"iris\",\n",
    "    \"titanic\",\n",
    "    \"bufix\",\n",
    "    \"breastcancer\",\n",
    "    \"housing\",\n",
    "    \"ageconditions\",\n",
    "    \"adult\",\n",
    "    \"heloc\",\n",
    "    \"covertype\"]\n",
    "\n",
    "for i in loaders:\n",
    "    \n",
    "    try:\n",
    "        data_loader = create_data_loader(i, test_size=0.2, normalize_features = \"mean_std\", return_extra_info = True, encode_categorical=False)\n",
    "        X_train, X_test, y_train, y_test, extra_info = data_loader.load_data()\n",
    "        print(\"SUCCESS\",i)\n",
    "    except Exception as e:\n",
    "        print(\"FAIL\",i)\n",
    "        print (repr(e))"
   ]
  },
  {
   "cell_type": "code",
   "execution_count": 3,
   "id": "aa1afc1d",
   "metadata": {},
   "outputs": [
    {
     "name": "stdout",
     "output_type": "stream",
     "text": [
      "SUCCESS creditcard\n",
      "SUCCESS iris\n",
      "titanic df len: 891\n",
      "survived\n",
      "0    549\n",
      "1    342\n",
      "Name: count, dtype: int64\n",
      "SUCCESS titanic\n",
      "SUCCESS bufix\n",
      "SUCCESS breastcancer\n",
      "SUCCESS housing\n",
      "0 Index([], dtype='object')\n",
      "SUCCESS ageconditions\n",
      "SUCCESS adult\n",
      "0 Index([], dtype='object')\n",
      "SUCCESS heloc\n",
      "SUCCESS covertype\n"
     ]
    }
   ],
   "source": [
    "for i in loaders:\n",
    "    \n",
    "    try:\n",
    "        data_loader = create_data_loader(i, test_size=0.2, normalize_features = \"mean_std\", return_extra_info = True, encode_categorical=False)\n",
    "        X_train, X_test, y_train, y_test, extra_info = data_loader.load_data()\n",
    "        print(\"SUCCESS\",i)\n",
    "    except Exception as e:\n",
    "        print(\"FAIL\",i)\n",
    "        print (repr(e))"
   ]
  },
  {
   "cell_type": "code",
   "execution_count": 3,
   "id": "9c5b681c",
   "metadata": {},
   "outputs": [
    {
     "data": {
      "text/plain": [
       "(26048, 14)"
      ]
     },
     "execution_count": 3,
     "metadata": {},
     "output_type": "execute_result"
    }
   ],
   "source": [
    "X_train.shape"
   ]
  },
  {
   "cell_type": "code",
   "execution_count": 110,
   "id": "0b8772bc",
   "metadata": {},
   "outputs": [
    {
     "data": {
      "text/plain": [
       "array([-2.05103158, -1.93553863, -1.82004567, -1.70455272, -1.58905977,\n",
       "       -1.47356682, -1.35807387, -1.24258091, -1.12708796, -1.01159501,\n",
       "       -0.89610206, -0.7806091 , -0.66511615, -0.5496232 , -0.43413025,\n",
       "       -0.3186373 , -0.20314434, -0.08765139,  0.02784156,  0.14333451,\n",
       "        0.25882747,  0.37432042,  0.48981337,  0.60530632,  0.72079927,\n",
       "        0.83629223,  0.95178518,  1.06727813,  1.18277108,  1.29826404,\n",
       "        1.41375699,  1.52924994,  1.64474289,  1.76023584,  1.8757288 ,\n",
       "        1.99122175,  2.1067147 ,  2.22220765,  2.33770061,  2.45319356,\n",
       "        2.56868651,  2.68417946,  2.79967241,  2.91516537,  3.03065832,\n",
       "        3.14615127,  3.26164422,  3.37713718])"
      ]
     },
     "execution_count": 110,
     "metadata": {},
     "output_type": "execute_result"
    }
   ],
   "source": [
    "# Compute the bins based on the training set\n",
    "bins = np.histogram(X_train[\"PercentInstallTrades\"], bins=\"auto\")[1]\n",
    "bins"
   ]
  },
  {
   "cell_type": "code",
   "execution_count": 81,
   "id": "21b6dacd",
   "metadata": {},
   "outputs": [
    {
     "name": "stdout",
     "output_type": "stream",
     "text": [
      "ExternalRiskEstimate 40\n"
     ]
    }
   ],
   "source": [
    "categorical_columns = []\n",
    "categorical_dims = {}\n",
    "for col in X_train.columns[X_train.dtypes == object]:\n",
    "    print(col, X_train[col].nunique())\n",
    "    l_enc = LabelEncoder()\n",
    "    X_train[col] = X_train[col].fillna(\"Missing\")\n",
    "    X_test[col] = X_test[col].fillna(\"Missing\")\n",
    "    X_train[col] = l_enc.fit_transform(X_train[col].values)\n",
    "    X_test[col] = l_enc.transform(X_test[col].values)\n",
    "    categorical_columns.append(col)\n",
    "    categorical_dims[col] = len(l_enc.classes_)"
   ]
  },
  {
   "cell_type": "code",
   "execution_count": 82,
   "id": "9806783a",
   "metadata": {},
   "outputs": [
    {
     "data": {
      "text/plain": [
       "{-1.5032347317912744,\n",
       " 2.430942622258645,\n",
       " 2.779540615655473,\n",
       " 2.9289397556826855,\n",
       " 3.0285391823674934,\n",
       " 3.078338895709898}"
      ]
     },
     "execution_count": 82,
     "metadata": {},
     "output_type": "execute_result"
    }
   ],
   "source": [
    "set(X_train[\"PercentInstallTrades\"].unique())-set(X_test[\"PercentInstallTrades\"].unique())"
   ]
  },
  {
   "cell_type": "code",
   "execution_count": 83,
   "id": "10d6ef50",
   "metadata": {},
   "outputs": [
    {
     "data": {
      "text/plain": [
       "{2.5803417622858573, 2.9787394690250895}"
      ]
     },
     "execution_count": 83,
     "metadata": {},
     "output_type": "execute_result"
    }
   ],
   "source": [
    "set(X_test[\"PercentInstallTrades\"].unique())-set(X_train[\"PercentInstallTrades\"].unique())"
   ]
  },
  {
   "cell_type": "code",
   "execution_count": 106,
   "id": "c4254bbd",
   "metadata": {},
   "outputs": [
    {
     "data": {
      "text/html": [
       "<style>#sk-container-id-4 {color: black;}#sk-container-id-4 pre{padding: 0;}#sk-container-id-4 div.sk-toggleable {background-color: white;}#sk-container-id-4 label.sk-toggleable__label {cursor: pointer;display: block;width: 100%;margin-bottom: 0;padding: 0.3em;box-sizing: border-box;text-align: center;}#sk-container-id-4 label.sk-toggleable__label-arrow:before {content: \"▸\";float: left;margin-right: 0.25em;color: #696969;}#sk-container-id-4 label.sk-toggleable__label-arrow:hover:before {color: black;}#sk-container-id-4 div.sk-estimator:hover label.sk-toggleable__label-arrow:before {color: black;}#sk-container-id-4 div.sk-toggleable__content {max-height: 0;max-width: 0;overflow: hidden;text-align: left;background-color: #f0f8ff;}#sk-container-id-4 div.sk-toggleable__content pre {margin: 0.2em;color: black;border-radius: 0.25em;background-color: #f0f8ff;}#sk-container-id-4 input.sk-toggleable__control:checked~div.sk-toggleable__content {max-height: 200px;max-width: 100%;overflow: auto;}#sk-container-id-4 input.sk-toggleable__control:checked~label.sk-toggleable__label-arrow:before {content: \"▾\";}#sk-container-id-4 div.sk-estimator input.sk-toggleable__control:checked~label.sk-toggleable__label {background-color: #d4ebff;}#sk-container-id-4 div.sk-label input.sk-toggleable__control:checked~label.sk-toggleable__label {background-color: #d4ebff;}#sk-container-id-4 input.sk-hidden--visually {border: 0;clip: rect(1px 1px 1px 1px);clip: rect(1px, 1px, 1px, 1px);height: 1px;margin: -1px;overflow: hidden;padding: 0;position: absolute;width: 1px;}#sk-container-id-4 div.sk-estimator {font-family: monospace;background-color: #f0f8ff;border: 1px dotted black;border-radius: 0.25em;box-sizing: border-box;margin-bottom: 0.5em;}#sk-container-id-4 div.sk-estimator:hover {background-color: #d4ebff;}#sk-container-id-4 div.sk-parallel-item::after {content: \"\";width: 100%;border-bottom: 1px solid gray;flex-grow: 1;}#sk-container-id-4 div.sk-label:hover label.sk-toggleable__label {background-color: #d4ebff;}#sk-container-id-4 div.sk-serial::before {content: \"\";position: absolute;border-left: 1px solid gray;box-sizing: border-box;top: 0;bottom: 0;left: 50%;z-index: 0;}#sk-container-id-4 div.sk-serial {display: flex;flex-direction: column;align-items: center;background-color: white;padding-right: 0.2em;padding-left: 0.2em;position: relative;}#sk-container-id-4 div.sk-item {position: relative;z-index: 1;}#sk-container-id-4 div.sk-parallel {display: flex;align-items: stretch;justify-content: center;background-color: white;position: relative;}#sk-container-id-4 div.sk-item::before, #sk-container-id-4 div.sk-parallel-item::before {content: \"\";position: absolute;border-left: 1px solid gray;box-sizing: border-box;top: 0;bottom: 0;left: 50%;z-index: -1;}#sk-container-id-4 div.sk-parallel-item {display: flex;flex-direction: column;z-index: 1;position: relative;background-color: white;}#sk-container-id-4 div.sk-parallel-item:first-child::after {align-self: flex-end;width: 50%;}#sk-container-id-4 div.sk-parallel-item:last-child::after {align-self: flex-start;width: 50%;}#sk-container-id-4 div.sk-parallel-item:only-child::after {width: 0;}#sk-container-id-4 div.sk-dashed-wrapped {border: 1px dashed gray;margin: 0 0.4em 0.5em 0.4em;box-sizing: border-box;padding-bottom: 0.4em;background-color: white;}#sk-container-id-4 div.sk-label label {font-family: monospace;font-weight: bold;display: inline-block;line-height: 1.2em;}#sk-container-id-4 div.sk-label-container {text-align: center;}#sk-container-id-4 div.sk-container {/* jupyter's `normalize.less` sets `[hidden] { display: none; }` but bootstrap.min.css set `[hidden] { display: none !important; }` so we also need the `!important` here to be able to override the default hidden behavior on the sphinx rendered scikit-learn.org. See: https://github.com/scikit-learn/scikit-learn/issues/21755 */display: inline-block !important;position: relative;}#sk-container-id-4 div.sk-text-repr-fallback {display: none;}</style><div id=\"sk-container-id-4\" class=\"sk-top-container\"><div class=\"sk-text-repr-fallback\"><pre>LabelEncoder()</pre><b>In a Jupyter environment, please rerun this cell to show the HTML representation or trust the notebook. <br />On GitHub, the HTML representation is unable to render, please try loading this page with nbviewer.org.</b></div><div class=\"sk-container\" hidden><div class=\"sk-item\"><div class=\"sk-estimator sk-toggleable\"><input class=\"sk-toggleable__control sk-hidden--visually\" id=\"sk-estimator-id-4\" type=\"checkbox\" checked><label for=\"sk-estimator-id-4\" class=\"sk-toggleable__label sk-toggleable__label-arrow\">LabelEncoder</label><div class=\"sk-toggleable__content\"><pre>LabelEncoder()</pre></div></div></div></div></div>"
      ],
      "text/plain": [
       "LabelEncoder()"
      ]
     },
     "execution_count": 106,
     "metadata": {},
     "output_type": "execute_result"
    }
   ],
   "source": [
    "le = LabelEncoder()\n",
    "le.fit(X_train[\"MSinceMostRecentDelq\"])"
   ]
  },
  {
   "cell_type": "code",
   "execution_count": 108,
   "id": "84d3f511",
   "metadata": {},
   "outputs": [
    {
     "data": {
      "text/plain": [
       "array(['0.0', '10.0', '11.0', '12.0', '13.0', '14.0', '15.0', '16.0',\n",
       "       '17.0', '18.0', '19.0', '20.0', '21.0', '22.0', '23.0', '24.0',\n",
       "       '25.0', '26.0', '27.0', '28.0', '29.0', '30.0', '31.0', '32.0',\n",
       "       '33.0', '34.0', '35.0', '36.0', '37.0', '38.0', '39.0', '4.0',\n",
       "       '40.0', '41.0', '42.0', '43.0', '44.0', '45.0', '5.0', '6.0',\n",
       "       '7.0', '8.0', '9.0', 'nan'], dtype=object)"
      ]
     },
     "execution_count": 108,
     "metadata": {},
     "output_type": "execute_result"
    }
   ],
   "source": [
    "le.classes_"
   ]
  },
  {
   "cell_type": "code",
   "execution_count": 107,
   "id": "3c5c060c",
   "metadata": {},
   "outputs": [
    {
     "data": {
      "text/plain": [
       "44"
      ]
     },
     "execution_count": 107,
     "metadata": {},
     "output_type": "execute_result"
    }
   ],
   "source": [
    "len(le.classes_)"
   ]
  },
  {
   "cell_type": "code",
   "execution_count": 98,
   "id": "c9760dd8",
   "metadata": {},
   "outputs": [
    {
     "data": {
      "text/plain": [
       "'<Unknown>'"
      ]
     },
     "execution_count": 98,
     "metadata": {},
     "output_type": "execute_result"
    }
   ],
   "source": [
    "le_dict = dict(zip(le.classes_, le.transform(le.classes_)))\n",
    "#Retrieve label for a single new item, if item is missing then set value as unknown\n",
    "le_dict.get(\"heyaa\", '<Unknown>')"
   ]
  },
  {
   "cell_type": "code",
   "execution_count": 99,
   "id": "f98bd82b",
   "metadata": {},
   "outputs": [
    {
     "data": {
      "text/plain": [
       "{'0.0': 0,\n",
       " '10.0': 1,\n",
       " '11.0': 2,\n",
       " '12.0': 3,\n",
       " '13.0': 4,\n",
       " '14.0': 5,\n",
       " '15.0': 6,\n",
       " '16.0': 7,\n",
       " '17.0': 8,\n",
       " '18.0': 9,\n",
       " '19.0': 10,\n",
       " '20.0': 11,\n",
       " '21.0': 12,\n",
       " '22.0': 13,\n",
       " '23.0': 14,\n",
       " '24.0': 15,\n",
       " '25.0': 16,\n",
       " '26.0': 17,\n",
       " '27.0': 18,\n",
       " '28.0': 19,\n",
       " '29.0': 20,\n",
       " '30.0': 21,\n",
       " '31.0': 22,\n",
       " '32.0': 23,\n",
       " '33.0': 24,\n",
       " '34.0': 25,\n",
       " '35.0': 26,\n",
       " '36.0': 27,\n",
       " '37.0': 28,\n",
       " '38.0': 29,\n",
       " '39.0': 30,\n",
       " '4.0': 31,\n",
       " '40.0': 32,\n",
       " '41.0': 33,\n",
       " '42.0': 34,\n",
       " '43.0': 35,\n",
       " '44.0': 36,\n",
       " '45.0': 37,\n",
       " '5.0': 38,\n",
       " '6.0': 39,\n",
       " '7.0': 40,\n",
       " '8.0': 41,\n",
       " '9.0': 42,\n",
       " 'nan': 43}"
      ]
     },
     "execution_count": 99,
     "metadata": {},
     "output_type": "execute_result"
    }
   ],
   "source": [
    "le_dict"
   ]
  },
  {
   "cell_type": "code",
   "execution_count": 104,
   "id": "f7d83f07",
   "metadata": {},
   "outputs": [],
   "source": [
    "le.classes_ = np.append(le.classes_,[\"yo\"])"
   ]
  },
  {
   "cell_type": "code",
   "execution_count": 105,
   "id": "d3bd7197",
   "metadata": {},
   "outputs": [
    {
     "data": {
      "text/plain": [
       "array(['0.0', '10.0', '11.0', '12.0', '13.0', '14.0', '15.0', '16.0',\n",
       "       '17.0', '18.0', '19.0', '20.0', '21.0', '22.0', '23.0', '24.0',\n",
       "       '25.0', '26.0', '27.0', '28.0', '29.0', '30.0', '31.0', '32.0',\n",
       "       '33.0', '34.0', '35.0', '36.0', '37.0', '38.0', '39.0', '4.0',\n",
       "       '40.0', '41.0', '42.0', '43.0', '44.0', '45.0', '5.0', '6.0',\n",
       "       '7.0', '8.0', '9.0', 'nan', 'yo'], dtype=object)"
      ]
     },
     "execution_count": 105,
     "metadata": {},
     "output_type": "execute_result"
    }
   ],
   "source": [
    "le.classes_"
   ]
  },
  {
   "cell_type": "code",
   "execution_count": null,
   "id": "ccd0384f",
   "metadata": {},
   "outputs": [],
   "source": [
    "\n",
    "#Retrieve labels for a Dataframe column:\n",
    "\n",
    "df[your_col] = df[your_col].apply(lambda x: le_dict.get(x, <unknown_value>))"
   ]
  },
  {
   "cell_type": "code",
   "execution_count": 72,
   "id": "68c78e2a",
   "metadata": {},
   "outputs": [
    {
     "data": {
      "text/plain": [
       "33"
      ]
     },
     "execution_count": 72,
     "metadata": {},
     "output_type": "execute_result"
    }
   ],
   "source": [
    "sum([5, 4, 3, 6, 2, 2, 1, 10])"
   ]
  },
  {
   "cell_type": "code",
   "execution_count": 66,
   "id": "f19f8fb5",
   "metadata": {},
   "outputs": [
    {
     "name": "stdout",
     "output_type": "stream",
     "text": [
      "[44]\n",
      "[5, 4, 3, 6, 2, 2, 1, 10]\n",
      "[13]\n"
     ]
    }
   ],
   "source": [
    "features = [ col for col in X_train.columns if col not in [\"target\"]] \n",
    "cat_idxs = [ i for i, f in enumerate(features) if f in categorical_columns]\n",
    "cat_dims = [ categorical_dims[f] for i, f in enumerate(features) if f in categorical_columns]\n",
    "print(cat_dims)\n",
    "print(cat_emb_dim)\n",
    "print(cat_idxs)"
   ]
  },
  {
   "cell_type": "code",
   "execution_count": 67,
   "id": "bee21c73",
   "metadata": {},
   "outputs": [
    {
     "data": {
      "text/plain": [
       "{'cat_col_names': ['PercentInstallTrades'],\n",
       " 'cat_col_idx': [13],\n",
       " 'cat_col_unique_vals': [44],\n",
       " 'num_col_names': ['ExternalRiskEstimate',\n",
       "  'MSinceOldestTradeOpen',\n",
       "  'MSinceMostRecentTradeOpen',\n",
       "  'AverageMInFile',\n",
       "  'NumSatisfactoryTrades',\n",
       "  'NumTrades60Ever2DerogPubRec',\n",
       "  'NumTrades90Ever2DerogPubRec',\n",
       "  'PercentTradesNeverDelq',\n",
       "  'MSinceMostRecentDelq',\n",
       "  'MaxDelq2PublicRecLast12M',\n",
       "  'MaxDelqEver',\n",
       "  'NumTotalTrades',\n",
       "  'NumTradesOpeninLast12M',\n",
       "  'MSinceMostRecentInqexcl7days',\n",
       "  'NumInqLast6M',\n",
       "  'NumInqLast6Mexcl7days',\n",
       "  'NetFractionRevolvingBurden',\n",
       "  'NetFractionInstallBurden',\n",
       "  'NumRevolvingTradesWBalance',\n",
       "  'NumInstallTradesWBalance',\n",
       "  'NumBank2NatlTradesWHighUtilization',\n",
       "  'PercentTradesWBalance'],\n",
       " 'num_col_idx': [0,\n",
       "  1,\n",
       "  2,\n",
       "  3,\n",
       "  4,\n",
       "  5,\n",
       "  6,\n",
       "  7,\n",
       "  8,\n",
       "  9,\n",
       "  10,\n",
       "  11,\n",
       "  12,\n",
       "  14,\n",
       "  15,\n",
       "  16,\n",
       "  17,\n",
       "  18,\n",
       "  19,\n",
       "  20,\n",
       "  21,\n",
       "  22],\n",
       " 'column_ordering': [84,\n",
       "  29,\n",
       "  39,\n",
       "  74,\n",
       "  22,\n",
       "  63,\n",
       "  80,\n",
       "  46,\n",
       "  12,\n",
       "  0,\n",
       "  97,\n",
       "  107,\n",
       "  26,\n",
       "  18,\n",
       "  9,\n",
       "  106,\n",
       "  10,\n",
       "  64,\n",
       "  6,\n",
       "  73,\n",
       "  44,\n",
       "  59,\n",
       "  7,\n",
       "  89,\n",
       "  55,\n",
       "  43,\n",
       "  103,\n",
       "  1,\n",
       "  4,\n",
       "  17,\n",
       "  101,\n",
       "  100,\n",
       "  30,\n",
       "  88,\n",
       "  20,\n",
       "  94,\n",
       "  56,\n",
       "  19,\n",
       "  34,\n",
       "  15,\n",
       "  91,\n",
       "  54,\n",
       "  51,\n",
       "  75,\n",
       "  8,\n",
       "  50,\n",
       "  77,\n",
       "  25,\n",
       "  40,\n",
       "  27,\n",
       "  60,\n",
       "  92,\n",
       "  42,\n",
       "  53,\n",
       "  5,\n",
       "  13,\n",
       "  52,\n",
       "  45,\n",
       "  48,\n",
       "  90,\n",
       "  78,\n",
       "  57,\n",
       "  37,\n",
       "  38,\n",
       "  99,\n",
       "  70,\n",
       "  67,\n",
       "  33,\n",
       "  65,\n",
       "  71,\n",
       "  11,\n",
       "  61,\n",
       "  21,\n",
       "  49,\n",
       "  76,\n",
       "  2,\n",
       "  28,\n",
       "  105,\n",
       "  98,\n",
       "  85,\n",
       "  69,\n",
       "  104,\n",
       "  47,\n",
       "  68,\n",
       "  93,\n",
       "  3,\n",
       "  58,\n",
       "  36,\n",
       "  16,\n",
       "  35,\n",
       "  41,\n",
       "  81,\n",
       "  83,\n",
       "  87,\n",
       "  31,\n",
       "  79,\n",
       "  32,\n",
       "  86,\n",
       "  24,\n",
       "  14,\n",
       "  102,\n",
       "  66,\n",
       "  95,\n",
       "  72,\n",
       "  96,\n",
       "  82,\n",
       "  23,\n",
       "  62],\n",
       " 'img_rows': 3,\n",
       " 'img_columns': 3,\n",
       " 'num_features': 23}"
      ]
     },
     "execution_count": 67,
     "metadata": {},
     "output_type": "execute_result"
    }
   ],
   "source": [
    "extra_info"
   ]
  },
  {
   "cell_type": "code",
   "execution_count": 34,
   "id": "6ec52882",
   "metadata": {},
   "outputs": [
    {
     "name": "stdout",
     "output_type": "stream",
     "text": [
      "[-3.65341747 -3.57963013 -3.50584278 -3.43205544 -3.35826809 -3.28448074\n",
      " -3.2106934  -3.13690605 -3.06311871 -2.98933136 -2.91554402 -2.84175667\n",
      " -2.76796933 -2.69418198 -2.62039464 -2.54660729 -2.47281995 -2.3990326\n",
      " -2.32524525 -2.25145791 -2.17767056 -2.10388322 -2.03009587 -1.95630853\n",
      " -1.88252118 -1.80873384 -1.73494649 -1.66115915 -1.5873718  -1.51358446\n",
      " -1.43979711 -1.36600977 -1.29222242 -1.21843507 -1.14464773 -1.07086038\n",
      " -0.99707304 -0.92328569 -0.84949835 -0.775711   -0.70192366 -0.62813631\n",
      " -0.55434897 -0.48056162 -0.40677428 -0.33298693 -0.25919959 -0.18541224\n",
      " -0.11162489 -0.03783755  0.0359498   0.10973714  0.18352449  0.25731183\n",
      "  0.33109918  0.40488652  0.47867387  0.55246121  0.62624856]\n"
     ]
    }
   ],
   "source": [
    "df_train, df_test = bin_numerical_column(X_train, X_test, [\"target\"])"
   ]
  },
  {
   "cell_type": "code",
   "execution_count": 39,
   "id": "744131b0",
   "metadata": {},
   "outputs": [
    {
     "data": {
      "text/plain": [
       "0"
      ]
     },
     "execution_count": 39,
     "metadata": {},
     "output_type": "execute_result"
    }
   ],
   "source": [
    "(df_test[\"NumTrades60Ever2DerogPubRec\"]==\"nan\").sum()"
   ]
  },
  {
   "cell_type": "code",
   "execution_count": 31,
   "id": "b5e1eb28",
   "metadata": {},
   "outputs": [
    {
     "data": {
      "text/plain": [
       "ExternalRiskEstimate                  float64\n",
       "MSinceOldestTradeOpen                 float64\n",
       "MSinceMostRecentTradeOpen             float64\n",
       "AverageMInFile                        float64\n",
       "NumSatisfactoryTrades                 float64\n",
       "NumTrades60Ever2DerogPubRec             int64\n",
       "NumTrades90Ever2DerogPubRec           float64\n",
       "PercentTradesNeverDelq                float64\n",
       "MSinceMostRecentDelq                  float64\n",
       "MaxDelq2PublicRecLast12M              float64\n",
       "MaxDelqEver                           float64\n",
       "NumTotalTrades                        float64\n",
       "NumTradesOpeninLast12M                 object\n",
       "PercentInstallTrades                  float64\n",
       "MSinceMostRecentInqexcl7days          float64\n",
       "NumInqLast6M                          float64\n",
       "NumInqLast6Mexcl7days                 float64\n",
       "NetFractionRevolvingBurden            float64\n",
       "NetFractionInstallBurden              float64\n",
       "NumRevolvingTradesWBalance            float64\n",
       "NumInstallTradesWBalance              float64\n",
       "NumBank2NatlTradesWHighUtilization    float64\n",
       "PercentTradesWBalance                 float64\n",
       "dtype: object"
      ]
     },
     "execution_count": 31,
     "metadata": {},
     "output_type": "execute_result"
    }
   ],
   "source": [
    "df_train.dtypes"
   ]
  },
  {
   "cell_type": "code",
   "execution_count": 20,
   "id": "82ec25f3",
   "metadata": {},
   "outputs": [
    {
     "data": {
      "text/plain": [
       "array([-0.27268892, -0.04743586, -0.49794197,  0.62832329,  0.40307024,\n",
       "        0.17781719,  1.75458855, -2.52521943,  0.85357634, -2.75047248,\n",
       "        1.30408244, -0.72319502,  1.5293355 ,  1.9798416 ,  1.07882939,\n",
       "        4.00711906,  2.4303477 ,  2.65560075,  3.10610685,  2.20509465,\n",
       "        2.8808538 ,  3.55661296,  5.35863737,  3.33135991,  5.80914347,\n",
       "        4.68287821,  4.90813127,  3.78186601,  6.48490263,  4.45762516,\n",
       "        5.13338432])"
      ]
     },
     "execution_count": 20,
     "metadata": {},
     "output_type": "execute_result"
    }
   ],
   "source": [
    "df_train[\"NumRevolvingTradesWBalance\"].unique()"
   ]
  },
  {
   "cell_type": "code",
   "execution_count": 21,
   "id": "89d5c9be",
   "metadata": {},
   "outputs": [
    {
     "data": {
      "text/plain": [
       "array([-0.44267365,  0.36108255,  0.59748143,  0.07740389,  0.17196345,\n",
       "       -0.15899499,  0.31380278,  0.97571964,  0.69204099,  0.88116009,\n",
       "       -0.34811409,  0.78660054, -0.20627476, -0.25355454, -0.39539387,\n",
       "       -0.01715566, -0.58451298,  0.4556421 ,  0.50292188, -3.61041866,\n",
       "        0.03012412,  0.64476121, -0.11171521, -0.48995342,  0.12468367,\n",
       "        0.266523  , -0.06443544,  1.0702792 ,  0.21924322,  0.92843987,\n",
       "        0.40836233, -0.30083432,  0.83388031,  0.73932076,  0.55020166,\n",
       "       -0.5372332 , -1.19915007,  1.11755897, -0.63179275,  1.16483875,\n",
       "        1.02299942,  1.21211853, -1.10459051, -1.48282873, -0.96275119,\n",
       "       -1.29370962, -1.05731074, -0.82091186, -0.7263523 , -0.67907253,\n",
       "       -0.91547141, -0.77363208, -1.43554895, -1.01003096, -1.15187029,\n",
       "       -1.3409894 , -1.24642984, -1.62466805, -0.86819163, -1.57738828])"
      ]
     },
     "execution_count": 21,
     "metadata": {},
     "output_type": "execute_result"
    }
   ],
   "source": [
    "X_train[\"ExternalRiskEstimate\"].unique()"
   ]
  },
  {
   "cell_type": "code",
   "execution_count": 8,
   "id": "7de21291",
   "metadata": {},
   "outputs": [
    {
     "data": {
      "text/plain": [
       "{'cat_col_names': ['MSinceMostRecentInqexcl7days'],\n",
       " 'cat_col_idx': [14],\n",
       " 'cat_col_unique_vals': [28],\n",
       " 'num_col_names': ['ExternalRiskEstimate',\n",
       "  'MSinceOldestTradeOpen',\n",
       "  'MSinceMostRecentTradeOpen',\n",
       "  'AverageMInFile',\n",
       "  'NumSatisfactoryTrades',\n",
       "  'NumTrades60Ever2DerogPubRec',\n",
       "  'NumTrades90Ever2DerogPubRec',\n",
       "  'PercentTradesNeverDelq',\n",
       "  'MSinceMostRecentDelq',\n",
       "  'MaxDelq2PublicRecLast12M',\n",
       "  'MaxDelqEver',\n",
       "  'NumTotalTrades',\n",
       "  'NumTradesOpeninLast12M',\n",
       "  'PercentInstallTrades',\n",
       "  'NumInqLast6M',\n",
       "  'NumInqLast6Mexcl7days',\n",
       "  'NetFractionRevolvingBurden',\n",
       "  'NetFractionInstallBurden',\n",
       "  'NumRevolvingTradesWBalance',\n",
       "  'NumInstallTradesWBalance',\n",
       "  'NumBank2NatlTradesWHighUtilization',\n",
       "  'PercentTradesWBalance'],\n",
       " 'num_col_idx': [0,\n",
       "  1,\n",
       "  2,\n",
       "  3,\n",
       "  4,\n",
       "  5,\n",
       "  6,\n",
       "  7,\n",
       "  8,\n",
       "  9,\n",
       "  10,\n",
       "  11,\n",
       "  12,\n",
       "  13,\n",
       "  15,\n",
       "  16,\n",
       "  17,\n",
       "  18,\n",
       "  19,\n",
       "  20,\n",
       "  21,\n",
       "  22],\n",
       " 'column_ordering': [84,\n",
       "  29,\n",
       "  39,\n",
       "  74,\n",
       "  22,\n",
       "  63,\n",
       "  80,\n",
       "  46,\n",
       "  12,\n",
       "  0,\n",
       "  97,\n",
       "  107,\n",
       "  26,\n",
       "  18,\n",
       "  9,\n",
       "  106,\n",
       "  10,\n",
       "  64,\n",
       "  6,\n",
       "  73,\n",
       "  44,\n",
       "  59,\n",
       "  7,\n",
       "  89,\n",
       "  55,\n",
       "  43,\n",
       "  103,\n",
       "  1,\n",
       "  4,\n",
       "  17,\n",
       "  101,\n",
       "  100,\n",
       "  30,\n",
       "  88,\n",
       "  20,\n",
       "  94,\n",
       "  56,\n",
       "  19,\n",
       "  34,\n",
       "  15,\n",
       "  91,\n",
       "  54,\n",
       "  51,\n",
       "  75,\n",
       "  8,\n",
       "  50,\n",
       "  77,\n",
       "  25,\n",
       "  40,\n",
       "  27,\n",
       "  60,\n",
       "  92,\n",
       "  42,\n",
       "  53,\n",
       "  5,\n",
       "  13,\n",
       "  52,\n",
       "  45,\n",
       "  48,\n",
       "  90,\n",
       "  78,\n",
       "  57,\n",
       "  37,\n",
       "  38,\n",
       "  99,\n",
       "  70,\n",
       "  67,\n",
       "  33,\n",
       "  65,\n",
       "  71,\n",
       "  11,\n",
       "  61,\n",
       "  21,\n",
       "  49,\n",
       "  76,\n",
       "  2,\n",
       "  28,\n",
       "  105,\n",
       "  98,\n",
       "  85,\n",
       "  69,\n",
       "  104,\n",
       "  47,\n",
       "  68,\n",
       "  93,\n",
       "  3,\n",
       "  58,\n",
       "  36,\n",
       "  16,\n",
       "  35,\n",
       "  41,\n",
       "  81,\n",
       "  83,\n",
       "  87,\n",
       "  31,\n",
       "  79,\n",
       "  32,\n",
       "  86,\n",
       "  24,\n",
       "  14,\n",
       "  102,\n",
       "  66,\n",
       "  95,\n",
       "  72,\n",
       "  96,\n",
       "  82,\n",
       "  23,\n",
       "  62],\n",
       " 'img_rows': 3,\n",
       " 'img_columns': 3,\n",
       " 'num_features': 23}"
      ]
     },
     "execution_count": 8,
     "metadata": {},
     "output_type": "execute_result"
    }
   ],
   "source": [
    "extra_info"
   ]
  },
  {
   "cell_type": "code",
   "execution_count": 13,
   "id": "21701004",
   "metadata": {},
   "outputs": [
    {
     "data": {
      "text/plain": [
       "1"
      ]
     },
     "execution_count": 13,
     "metadata": {},
     "output_type": "execute_result"
    }
   ],
   "source": [
    "8367%2"
   ]
  },
  {
   "cell_type": "code",
   "execution_count": 5,
   "id": "da929ad1",
   "metadata": {},
   "outputs": [
    {
     "data": {
      "text/plain": [
       "'./notebooks'"
      ]
     },
     "execution_count": 5,
     "metadata": {},
     "output_type": "execute_result"
    }
   ],
   "source": [
    "import os\n",
    "os.getcwd()"
   ]
  },
  {
   "cell_type": "code",
   "execution_count": 6,
   "id": "341aa1bd",
   "metadata": {},
   "outputs": [],
   "source": [
    "# write X_train to CSV file\n",
    "X_train.to_csv('X_train.csv', index=False)\n",
    "# write X_val to CSV file\n",
    "X_val.to_csv('X_val.csv', index=False)\n",
    "# write y_train to CSV file\n",
    "y_train.to_csv('y_train.csv', index=False)\n",
    "# write y_val to CSV file\n",
    "y_val.to_csv('y_val.csv', index=False)"
   ]
  },
  {
   "cell_type": "code",
   "execution_count": null,
   "id": "2fe9d2a9",
   "metadata": {},
   "outputs": [],
   "source": []
  },
  {
   "cell_type": "code",
   "execution_count": null,
   "id": "8d0c543d",
   "metadata": {},
   "outputs": [],
   "source": []
  },
  {
   "cell_type": "code",
   "execution_count": 3,
   "id": "51d87aae",
   "metadata": {},
   "outputs": [
    {
     "data": {
      "text/plain": [
       "581011"
      ]
     },
     "execution_count": 3,
     "metadata": {},
     "output_type": "execute_result"
    }
   ],
   "source": [
    "df = pd.read_csv(\"./data/covertype/covtype.data.gz\")\n",
    "len(df)"
   ]
  },
  {
   "cell_type": "code",
   "execution_count": 4,
   "id": "57163097",
   "metadata": {},
   "outputs": [
    {
     "data": {
      "text/plain": [
       "10459"
      ]
     },
     "execution_count": 4,
     "metadata": {},
     "output_type": "execute_result"
    }
   ],
   "source": [
    "df = pd.read_csv(\n",
    "            \"./data/heloc/heloc_dataset_v1.csv\"\n",
    "        )\n",
    "len(df)"
   ]
  },
  {
   "cell_type": "code",
   "execution_count": 10,
   "id": "23e5882e",
   "metadata": {},
   "outputs": [
    {
     "data": {
      "text/plain": [
       "Index(['RiskPerformance'], dtype='object')"
      ]
     },
     "execution_count": 10,
     "metadata": {},
     "output_type": "execute_result"
    }
   ],
   "source": [
    "cat_cols = df.select_dtypes(include=[\"object\", \"category\"]).columns\n",
    "cat_cols"
   ]
  },
  {
   "cell_type": "code",
   "execution_count": 9,
   "id": "841fb80b",
   "metadata": {},
   "outputs": [
    {
     "data": {
      "text/plain": [
       "Index(['RiskPerformance', 'ExternalRiskEstimate', 'MSinceOldestTradeOpen',\n",
       "       'MSinceMostRecentTradeOpen', 'AverageMInFile', 'NumSatisfactoryTrades',\n",
       "       'NumTrades60Ever2DerogPubRec', 'NumTrades90Ever2DerogPubRec',\n",
       "       'PercentTradesNeverDelq', 'MSinceMostRecentDelq',\n",
       "       'MaxDelq2PublicRecLast12M', 'MaxDelqEver', 'NumTotalTrades',\n",
       "       'NumTradesOpeninLast12M', 'PercentInstallTrades',\n",
       "       'MSinceMostRecentInqexcl7days', 'NumInqLast6M', 'NumInqLast6Mexcl7days',\n",
       "       'NetFractionRevolvingBurden', 'NetFractionInstallBurden',\n",
       "       'NumRevolvingTradesWBalance', 'NumInstallTradesWBalance',\n",
       "       'NumBank2NatlTradesWHighUtilization', 'PercentTradesWBalance'],\n",
       "      dtype='object')"
      ]
     },
     "execution_count": 9,
     "metadata": {},
     "output_type": "execute_result"
    }
   ],
   "source": [
    "df.columns"
   ]
  },
  {
   "cell_type": "code",
   "execution_count": 5,
   "id": "76495338",
   "metadata": {},
   "outputs": [
    {
     "data": {
      "text/plain": [
       "array([5, 2, 1, 7, 3, 6, 4])"
      ]
     },
     "execution_count": 5,
     "metadata": {},
     "output_type": "execute_result"
    }
   ],
   "source": [
    "df[\"5\"].unique()"
   ]
  },
  {
   "cell_type": "code",
   "execution_count": 6,
   "id": "1814e98a",
   "metadata": {
    "scrolled": true
   },
   "outputs": [
    {
     "data": {
      "text/plain": [
       "Index([], dtype='object')"
      ]
     },
     "execution_count": 6,
     "metadata": {},
     "output_type": "execute_result"
    }
   ],
   "source": [
    "cat_cols = df.select_dtypes(include=[\"object\", \"category\"]).columns\n",
    "cat_cols"
   ]
  },
  {
   "cell_type": "code",
   "execution_count": null,
   "id": "7ce87ca0-794a-44f7-901a-1d765b349699",
   "metadata": {},
   "outputs": [],
   "source": []
  },
  {
   "cell_type": "code",
   "execution_count": null,
   "id": "c8740ba9-38a3-4ee8-99ea-7bb5e809e6a5",
   "metadata": {},
   "outputs": [],
   "source": []
  },
  {
   "cell_type": "code",
   "execution_count": null,
   "id": "097e34e0-b4a6-470e-9e5d-bf78d996b9ef",
   "metadata": {},
   "outputs": [],
   "source": [
    "3661"
   ]
  },
  {
   "cell_type": "code",
   "execution_count": 4,
   "id": "24da07a3-8960-46f5-9986-9f15995934df",
   "metadata": {},
   "outputs": [],
   "source": [
    "import pandas as pd\n",
    "import numpy as np"
   ]
  },
  {
   "cell_type": "code",
   "execution_count": 89,
   "id": "c4575e9a-65e2-4074-b9ef-09de897a396a",
   "metadata": {},
   "outputs": [],
   "source": [
    "\n",
    "def handle_rogue_batch_size(train, val, batch_size):\n",
    "    num_rows_to_adjust = 1\n",
    "    if len(train) % batch_size != 1 and  len(val) % batch_size != 1:\n",
    "        return train, val\n",
    "    else:\n",
    "        num_rows_to_adjust = 0\n",
    "        for i in range(100):\n",
    "            print(i)\n",
    "            if len(train) % batch_size == 1:\n",
    "                num_rows_to_adjust += 1\n",
    "                removed_rows = train.iloc[-num_rows_to_adjust:]  # Select rows as a DataFrame\n",
    "                train = train.iloc[:-num_rows_to_adjust]\n",
    "                val = pd.concat([val, removed_rows], axis=0)\n",
    "                print(\"train c1\", train.shape, val.shape)\n",
    "                \n",
    "            if len(val) % batch_size == 1:\n",
    "                num_rows_to_adjust += 1\n",
    "                removed_rows = val.iloc[-num_rows_to_adjust:]  # Select rows as a DataFrame\n",
    "                val = val.iloc[:-num_rows_to_adjust]\n",
    "                train = pd.concat([train, removed_rows], axis=0)\n",
    "                print(\"val c1\", train.shape, val.shape)\n",
    "                \n",
    "            if (len(train) % batch_size != 1) and  (len(val) % batch_size != 1):\n",
    "                break\n",
    "        return train, val\n",
    "        \n",
    "\n",
    "# Rest of the code remains the same as in previous responses\n"
   ]
  },
  {
   "cell_type": "code",
   "execution_count": 92,
   "id": "aec0aa23-95b2-4c3d-89f0-d365f8b78435",
   "metadata": {},
   "outputs": [
    {
     "name": "stdout",
     "output_type": "stream",
     "text": [
      "0\n",
      "train c1 (3662, 15) (3663, 15)\n",
      "val c1 (3664, 15) (3661, 15)\n",
      "Train and val shapes (3664, 15) (3661, 15) batch size 1831\n",
      "\n",
      "Train dataset:\n",
      "(3664, 15)\n",
      "\n",
      "Validation dataset:\n",
      "(3661, 15)\n"
     ]
    }
   ],
   "source": [
    "# Create random seed for reproducibility\n",
    "np.random.seed(42)\n",
    "\n",
    "# Dataset specifications\n",
    "train_rows = 3663\n",
    "val_rows = 3662\n",
    "num_features = 15\n",
    "batch_size = 1831\n",
    "\n",
    "# Create random data\n",
    "train_data = np.random.random((train_rows, num_features))\n",
    "val_data = np.random.random((val_rows, num_features))\n",
    "\n",
    "# Create DataFrames for train and validation datasets\n",
    "train_df = pd.DataFrame(train_data)\n",
    "val_df = pd.DataFrame(val_data)\n",
    "# Ensure the train and validation lengths meet the rogue batch size condition\n",
    "train_df, val_df = handle_rogue_batch_size(train_df, val_df, batch_size)\n",
    "\n",
    "# Print train and val shapes\n",
    "print(\"Train and val shapes\", train_df.shape, val_df.shape, \"batch size\", batch_size)\n",
    "\n",
    "# Display first few rows of train and val datasets\n",
    "print(\"\\nTrain dataset:\")\n",
    "print(train_df.shape)\n",
    "\n",
    "print(\"\\nValidation dataset:\")\n",
    "print(val_df.shape)"
   ]
  },
  {
   "cell_type": "code",
   "execution_count": 39,
   "id": "d372c7d8-3d94-4376-8cb7-8e725eae5fed",
   "metadata": {},
   "outputs": [
    {
     "data": {
      "text/html": [
       "<div>\n",
       "<style scoped>\n",
       "    .dataframe tbody tr th:only-of-type {\n",
       "        vertical-align: middle;\n",
       "    }\n",
       "\n",
       "    .dataframe tbody tr th {\n",
       "        vertical-align: top;\n",
       "    }\n",
       "\n",
       "    .dataframe thead th {\n",
       "        text-align: right;\n",
       "    }\n",
       "</style>\n",
       "<table border=\"1\" class=\"dataframe\">\n",
       "  <thead>\n",
       "    <tr style=\"text-align: right;\">\n",
       "      <th></th>\n",
       "      <th>0</th>\n",
       "      <th>1</th>\n",
       "      <th>2</th>\n",
       "      <th>3</th>\n",
       "      <th>4</th>\n",
       "      <th>5</th>\n",
       "      <th>6</th>\n",
       "      <th>7</th>\n",
       "      <th>8</th>\n",
       "      <th>9</th>\n",
       "      <th>10</th>\n",
       "      <th>11</th>\n",
       "      <th>12</th>\n",
       "      <th>13</th>\n",
       "      <th>14</th>\n",
       "    </tr>\n",
       "  </thead>\n",
       "  <tbody>\n",
       "    <tr>\n",
       "      <th>0</th>\n",
       "      <td>0.374540</td>\n",
       "      <td>0.950714</td>\n",
       "      <td>0.731994</td>\n",
       "      <td>0.598658</td>\n",
       "      <td>0.156019</td>\n",
       "      <td>0.155995</td>\n",
       "      <td>0.058084</td>\n",
       "      <td>0.866176</td>\n",
       "      <td>0.601115</td>\n",
       "      <td>0.708073</td>\n",
       "      <td>0.020584</td>\n",
       "      <td>0.969910</td>\n",
       "      <td>0.832443</td>\n",
       "      <td>0.212339</td>\n",
       "      <td>0.181825</td>\n",
       "    </tr>\n",
       "    <tr>\n",
       "      <th>1</th>\n",
       "      <td>0.183405</td>\n",
       "      <td>0.304242</td>\n",
       "      <td>0.524756</td>\n",
       "      <td>0.431945</td>\n",
       "      <td>0.291229</td>\n",
       "      <td>0.611853</td>\n",
       "      <td>0.139494</td>\n",
       "      <td>0.292145</td>\n",
       "      <td>0.366362</td>\n",
       "      <td>0.456070</td>\n",
       "      <td>0.785176</td>\n",
       "      <td>0.199674</td>\n",
       "      <td>0.514234</td>\n",
       "      <td>0.592415</td>\n",
       "      <td>0.046450</td>\n",
       "    </tr>\n",
       "    <tr>\n",
       "      <th>2</th>\n",
       "      <td>0.607545</td>\n",
       "      <td>0.170524</td>\n",
       "      <td>0.065052</td>\n",
       "      <td>0.948886</td>\n",
       "      <td>0.965632</td>\n",
       "      <td>0.808397</td>\n",
       "      <td>0.304614</td>\n",
       "      <td>0.097672</td>\n",
       "      <td>0.684233</td>\n",
       "      <td>0.440152</td>\n",
       "      <td>0.122038</td>\n",
       "      <td>0.495177</td>\n",
       "      <td>0.034389</td>\n",
       "      <td>0.909320</td>\n",
       "      <td>0.258780</td>\n",
       "    </tr>\n",
       "    <tr>\n",
       "      <th>3</th>\n",
       "      <td>0.662522</td>\n",
       "      <td>0.311711</td>\n",
       "      <td>0.520068</td>\n",
       "      <td>0.546710</td>\n",
       "      <td>0.184854</td>\n",
       "      <td>0.969585</td>\n",
       "      <td>0.775133</td>\n",
       "      <td>0.939499</td>\n",
       "      <td>0.894827</td>\n",
       "      <td>0.597900</td>\n",
       "      <td>0.921874</td>\n",
       "      <td>0.088493</td>\n",
       "      <td>0.195983</td>\n",
       "      <td>0.045227</td>\n",
       "      <td>0.325330</td>\n",
       "    </tr>\n",
       "    <tr>\n",
       "      <th>4</th>\n",
       "      <td>0.388677</td>\n",
       "      <td>0.271349</td>\n",
       "      <td>0.828738</td>\n",
       "      <td>0.356753</td>\n",
       "      <td>0.280935</td>\n",
       "      <td>0.542696</td>\n",
       "      <td>0.140924</td>\n",
       "      <td>0.802197</td>\n",
       "      <td>0.074551</td>\n",
       "      <td>0.986887</td>\n",
       "      <td>0.772245</td>\n",
       "      <td>0.198716</td>\n",
       "      <td>0.005522</td>\n",
       "      <td>0.815461</td>\n",
       "      <td>0.706857</td>\n",
       "    </tr>\n",
       "    <tr>\n",
       "      <th>...</th>\n",
       "      <td>...</td>\n",
       "      <td>...</td>\n",
       "      <td>...</td>\n",
       "      <td>...</td>\n",
       "      <td>...</td>\n",
       "      <td>...</td>\n",
       "      <td>...</td>\n",
       "      <td>...</td>\n",
       "      <td>...</td>\n",
       "      <td>...</td>\n",
       "      <td>...</td>\n",
       "      <td>...</td>\n",
       "      <td>...</td>\n",
       "      <td>...</td>\n",
       "      <td>...</td>\n",
       "    </tr>\n",
       "    <tr>\n",
       "      <th>3636</th>\n",
       "      <td>0.813152</td>\n",
       "      <td>0.969383</td>\n",
       "      <td>0.964133</td>\n",
       "      <td>0.299185</td>\n",
       "      <td>0.828774</td>\n",
       "      <td>0.678777</td>\n",
       "      <td>0.800076</td>\n",
       "      <td>0.846238</td>\n",
       "      <td>0.980279</td>\n",
       "      <td>0.151730</td>\n",
       "      <td>0.769746</td>\n",
       "      <td>0.734154</td>\n",
       "      <td>0.287736</td>\n",
       "      <td>0.392588</td>\n",
       "      <td>0.176758</td>\n",
       "    </tr>\n",
       "    <tr>\n",
       "      <th>3637</th>\n",
       "      <td>0.913273</td>\n",
       "      <td>0.879336</td>\n",
       "      <td>0.614035</td>\n",
       "      <td>0.511630</td>\n",
       "      <td>0.232888</td>\n",
       "      <td>0.789604</td>\n",
       "      <td>0.008205</td>\n",
       "      <td>0.462787</td>\n",
       "      <td>0.860551</td>\n",
       "      <td>0.618485</td>\n",
       "      <td>0.635123</td>\n",
       "      <td>0.070707</td>\n",
       "      <td>0.286705</td>\n",
       "      <td>0.673862</td>\n",
       "      <td>0.049617</td>\n",
       "    </tr>\n",
       "    <tr>\n",
       "      <th>3638</th>\n",
       "      <td>0.330936</td>\n",
       "      <td>0.353945</td>\n",
       "      <td>0.498718</td>\n",
       "      <td>0.362375</td>\n",
       "      <td>0.454118</td>\n",
       "      <td>0.546997</td>\n",
       "      <td>0.128348</td>\n",
       "      <td>0.180475</td>\n",
       "      <td>0.832511</td>\n",
       "      <td>0.459768</td>\n",
       "      <td>0.355152</td>\n",
       "      <td>0.433882</td>\n",
       "      <td>0.174819</td>\n",
       "      <td>0.239847</td>\n",
       "      <td>0.515524</td>\n",
       "    </tr>\n",
       "    <tr>\n",
       "      <th>3639</th>\n",
       "      <td>0.358926</td>\n",
       "      <td>0.475456</td>\n",
       "      <td>0.149705</td>\n",
       "      <td>0.156468</td>\n",
       "      <td>0.383943</td>\n",
       "      <td>0.378858</td>\n",
       "      <td>0.883332</td>\n",
       "      <td>0.033451</td>\n",
       "      <td>0.992855</td>\n",
       "      <td>0.956523</td>\n",
       "      <td>0.542251</td>\n",
       "      <td>0.718758</td>\n",
       "      <td>0.935255</td>\n",
       "      <td>0.251194</td>\n",
       "      <td>0.315631</td>\n",
       "    </tr>\n",
       "    <tr>\n",
       "      <th>3640</th>\n",
       "      <td>0.110925</td>\n",
       "      <td>0.563846</td>\n",
       "      <td>0.159448</td>\n",
       "      <td>0.930871</td>\n",
       "      <td>0.431567</td>\n",
       "      <td>0.919687</td>\n",
       "      <td>0.205100</td>\n",
       "      <td>0.694036</td>\n",
       "      <td>0.647592</td>\n",
       "      <td>0.399676</td>\n",
       "      <td>0.898343</td>\n",
       "      <td>0.434802</td>\n",
       "      <td>0.198431</td>\n",
       "      <td>0.976985</td>\n",
       "      <td>0.441481</td>\n",
       "    </tr>\n",
       "  </tbody>\n",
       "</table>\n",
       "<p>3641 rows × 15 columns</p>\n",
       "</div>"
      ],
      "text/plain": [
       "            0         1         2         3         4         5         6   \\\n",
       "0     0.374540  0.950714  0.731994  0.598658  0.156019  0.155995  0.058084   \n",
       "1     0.183405  0.304242  0.524756  0.431945  0.291229  0.611853  0.139494   \n",
       "2     0.607545  0.170524  0.065052  0.948886  0.965632  0.808397  0.304614   \n",
       "3     0.662522  0.311711  0.520068  0.546710  0.184854  0.969585  0.775133   \n",
       "4     0.388677  0.271349  0.828738  0.356753  0.280935  0.542696  0.140924   \n",
       "...        ...       ...       ...       ...       ...       ...       ...   \n",
       "3636  0.813152  0.969383  0.964133  0.299185  0.828774  0.678777  0.800076   \n",
       "3637  0.913273  0.879336  0.614035  0.511630  0.232888  0.789604  0.008205   \n",
       "3638  0.330936  0.353945  0.498718  0.362375  0.454118  0.546997  0.128348   \n",
       "3639  0.358926  0.475456  0.149705  0.156468  0.383943  0.378858  0.883332   \n",
       "3640  0.110925  0.563846  0.159448  0.930871  0.431567  0.919687  0.205100   \n",
       "\n",
       "            7         8         9         10        11        12        13  \\\n",
       "0     0.866176  0.601115  0.708073  0.020584  0.969910  0.832443  0.212339   \n",
       "1     0.292145  0.366362  0.456070  0.785176  0.199674  0.514234  0.592415   \n",
       "2     0.097672  0.684233  0.440152  0.122038  0.495177  0.034389  0.909320   \n",
       "3     0.939499  0.894827  0.597900  0.921874  0.088493  0.195983  0.045227   \n",
       "4     0.802197  0.074551  0.986887  0.772245  0.198716  0.005522  0.815461   \n",
       "...        ...       ...       ...       ...       ...       ...       ...   \n",
       "3636  0.846238  0.980279  0.151730  0.769746  0.734154  0.287736  0.392588   \n",
       "3637  0.462787  0.860551  0.618485  0.635123  0.070707  0.286705  0.673862   \n",
       "3638  0.180475  0.832511  0.459768  0.355152  0.433882  0.174819  0.239847   \n",
       "3639  0.033451  0.992855  0.956523  0.542251  0.718758  0.935255  0.251194   \n",
       "3640  0.694036  0.647592  0.399676  0.898343  0.434802  0.198431  0.976985   \n",
       "\n",
       "            14  \n",
       "0     0.181825  \n",
       "1     0.046450  \n",
       "2     0.258780  \n",
       "3     0.325330  \n",
       "4     0.706857  \n",
       "...        ...  \n",
       "3636  0.176758  \n",
       "3637  0.049617  \n",
       "3638  0.515524  \n",
       "3639  0.315631  \n",
       "3640  0.441481  \n",
       "\n",
       "[3641 rows x 15 columns]"
      ]
     },
     "execution_count": 39,
     "metadata": {},
     "output_type": "execute_result"
    }
   ],
   "source": [
    "train_df[:-20]"
   ]
  },
  {
   "cell_type": "code",
   "execution_count": 19,
   "id": "1d7ce36d-2c0a-476a-9297-5572ccfb78d8",
   "metadata": {},
   "outputs": [
    {
     "data": {
      "text/plain": [
       "772"
      ]
     },
     "execution_count": 19,
     "metadata": {},
     "output_type": "execute_result"
    }
   ],
   "source": [
    "757+15"
   ]
  },
  {
   "cell_type": "code",
   "execution_count": null,
   "id": "c2bb8b2b",
   "metadata": {},
   "outputs": [],
   "source": []
  }
 ],
 "metadata": {
  "kernelspec": {
   "display_name": "Python 3 (ipykernel)",
   "language": "python",
   "name": "python3"
  },
  "language_info": {
   "codemirror_mode": {
    "name": "ipython",
    "version": 3
   },
   "file_extension": ".py",
   "mimetype": "text/x-python",
   "name": "python",
   "nbconvert_exporter": "python",
   "pygments_lexer": "ipython3",
   "version": "3.10.0"
  }
 },
 "nbformat": 4,
 "nbformat_minor": 5
}
