{
 "cells": [
  {
   "cell_type": "code",
   "execution_count": 42,
   "id": "abd838c3",
   "metadata": {},
   "outputs": [],
   "source": [
    "import pandas as pd\n",
    "import numpy as np\n",
    "import ast\n",
    "pd.set_option('display.max_rows', None)"
   ]
  },
  {
   "cell_type": "code",
   "execution_count": 43,
   "id": "3f0405c2",
   "metadata": {},
   "outputs": [],
   "source": [
    "df = pd.read_csv(r\"../output/catembed_benchmark.csv\")"
   ]
  },
  {
   "cell_type": "code",
   "execution_count": 44,
   "id": "b9161df4",
   "metadata": {},
   "outputs": [],
   "source": [
    "# List of metric names\n",
    "metric_names = [\"f1\",\"mse\",\"accuracy\",\"recall\",\"precision\", \"auc\",\"area_under_pr\", \"r2_score\", \"rmse\"]\n",
    "dataset = df.copy()\n",
    "# Create columns based on metric names\n",
    "# Convert string representations to dictionaries\n",
    "dataset['output_metrics'] = dataset['output_metrics'].apply(ast.literal_eval)\n",
    "# Create columns based on metric names\n",
    "for metric in metric_names:\n",
    "    dataset[metric] = dataset['output_metrics'].apply(lambda x: x.get(metric) if isinstance(x, dict) else np.nan)"
   ]
  },
  {
   "cell_type": "code",
   "execution_count": 45,
   "id": "9e4f9922",
   "metadata": {},
   "outputs": [
    {
     "data": {
      "text/html": [
       "<div>\n",
       "<style scoped>\n",
       "    .dataframe tbody tr th:only-of-type {\n",
       "        vertical-align: middle;\n",
       "    }\n",
       "\n",
       "    .dataframe tbody tr th {\n",
       "        vertical-align: top;\n",
       "    }\n",
       "\n",
       "    .dataframe thead th {\n",
       "        text-align: right;\n",
       "    }\n",
       "</style>\n",
       "<table border=\"1\" class=\"dataframe\">\n",
       "  <thead>\n",
       "    <tr style=\"text-align: right;\">\n",
       "      <th></th>\n",
       "      <th>dataset</th>\n",
       "      <th>model</th>\n",
       "      <th>run_time</th>\n",
       "      <th>eval_metric</th>\n",
       "      <th>best_params</th>\n",
       "      <th>output_metrics</th>\n",
       "      <th>debug_ytrue</th>\n",
       "      <th>f1</th>\n",
       "      <th>mse</th>\n",
       "      <th>accuracy</th>\n",
       "      <th>recall</th>\n",
       "      <th>precision</th>\n",
       "      <th>auc</th>\n",
       "      <th>area_under_pr</th>\n",
       "      <th>r2_score</th>\n",
       "      <th>rmse</th>\n",
       "    </tr>\n",
       "  </thead>\n",
       "  <tbody>\n",
       "    <tr>\n",
       "      <th>0</th>\n",
       "      <td>housing</td>\n",
       "      <td>fttransformer</td>\n",
       "      <td>462.767147</td>\n",
       "      <td>mse</td>\n",
       "      <td>{'AdamW_weight_decay': 0.00039433546917991806,...</td>\n",
       "      <td>{'mse': 0.43777984500887185, 'rmse': 0.6616493...</td>\n",
       "      <td>[1.319, 2.763, 0.813, 1.935, 1.052, 1.713, 1.3...</td>\n",
       "      <td>None</td>\n",
       "      <td>0.437780</td>\n",
       "      <td>None</td>\n",
       "      <td>None</td>\n",
       "      <td>None</td>\n",
       "      <td>None</td>\n",
       "      <td>None</td>\n",
       "      <td>0.671509</td>\n",
       "      <td>0.661649</td>\n",
       "    </tr>\n",
       "    <tr>\n",
       "      <th>1</th>\n",
       "      <td>housing</td>\n",
       "      <td>categoryembedding</td>\n",
       "      <td>164.705062</td>\n",
       "      <td>mse</td>\n",
       "      <td>{'AdamW_weight_decay': 0.007850870740091056, '...</td>\n",
       "      <td>{'mse': 1.3037851873733184, 'rmse': 1.14183413...</td>\n",
       "      <td>[1.319, 2.763, 0.813, 1.935, 1.052, 1.713, 1.3...</td>\n",
       "      <td>None</td>\n",
       "      <td>1.303785</td>\n",
       "      <td>None</td>\n",
       "      <td>None</td>\n",
       "      <td>None</td>\n",
       "      <td>None</td>\n",
       "      <td>None</td>\n",
       "      <td>0.021696</td>\n",
       "      <td>1.141834</td>\n",
       "    </tr>\n",
       "  </tbody>\n",
       "</table>\n",
       "</div>"
      ],
      "text/plain": [
       "   dataset              model    run_time eval_metric  \\\n",
       "0  housing      fttransformer  462.767147         mse   \n",
       "1  housing  categoryembedding  164.705062         mse   \n",
       "\n",
       "                                         best_params  \\\n",
       "0  {'AdamW_weight_decay': 0.00039433546917991806,...   \n",
       "1  {'AdamW_weight_decay': 0.007850870740091056, '...   \n",
       "\n",
       "                                      output_metrics  \\\n",
       "0  {'mse': 0.43777984500887185, 'rmse': 0.6616493...   \n",
       "1  {'mse': 1.3037851873733184, 'rmse': 1.14183413...   \n",
       "\n",
       "                                         debug_ytrue    f1       mse accuracy  \\\n",
       "0  [1.319, 2.763, 0.813, 1.935, 1.052, 1.713, 1.3...  None  0.437780     None   \n",
       "1  [1.319, 2.763, 0.813, 1.935, 1.052, 1.713, 1.3...  None  1.303785     None   \n",
       "\n",
       "  recall precision   auc area_under_pr  r2_score      rmse  \n",
       "0   None      None  None          None  0.671509  0.661649  \n",
       "1   None      None  None          None  0.021696  1.141834  "
      ]
     },
     "execution_count": 45,
     "metadata": {},
     "output_type": "execute_result"
    }
   ],
   "source": [
    "# Specify the metric you want to maximize\n",
    "metric_to_maximize = 'mse'\n",
    "tomax = {\"f1\": True,\n",
    "         \"mse\": False,\n",
    "         \"accuracy\": True,\n",
    "         \"recall\": True,\n",
    "         \"precision\": True,\n",
    "         \"auc\": True,\n",
    "         \"area_under_pr\": True,\n",
    "        \"rmse\": False,\n",
    "        \"r2_score\": True}\n",
    "\n",
    "\n",
    "# Filter out rows with NaN values in the specified metric column\n",
    "filtered_df = dataset.dropna(subset=[metric_to_maximize]).loc[dataset[metric_to_maximize] != \"nan\"]\n",
    "\n",
    "# Find the rows that maximize the specified metric for each dataset\n",
    "if  tomax[metric_to_maximize]:\n",
    "    max_rows = filtered_df.sort_values([\"dataset\",metric_to_maximize])\n",
    "else:\n",
    "    max_rows = filtered_df.sort_values(metric_to_maximize)\n",
    "    \n",
    "sel_cols = ['dataset', 'model', 'run_time',\n",
    "       'eval_metric', 'best_params', 'output_metrics',\n",
    " 'debug_ytrue', 'f1', 'mse', 'accuracy',\n",
    "       'recall', 'precision', 'auc', 'area_under_pr', 'r2_score', 'rmse']\n",
    "\n",
    "max_rows[sel_cols].head(50)"
   ]
  },
  {
   "cell_type": "code",
   "execution_count": 6,
   "id": "c4148ed3",
   "metadata": {},
   "outputs": [
    {
     "data": {
      "text/plain": [
       "\"{'Adam_weight_decay': 0.0008344870704054452, 'ReduceLROnPlateau_factor': 0.39054754693784877, 'ReduceLROnPlateau_patience': 9, 'batch_size': 64, 'cat_emb_dim': 3, 'clip_value': 2, 'early_stopping_patience': 5, 'gamma': 1.1112005798198572, 'lambda_sparse': 0.0018702554034918367, 'learning_rate': 0.00023539065760010136, 'mask_type': 'entmax', 'momentum': 0.002024407113236184, 'n_d': 11, 'n_independent': 2, 'n_shared': 3, 'n_steps': 6, 'optimizer_fn': <class 'torch.optim.adam.Adam'>, 'scheduler_fn': 'ReduceLROnPlateau', 'virtual_batch_size_ratio': 0.5, 'weights': 1, 'outer_params': {'max_epochs': 1000, 'early_stopping_tolerance': 1e-06, 'hyperopt_evals': 10, 'val_size': 0.2, 'auto_lr_find': False}, 'virtual_batch_size': 32, 'optimizer_params': {'weight_decay': 0.0008344870704054452}, 'scheduler_params': {'factor': 0.39054754693784877, 'patience': 9, 'min_lr': 1e-07, 'verbose': True, 'mode': 'min'}, 'n_a': 11}\""
      ]
     },
     "execution_count": 6,
     "metadata": {},
     "output_type": "execute_result"
    }
   ],
   "source": [
    "maximized_rows[\"best_params\"].iloc[0]"
   ]
  },
  {
   "cell_type": "code",
   "execution_count": 17,
   "id": "78a1539c",
   "metadata": {},
   "outputs": [
    {
     "data": {
      "text/plain": [
       "\"{'alpha': 1, 'colsample_bytree': 0.7701468147287692, 'gamma': 4, 'lambda': 5, 'learning_rate': 0.019628488779340834, 'max_bin': 156, 'max_depth': 8, 'min_child_weight': 8, 'n_estimators': 255, 'subsample': 0.9280869759290384, 'tree_method': 'auto'}\""
      ]
     },
     "execution_count": 17,
     "metadata": {},
     "output_type": "execute_result"
    }
   ],
   "source": [
    "maximized_rows[\"best_params\"].iloc[1]"
   ]
  }
 ],
 "metadata": {
  "kernelspec": {
   "display_name": "Python 3 (ipykernel)",
   "language": "python",
   "name": "python3"
  },
  "language_info": {
   "codemirror_mode": {
    "name": "ipython",
    "version": 3
   },
   "file_extension": ".py",
   "mimetype": "text/x-python",
   "name": "python",
   "nbconvert_exporter": "python",
   "pygments_lexer": "ipython3",
   "version": "3.10.0"
  }
 },
 "nbformat": 4,
 "nbformat_minor": 5
}
