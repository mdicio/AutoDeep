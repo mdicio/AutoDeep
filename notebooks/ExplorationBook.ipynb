{
 "cells": [
  {
   "cell_type": "code",
   "execution_count": 7,
   "id": "abd838c3",
   "metadata": {},
   "outputs": [],
   "source": [
    "import pandas as pd\n",
    "import numpy as np\n",
    "import ast\n",
    "pd.set_option('display.max_rows', None)"
   ]
  },
  {
   "cell_type": "code",
   "execution_count": 8,
   "id": "314c7d7f-4b12-46e1-abf1-273120bc4789",
   "metadata": {},
   "outputs": [
    {
     "data": {
      "text/plain": [
       "Index(['run_id', 'run_config', 'dataset', 'model', 'execution_mode',\n",
       "       'eval_metric', 'best_params', 'output_metrics', 'saved_model_path',\n",
       "       'run_time', 'debug_preds', 'debug_ytrue'],\n",
       "      dtype='object')"
      ]
     },
     "execution_count": 8,
     "metadata": {},
     "output_type": "execute_result"
    }
   ],
   "source": [
    "df.columns"
   ]
  },
  {
   "cell_type": "code",
   "execution_count": 9,
   "id": "3f0405c2",
   "metadata": {},
   "outputs": [],
   "source": [
    "df = pd.read_csv(r\"../output/autoint.csv\")"
   ]
  },
  {
   "cell_type": "code",
   "execution_count": 10,
   "id": "b9161df4",
   "metadata": {},
   "outputs": [],
   "source": [
    "# List of metric names\n",
    "metric_names = [\"f1\",\"mse\",\"accuracy\",\"recall\",\"precision\", \"auc\",\"area_under_pr\", \"r2_score\", \"rmse\"]\n",
    "dataset = df.copy()\n",
    "# Create columns based on metric names\n",
    "# Convert string representations to dictionaries\n",
    "dataset['output_metrics'] = dataset['output_metrics'].apply(ast.literal_eval)\n",
    "# Create columns based on metric names\n",
    "for metric in metric_names:\n",
    "    dataset[metric] = dataset['output_metrics'].apply(lambda x: x.get(metric) if isinstance(x, dict) else np.nan)"
   ]
  },
  {
   "cell_type": "code",
   "execution_count": 12,
   "id": "9e4f9922",
   "metadata": {},
   "outputs": [
    {
     "data": {
      "text/html": [
       "<div>\n",
       "<style scoped>\n",
       "    .dataframe tbody tr th:only-of-type {\n",
       "        vertical-align: middle;\n",
       "    }\n",
       "\n",
       "    .dataframe tbody tr th {\n",
       "        vertical-align: top;\n",
       "    }\n",
       "\n",
       "    .dataframe thead th {\n",
       "        text-align: right;\n",
       "    }\n",
       "</style>\n",
       "<table border=\"1\" class=\"dataframe\">\n",
       "  <thead>\n",
       "    <tr style=\"text-align: right;\">\n",
       "      <th></th>\n",
       "      <th>dataset</th>\n",
       "      <th>model</th>\n",
       "      <th>run_time</th>\n",
       "      <th>eval_metric</th>\n",
       "      <th>best_params</th>\n",
       "      <th>output_metrics</th>\n",
       "      <th>debug_preds</th>\n",
       "      <th>f1</th>\n",
       "      <th>mse</th>\n",
       "      <th>accuracy</th>\n",
       "      <th>recall</th>\n",
       "      <th>precision</th>\n",
       "      <th>auc</th>\n",
       "      <th>area_under_pr</th>\n",
       "      <th>r2_score</th>\n",
       "      <th>rmse</th>\n",
       "    </tr>\n",
       "  </thead>\n",
       "  <tbody>\n",
       "    <tr>\n",
       "      <th>5</th>\n",
       "      <td>housing</td>\n",
       "      <td>categoryembedding</td>\n",
       "      <td>655.336698</td>\n",
       "      <td>r2_score</td>\n",
       "      <td>{'AdamW_weight_decay': 0.0025488672153250813, ...</td>\n",
       "      <td>{'mse': 0.3910003376579559, 'rmse': 0.62530019...</td>\n",
       "      <td>[1.9481786, 2.711327, 0.84492445, 2.8169293, 1...</td>\n",
       "      <td>NaN</td>\n",
       "      <td>0.391000</td>\n",
       "      <td>NaN</td>\n",
       "      <td>None</td>\n",
       "      <td>None</td>\n",
       "      <td>None</td>\n",
       "      <td>None</td>\n",
       "      <td>0.706610</td>\n",
       "      <td>0.625300</td>\n",
       "    </tr>\n",
       "    <tr>\n",
       "      <th>4</th>\n",
       "      <td>housing</td>\n",
       "      <td>resnet18</td>\n",
       "      <td>3833.859957</td>\n",
       "      <td>r2_score</td>\n",
       "      <td>{'batch_size': 1540, 'learning_rate': 0.000138...</td>\n",
       "      <td>{'mse': 0.4255921008653211, 'rmse': 0.65237420...</td>\n",
       "      <td>[array([1.592662], dtype=float32), array([2.64...</td>\n",
       "      <td>NaN</td>\n",
       "      <td>0.425592</td>\n",
       "      <td>NaN</td>\n",
       "      <td>None</td>\n",
       "      <td>None</td>\n",
       "      <td>None</td>\n",
       "      <td>None</td>\n",
       "      <td>0.680654</td>\n",
       "      <td>0.652374</td>\n",
       "    </tr>\n",
       "  </tbody>\n",
       "</table>\n",
       "</div>"
      ],
      "text/plain": [
       "   dataset              model     run_time eval_metric  \\\n",
       "5  housing  categoryembedding   655.336698    r2_score   \n",
       "4  housing           resnet18  3833.859957    r2_score   \n",
       "\n",
       "                                         best_params  \\\n",
       "5  {'AdamW_weight_decay': 0.0025488672153250813, ...   \n",
       "4  {'batch_size': 1540, 'learning_rate': 0.000138...   \n",
       "\n",
       "                                      output_metrics  \\\n",
       "5  {'mse': 0.3910003376579559, 'rmse': 0.62530019...   \n",
       "4  {'mse': 0.4255921008653211, 'rmse': 0.65237420...   \n",
       "\n",
       "                                         debug_preds  f1       mse  accuracy  \\\n",
       "5  [1.9481786, 2.711327, 0.84492445, 2.8169293, 1... NaN  0.391000       NaN   \n",
       "4  [array([1.592662], dtype=float32), array([2.64... NaN  0.425592       NaN   \n",
       "\n",
       "  recall precision   auc area_under_pr  r2_score      rmse  \n",
       "5   None      None  None          None  0.706610  0.625300  \n",
       "4   None      None  None          None  0.680654  0.652374  "
      ]
     },
     "execution_count": 12,
     "metadata": {},
     "output_type": "execute_result"
    }
   ],
   "source": [
    "# Specify the metric you want to maximize\n",
    "metric_to_maximize = 'mse'\n",
    "tomax = {\"f1\": True,\n",
    "         \"mse\": False,\n",
    "         \"accuracy\": True,\n",
    "         \"recall\": True,\n",
    "         \"precision\": True,\n",
    "         \"auc\": True,\n",
    "         \"area_under_pr\": True,\n",
    "        \"rmse\": False,\n",
    "        \"r2_score\": True}\n",
    "\n",
    "\n",
    "# Filter out rows with NaN values in the specified metric column\n",
    "filtered_df = dataset.dropna(subset=[metric_to_maximize]).loc[dataset[metric_to_maximize] != \"nan\"]\n",
    "\n",
    "# Find the rows that maximize the specified metric for each dataset\n",
    "if  tomax[metric_to_maximize]:\n",
    "    max_rows = filtered_df.sort_values([\"dataset\",metric_to_maximize])\n",
    "else:\n",
    "    max_rows = filtered_df.sort_values(metric_to_maximize)\n",
    "    \n",
    "sel_cols = ['dataset', 'model', 'run_time',\n",
    "       'eval_metric', 'best_params', 'output_metrics',\n",
    " 'debug_preds', 'f1', 'mse', 'accuracy',\n",
    "       'recall', 'precision', 'auc', 'area_under_pr', 'r2_score', 'rmse']\n",
    "\n",
    "max_rows[sel_cols].head(50)"
   ]
  },
  {
   "cell_type": "code",
   "execution_count": 6,
   "id": "c4148ed3",
   "metadata": {},
   "outputs": [
    {
     "data": {
      "text/plain": [
       "\"{'Adam_weight_decay': 0.0008344870704054452, 'ReduceLROnPlateau_factor': 0.39054754693784877, 'ReduceLROnPlateau_patience': 9, 'batch_size': 64, 'cat_emb_dim': 3, 'clip_value': 2, 'early_stopping_patience': 5, 'gamma': 1.1112005798198572, 'lambda_sparse': 0.0018702554034918367, 'learning_rate': 0.00023539065760010136, 'mask_type': 'entmax', 'momentum': 0.002024407113236184, 'n_d': 11, 'n_independent': 2, 'n_shared': 3, 'n_steps': 6, 'optimizer_fn': <class 'torch.optim.adam.Adam'>, 'scheduler_fn': 'ReduceLROnPlateau', 'virtual_batch_size_ratio': 0.5, 'weights': 1, 'outer_params': {'max_epochs': 1000, 'early_stopping_tolerance': 1e-06, 'hyperopt_evals': 10, 'val_size': 0.2, 'auto_lr_find': False}, 'virtual_batch_size': 32, 'optimizer_params': {'weight_decay': 0.0008344870704054452}, 'scheduler_params': {'factor': 0.39054754693784877, 'patience': 9, 'min_lr': 1e-07, 'verbose': True, 'mode': 'min'}, 'n_a': 11}\""
      ]
     },
     "execution_count": 6,
     "metadata": {},
     "output_type": "execute_result"
    }
   ],
   "source": [
    "maximized_rows[\"best_params\"].iloc[0]"
   ]
  },
  {
   "cell_type": "code",
   "execution_count": 17,
   "id": "78a1539c",
   "metadata": {},
   "outputs": [
    {
     "data": {
      "text/plain": [
       "\"{'alpha': 1, 'colsample_bytree': 0.7701468147287692, 'gamma': 4, 'lambda': 5, 'learning_rate': 0.019628488779340834, 'max_bin': 156, 'max_depth': 8, 'min_child_weight': 8, 'n_estimators': 255, 'subsample': 0.9280869759290384, 'tree_method': 'auto'}\""
      ]
     },
     "execution_count": 17,
     "metadata": {},
     "output_type": "execute_result"
    }
   ],
   "source": [
    "maximized_rows[\"best_params\"].iloc[1]"
   ]
  }
 ],
 "metadata": {
  "kernelspec": {
   "display_name": "Python 3 (ipykernel)",
   "language": "python",
   "name": "python3"
  },
  "language_info": {
   "codemirror_mode": {
    "name": "ipython",
    "version": 3
   },
   "file_extension": ".py",
   "mimetype": "text/x-python",
   "name": "python",
   "nbconvert_exporter": "python",
   "pygments_lexer": "ipython3",
   "version": "3.10.0"
  }
 },
 "nbformat": 4,
 "nbformat_minor": 5
}
