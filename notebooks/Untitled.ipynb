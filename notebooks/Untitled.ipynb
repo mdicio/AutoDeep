{
 "cells": [
  {
   "cell_type": "code",
   "execution_count": 1,
   "id": "9f424ffe-99c7-4a88-a3e4-b9144dd83814",
   "metadata": {},
   "outputs": [],
   "source": [
    "import os\n",
    "import pandas as pd\n",
    "import numpy as np"
   ]
  },
  {
   "cell_type": "code",
   "execution_count": 5,
   "id": "97ee4041-ca23-4652-811b-eb047b72b278",
   "metadata": {},
   "outputs": [
    {
     "name": "stdout",
     "output_type": "stream",
     "text": [
      "86.69082842604769\n"
     ]
    }
   ],
   "source": [
    "Precision = 95.63\n",
    "Recall = 79.28\n",
    "\n",
    "f1 = (2 * (Precision * Recall) / (Precision + Recall))\n",
    "print(f1)"
   ]
  },
  {
   "cell_type": "code",
   "execution_count": 8,
   "id": "ff72642c-2068-497b-92aa-9626b8655529",
   "metadata": {},
   "outputs": [],
   "source": [
    "def calculate_average_file_size(directory):\n",
    "    total_sizes = []\n",
    "\n",
    "    if not os.path.isdir(directory):\n",
    "        print(\"The provided path is not a directory.\")\n",
    "        return\n",
    "    \n",
    "    for root, _, files in os.walk(directory):\n",
    "        if files:\n",
    "            file_sizes = [os.path.getsize(os.path.join(root, file)) for file in files]\n",
    "            total_sizes.append(sum(file_sizes) / len(file_sizes)/ (1024 * 1024))\n",
    "    \n",
    "    return total_sizes\n",
    "\n"
   ]
  },
  {
   "cell_type": "code",
   "execution_count": 11,
   "id": "09fd8549-23b3-489f-8e6f-8a07384d96df",
   "metadata": {},
   "outputs": [
    {
     "data": {
      "text/plain": [
       "[0.4986889131607548]"
      ]
     },
     "execution_count": 11,
     "metadata": {},
     "output_type": "execute_result"
    }
   ],
   "source": [
    "dirc = \"/home/boom/sdev/WTabRun/output/modelsaves/covertype/categoryembedding/\"\n",
    "calculate_average_file_size(dirc)"
   ]
  },
  {
   "cell_type": "code",
   "execution_count": 14,
   "id": "656c0fab-1cac-4ab5-8768-4b61c4e88709",
   "metadata": {},
   "outputs": [
    {
     "name": "stdout",
     "output_type": "stream",
     "text": [
      "xgb []\n",
      "catboost []\n",
      "mlp []\n",
      "tabnet [0.3062758445739746, 0.7111363728841146]\n",
      "gate [6.802534294128418, 3.793388639177595, 3.101895332336426]\n",
      "resnet []\n",
      "s1dcnn []\n",
      "categoryembedding [0.4986889131607548]\n",
      "fttransformer [1.3216343561808268]\n",
      "tabtransformer [1.070482889811198, 1.3078031234741212, 0.8699989318847656]\n",
      "gandalf [1.433047134399414]\n",
      "autoint [0.7457336698259626, 1.9676960945129394, 0.5417699813842773]\n",
      "node [9.636578647906964, 6.908252143859864, 5.399733543395996]\n"
     ]
    }
   ],
   "source": [
    "models = [\n",
    "    \"XGB\" ,\n",
    "    \"CatBoost\",\n",
    "    \"MLP\",\n",
    "    \"TabNet\",  # TabNet Classifier\",\n",
    "    \"GATE\",\n",
    "    \"resnet\",\n",
    "    \"S1DCNN\",\n",
    "    \"CategoryEmbedding\",\n",
    "    \"FTTransformer\",\n",
    "    \"TabTransformer\",\n",
    "    \"GANDALF\",\n",
    "    \"AutoInt\",\n",
    "    \"Node\"\n",
    "]\n",
    "\n",
    "# Create a new list with all the strings converted to lowercase\n",
    "models = [tech.lower() for tech in models]\n",
    "\n",
    "\n",
    "for model in models:\n",
    "    mod_path = f\"/home/boom/sdev/WTabRun/output/modelsaves/covertype/{model}/\"\n",
    "    print(model, calculate_average_file_size(mod_path))\n"
   ]
  },
  {
   "cell_type": "code",
   "execution_count": null,
   "id": "b6a83b25-cb23-48c9-a22a-81e3b2f4222d",
   "metadata": {},
   "outputs": [],
   "source": []
  }
 ],
 "metadata": {
  "kernelspec": {
   "display_name": "Python 3 (ipykernel)",
   "language": "python",
   "name": "python3"
  },
  "language_info": {
   "codemirror_mode": {
    "name": "ipython",
    "version": 3
   },
   "file_extension": ".py",
   "mimetype": "text/x-python",
   "name": "python",
   "nbconvert_exporter": "python",
   "pygments_lexer": "ipython3",
   "version": "3.10.0"
  }
 },
 "nbformat": 4,
 "nbformat_minor": 5
}
