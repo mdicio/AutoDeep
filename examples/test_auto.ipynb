{
 "cells": [
  {
   "cell_type": "code",
   "execution_count": null,
   "metadata": {},
   "outputs": [],
   "source": [
    "# Import necessary libraries\n",
    "import pandas as pd\n",
    "from sklearn.datasets import load_iris\n",
    "from sklearn.model_selection import train_test_split\n",
    "\n",
    "# Import the DataLoader class and the models (Assuming it's been implemented)\n",
    "from autodeep.automl import DataLoader, KaggleAgeConditionsLoader, BufixDataLoader"
   ]
  },
  {
   "cell_type": "code",
   "execution_count": null,
   "metadata": {},
   "outputs": [],
   "source": [
    "# Import necessary modules for the experiment\n",
    "import os\n",
    "import pandas as pd\n",
    "from autodeep.automl import AutoML  # Assuming this is the AutoML system's main class\n",
    "from autodeep.dataloader import DataLoader  # Assuming the DataLoader is implemented similarly\n",
    "\n",
    "# Setup experiment configuration\n",
    "experiment_config = {\n",
    "    'data': 'sample_data/train_data.csv',  # Path to your CSV file\n",
    "    'target_column': 'target',             # Column to predict\n",
    "    'test_size': 0.2,                     # Proportion of data to use for testing\n",
    "    'problem_type': 'binary_classification',  # You can change this based on your target variable\n",
    "    'eval_metrics': ['accuracy', 'f1'],   # List of metrics to evaluate\n",
    "    'models': ['xgb', 'catboost']         # List of models to run in the experiment\n",
    "}\n",
    "\n",
    "# Instantiate and configure the AutoML pipeline\n",
    "automl = AutoML(config=experiment_config)\n",
    "\n",
    "# Run the AutoML pipeline with the dynamic data loader and models\n",
    "results = automl.run()\n",
    "\n",
    "# Output the results of the experiment\n",
    "print(results)\n"
   ]
  }
 ],
 "metadata": {
  "kernelspec": {
   "display_name": "thesis",
   "language": "python",
   "name": "python3"
  },
  "language_info": {
   "name": "python",
   "version": "3.10.0"
  }
 },
 "nbformat": 4,
 "nbformat_minor": 2
}
